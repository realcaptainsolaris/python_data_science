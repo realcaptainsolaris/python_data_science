{
 "cells": [
  {
   "cell_type": "markdown",
   "id": "fdf3af78",
   "metadata": {},
   "source": [
    "# Palmer Archipelago (Antarctica) penguin data\n",
    "\n",
    "Data were collected and made available by Dr. Kristen Gorman and the Palmer Station, Antarctica LTER, a member of the Long Term Ecological Research Network. The goal of palmerpenguins is to provide a great dataset for data exploration & visualization, as an alternative to `Iris`.\n",
    "\n",
    "Summary:\n",
    "\n",
    "The data folder contains two CSV files. For intro courses/examples, you probably want to use the first one (penguins_size.csv).\n",
    "\n",
    "    penguins_size.csv: Simplified data from original penguin data sets. Contains variables:\n",
    "        species: penguin species (Chinstrap, Adélie, or Gentoo)\n",
    "        culmen_length_mm: culmen length (mm)\n",
    "        culmen_depth_mm: culmen depth (mm)\n",
    "        flipper_length_mm: flipper length (mm)\n",
    "        body_mass_g: body mass (g)\n",
    "        island: island name (Dream, Torgersen, or Biscoe) in the Palmer Archipelago (Antarctica)\n",
    "        sex: penguin sex\n",
    "\n",
    "![Meet the Penguins](../penguins.png)\n",
    "\n",
    "![Meet the Penguins](../penguins2.png)"
   ]
  },
  {
   "cell_type": "markdown",
   "id": "294a8d22",
   "metadata": {},
   "source": [
    "Artwork: @allison_horst"
   ]
  },
  {
   "cell_type": "code",
   "execution_count": null,
   "id": "803deeab",
   "metadata": {},
   "outputs": [],
   "source": []
  },
  {
   "cell_type": "code",
   "execution_count": 1,
   "id": "d79c6030",
   "metadata": {},
   "outputs": [],
   "source": [
    "import numpy as np\n",
    "import pandas as pd\n",
    "import matplotlib.pyplot as plt\n",
    "import seaborn as sns\n",
    "from sklearn import preprocessing"
   ]
  },
  {
   "cell_type": "markdown",
   "id": "b2ae29c7",
   "metadata": {},
   "source": [
    "## Datensatz aus CSV laden"
   ]
  },
  {
   "cell_type": "code",
   "execution_count": 4,
   "id": "f9a6cbb1",
   "metadata": {},
   "outputs": [],
   "source": [
    "file = \"../data/penguin_size.csv\""
   ]
  },
  {
   "cell_type": "markdown",
   "id": "545b1bfe",
   "metadata": {},
   "source": [
    "## Datensatz untersuchen"
   ]
  },
  {
   "cell_type": "code",
   "execution_count": 5,
   "id": "eb30dcdf",
   "metadata": {},
   "outputs": [],
   "source": [
    "# info"
   ]
  },
  {
   "cell_type": "code",
   "execution_count": 28,
   "id": "77d6bb43",
   "metadata": {},
   "outputs": [
    {
     "data": {
      "text/plain": [
       "(344, 7)"
      ]
     },
     "execution_count": 28,
     "metadata": {},
     "output_type": "execute_result"
    }
   ],
   "source": [
    "# shape"
   ]
  },
  {
   "cell_type": "code",
   "execution_count": 29,
   "id": "349ff37e",
   "metadata": {},
   "outputs": [
    {
     "data": {
      "text/plain": [
       "2"
      ]
     },
     "execution_count": 29,
     "metadata": {},
     "output_type": "execute_result"
    }
   ],
   "source": [
    "# ndim"
   ]
  },
  {
   "cell_type": "code",
   "execution_count": 6,
   "id": "88dbac98",
   "metadata": {},
   "outputs": [],
   "source": [
    "# describe"
   ]
  },
  {
   "cell_type": "markdown",
   "id": "16cbb750",
   "metadata": {},
   "source": [
    "## Kovarianz und Korrelationskoeffizienten\n",
    "Wenn wir einen Zusammenhang zwischen Features erkennen wollen, müssen wir die Kovarianzen bzw. den Korrealtionskoeffizienten bestimmen. "
   ]
  },
  {
   "cell_type": "markdown",
   "id": "8a39b8cb",
   "metadata": {},
   "source": [
    "#### Kovarianz zwischen zwei Features\n",
    "\n",
    "Sie gibt die Richtung des Zusammenhangs zwischen zwei quantitativen Merkmalen an. Nimmt die Kovarianz einen postiven Wert an, korrelieren die beiden Werte positiv. Bei negativer Kovarianz korrelieren sie negativ. Ist die Koviaranz (Nahe) 0, korrelieren die Werte überhaupt nicht."
   ]
  },
  {
   "cell_type": "code",
   "execution_count": 7,
   "id": "cf26ae55",
   "metadata": {},
   "outputs": [],
   "source": [
    "# cov"
   ]
  },
  {
   "cell_type": "markdown",
   "id": "4115d055",
   "metadata": {},
   "source": [
    "#### Korrelationskoeffizient\n",
    "Der Korrelationskoeffizient zeigt die Stärke des Zusammenhangs zwischen zwei quantitativen Merkmalen.\n",
    "Wir teilen die Kovarianz durch das Produkt von Standardabweichung von X und Standardabweichung von Y.\n",
    "\n",
    "$r_{XY} = \\frac{c_{XY}}{s_X \\cdot s_Y}$"
   ]
  },
  {
   "cell_type": "code",
   "execution_count": 8,
   "id": "d5f38387",
   "metadata": {},
   "outputs": [],
   "source": [
    "# Korrelation"
   ]
  },
  {
   "cell_type": "markdown",
   "id": "8ff94fef",
   "metadata": {},
   "source": [
    "## Übersicht über fehlende Werte"
   ]
  },
  {
   "cell_type": "code",
   "execution_count": 9,
   "id": "fb263f98",
   "metadata": {},
   "outputs": [],
   "source": [
    "# missing values"
   ]
  },
  {
   "cell_type": "code",
   "execution_count": 10,
   "id": "55825146",
   "metadata": {},
   "outputs": [],
   "source": [
    "# Wir interpolieren die numerischen Spalten und löschen die Datensätze mit fehlendem Geschlecht\n"
   ]
  },
  {
   "cell_type": "code",
   "execution_count": 11,
   "id": "3e194b39",
   "metadata": {},
   "outputs": [],
   "source": [
    "# shape"
   ]
  },
  {
   "cell_type": "markdown",
   "id": "48e6a75d",
   "metadata": {},
   "source": [
    "## Kategorie-Spalte sex umformen zu zwei numerischen Werten\n",
    "Dazu nutzen wir aus sklearn den `preprocessing.LabelEncoder`. Im Maschine Learning können die Algorithmen mit Kategoriedaten meist nicht viel anfangen. Wir müssen Kategorien also für gewöhnlich in numerische Daten umformen. Daraus ergibt sich, dass die Spalte `sex` nun zwei numerische Werte angenommen hat, 1 und 2. Darum hat sich der LabelEncoder gekümmert.\n",
    "\n",
    "Ideal ist das allerdings immer noch nicht. ML-Algorithmen arbeiten mit Gewichtungen und so könnte zum Beispiel ein neuronales Netzwerk \"denken\", dass es sich hier um ordinale Daten handelt. 2 ist größer als 1 und daher wichtiger. Besser wäre es, ein `One-Hot-Encoding` zu benutzen. Dann würden sich aus der Spalte `sex` zwei neue boolsche Spalten namens `male` und `female` ergeben.\n",
    "\n",
    "Hier im Tutorial lassen wir das jetzt mal so."
   ]
  },
  {
   "cell_type": "code",
   "execution_count": 12,
   "id": "282679ad",
   "metadata": {},
   "outputs": [],
   "source": [
    "# label encoder aus sklearn"
   ]
  },
  {
   "cell_type": "markdown",
   "id": "24a6edaf",
   "metadata": {},
   "source": [
    "## Anzahl der Pinguine pro Spezies\n",
    "Wir wollen die anzahl der Pinguine pro Spezies visualisieren."
   ]
  },
  {
   "cell_type": "code",
   "execution_count": 13,
   "id": "d80005a2",
   "metadata": {},
   "outputs": [],
   "source": [
    "# value count pro spezies"
   ]
  },
  {
   "cell_type": "code",
   "execution_count": 14,
   "id": "a2d7705c",
   "metadata": {},
   "outputs": [],
   "source": [
    "# Barchart der Populationen nach Spezies"
   ]
  },
  {
   "cell_type": "code",
   "execution_count": 15,
   "id": "e70f5a07",
   "metadata": {},
   "outputs": [],
   "source": [
    "# Histogramm"
   ]
  },
  {
   "cell_type": "markdown",
   "id": "a3fe0c35",
   "metadata": {},
   "source": [
    "## Merkmale mit Boxplot"
   ]
  },
  {
   "cell_type": "code",
   "execution_count": 16,
   "id": "a7346433",
   "metadata": {},
   "outputs": [],
   "source": [
    "# Boxplot ['culmen_length_mm', 'culmen_depth_mm','flipper_length_mm']"
   ]
  },
  {
   "cell_type": "markdown",
   "id": "d3fc747b",
   "metadata": {},
   "source": [
    "## Flipperlänge der Spezies Gentoo\n",
    "Hier sehen wir die Daten im Histogramm mit 10 bins. Allerdings kennen wir die Verteilungsfunktion nicht. Um diese zu ermitteln, gibt es sogenannte `Kerndichteschätzer (KDE)`. Diese werden in diesem Tutorial nicht bearbeitet."
   ]
  },
  {
   "cell_type": "code",
   "execution_count": 17,
   "id": "0f9169d7",
   "metadata": {},
   "outputs": [],
   "source": [
    "# Histogramm der Flipperlänger der Spezies Gentoo"
   ]
  },
  {
   "cell_type": "markdown",
   "id": "9c892a89",
   "metadata": {},
   "source": [
    "## Flipperlänge der Spezies Adelie"
   ]
  },
  {
   "cell_type": "code",
   "execution_count": 18,
   "id": "c144c132",
   "metadata": {},
   "outputs": [],
   "source": [
    "# Histgoramm der Flipperlänge der Spezies Gentoo"
   ]
  },
  {
   "cell_type": "markdown",
   "id": "30c48503",
   "metadata": {},
   "source": [
    "## Scatterplot\n",
    "mit dem Seaborn Scatterplot können wir die Verteilung der einzelnen Features gut sehen"
   ]
  },
  {
   "cell_type": "code",
   "execution_count": 19,
   "id": "a8a1df80",
   "metadata": {},
   "outputs": [],
   "source": [
    "# Seaborn Scatterplot"
   ]
  }
 ],
 "metadata": {
  "kernelspec": {
   "display_name": "Python 3 (ipykernel)",
   "language": "python",
   "name": "python3"
  },
  "language_info": {
   "codemirror_mode": {
    "name": "ipython",
    "version": 3
   },
   "file_extension": ".py",
   "mimetype": "text/x-python",
   "name": "python",
   "nbconvert_exporter": "python",
   "pygments_lexer": "ipython3",
   "version": "3.12.4"
  }
 },
 "nbformat": 4,
 "nbformat_minor": 5
}

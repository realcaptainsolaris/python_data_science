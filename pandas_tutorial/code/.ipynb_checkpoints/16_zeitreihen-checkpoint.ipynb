{
 "cells": [
  {
   "cell_type": "code",
   "execution_count": 3,
   "id": "54dd9a0c",
   "metadata": {},
   "outputs": [],
   "source": [
    "import numpy as np\n",
    "import pandas as pd\n",
    "import matplotlib.pyplot as plt\n",
    "np.random.seed(42)"
   ]
  },
  {
   "cell_type": "markdown",
   "id": "49519d5a",
   "metadata": {},
   "source": [
    "# Zeitreihen erstellen"
   ]
  },
  {
   "cell_type": "markdown",
   "id": "0ec9d122",
   "metadata": {},
   "source": [
    "## Zeitreihen erstellen mit data_range\n",
    "Um Zeitreihen zu erstellen, gibt es in Pandas die Methode `data_range`. Diese Methode erwartet die Anzahl an Zeitpunkten (`periods`) und die Frequenz (`freq`), also Tag, Stunde, Monat, etc.\n",
    "\n",
    "### Freq-Angaben\n",
    "https://pandas.pydata.org/docs/user_guide/timeseries.html#timeseries-offset-aliases\n",
    "\n",
    "\n",
    "### Beispiel\n",
    "Bei der Angabe des Startdatums können wir das US-Datumsformat (mm/dd/YYYY) angeben oder ISO 8601 (YYYY-mm-dd)"
   ]
  },
  {
   "cell_type": "code",
   "execution_count": 32,
   "id": "11442654",
   "metadata": {},
   "outputs": [],
   "source": [
    "# mit freq=d geben wir an, dass wir eine tageweise Zeitreihe haben wollen\n",
    "start_date = \"03/01/2022\"\n",
    "start_date = \"1.3.2022\""
   ]
  },
  {
   "cell_type": "markdown",
   "id": "02f25b9c",
   "metadata": {},
   "source": [
    "### ein Dataframe erstellen mit einem monatlichen Zeitindex"
   ]
  },
  {
   "cell_type": "code",
   "execution_count": 5,
   "id": "304d5efc",
   "metadata": {},
   "outputs": [],
   "source": [
    "# ein Dataframe erstellen mit einem monatlichen Zeitindex\n",
    "df_sales_2021 = pd.DataFrame({\n",
    "    \"sales\": [23, 23, 21, 43, 23, 53, 21, 42, 11, 44, 23, 23],\n",
    "    \"old_sales\": [123, 23, 211, 431, 231, 513, 121, 42, 11, 441, 123, 123],\n",
    "},\n",
    "    # index = ...\n",
    ")\n",
    "\n",
    "# mit loc können wir auch über Date-Indizies slicen"
   ]
  },
  {
   "cell_type": "markdown",
   "id": "25a694f8-9abf-4258-ae32-7e207c476138",
   "metadata": {},
   "source": [
    "## Nach Datum slicen, falls Datum der Index ist"
   ]
  },
  {
   "cell_type": "code",
   "execution_count": 4,
   "id": "a6524a54-9cd8-4f85-b7c4-5246f6c5e773",
   "metadata": {},
   "outputs": [],
   "source": [
    "# Sample data\n",
    "data = {\"Date\": [\"2023-01-01\", \"2023-01-02\", \"2023-01-03\"], \"Values\": [10, 15, 20]}\n",
    "df = pd.DataFrame(data)\n",
    "\n"
   ]
  },
  {
   "cell_type": "code",
   "execution_count": 35,
   "id": "43e5180e",
   "metadata": {},
   "outputs": [],
   "source": [
    "# Bar-Chart of Sales "
   ]
  },
  {
   "cell_type": "markdown",
   "id": "128a8a47",
   "metadata": {},
   "source": [
    "### ein Dataframe erstellen mit einem stündlichen Zeitindex"
   ]
  },
  {
   "cell_type": "code",
   "execution_count": 7,
   "id": "53566a95",
   "metadata": {},
   "outputs": [
    {
     "data": {
      "text/html": [
       "<div>\n",
       "<style scoped>\n",
       "    .dataframe tbody tr th:only-of-type {\n",
       "        vertical-align: middle;\n",
       "    }\n",
       "\n",
       "    .dataframe tbody tr th {\n",
       "        vertical-align: top;\n",
       "    }\n",
       "\n",
       "    .dataframe thead th {\n",
       "        text-align: right;\n",
       "    }\n",
       "</style>\n",
       "<table border=\"1\" class=\"dataframe\">\n",
       "  <thead>\n",
       "    <tr style=\"text-align: right;\">\n",
       "      <th></th>\n",
       "      <th>results</th>\n",
       "    </tr>\n",
       "  </thead>\n",
       "  <tbody>\n",
       "    <tr>\n",
       "      <th>0</th>\n",
       "      <td>2</td>\n",
       "    </tr>\n",
       "    <tr>\n",
       "      <th>1</th>\n",
       "      <td>2</td>\n",
       "    </tr>\n",
       "    <tr>\n",
       "      <th>2</th>\n",
       "      <td>2</td>\n",
       "    </tr>\n",
       "    <tr>\n",
       "      <th>3</th>\n",
       "      <td>2</td>\n",
       "    </tr>\n",
       "    <tr>\n",
       "      <th>4</th>\n",
       "      <td>2</td>\n",
       "    </tr>\n",
       "    <tr>\n",
       "      <th>5</th>\n",
       "      <td>2</td>\n",
       "    </tr>\n",
       "    <tr>\n",
       "      <th>6</th>\n",
       "      <td>1</td>\n",
       "    </tr>\n",
       "    <tr>\n",
       "      <th>7</th>\n",
       "      <td>1</td>\n",
       "    </tr>\n",
       "    <tr>\n",
       "      <th>8</th>\n",
       "      <td>2</td>\n",
       "    </tr>\n",
       "    <tr>\n",
       "      <th>9</th>\n",
       "      <td>2</td>\n",
       "    </tr>\n",
       "    <tr>\n",
       "      <th>10</th>\n",
       "      <td>2</td>\n",
       "    </tr>\n",
       "    <tr>\n",
       "      <th>11</th>\n",
       "      <td>1</td>\n",
       "    </tr>\n",
       "    <tr>\n",
       "      <th>12</th>\n",
       "      <td>2</td>\n",
       "    </tr>\n",
       "    <tr>\n",
       "      <th>13</th>\n",
       "      <td>1</td>\n",
       "    </tr>\n",
       "    <tr>\n",
       "      <th>14</th>\n",
       "      <td>1</td>\n",
       "    </tr>\n",
       "    <tr>\n",
       "      <th>15</th>\n",
       "      <td>1</td>\n",
       "    </tr>\n",
       "    <tr>\n",
       "      <th>16</th>\n",
       "      <td>1</td>\n",
       "    </tr>\n",
       "    <tr>\n",
       "      <th>17</th>\n",
       "      <td>1</td>\n",
       "    </tr>\n",
       "    <tr>\n",
       "      <th>18</th>\n",
       "      <td>2</td>\n",
       "    </tr>\n",
       "    <tr>\n",
       "      <th>19</th>\n",
       "      <td>2</td>\n",
       "    </tr>\n",
       "    <tr>\n",
       "      <th>20</th>\n",
       "      <td>2</td>\n",
       "    </tr>\n",
       "    <tr>\n",
       "      <th>21</th>\n",
       "      <td>2</td>\n",
       "    </tr>\n",
       "    <tr>\n",
       "      <th>22</th>\n",
       "      <td>2</td>\n",
       "    </tr>\n",
       "    <tr>\n",
       "      <th>23</th>\n",
       "      <td>1</td>\n",
       "    </tr>\n",
       "  </tbody>\n",
       "</table>\n",
       "</div>"
      ],
      "text/plain": [
       "    results\n",
       "0         2\n",
       "1         2\n",
       "2         2\n",
       "3         2\n",
       "4         2\n",
       "5         2\n",
       "6         1\n",
       "7         1\n",
       "8         2\n",
       "9         2\n",
       "10        2\n",
       "11        1\n",
       "12        2\n",
       "13        1\n",
       "14        1\n",
       "15        1\n",
       "16        1\n",
       "17        1\n",
       "18        2\n",
       "19        2\n",
       "20        2\n",
       "21        2\n",
       "22        2\n",
       "23        1"
      ]
     },
     "execution_count": 7,
     "metadata": {},
     "output_type": "execute_result"
    }
   ],
   "source": [
    "df_result_hours = pd.DataFrame({\n",
    "    \"results\": np.random.randint(low=1, high=3, size=(24,))\n",
    "},\n",
    "    # index = ...\n",
    ")\n",
    "df_result_hours"
   ]
  },
  {
   "cell_type": "markdown",
   "id": "6b40cf2f-cd90-4b85-8d2f-0bf5a2dc6212",
   "metadata": {},
   "source": [
    "## Konvertieren von String zu Datumsobjekt"
   ]
  },
  {
   "cell_type": "code",
   "execution_count": 37,
   "id": "f1c3a46c-107c-4326-a267-847e70817309",
   "metadata": {},
   "outputs": [],
   "source": [
    "# Sample data\n",
    "data = {\"Date\": [\"2023-01-01\", \"2023-01-02\", \"2023-01-05\"], \"Values\": [10, 15, 20]}\n",
    "df = pd.DataFrame(data)\n",
    "\n",
    "# Converting the \"Date\" column to datetime format"
   ]
  },
  {
   "cell_type": "markdown",
   "id": "4355a24e-017a-427b-b7f7-caf51ed5643a",
   "metadata": {},
   "source": [
    "# Differenz zwischen aufeinanderfolgenden Zeilen\n",
    "\n",
    "Die diff()-Methode berechnet die Differenz zwischen aufeinanderfolgenden Zeilen in der Datumsspalte. In Kombination mit .dt.days wird die Differenz in Tagen angezeigt."
   ]
  },
  {
   "cell_type": "code",
   "execution_count": 38,
   "id": "d09a366c-ab10-47f9-8225-4168f1282a4e",
   "metadata": {},
   "outputs": [],
   "source": [
    "# ..."
   ]
  },
  {
   "cell_type": "markdown",
   "id": "7e7b57ff",
   "metadata": {},
   "source": [
    "## Datumsformat in der Ausgabe\n",
    "wir können das Datumsformat in der Ausgabe mit `strftime` ändern, wie wir es aus dem Python Standard gewohnt sind."
   ]
  },
  {
   "cell_type": "code",
   "execution_count": 39,
   "id": "6adbff50",
   "metadata": {},
   "outputs": [
    {
     "data": {
      "text/plain": [
       "Ellipsis"
      ]
     },
     "execution_count": 39,
     "metadata": {},
     "output_type": "execute_result"
    }
   ],
   "source": [
    "# ein Dataframe erstellen mit einem monatlichen Zeitindex, Ende des Monats\n",
    "df_sales_2020_end_month = pd.DataFrame({\n",
    "    \"sales\": [23, 23, 21, 43, 23, 53, 21, 42, 11, 44, 23, 23],\n",
    "    \"old_sales\": [123, 23, 211, 431, 231, 513, 121, 42, 11, 441, 123, 123],\n",
    "},\n",
    "    index = pd.date_range(\"01/01/2020\", periods=12, freq=\"ME\")\n",
    ")\n",
    "..."
   ]
  },
  {
   "cell_type": "markdown",
   "id": "3959ebbd",
   "metadata": {},
   "source": [
    "## Nach Index Zeiten filtern"
   ]
  },
  {
   "cell_type": "code",
   "execution_count": 40,
   "id": "83d232e1",
   "metadata": {},
   "outputs": [],
   "source": [
    "# Verkäufe Monat März"
   ]
  },
  {
   "cell_type": "code",
   "execution_count": 41,
   "id": "b0e30612",
   "metadata": {},
   "outputs": [],
   "source": [
    "# Verkäufe Monat März bis Monat Juli"
   ]
  },
  {
   "cell_type": "code",
   "execution_count": 42,
   "id": "17569405",
   "metadata": {},
   "outputs": [],
   "source": [
    "# Verkäufe ab dem 8.4.2021"
   ]
  },
  {
   "cell_type": "code",
   "execution_count": null,
   "id": "802ab979",
   "metadata": {},
   "outputs": [],
   "source": []
  },
  {
   "cell_type": "markdown",
   "id": "97165077",
   "metadata": {},
   "source": [
    "## Datumsstrings umformatieren\n",
    "Wenn aus einer CSV-Datei oder einer anderen Quelle Daten eingelesen werden, kann Pandas oftmals nicht erkennen, dass es sich bei den Datum um ein Datumsformat handelt. Für diesen Zweck gibt es die Methode `to_datetime`."
   ]
  },
  {
   "cell_type": "code",
   "execution_count": 28,
   "id": "8b76140f",
   "metadata": {},
   "outputs": [
    {
     "name": "stdout",
     "output_type": "stream",
     "text": [
      "<class 'pandas.core.frame.DataFrame'>\n",
      "RangeIndex: 3 entries, 0 to 2\n",
      "Data columns (total 2 columns):\n",
      " #   Column  Non-Null Count  Dtype \n",
      "---  ------  --------------  ----- \n",
      " 0   dates   3 non-null      object\n",
      " 1   prices  3 non-null      int64 \n",
      "dtypes: int64(1), object(1)\n",
      "memory usage: 180.0+ bytes\n"
     ]
    }
   ],
   "source": [
    "dates = [\n",
    "    \"1. Jan 2010\",\n",
    "    \"1. Feb 2010\",\n",
    "    \"1. Mar 2010\",\n",
    "]\n",
    "\n",
    "prices = [\n",
    "    200,\n",
    "    339,\n",
    "    124\n",
    "]\n",
    "\n",
    "new_sales = pd.DataFrame({\n",
    "    \"dates\": dates,\n",
    "    \"prices\": prices\n",
    "})\n",
    "\n",
    "# Datum in Dates wird nicht als Datum erkannt\n",
    "new_sales.info()"
   ]
  },
  {
   "cell_type": "code",
   "execution_count": 46,
   "id": "6cc20820",
   "metadata": {},
   "outputs": [],
   "source": [
    "# Dates Spalte in Datumsformat konvertieren"
   ]
  },
  {
   "cell_type": "code",
   "execution_count": 47,
   "id": "c9d21649",
   "metadata": {},
   "outputs": [],
   "source": [
    "# jetzt Datum zum Index machen"
   ]
  }
 ],
 "metadata": {
  "kernelspec": {
   "display_name": "Python 3 (ipykernel)",
   "language": "python",
   "name": "python3"
  },
  "language_info": {
   "codemirror_mode": {
    "name": "ipython",
    "version": 3
   },
   "file_extension": ".py",
   "mimetype": "text/x-python",
   "name": "python",
   "nbconvert_exporter": "python",
   "pygments_lexer": "ipython3",
   "version": "3.12.4"
  }
 },
 "nbformat": 4,
 "nbformat_minor": 5
}

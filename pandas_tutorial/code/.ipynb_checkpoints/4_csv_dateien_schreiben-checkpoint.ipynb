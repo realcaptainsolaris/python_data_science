{
 "cells": [
  {
   "cell_type": "markdown",
   "id": "1bf38a71",
   "metadata": {},
   "source": [
    "# CSV-Dateien schreiben\n",
    "Wie wir gesehen haben, lassen sich mit Pandas sehr einfach CSV-Dateien einlesen. Genauso einfach lassen sich Dataframes als CSV-Dateien speichern.\n",
    "\n",
    "https://pandas.pydata.org/docs/reference/api/pandas.DataFrame.to_csv.html"
   ]
  },
  {
   "cell_type": "code",
   "execution_count": 1,
   "id": "4f42d6cc",
   "metadata": {},
   "outputs": [
    {
     "data": {
      "text/html": [
       "<div>\n",
       "<style scoped>\n",
       "    .dataframe tbody tr th:only-of-type {\n",
       "        vertical-align: middle;\n",
       "    }\n",
       "\n",
       "    .dataframe tbody tr th {\n",
       "        vertical-align: top;\n",
       "    }\n",
       "\n",
       "    .dataframe thead th {\n",
       "        text-align: right;\n",
       "    }\n",
       "</style>\n",
       "<table border=\"1\" class=\"dataframe\">\n",
       "  <thead>\n",
       "    <tr style=\"text-align: right;\">\n",
       "      <th></th>\n",
       "      <th>Gender</th>\n",
       "      <th>Height</th>\n",
       "      <th>Weight</th>\n",
       "    </tr>\n",
       "  </thead>\n",
       "  <tbody>\n",
       "    <tr>\n",
       "      <th>0</th>\n",
       "      <td>Male</td>\n",
       "      <td>73.847017</td>\n",
       "      <td>241.893563</td>\n",
       "    </tr>\n",
       "    <tr>\n",
       "      <th>1</th>\n",
       "      <td>Male</td>\n",
       "      <td>68.781904</td>\n",
       "      <td>162.310473</td>\n",
       "    </tr>\n",
       "    <tr>\n",
       "      <th>2</th>\n",
       "      <td>Male</td>\n",
       "      <td>74.110105</td>\n",
       "      <td>212.740856</td>\n",
       "    </tr>\n",
       "    <tr>\n",
       "      <th>3</th>\n",
       "      <td>Male</td>\n",
       "      <td>71.730978</td>\n",
       "      <td>220.042470</td>\n",
       "    </tr>\n",
       "    <tr>\n",
       "      <th>4</th>\n",
       "      <td>Male</td>\n",
       "      <td>69.881796</td>\n",
       "      <td>206.349801</td>\n",
       "    </tr>\n",
       "    <tr>\n",
       "      <th>5</th>\n",
       "      <td>Male</td>\n",
       "      <td>67.253016</td>\n",
       "      <td>152.212156</td>\n",
       "    </tr>\n",
       "    <tr>\n",
       "      <th>6</th>\n",
       "      <td>Male</td>\n",
       "      <td>68.785081</td>\n",
       "      <td>183.927889</td>\n",
       "    </tr>\n",
       "    <tr>\n",
       "      <th>7</th>\n",
       "      <td>Male</td>\n",
       "      <td>68.348516</td>\n",
       "      <td>167.971110</td>\n",
       "    </tr>\n",
       "    <tr>\n",
       "      <th>8</th>\n",
       "      <td>Male</td>\n",
       "      <td>67.018950</td>\n",
       "      <td>175.929440</td>\n",
       "    </tr>\n",
       "    <tr>\n",
       "      <th>9</th>\n",
       "      <td>Male</td>\n",
       "      <td>63.456494</td>\n",
       "      <td>156.399676</td>\n",
       "    </tr>\n",
       "    <tr>\n",
       "      <th>10</th>\n",
       "      <td>Male</td>\n",
       "      <td>71.195382</td>\n",
       "      <td>186.604926</td>\n",
       "    </tr>\n",
       "    <tr>\n",
       "      <th>11</th>\n",
       "      <td>Male</td>\n",
       "      <td>71.640805</td>\n",
       "      <td>213.741169</td>\n",
       "    </tr>\n",
       "    <tr>\n",
       "      <th>12</th>\n",
       "      <td>Male</td>\n",
       "      <td>64.766329</td>\n",
       "      <td>167.127461</td>\n",
       "    </tr>\n",
       "    <tr>\n",
       "      <th>13</th>\n",
       "      <td>Male</td>\n",
       "      <td>69.283070</td>\n",
       "      <td>189.446181</td>\n",
       "    </tr>\n",
       "    <tr>\n",
       "      <th>14</th>\n",
       "      <td>Male</td>\n",
       "      <td>69.243732</td>\n",
       "      <td>186.434168</td>\n",
       "    </tr>\n",
       "    <tr>\n",
       "      <th>15</th>\n",
       "      <td>Male</td>\n",
       "      <td>67.645620</td>\n",
       "      <td>172.186930</td>\n",
       "    </tr>\n",
       "    <tr>\n",
       "      <th>16</th>\n",
       "      <td>Male</td>\n",
       "      <td>72.418317</td>\n",
       "      <td>196.028506</td>\n",
       "    </tr>\n",
       "    <tr>\n",
       "      <th>17</th>\n",
       "      <td>Male</td>\n",
       "      <td>63.974326</td>\n",
       "      <td>172.883470</td>\n",
       "    </tr>\n",
       "    <tr>\n",
       "      <th>18</th>\n",
       "      <td>Male</td>\n",
       "      <td>69.640060</td>\n",
       "      <td>185.983958</td>\n",
       "    </tr>\n",
       "    <tr>\n",
       "      <th>19</th>\n",
       "      <td>Male</td>\n",
       "      <td>67.936005</td>\n",
       "      <td>182.426648</td>\n",
       "    </tr>\n",
       "  </tbody>\n",
       "</table>\n",
       "</div>"
      ],
      "text/plain": [
       "   Gender     Height      Weight\n",
       "0    Male  73.847017  241.893563\n",
       "1    Male  68.781904  162.310473\n",
       "2    Male  74.110105  212.740856\n",
       "3    Male  71.730978  220.042470\n",
       "4    Male  69.881796  206.349801\n",
       "5    Male  67.253016  152.212156\n",
       "6    Male  68.785081  183.927889\n",
       "7    Male  68.348516  167.971110\n",
       "8    Male  67.018950  175.929440\n",
       "9    Male  63.456494  156.399676\n",
       "10   Male  71.195382  186.604926\n",
       "11   Male  71.640805  213.741169\n",
       "12   Male  64.766329  167.127461\n",
       "13   Male  69.283070  189.446181\n",
       "14   Male  69.243732  186.434168\n",
       "15   Male  67.645620  172.186930\n",
       "16   Male  72.418317  196.028506\n",
       "17   Male  63.974326  172.883470\n",
       "18   Male  69.640060  185.983958\n",
       "19   Male  67.936005  182.426648"
      ]
     },
     "execution_count": 1,
     "metadata": {},
     "output_type": "execute_result"
    }
   ],
   "source": [
    "import numpy as np\n",
    "import pandas as pd\n",
    "import matplotlib.pyplot as plt\n",
    "\n",
    "df = pd.read_csv(\"heights.csv\")\n",
    "df_new = df.iloc[:20]\n",
    "df_new"
   ]
  },
  {
   "cell_type": "markdown",
   "id": "6c2926c3",
   "metadata": {},
   "source": [
    "### CSV schreiben\n",
    "mit der Methode `to_csv()` und der Pfadangabe, wo die neue Datei gespeichert werden soll, lässt sich eine CSV-Datei erstellen."
   ]
  },
  {
   "cell_type": "code",
   "execution_count": 3,
   "id": "cfc816ab",
   "metadata": {},
   "outputs": [],
   "source": [
    "df_new.to_csv(\"data/testframe.csv\")"
   ]
  },
  {
   "cell_type": "markdown",
   "id": "dc84e332",
   "metadata": {},
   "source": [
    "### Seperator definieren\n",
    "Der Default-Seperator bei `to_csv` ist natürlich das Komma. Wir können aber mit `sep` auch explizit angeben, welchen Seperator wir benötigen. Im Beispiel verwenden wir für den Dezimaltrenner das Komma, wie das im Deutschen üblich ist. "
   ]
  },
  {
   "cell_type": "code",
   "execution_count": 7,
   "id": "de5056e5",
   "metadata": {},
   "outputs": [],
   "source": [
    "df_new.to_csv(\"data/testframe_semikolon.csv\", sep=\";\", decimal=\",\")"
   ]
  },
  {
   "cell_type": "markdown",
   "id": "c0f7dc8f",
   "metadata": {},
   "source": [
    "### Header neu definieren\n",
    "Per default sind die Header der Datei die Spaltennamen. Wir können das aber mit `header` überschreiben. Die alten Spaltennamen werden dann nicht mehr berücksichtigt."
   ]
  },
  {
   "cell_type": "code",
   "execution_count": 9,
   "id": "2814d698",
   "metadata": {},
   "outputs": [],
   "source": [
    "df_new.to_csv(\"data/testframe_header.csv\", header=[\"Geschlecht\", \"Größe\", \"Gewicht\"])"
   ]
  },
  {
   "cell_type": "markdown",
   "id": "71731a2a",
   "metadata": {},
   "source": [
    "### Index nicht speichern\n",
    "Wenn wir verhindern wollen, dass der Index mitgespeichert wird, da der letzendlich in den CSV-Dateien gar nicht benötigt wird, können wir das Keyword-Argument `index` auf False setzen."
   ]
  },
  {
   "cell_type": "code",
   "execution_count": 4,
   "id": "022e6b7c",
   "metadata": {},
   "outputs": [],
   "source": [
    "df_new.to_csv(\"data/testframe2.csv\", index=False)"
   ]
  },
  {
   "cell_type": "markdown",
   "id": "4e38242a",
   "metadata": {},
   "source": [
    "## Zip-Archiv mit CSV-Datei erstellen"
   ]
  },
  {
   "cell_type": "code",
   "execution_count": 11,
   "id": "a60b3755",
   "metadata": {},
   "outputs": [],
   "source": [
    "compression_opts = dict(method='zip', archive_name='out.csv') \n",
    "df_new.to_csv('out.zip', index=False, compression=compression_opts)  "
   ]
  },
  {
   "cell_type": "markdown",
   "id": "528d8893",
   "metadata": {},
   "source": [
    "## Excel-Datei erstellen\n",
    "mit `to_excel` lässt sich auch gleich eine Excel-Datei erstellen. für diese Funktion muss `openpyxl` installiert werden.\n",
    "\n",
    "    pip install openpyxl"
   ]
  },
  {
   "cell_type": "code",
   "execution_count": 18,
   "id": "ab32eb08",
   "metadata": {},
   "outputs": [],
   "source": [
    "df_new.to_excel(\"data/testframe.xlsx\", index=False, header=[\"Geschlecht\", \"Größe\", \"Gewicht\"])"
   ]
  }
 ],
 "metadata": {
  "kernelspec": {
   "display_name": "Python 3 (ipykernel)",
   "language": "python",
   "name": "python3"
  },
  "language_info": {
   "codemirror_mode": {
    "name": "ipython",
    "version": 3
   },
   "file_extension": ".py",
   "mimetype": "text/x-python",
   "name": "python",
   "nbconvert_exporter": "python",
   "pygments_lexer": "ipython3",
   "version": "3.12.4"
  }
 },
 "nbformat": 4,
 "nbformat_minor": 5
}

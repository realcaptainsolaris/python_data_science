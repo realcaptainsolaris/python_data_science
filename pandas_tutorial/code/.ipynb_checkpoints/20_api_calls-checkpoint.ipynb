{
 "cells": [
  {
   "cell_type": "markdown",
   "id": "ee8375a2",
   "metadata": {},
   "source": [
    "# Eine API mit Pandas ansprechen\n",
    "\n",
    "Um API-Endpunkte mit Pandas auszulesen, wird die `requests`- Bibiliothek benötigt. Das muss mit pip installiert werden. Mit dieser Bibliothek können komfortabel Web-Requests durchgeführt werden.\n",
    "    \n",
    "    pip install requests\n",
    "\n",
    "Im folgenden Beispiel wollen wir die `Aviationapi` ansprechen, die uns Informationen zu Flughäfen gibt. Bei der `Aviationapi` handelt es sich um eine frei zugängliche API, für die kein Authentifizierungskey benötigt wird. Das vereinfacht die Arbeit für uns im Tutorial.\n",
    "\n",
    "mehr dazu: https://docs.aviationapi.com\n",
    "\n",
    "https://api.aviationapi.com/v1/airports?apt=FFM,AVL,NEW"
   ]
  },
  {
   "cell_type": "code",
   "execution_count": 1,
   "id": "a773aa20",
   "metadata": {},
   "outputs": [],
   "source": [
    "import pandas as pd\n",
    "import requests"
   ]
  },
  {
   "cell_type": "markdown",
   "id": "ce64de8b",
   "metadata": {},
   "source": [
    "## URL festlegen\n",
    "wir werden hier im Tutorial nur eine Funktion der API ansprechen, nämlich die Funktion `airports`. "
   ]
  },
  {
   "cell_type": "code",
   "execution_count": 2,
   "id": "0311a214",
   "metadata": {},
   "outputs": [],
   "source": [
    "API_URL = 'https://api.aviationapi.com/v1/'\n",
    "API_METHOD = 'airports?apt='"
   ]
  },
  {
   "cell_type": "markdown",
   "id": "6f4066a9",
   "metadata": {},
   "source": [
    "## URL anfragen\n",
    "wir wollen die drei Flughäfen FFM, AVL und NEW anfragen"
   ]
  },
  {
   "cell_type": "code",
   "execution_count": 1,
   "id": "7d3279a8",
   "metadata": {},
   "outputs": [],
   "source": [
    "# GET Request auf den Server\n",
    "\n",
    "# Rückgabewert muss <Response [200]> sein. 200 ist Status OK\n"
   ]
  },
  {
   "cell_type": "markdown",
   "id": "1f202c4f",
   "metadata": {},
   "source": [
    "## Antwort auswerten\n",
    "Wir haben jetzt ein Response-Objekt zurückbekommen, dass wir untersuchen können"
   ]
  },
  {
   "cell_type": "code",
   "execution_count": null,
   "id": "08933dd8",
   "metadata": {},
   "outputs": [],
   "source": []
  },
  {
   "cell_type": "markdown",
   "id": "e86845d0",
   "metadata": {},
   "source": [
    "## Daten aus der Antwort extrahieren\n",
    "wir müssen jetzt die JSON-Daten aus der Antwort extrahieren. Das geht einfach mit der Methonde `json` auf das Response-Objekt. wenn wir uns das `json_data`- Objekt ausgeben lassen, sehen wir, dass es sich um ein Dictionary handelt, dessen Keys die Flughafen-shortcuts sind, die wir übergeben haben."
   ]
  },
  {
   "cell_type": "code",
   "execution_count": 2,
   "id": "07825d0b",
   "metadata": {},
   "outputs": [],
   "source": [
    "# json"
   ]
  },
  {
   "cell_type": "markdown",
   "id": "d79c8dac",
   "metadata": {},
   "source": [
    "## Daten umwandeln in ein Dataframe"
   ]
  },
  {
   "cell_type": "code",
   "execution_count": 3,
   "id": "32055c16",
   "metadata": {},
   "outputs": [],
   "source": [
    "# dataframe erstellen"
   ]
  }
 ],
 "metadata": {
  "kernelspec": {
   "display_name": "Python 3 (ipykernel)",
   "language": "python",
   "name": "python3"
  },
  "language_info": {
   "codemirror_mode": {
    "name": "ipython",
    "version": 3
   },
   "file_extension": ".py",
   "mimetype": "text/x-python",
   "name": "python",
   "nbconvert_exporter": "python",
   "pygments_lexer": "ipython3",
   "version": "3.12.4"
  }
 },
 "nbformat": 4,
 "nbformat_minor": 5
}

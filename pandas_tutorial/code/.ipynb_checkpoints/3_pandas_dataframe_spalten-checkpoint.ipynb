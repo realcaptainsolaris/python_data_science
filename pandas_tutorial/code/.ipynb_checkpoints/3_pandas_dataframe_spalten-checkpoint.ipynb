{
 "cells": [
  {
   "cell_type": "markdown",
   "id": "d645da91-a4b4-41d2-a019-2d9de0b11480",
   "metadata": {},
   "source": [
    "# Spalten im Dataframe\n",
    "Wir erstellen uns einen Test-Dataframe mit 4 Spalten"
   ]
  },
  {
   "cell_type": "code",
   "execution_count": 7,
   "id": "8a42132e-be1c-4995-bd46-32fd07dd3dfe",
   "metadata": {},
   "outputs": [
    {
     "data": {
      "text/html": [
       "<div>\n",
       "<style scoped>\n",
       "    .dataframe tbody tr th:only-of-type {\n",
       "        vertical-align: middle;\n",
       "    }\n",
       "\n",
       "    .dataframe tbody tr th {\n",
       "        vertical-align: top;\n",
       "    }\n",
       "\n",
       "    .dataframe thead th {\n",
       "        text-align: right;\n",
       "    }\n",
       "</style>\n",
       "<table border=\"1\" class=\"dataframe\">\n",
       "  <thead>\n",
       "    <tr style=\"text-align: right;\">\n",
       "      <th></th>\n",
       "      <th>Förderrate (bbl/d)</th>\n",
       "      <th>Druck (psi)</th>\n",
       "      <th>Viskosität (cP)</th>\n",
       "      <th>Wassertiefe (m)</th>\n",
       "      <th>Bohrloch-ID</th>\n",
       "    </tr>\n",
       "  </thead>\n",
       "  <tbody>\n",
       "    <tr>\n",
       "      <th>A</th>\n",
       "      <td>2749.080238</td>\n",
       "      <td>19507.143064</td>\n",
       "      <td>48.495830</td>\n",
       "      <td>639.463394</td>\n",
       "      <td>A1</td>\n",
       "    </tr>\n",
       "    <tr>\n",
       "      <th>B</th>\n",
       "      <td>2312.037281</td>\n",
       "      <td>11559.945203</td>\n",
       "      <td>29.626341</td>\n",
       "      <td>746.470458</td>\n",
       "      <td>A1</td>\n",
       "    </tr>\n",
       "    <tr>\n",
       "      <th>C</th>\n",
       "      <td>3202.230023</td>\n",
       "      <td>17080.725778</td>\n",
       "      <td>28.576366</td>\n",
       "      <td>787.963941</td>\n",
       "      <td>B2</td>\n",
       "    </tr>\n",
       "    <tr>\n",
       "      <th>D</th>\n",
       "      <td>3664.885282</td>\n",
       "      <td>12123.391107</td>\n",
       "      <td>33.091099</td>\n",
       "      <td>473.361804</td>\n",
       "      <td>B2</td>\n",
       "    </tr>\n",
       "    <tr>\n",
       "      <th>E</th>\n",
       "      <td>2608.484486</td>\n",
       "      <td>15247.564316</td>\n",
       "      <td>40.094461</td>\n",
       "      <td>516.491656</td>\n",
       "      <td>B2</td>\n",
       "    </tr>\n",
       "    <tr>\n",
       "      <th>F</th>\n",
       "      <td>3223.705789</td>\n",
       "      <td>11394.938607</td>\n",
       "      <td>36.180050</td>\n",
       "      <td>546.544737</td>\n",
       "      <td>C3</td>\n",
       "    </tr>\n",
       "    <tr>\n",
       "      <th>G</th>\n",
       "      <td>2912.139968</td>\n",
       "      <td>17851.759614</td>\n",
       "      <td>33.590866</td>\n",
       "      <td>605.693775</td>\n",
       "      <td>C3</td>\n",
       "    </tr>\n",
       "    <tr>\n",
       "      <th>H</th>\n",
       "      <td>3184.829138</td>\n",
       "      <td>10464.504127</td>\n",
       "      <td>45.011256</td>\n",
       "      <td>468.209649</td>\n",
       "      <td>D4</td>\n",
       "    </tr>\n",
       "    <tr>\n",
       "      <th>I</th>\n",
       "      <td>2130.103186</td>\n",
       "      <td>19488.855373</td>\n",
       "      <td>55.037697</td>\n",
       "      <td>723.358939</td>\n",
       "      <td>E5</td>\n",
       "    </tr>\n",
       "    <tr>\n",
       "      <th>J</th>\n",
       "      <td>2609.227538</td>\n",
       "      <td>10976.721140</td>\n",
       "      <td>47.158525</td>\n",
       "      <td>576.060997</td>\n",
       "      <td>E5</td>\n",
       "    </tr>\n",
       "  </tbody>\n",
       "</table>\n",
       "</div>"
      ],
      "text/plain": [
       "   Förderrate (bbl/d)   Druck (psi)  Viskosität (cP)  Wassertiefe (m)  \\\n",
       "A         2749.080238  19507.143064        48.495830       639.463394   \n",
       "B         2312.037281  11559.945203        29.626341       746.470458   \n",
       "C         3202.230023  17080.725778        28.576366       787.963941   \n",
       "D         3664.885282  12123.391107        33.091099       473.361804   \n",
       "E         2608.484486  15247.564316        40.094461       516.491656   \n",
       "F         3223.705789  11394.938607        36.180050       546.544737   \n",
       "G         2912.139968  17851.759614        33.590866       605.693775   \n",
       "H         3184.829138  10464.504127        45.011256       468.209649   \n",
       "I         2130.103186  19488.855373        55.037697       723.358939   \n",
       "J         2609.227538  10976.721140        47.158525       576.060997   \n",
       "\n",
       "  Bohrloch-ID  \n",
       "A          A1  \n",
       "B          A1  \n",
       "C          B2  \n",
       "D          B2  \n",
       "E          B2  \n",
       "F          C3  \n",
       "G          C3  \n",
       "H          D4  \n",
       "I          E5  \n",
       "J          E5  "
      ]
     },
     "execution_count": 7,
     "metadata": {},
     "output_type": "execute_result"
    },
    {
     "name": "stdout",
     "output_type": "stream",
     "text": [
      "The history saving thread hit an unexpected error (OperationalError('attempt to write a readonly database')).History will not be written to the database.\n"
     ]
    }
   ],
   "source": [
    "import numpy as np\n",
    "import pandas as pd\n",
    "np.random.seed(42)\n",
    "\n",
    "# Spaltennamen passend zur Ölindustrie\n",
    "columns = [\"Förderrate (bbl/d)\", \"Druck (psi)\", \"Viskosität (cP)\", \"Wassertiefe (m)\"]\n",
    "\n",
    "# Zufällige Werte zwischen 2 und 4 erzeugen\n",
    "values = np.random.uniform(low=2, high=4, size=(10, 4))\n",
    "\n",
    "# Index als Buchstaben A-J\n",
    "index = [chr(i) for i in range(65, 65 + values.shape[0])]\n",
    "\n",
    "# DataFrame erstellen\n",
    "df = pd.DataFrame(values, columns=columns, index=index)\n",
    "\n",
    "# Werte skalieren, um realistischere Größenordnungen für die Ölindustrie zu erhalten\n",
    "df = df * [1000, 5000, 14, 200]\n",
    "\n",
    "# Neue Spalte mit doppelten/dreifachen Werten hinzufügen\n",
    "df[\"Bohrloch-ID\"] = [\"A1\", \"A1\", \"B2\", \"B2\", \"B2\", \"C3\", \"C3\", \"D4\", \"E5\", \"E5\"]\n",
    "\n",
    "# df = df.drop_duplicates(subset=[\"Bohrloch-ID\", \"Wassertiefe (m)\"]) \n",
    "\n",
    "df"
   ]
  },
  {
   "cell_type": "markdown",
   "id": "e93f03b9",
   "metadata": {},
   "source": [
    "## Die Anzahl an Elementen einer Spalte (Länge)\n",
    "Für diese Aufgabe kann die Python-Funktion len genommen werden. Besser ist aber das Ermitteln der Dimension mit `shape`. Das erste Element von shape ist immer die Anzahl der Zeilen und damit der Einträge der Spalte (Spaltenlänge)."
   ]
  },
  {
   "cell_type": "code",
   "execution_count": 2,
   "id": "e6f1defe",
   "metadata": {},
   "outputs": [
    {
     "data": {
      "text/plain": [
       "10"
      ]
     },
     "execution_count": 2,
     "metadata": {},
     "output_type": "execute_result"
    }
   ],
   "source": [
    "# via len Die Anzahl der Elemente einer Spalte ausgeben"
   ]
  },
  {
   "cell_type": "code",
   "execution_count": 1,
   "id": "7b24d38a",
   "metadata": {},
   "outputs": [],
   "source": [
    "# via shape den Shape der Spalte (Series) ausgeben"
   ]
  },
  {
   "cell_type": "markdown",
   "id": "4f84ceeb",
   "metadata": {},
   "source": [
    "## Eindeutige Werte in einer Spalte\n",
    "mit `unique` lassen sich eindeutige Werte in einer Spalte identifizieren."
   ]
  },
  {
   "cell_type": "code",
   "execution_count": 14,
   "id": "2cbdc966",
   "metadata": {},
   "outputs": [
    {
     "data": {
      "text/plain": [
       "array([5.49816048, 4.62407456, 6.40446005, 7.32977056, 5.21696897,\n",
       "       6.44741158, 5.82427994, 6.36965828, 4.26020637, 5.21845508])"
      ]
     },
     "execution_count": 14,
     "metadata": {},
     "output_type": "execute_result"
    }
   ],
   "source": [
    "# unique"
   ]
  },
  {
   "cell_type": "markdown",
   "id": "d6751503",
   "metadata": {},
   "source": [
    "## numerische Spalte in Numpy Array umformen\n",
    "Wir können mit der Methode to_numpy() eine Spalte in einen Numpy Array umformen. Der Index geht dabei natürlich verloren."
   ]
  },
  {
   "cell_type": "code",
   "execution_count": 2,
   "id": "b31eb748",
   "metadata": {},
   "outputs": [],
   "source": [
    "# Spalte in Numpy Array konvertieren"
   ]
  },
  {
   "cell_type": "markdown",
   "id": "2577c116",
   "metadata": {},
   "source": [
    "## alle Spalten eines Dataframes in Numpy Array umformen"
   ]
  },
  {
   "cell_type": "code",
   "execution_count": 3,
   "id": "e20887bf",
   "metadata": {},
   "outputs": [],
   "source": [
    "# neuen Dataframe mit iloc erstellen und nach Numpy umformen. Ergibt zweidimensionale Datenstruktur"
   ]
  },
  {
   "cell_type": "markdown",
   "id": "82af779e",
   "metadata": {},
   "source": [
    "## Iteration über Dataframe und Spalten\n",
    "Das Iterieren über Dataframe und Series ist möglich, aber in Pandas nicht sonderlich üblich, da unperformant. Vektorisierung ist ein sehr viel besseres Verfahren, um (parallel) Werte in einer Datenstruktur zu verändern. Moderne CPUs unterstüzten Vektorisierung. Mehr dazu in den weiteren Kapiteln."
   ]
  },
  {
   "cell_type": "markdown",
   "id": "2162a443",
   "metadata": {},
   "source": [
    "### Iteration über einen Dataframe. Jede Row is ein String mit dem Spaltennamen"
   ]
  },
  {
   "cell_type": "code",
   "execution_count": 10,
   "id": "44be55eb",
   "metadata": {},
   "outputs": [
    {
     "name": "stdout",
     "output_type": "stream",
     "text": [
      "Förderrate (bbl/d)\n",
      "Druck (psi)\n",
      "Viskosität (cP)\n",
      "Wassertiefe (m)\n",
      "Bohrloch-ID\n"
     ]
    }
   ],
   "source": [
    "for column_name in df:\n",
    "    print(column_name)"
   ]
  },
  {
   "cell_type": "markdown",
   "id": "610d9e17",
   "metadata": {},
   "source": [
    "### Iteration über alle Zeilen eines Dataframes"
   ]
  },
  {
   "cell_type": "code",
   "execution_count": 8,
   "id": "f7a43fda",
   "metadata": {},
   "outputs": [
    {
     "name": "stdout",
     "output_type": "stream",
     "text": [
      "A\n",
      "B\n",
      "C\n",
      "D\n",
      "E\n",
      "F\n",
      "G\n",
      "H\n",
      "I\n",
      "J\n"
     ]
    }
   ],
   "source": [
    "for columnname, series in df.iterrows():\n",
    "    print(columnname)"
   ]
  },
  {
   "cell_type": "markdown",
   "id": "96d37ab3",
   "metadata": {},
   "source": [
    "### Iteration über die Werte einer Spalte (Pandas Series)"
   ]
  },
  {
   "cell_type": "code",
   "execution_count": 9,
   "id": "3947f5ae",
   "metadata": {},
   "outputs": [
    {
     "name": "stdout",
     "output_type": "stream",
     "text": [
      "A1\n",
      "A1\n",
      "B2\n",
      "B2\n",
      "B2\n",
      "C3\n",
      "C3\n",
      "D4\n",
      "E5\n",
      "E5\n"
     ]
    }
   ],
   "source": [
    "for row in df[\"Bohrloch-ID\"]:\n",
    "    print(row)"
   ]
  },
  {
   "cell_type": "markdown",
   "id": "59203536",
   "metadata": {},
   "source": [
    "### Iteration über die Spalte mit iteritems\n",
    "mit der Methode iteritems bekommen wir einen Tupel aus Spaltenname, Wert pro Spaltenwert"
   ]
  },
  {
   "cell_type": "code",
   "execution_count": 14,
   "id": "a7d9e521",
   "metadata": {},
   "outputs": [
    {
     "name": "stdout",
     "output_type": "stream",
     "text": [
      "('A', 'A1')\n",
      "('B', 'A1')\n",
      "('C', 'B2')\n",
      "('D', 'B2')\n",
      "('E', 'B2')\n",
      "('F', 'C3')\n",
      "('G', 'C3')\n",
      "('H', 'D4')\n",
      "('I', 'E5')\n",
      "('J', 'E5')\n"
     ]
    }
   ],
   "source": [
    "for x in df[\"Bohrloch-ID\"].items():\n",
    "    print(x)"
   ]
  },
  {
   "cell_type": "code",
   "execution_count": 10,
   "id": "5e7513a5",
   "metadata": {},
   "outputs": [
    {
     "name": "stdout",
     "output_type": "stream",
     "text": [
      "5.49816047538945\n",
      "19.50714306409916\n",
      "48.49583037071934\n",
      "92.72219208342813\n"
     ]
    }
   ],
   "source": [
    "# Iteration über die Spalten der Zeile 0\n",
    "for cols in df.iloc[0]:\n",
    "    print(cols)"
   ]
  },
  {
   "cell_type": "code",
   "execution_count": 15,
   "id": "b5438f6d",
   "metadata": {},
   "outputs": [
    {
     "name": "stdout",
     "output_type": "stream",
     "text": [
      "A A1\n",
      "B A1\n",
      "C B2\n",
      "D B2\n",
      "E B2\n",
      "F C3\n",
      "G C3\n",
      "H D4\n",
      "I E5\n",
      "J E5\n"
     ]
    }
   ],
   "source": [
    "for index, bohrloch_id in df[\"Bohrloch-ID\"].items():\n",
    "    print(index, bohrloch_id)"
   ]
  },
  {
   "cell_type": "markdown",
   "id": "89d6d279",
   "metadata": {},
   "source": [
    "## Spalten löschen"
   ]
  },
  {
   "cell_type": "code",
   "execution_count": 16,
   "id": "72d38453",
   "metadata": {},
   "outputs": [
    {
     "data": {
      "text/html": [
       "<div>\n",
       "<style scoped>\n",
       "    .dataframe tbody tr th:only-of-type {\n",
       "        vertical-align: middle;\n",
       "    }\n",
       "\n",
       "    .dataframe tbody tr th {\n",
       "        vertical-align: top;\n",
       "    }\n",
       "\n",
       "    .dataframe thead th {\n",
       "        text-align: right;\n",
       "    }\n",
       "</style>\n",
       "<table border=\"1\" class=\"dataframe\">\n",
       "  <thead>\n",
       "    <tr style=\"text-align: right;\">\n",
       "      <th></th>\n",
       "      <th>Viskosität (cP)</th>\n",
       "      <th>Wassertiefe (m)</th>\n",
       "      <th>Bohrloch-ID</th>\n",
       "    </tr>\n",
       "  </thead>\n",
       "  <tbody>\n",
       "    <tr>\n",
       "      <th>A</th>\n",
       "      <td>48.495830</td>\n",
       "      <td>639.463394</td>\n",
       "      <td>A1</td>\n",
       "    </tr>\n",
       "    <tr>\n",
       "      <th>B</th>\n",
       "      <td>29.626341</td>\n",
       "      <td>746.470458</td>\n",
       "      <td>A1</td>\n",
       "    </tr>\n",
       "    <tr>\n",
       "      <th>C</th>\n",
       "      <td>28.576366</td>\n",
       "      <td>787.963941</td>\n",
       "      <td>B2</td>\n",
       "    </tr>\n",
       "    <tr>\n",
       "      <th>D</th>\n",
       "      <td>33.091099</td>\n",
       "      <td>473.361804</td>\n",
       "      <td>B2</td>\n",
       "    </tr>\n",
       "    <tr>\n",
       "      <th>E</th>\n",
       "      <td>40.094461</td>\n",
       "      <td>516.491656</td>\n",
       "      <td>B2</td>\n",
       "    </tr>\n",
       "    <tr>\n",
       "      <th>F</th>\n",
       "      <td>36.180050</td>\n",
       "      <td>546.544737</td>\n",
       "      <td>C3</td>\n",
       "    </tr>\n",
       "    <tr>\n",
       "      <th>G</th>\n",
       "      <td>33.590866</td>\n",
       "      <td>605.693775</td>\n",
       "      <td>C3</td>\n",
       "    </tr>\n",
       "    <tr>\n",
       "      <th>H</th>\n",
       "      <td>45.011256</td>\n",
       "      <td>468.209649</td>\n",
       "      <td>D4</td>\n",
       "    </tr>\n",
       "    <tr>\n",
       "      <th>I</th>\n",
       "      <td>55.037697</td>\n",
       "      <td>723.358939</td>\n",
       "      <td>E5</td>\n",
       "    </tr>\n",
       "    <tr>\n",
       "      <th>J</th>\n",
       "      <td>47.158525</td>\n",
       "      <td>576.060997</td>\n",
       "      <td>E5</td>\n",
       "    </tr>\n",
       "  </tbody>\n",
       "</table>\n",
       "</div>"
      ],
      "text/plain": [
       "   Viskosität (cP)  Wassertiefe (m) Bohrloch-ID\n",
       "A        48.495830       639.463394          A1\n",
       "B        29.626341       746.470458          A1\n",
       "C        28.576366       787.963941          B2\n",
       "D        33.091099       473.361804          B2\n",
       "E        40.094461       516.491656          B2\n",
       "F        36.180050       546.544737          C3\n",
       "G        33.590866       605.693775          C3\n",
       "H        45.011256       468.209649          D4\n",
       "I        55.037697       723.358939          E5\n",
       "J        47.158525       576.060997          E5"
      ]
     },
     "execution_count": 16,
     "metadata": {},
     "output_type": "execute_result"
    }
   ],
   "source": [
    "## drop"
   ]
  },
  {
   "cell_type": "markdown",
   "id": "fad4d0ee-cd2d-41b0-b882-4896255d5f38",
   "metadata": {},
   "source": [
    "## Zeilen löschen"
   ]
  },
  {
   "cell_type": "code",
   "execution_count": null,
   "id": "60c36786-8793-49f7-9e30-f4dc2d35518c",
   "metadata": {},
   "outputs": [],
   "source": [
    "## via index drop"
   ]
  },
  {
   "cell_type": "markdown",
   "id": "ec15d191-7678-42c6-89d4-fce188b7d505",
   "metadata": {},
   "source": [
    "## Duplikate löschen\n",
    "\n",
    "mit drop_duplicates lassen sich zeilenweise Duplikate löschen. "
   ]
  },
  {
   "cell_type": "code",
   "execution_count": 34,
   "id": "4bd3f130-dcde-4e41-8dca-a7cdfc15ad60",
   "metadata": {},
   "outputs": [],
   "source": [
    "# drop dublicates"
   ]
  }
 ],
 "metadata": {
  "kernelspec": {
   "display_name": "Python 3 (ipykernel)",
   "language": "python",
   "name": "python3"
  },
  "language_info": {
   "codemirror_mode": {
    "name": "ipython",
    "version": 3
   },
   "file_extension": ".py",
   "mimetype": "text/x-python",
   "name": "python",
   "nbconvert_exporter": "python",
   "pygments_lexer": "ipython3",
   "version": "3.12.4"
  }
 },
 "nbformat": 4,
 "nbformat_minor": 5
}

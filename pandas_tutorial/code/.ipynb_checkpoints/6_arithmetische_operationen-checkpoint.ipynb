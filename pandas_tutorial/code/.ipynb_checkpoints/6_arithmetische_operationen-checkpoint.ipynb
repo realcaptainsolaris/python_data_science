{
 "cells": [
  {
   "cell_type": "code",
   "execution_count": 7,
   "id": "b3de51e8",
   "metadata": {},
   "outputs": [],
   "source": [
    "import numpy as np\n",
    "import pandas as pd\n",
    "import matplotlib.pyplot as plt\n",
    "\n",
    "np.random.seed(42)"
   ]
  },
  {
   "cell_type": "markdown",
   "id": "8e47e196",
   "metadata": {},
   "source": [
    "# Arithmetische Funktionen\n",
    "\n",
    "Diese können entweder mit der Pandas-Funktion oder per Operator ausgeführt werden. \n",
    "die Funktion ist nur nötig, wenn zusätzliche Argumente übergeben werden müssen.\n",
    "\n",
    "| Python Operator  | Pandas Funktion  | Beispiel       |\n",
    "|------------------|------------------|----------------|\n",
    "| +                | add()            | M.add(N)       |\n",
    "| -                | sub()            | M.sub(N)       |\n",
    "| *                | mul()            | M.mul(3)       |\n",
    "| /                | div()            | M.div(N)       |\n",
    "| //               | floordiv()       | M.floordiv(N)  |\n",
    "| %                | mod()            | M.mod(N)       |\n",
    "| **               | pow()            | M.pow(N)       |\n"
   ]
  },
  {
   "cell_type": "code",
   "execution_count": 10,
   "id": "08bf6a07",
   "metadata": {},
   "outputs": [
    {
     "data": {
      "text/html": [
       "<div>\n",
       "<style scoped>\n",
       "    .dataframe tbody tr th:only-of-type {\n",
       "        vertical-align: middle;\n",
       "    }\n",
       "\n",
       "    .dataframe tbody tr th {\n",
       "        vertical-align: top;\n",
       "    }\n",
       "\n",
       "    .dataframe thead th {\n",
       "        text-align: right;\n",
       "    }\n",
       "</style>\n",
       "<table border=\"1\" class=\"dataframe\">\n",
       "  <thead>\n",
       "    <tr style=\"text-align: right;\">\n",
       "      <th></th>\n",
       "      <th>a</th>\n",
       "      <th>b</th>\n",
       "      <th>c</th>\n",
       "    </tr>\n",
       "  </thead>\n",
       "  <tbody>\n",
       "    <tr>\n",
       "      <th>0</th>\n",
       "      <td>1</td>\n",
       "      <td>4</td>\n",
       "      <td>13</td>\n",
       "    </tr>\n",
       "    <tr>\n",
       "      <th>1</th>\n",
       "      <td>2</td>\n",
       "      <td>5</td>\n",
       "      <td>14</td>\n",
       "    </tr>\n",
       "    <tr>\n",
       "      <th>2</th>\n",
       "      <td>3</td>\n",
       "      <td>6</td>\n",
       "      <td>17</td>\n",
       "    </tr>\n",
       "  </tbody>\n",
       "</table>\n",
       "</div>"
      ],
      "text/plain": [
       "   a  b   c\n",
       "0  1  4  13\n",
       "1  2  5  14\n",
       "2  3  6  17"
      ]
     },
     "metadata": {},
     "output_type": "display_data"
    },
    {
     "data": {
      "text/html": [
       "<div>\n",
       "<style scoped>\n",
       "    .dataframe tbody tr th:only-of-type {\n",
       "        vertical-align: middle;\n",
       "    }\n",
       "\n",
       "    .dataframe tbody tr th {\n",
       "        vertical-align: top;\n",
       "    }\n",
       "\n",
       "    .dataframe thead th {\n",
       "        text-align: right;\n",
       "    }\n",
       "</style>\n",
       "<table border=\"1\" class=\"dataframe\">\n",
       "  <thead>\n",
       "    <tr style=\"text-align: right;\">\n",
       "      <th></th>\n",
       "      <th>a</th>\n",
       "      <th>b</th>\n",
       "    </tr>\n",
       "  </thead>\n",
       "  <tbody>\n",
       "    <tr>\n",
       "      <th>0</th>\n",
       "      <td>3</td>\n",
       "      <td>3</td>\n",
       "    </tr>\n",
       "    <tr>\n",
       "      <th>1</th>\n",
       "      <td>3</td>\n",
       "      <td>4</td>\n",
       "    </tr>\n",
       "  </tbody>\n",
       "</table>\n",
       "</div>"
      ],
      "text/plain": [
       "   a  b\n",
       "0  3  3\n",
       "1  3  4"
      ]
     },
     "metadata": {},
     "output_type": "display_data"
    }
   ],
   "source": [
    "c = {\n",
    "    \"a\": [3, 3],\n",
    "    \"b\": [3, 4],\n",
    "}\n",
    "\n",
    "d = {\n",
    "    \"a\": [1, 2, 3],\n",
    "    \"b\": [4, 5, 6],\n",
    "    \"c\": [13, 14, 17],\n",
    "}\n",
    "M = pd.DataFrame(c)\n",
    "N = pd.DataFrame(d)\n",
    "\n",
    "display(N)\n",
    "display(M)"
   ]
  },
  {
   "cell_type": "markdown",
   "id": "b0aac89c",
   "metadata": {},
   "source": [
    "## Addition von zwei Dataframes\n",
    "Falls die DataFrames nicht die gleiche Spalten/Zeilenanzahl haben, ergeben sich hier NaN-Werte. Man kann beim Addieren dem entgegenwirken, indem man `fill_value` auf 0 setzt. In diesem Fall ist der Datentyp der Ergebnisspalten ein Float (NAN ist ein Floatwert)"
   ]
  },
  {
   "cell_type": "code",
   "execution_count": 1,
   "id": "328acb9b",
   "metadata": {},
   "outputs": [],
   "source": [
    "# Addition (die additive Eigenschaft auf 0 setzen, um NAN-Werte zu vermeiden). "
   ]
  },
  {
   "cell_type": "markdown",
   "id": "49d04a1b",
   "metadata": {},
   "source": [
    "### Addition von Spaltenwerten\n",
    "im Beispiel rechne wir 3 + 3 + 9. Auf die Series lassen sich wieder die arith. Numpy-Funktionen ausführen."
   ]
  },
  {
   "cell_type": "code",
   "execution_count": 41,
   "id": "94521ff6",
   "metadata": {},
   "outputs": [
    {
     "data": {
      "text/plain": [
       "np.int64(6)"
      ]
     },
     "execution_count": 41,
     "metadata": {},
     "output_type": "execute_result"
    }
   ],
   "source": [
    "N.a.sum()"
   ]
  },
  {
   "cell_type": "markdown",
   "id": "f5d59b48",
   "metadata": {},
   "source": [
    "## Subtraktion von zwei DataFrames\n",
    "Es wird elementweise abgezogen. Falls die Dataframes nicht das gleiche Shape haben, ergeben sich wieder NaN-Werte."
   ]
  },
  {
   "cell_type": "code",
   "execution_count": 2,
   "id": "65b398a0",
   "metadata": {},
   "outputs": [
    {
     "ename": "NameError",
     "evalue": "name 'M' is not defined",
     "output_type": "error",
     "traceback": [
      "\u001b[0;31m---------------------------------------------------------------------------\u001b[0m",
      "\u001b[0;31mNameError\u001b[0m                                 Traceback (most recent call last)",
      "Cell \u001b[0;32mIn[2], line 1\u001b[0m\n\u001b[0;32m----> 1\u001b[0m display(\u001b[43mM\u001b[49m\u001b[38;5;241m.\u001b[39msub(M)), display(M\u001b[38;5;241m.\u001b[39msub(N, fill_value\u001b[38;5;241m=\u001b[39m\u001b[38;5;241m0\u001b[39m))\n",
      "\u001b[0;31mNameError\u001b[0m: name 'M' is not defined"
     ]
    }
   ],
   "source": [
    "display(M.sub(M)), display(M.sub(N, fill_value=0))"
   ]
  },
  {
   "cell_type": "markdown",
   "id": "addeddb0",
   "metadata": {},
   "source": [
    "## Subtraktion von zwei Spalten"
   ]
  },
  {
   "cell_type": "code",
   "execution_count": 44,
   "id": "2b1d4393",
   "metadata": {},
   "outputs": [
    {
     "data": {
      "text/plain": [
       "0    0\n",
       "1   -1\n",
       "dtype: int64"
      ]
     },
     "execution_count": 44,
     "metadata": {},
     "output_type": "execute_result"
    }
   ],
   "source": [
    "# Subtraktion von zwei Spalten"
   ]
  },
  {
   "cell_type": "markdown",
   "id": "255d0d02",
   "metadata": {},
   "source": [
    "## Multiplikation \n",
    "Die Multiplikation findet elementweise sowie statt. "
   ]
  },
  {
   "cell_type": "code",
   "execution_count": 4,
   "id": "e4f05e31",
   "metadata": {},
   "outputs": [],
   "source": [
    "# Multiplikation\n",
    "..."
   ]
  },
  {
   "cell_type": "code",
   "execution_count": 5,
   "id": "9288e34e",
   "metadata": {},
   "outputs": [],
   "source": [
    "# Floor Division (rundet ab)"
   ]
  },
  {
   "cell_type": "code",
   "execution_count": 12,
   "id": "4f981c43",
   "metadata": {},
   "outputs": [
    {
     "data": {
      "text/plain": [
       "<bound method DataFrame.pow of    a  b\n",
       "0  3  3\n",
       "1  3  4>"
      ]
     },
     "execution_count": 12,
     "metadata": {},
     "output_type": "execute_result"
    }
   ],
   "source": [
    "# Potenz pow"
   ]
  },
  {
   "cell_type": "code",
   "execution_count": 13,
   "id": "b91a5564",
   "metadata": {},
   "outputs": [],
   "source": [
    "# Modulo"
   ]
  },
  {
   "cell_type": "code",
   "execution_count": null,
   "id": "e17dfe6f-59a8-4647-a4ea-7a5e24b200e1",
   "metadata": {},
   "outputs": [],
   "source": []
  },
  {
   "cell_type": "markdown",
   "id": "9acaef57-1c14-4ccc-b173-af68a0a498d9",
   "metadata": {},
   "source": [
    "# Aufgabe Rohöl\n",
    "\n",
    "## Szenario:\n",
    "Ein Ölunternehmen überwacht die **Tagesproduktion von Rohöl** aus verschiedenen Förderanlagen. Die Produktion wird in **Barrel pro Tag (bbl/d)** gemessen.  \n",
    "Nun haben die Ingenieure neue Daten für eine **zweite Messreihe** erhalten. Deine Aufgabe ist es, die Messwerte zu kombinieren, Berechnungen durchzuführen und die Daten zu bereinigen.\n",
    "\n",
    "---\n",
    "\n",
    "### Gegeben ist ein Dataframe df\n",
    "- der die zwei Messreihen von Tagesdaten für die Ölquellen enthählt.\n",
    "- Die Spalten heißen: `\"Förderanlage\"`, `\"Produktion_1 (bbl/d)\"`, `\"Produktion_2 (bbl/d)\"`.\n",
    "\n",
    "### Berechne die Gesamte Produktion\n",
    "- Addiere die Spalten `\"Produktion_1 (bbl/d)\"` und `\"Produktion_2 (bbl/d)\"`, um eine neue Spalte `\"Gesamtproduktion (bbl/d)\"` zu erhalten.\n",
    "\n",
    "### Bereinige die Daten\n",
    "- Entferne die ursprünglichen Spalten `\"Produktion_1 (bbl/d)\"` und `\"Produktion_2 (bbl/d)\"`, da nur die Gesamtproduktion wichtig ist.\n",
    "- Der Index soll auf die Förderanlagen gesetzt werden. lösche die Spalte Forderanlagen.\n",
    "\n",
    "### Füge eine Spalte \"Erwartete Produktion\" hinzu\n",
    "- Erhöhe die `\"Gesamtproduktion (bbl/d)\"` um **10%** und speichere das Ergebnis in einer neuen Spalte `\"Erwartete Produktion (bbl/d)\"`.\n",
    "\n",
    "## Erwartetes Endergebnis (`df_final`)\n",
    "| Förderanlage | Gesamtproduktion (bbl/d) | Erwartete Produktion (bbl/d) |\n",
    "|-------------|--------------------------|-------------------------------|\n",
    "| A1          | 1020                      | 1122.0                        |\n",
    "| B2          | 1430                      | 1573.0                        |\n",
    "| C3          | 1180                      | 1298.0                        |\n",
    "| D4          | 910                       | 1001.0                        |\n",
    "| E5          | 1610                      | 1771.0                        |\n",
    "\n",
    "---\n",
    "\n",
    "### **Bonus-Aufgabe (optional)**\n",
    "- Wandle die Spalte `\"Erwartete Produktion (bbl/d)\"` in `int16` um.\n",
    "- Sortiere den DataFrame nach `\"Gesamtproduktion (bbl/d)\"` absteigend.\n",
    "- Erstelle einen horizontalen Bar-Plot, der für jede Förderanlage Gesamtproduktion und Erwartete Produktion zeigt (kind=barh).\n",
    "- Erstelle dazu für die X-Achse eine Beschriftung (\"Barrel pro Tag (bbl/d)\"). siehe xlabel\n",
    "- Erstelle für den Plot eine Überschrift (title)\n",
    "\n",
    "**Happy Coding!**\n"
   ]
  }
 ],
 "metadata": {
  "kernelspec": {
   "display_name": "Python 3 (ipykernel)",
   "language": "python",
   "name": "python3"
  },
  "language_info": {
   "codemirror_mode": {
    "name": "ipython",
    "version": 3
   },
   "file_extension": ".py",
   "mimetype": "text/x-python",
   "name": "python",
   "nbconvert_exporter": "python",
   "pygments_lexer": "ipython3",
   "version": "3.12.4"
  }
 },
 "nbformat": 4,
 "nbformat_minor": 5
}

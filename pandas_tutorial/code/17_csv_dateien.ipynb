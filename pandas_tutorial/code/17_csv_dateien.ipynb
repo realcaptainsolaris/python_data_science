{
 "cells": [
  {
   "cell_type": "markdown",
   "id": "3da3f8a3",
   "metadata": {},
   "source": [
    "# CSV-Dateien mit Pandas\n",
    "\n",
    "In diesem Notebook werden alle wichtigen Möglichkeiten für den Import, Export und die Bearbeitung von CSV-Dateien mit Pandas gezeigt."
   ]
  },
  {
   "cell_type": "markdown",
   "id": "b1f5908d",
   "metadata": {},
   "source": [
    "## 1. CSV-Dateien einlesen\n",
    "\n",
    "Verwenden Sie `pd.read_csv()` zum Importieren von CSV-Dateien."
   ]
  },
  {
   "cell_type": "code",
   "execution_count": 18,
   "id": "cbb9ead7",
   "metadata": {},
   "outputs": [],
   "source": [
    "import pandas as pd\n",
    "\n",
    "file = 'https://people.sc.fsu.edu/~jburkardt/data/csv/airtravel.csv'\n",
    "# Beispiel: Einfache CSV-Datei einlesen\n"
   ]
  },
  {
   "cell_type": "markdown",
   "id": "12768bd1",
   "metadata": {},
   "source": [
    "### 1.1. Bestimmte Spalten einlesen\n",
    "\n",
    "Man kann mit dem Argument `usecols` gezielt Spalten importieren."
   ]
  },
  {
   "cell_type": "code",
   "execution_count": 19,
   "id": "c0622fcf",
   "metadata": {},
   "outputs": [],
   "source": [
    "# Nur bestimmte Spalten einlesen\n"
   ]
  },
  {
   "cell_type": "markdown",
   "id": "b94c8680",
   "metadata": {},
   "source": [
    "### 1.2. Kopfzeilen und Index anpassen\n",
    "\n",
    "Mit `header` und `index_col` kann die Kopfzeile und der Index definiert werden."
   ]
  },
  {
   "cell_type": "code",
   "execution_count": 20,
   "id": "bfebcb17",
   "metadata": {},
   "outputs": [],
   "source": [
    "# Kopfzeile und Indexspalte anpassen\n"
   ]
  },
  {
   "cell_type": "markdown",
   "id": "431e80ca",
   "metadata": {},
   "source": [
    "## 2. CSV-Dateien exportieren\n",
    "\n",
    "Verwenden Sie `df.to_csv()` zum Exportieren von DataFrames in eine CSV-Datei."
   ]
  },
  {
   "cell_type": "code",
   "execution_count": 21,
   "id": "09bb7541",
   "metadata": {},
   "outputs": [],
   "source": [
    "# DataFrame in eine CSV-Datei exportieren\n",
    "out_file = 'example_export.csv'\n"
   ]
  },
  {
   "cell_type": "markdown",
   "id": "e00539e0",
   "metadata": {},
   "source": [
    "### 2.1. Ohne Index exportieren\n",
    "\n",
    "Standardmäßig exportiert Pandas den Index. Setzen Sie `index=False`, um das zu verhindern."
   ]
  },
  {
   "cell_type": "code",
   "execution_count": 22,
   "id": "5c950a57",
   "metadata": {},
   "outputs": [],
   "source": [
    "# Exportieren ohne Index\n"
   ]
  },
  {
   "cell_type": "markdown",
   "id": "070509e8",
   "metadata": {},
   "source": [
    "### 2.2. Komprimierte CSV-Dateien exportieren\n",
    "\n",
    "Man kann CSV-Dateien komprimieren, z.B. mit gzip oder zip."
   ]
  },
  {
   "cell_type": "code",
   "execution_count": 23,
   "id": "12b6a9af",
   "metadata": {},
   "outputs": [],
   "source": [
    "# Komprimierte CSV-Datei exportieren\n",
    "out_file = 'example_compressed.csv.gz'\n"
   ]
  },
  {
   "cell_type": "markdown",
   "id": "4723eea7",
   "metadata": {},
   "source": [
    "## 3. CSV-Dateien mit Trennzeichen\n",
    "\n",
    "CSV-Dateien können unterschiedliche Trennzeichen haben, z.B. Semikolon oder Tabulator."
   ]
  },
  {
   "cell_type": "code",
   "execution_count": null,
   "id": "058154b6",
   "metadata": {},
   "outputs": [],
   "source": [
    "# CSV-Datei mit Semikolon als Trennzeichen exportieren\n",
    "out_file = 'example_semicolon.csv'"
   ]
  },
  {
   "cell_type": "markdown",
   "id": "4555ac97",
   "metadata": {},
   "source": [
    "## 4. Umgang mit fehlenden Werten\n",
    "\n",
    "Fehlende Werte können beim Import oder Export behandelt werden."
   ]
  },
  {
   "cell_type": "code",
   "execution_count": 24,
   "id": "c7f602bc",
   "metadata": {},
   "outputs": [],
   "source": [
    "# Fehlende Werte beim Einlesen ersetzen\n",
    "\n",
    "# Fehlende Werte beim Export ignorieren\n",
    "out_file = 'example_no_na.csv'"
   ]
  },
  {
   "cell_type": "markdown",
   "id": "49761d56",
   "metadata": {},
   "source": [
    "## 5. Große CSV-Dateien einlesen\n",
    "\n",
    "Verwenden Sie `chunksize`, um große CSV-Dateien in Teilen einzulesen."
   ]
  },
  {
   "cell_type": "code",
   "execution_count": 25,
   "id": "d2101ce8",
   "metadata": {},
   "outputs": [],
   "source": [
    "# Große Datei in Teilen einlesen\n"
   ]
  },
  {
   "cell_type": "markdown",
   "id": "ebccedb8",
   "metadata": {},
   "source": [
    "## 6. Zusammenfassung\n",
    "\n",
    "- **Import**: `pd.read_csv()`\n",
    "- **Export**: `to_csv()`\n",
    "- **Index**: Mit `index_col` oder `index=False` arbeiten\n",
    "- **Kompression**: Mit `compression` komprimieren\n",
    "- **Große Dateien**: `chunksize` verwenden"
   ]
  }
 ],
 "metadata": {
  "kernelspec": {
   "display_name": "Python 3 (ipykernel)",
   "language": "python",
   "name": "python3"
  },
  "language_info": {
   "codemirror_mode": {
    "name": "ipython",
    "version": 3
   },
   "file_extension": ".py",
   "mimetype": "text/x-python",
   "name": "python",
   "nbconvert_exporter": "python",
   "pygments_lexer": "ipython3",
   "version": "3.13.1"
  }
 },
 "nbformat": 4,
 "nbformat_minor": 5
}

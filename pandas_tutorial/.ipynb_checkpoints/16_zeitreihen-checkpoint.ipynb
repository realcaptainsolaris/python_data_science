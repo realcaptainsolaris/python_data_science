{
 "cells": [
  {
   "cell_type": "code",
   "execution_count": 2,
   "id": "54dd9a0c",
   "metadata": {},
   "outputs": [],
   "source": [
    "import numpy as np\n",
    "import pandas as pd\n",
    "import matplotlib.pyplot as plt\n",
    "np.random.seed(42)"
   ]
  },
  {
   "cell_type": "markdown",
   "id": "49519d5a",
   "metadata": {},
   "source": [
    "# Zeitreihen erstellen"
   ]
  },
  {
   "cell_type": "markdown",
   "id": "0ec9d122",
   "metadata": {},
   "source": [
    "## Zeitreihen erstellen mit data_range\n",
    "Um Zeitreihen zu erstellen, gibt es in Pandas die Methode `data_range`. Diese Methode erwartet die Anzahl an Zeitpunkten (`periods`) und die Frequenz (`freq`), also Tag, Stunde, Monat, etc.\n",
    "\n",
    "### Freq-Angaben\n",
    "https://pandas.pydata.org/docs/user_guide/timeseries.html#timeseries-offset-aliases\n",
    "\n",
    "\n",
    "### Beispiel\n",
    "Bei der Angabe des Startdatums können wir das US-Datumsformat (mm/dd/YYYY) angeben oder ISO 8601 (YYYY-mm-dd)"
   ]
  },
  {
   "cell_type": "code",
   "execution_count": 9,
   "id": "11442654",
   "metadata": {},
   "outputs": [
    {
     "data": {
      "text/plain": [
       "DatetimeIndex(['2024-12-24', '2024-12-25', '2024-12-26'], dtype='datetime64[ns]', freq='D')"
      ]
     },
     "execution_count": 9,
     "metadata": {},
     "output_type": "execute_result"
    }
   ],
   "source": [
    "# mit freq=d geben wir an, dass wir eine tageweise Zeitreihe haben wollen\n",
    "start_date = \"03/01/2022\"  # m/d/Y US date format \n",
    "start_date = \"12/14/2022\"  # m/d/Y US date format \n",
    "start_date = \"2024-12-24\"  # ISO\n",
    "three_days_of_march = pd.date_range(start=start_date, periods=3, freq=\"d\")\n",
    "three_days_of_march"
   ]
  },
  {
   "cell_type": "markdown",
   "id": "02f25b9c",
   "metadata": {},
   "source": [
    "### ein Dataframe erstellen mit einem monatlichen Zeitindex"
   ]
  },
  {
   "cell_type": "code",
   "execution_count": 10,
   "id": "304d5efc",
   "metadata": {},
   "outputs": [
    {
     "data": {
      "text/html": [
       "<div>\n",
       "<style scoped>\n",
       "    .dataframe tbody tr th:only-of-type {\n",
       "        vertical-align: middle;\n",
       "    }\n",
       "\n",
       "    .dataframe tbody tr th {\n",
       "        vertical-align: top;\n",
       "    }\n",
       "\n",
       "    .dataframe thead th {\n",
       "        text-align: right;\n",
       "    }\n",
       "</style>\n",
       "<table border=\"1\" class=\"dataframe\">\n",
       "  <thead>\n",
       "    <tr style=\"text-align: right;\">\n",
       "      <th></th>\n",
       "      <th>sales</th>\n",
       "    </tr>\n",
       "  </thead>\n",
       "  <tbody>\n",
       "    <tr>\n",
       "      <th>2021-06-01</th>\n",
       "      <td>53</td>\n",
       "    </tr>\n",
       "    <tr>\n",
       "      <th>2021-07-01</th>\n",
       "      <td>21</td>\n",
       "    </tr>\n",
       "    <tr>\n",
       "      <th>2021-08-01</th>\n",
       "      <td>42</td>\n",
       "    </tr>\n",
       "    <tr>\n",
       "      <th>2021-09-01</th>\n",
       "      <td>11</td>\n",
       "    </tr>\n",
       "  </tbody>\n",
       "</table>\n",
       "</div>"
      ],
      "text/plain": [
       "            sales\n",
       "2021-06-01     53\n",
       "2021-07-01     21\n",
       "2021-08-01     42\n",
       "2021-09-01     11"
      ]
     },
     "execution_count": 10,
     "metadata": {},
     "output_type": "execute_result"
    }
   ],
   "source": [
    "# ein Dataframe erstellen mit einem monatlichen Zeitindex\n",
    "df_sales_2021 = pd.DataFrame({\n",
    "    \"sales\": [23, 23, 21, 43, 23, 53, 21, 42, 11, 44, 23, 23],\n",
    "    \"old_sales\": [123, 23, 211, 431, 231, 513, 121, 42, 11, 441, 123, 123],\n",
    "},\n",
    "    index = pd.date_range(\"01/01/2021\", periods=12, freq=\"MS\")\n",
    ")\n",
    "\n",
    "# mit loc können wir auch über Date-Indizies slicen\n",
    "df_sales_2021.loc[\"06/01/2021\":\"09/01/2021\", [\"sales\"]]"
   ]
  },
  {
   "cell_type": "markdown",
   "id": "25a694f8-9abf-4258-ae32-7e207c476138",
   "metadata": {},
   "source": [
    "## Nach Datum slicen, falls Datum der Index ist"
   ]
  },
  {
   "cell_type": "code",
   "execution_count": 16,
   "id": "a6524a54-9cd8-4f85-b7c4-5246f6c5e773",
   "metadata": {},
   "outputs": [
    {
     "name": "stdout",
     "output_type": "stream",
     "text": [
      "        Date  Values\n",
      "1 2023-01-02      15\n",
      "2 2023-01-03      20\n",
      "            Values\n",
      "Date              \n",
      "2023-01-02      15\n",
      "2023-01-03      20\n"
     ]
    }
   ],
   "source": [
    "# Sample data\n",
    "data = {\"Date\": [\"2023-01-01\", \"2023-01-02\", \"2023-01-03\"], \"Values\": [10, 15, 20]}\n",
    "df = pd.DataFrame(data)\n",
    "\n",
    "# Converting the \"Date\" column to datetime format\n",
    "df[\"Date\"] = pd.to_datetime(df[\"Date\"])\n",
    "# sclice to dates if Date is not the index\n",
    "df_pre_filtered = df.loc[(df[\"Date\"] >= \"2023-01-02\") & (df[\"Date\"] <= \"2023-01-04\")]\n",
    "\n",
    "# set Date to index and then use this slicing:\n",
    "df = df.set_index(\"Date\")\n",
    "df_filtered = df[\"2023-01-02\":\"2023-01-04\"]\n",
    "\n",
    "print(df_pre_filtered)\n",
    "print(df_filtered)"
   ]
  },
  {
   "cell_type": "code",
   "execution_count": 22,
   "id": "43e5180e",
   "metadata": {},
   "outputs": [
    {
     "data": {
      "image/png": "[encoded data removed]",
      "text/plain": [
       "<Figure size 432x288 with 1 Axes>"
      ]
     },
     "metadata": {
      "needs_background": "light"
     },
     "output_type": "display_data"
    }
   ],
   "source": [
    "def line_format(label):\n",
    "    \"\"\"\n",
    "    Convert time label to the format of pandas line plot\n",
    "    \"\"\"\n",
    "    month = label.month_name()[:3]\n",
    "    if month == 'Jan':\n",
    "        month += f'\\n{label.year}'\n",
    "    return month\n",
    "\n",
    "ax = df_sales_2021.plot(kind=\"bar\", rot=0)\n",
    "ax.set_xticklabels(map(line_format, df_sales_2021.index))\n",
    "plt.show()"
   ]
  },
  {
   "cell_type": "markdown",
   "id": "128a8a47",
   "metadata": {},
   "source": [
    "### ein Dataframe erstellen mit einem stündlichen Zeitindex"
   ]
  },
  {
   "cell_type": "code",
   "execution_count": 4,
   "id": "53566a95",
   "metadata": {},
   "outputs": [
    {
     "data": {
      "text/html": [
       "<div>\n",
       "<style scoped>\n",
       "    .dataframe tbody tr th:only-of-type {\n",
       "        vertical-align: middle;\n",
       "    }\n",
       "\n",
       "    .dataframe tbody tr th {\n",
       "        vertical-align: top;\n",
       "    }\n",
       "\n",
       "    .dataframe thead th {\n",
       "        text-align: right;\n",
       "    }\n",
       "</style>\n",
       "<table border=\"1\" class=\"dataframe\">\n",
       "  <thead>\n",
       "    <tr style=\"text-align: right;\">\n",
       "      <th></th>\n",
       "      <th>results</th>\n",
       "    </tr>\n",
       "  </thead>\n",
       "  <tbody>\n",
       "    <tr>\n",
       "      <th>2021-01-01 00:00:00</th>\n",
       "      <td>1</td>\n",
       "    </tr>\n",
       "    <tr>\n",
       "      <th>2021-01-01 01:00:00</th>\n",
       "      <td>2</td>\n",
       "    </tr>\n",
       "    <tr>\n",
       "      <th>2021-01-01 02:00:00</th>\n",
       "      <td>1</td>\n",
       "    </tr>\n",
       "    <tr>\n",
       "      <th>2021-01-01 03:00:00</th>\n",
       "      <td>1</td>\n",
       "    </tr>\n",
       "    <tr>\n",
       "      <th>2021-01-01 04:00:00</th>\n",
       "      <td>1</td>\n",
       "    </tr>\n",
       "    <tr>\n",
       "      <th>2021-01-01 05:00:00</th>\n",
       "      <td>2</td>\n",
       "    </tr>\n",
       "    <tr>\n",
       "      <th>2021-01-01 06:00:00</th>\n",
       "      <td>1</td>\n",
       "    </tr>\n",
       "    <tr>\n",
       "      <th>2021-01-01 07:00:00</th>\n",
       "      <td>1</td>\n",
       "    </tr>\n",
       "    <tr>\n",
       "      <th>2021-01-01 08:00:00</th>\n",
       "      <td>1</td>\n",
       "    </tr>\n",
       "    <tr>\n",
       "      <th>2021-01-01 09:00:00</th>\n",
       "      <td>2</td>\n",
       "    </tr>\n",
       "    <tr>\n",
       "      <th>2021-01-01 10:00:00</th>\n",
       "      <td>1</td>\n",
       "    </tr>\n",
       "    <tr>\n",
       "      <th>2021-01-01 11:00:00</th>\n",
       "      <td>1</td>\n",
       "    </tr>\n",
       "    <tr>\n",
       "      <th>2021-01-01 12:00:00</th>\n",
       "      <td>1</td>\n",
       "    </tr>\n",
       "    <tr>\n",
       "      <th>2021-01-01 13:00:00</th>\n",
       "      <td>1</td>\n",
       "    </tr>\n",
       "    <tr>\n",
       "      <th>2021-01-01 14:00:00</th>\n",
       "      <td>2</td>\n",
       "    </tr>\n",
       "    <tr>\n",
       "      <th>2021-01-01 15:00:00</th>\n",
       "      <td>1</td>\n",
       "    </tr>\n",
       "    <tr>\n",
       "      <th>2021-01-01 16:00:00</th>\n",
       "      <td>2</td>\n",
       "    </tr>\n",
       "    <tr>\n",
       "      <th>2021-01-01 17:00:00</th>\n",
       "      <td>2</td>\n",
       "    </tr>\n",
       "    <tr>\n",
       "      <th>2021-01-01 18:00:00</th>\n",
       "      <td>2</td>\n",
       "    </tr>\n",
       "    <tr>\n",
       "      <th>2021-01-01 19:00:00</th>\n",
       "      <td>1</td>\n",
       "    </tr>\n",
       "    <tr>\n",
       "      <th>2021-01-01 20:00:00</th>\n",
       "      <td>2</td>\n",
       "    </tr>\n",
       "    <tr>\n",
       "      <th>2021-01-01 21:00:00</th>\n",
       "      <td>1</td>\n",
       "    </tr>\n",
       "    <tr>\n",
       "      <th>2021-01-01 22:00:00</th>\n",
       "      <td>2</td>\n",
       "    </tr>\n",
       "    <tr>\n",
       "      <th>2021-01-01 23:00:00</th>\n",
       "      <td>2</td>\n",
       "    </tr>\n",
       "  </tbody>\n",
       "</table>\n",
       "</div>"
      ],
      "text/plain": [
       "                     results\n",
       "2021-01-01 00:00:00        1\n",
       "2021-01-01 01:00:00        2\n",
       "2021-01-01 02:00:00        1\n",
       "2021-01-01 03:00:00        1\n",
       "2021-01-01 04:00:00        1\n",
       "2021-01-01 05:00:00        2\n",
       "2021-01-01 06:00:00        1\n",
       "2021-01-01 07:00:00        1\n",
       "2021-01-01 08:00:00        1\n",
       "2021-01-01 09:00:00        2\n",
       "2021-01-01 10:00:00        1\n",
       "2021-01-01 11:00:00        1\n",
       "2021-01-01 12:00:00        1\n",
       "2021-01-01 13:00:00        1\n",
       "2021-01-01 14:00:00        2\n",
       "2021-01-01 15:00:00        1\n",
       "2021-01-01 16:00:00        2\n",
       "2021-01-01 17:00:00        2\n",
       "2021-01-01 18:00:00        2\n",
       "2021-01-01 19:00:00        1\n",
       "2021-01-01 20:00:00        2\n",
       "2021-01-01 21:00:00        1\n",
       "2021-01-01 22:00:00        2\n",
       "2021-01-01 23:00:00        2"
      ]
     },
     "execution_count": 4,
     "metadata": {},
     "output_type": "execute_result"
    }
   ],
   "source": [
    "df_result_hours = pd.DataFrame({\n",
    "    \"results\": np.random.randint(low=1, high=3, size=(24,))\n",
    "},\n",
    "    index = pd.date_range(\"01/01/2021\", periods=24, freq=\"H\")\n",
    ")\n",
    "df_result_hours"
   ]
  },
  {
   "cell_type": "markdown",
   "id": "6b40cf2f-cd90-4b85-8d2f-0bf5a2dc6212",
   "metadata": {},
   "source": [
    "## Konvertieren von String zu Datumsobjekt"
   ]
  },
  {
   "cell_type": "code",
   "execution_count": 14,
   "id": "f1c3a46c-107c-4326-a267-847e70817309",
   "metadata": {},
   "outputs": [
    {
     "name": "stdout",
     "output_type": "stream",
     "text": [
      "Date      datetime64[ns]\n",
      "Values             int64\n",
      "dtype: object\n",
      "        Date  Values\n",
      "0 2023-01-01      10\n",
      "1 2023-01-02      15\n",
      "2 2023-01-05      20\n"
     ]
    }
   ],
   "source": [
    "# Sample data\n",
    "data = {\"Date\": [\"2023-01-01\", \"2023-01-02\", \"2023-01-05\"], \"Values\": [10, 15, 20]}\n",
    "df = pd.DataFrame(data)\n",
    "\n",
    "# Converting the \"Date\" column to datetime format\n",
    "df[\"Date\"] = pd.to_datetime(df[\"Date\"])\n",
    "print(df.dtypes)\n",
    "print(df)"
   ]
  },
  {
   "cell_type": "markdown",
   "id": "4355a24e-017a-427b-b7f7-caf51ed5643a",
   "metadata": {},
   "source": [
    "# Calculating the difference between consecutive dates\n",
    "\n",
    "The diff() method calculates the difference between consecutive rows in the Date column. In combination with .dt.days, the difference is shown in days."
   ]
  },
  {
   "cell_type": "code",
   "execution_count": 16,
   "id": "d09a366c-ab10-47f9-8225-4168f1282a4e",
   "metadata": {},
   "outputs": [
    {
     "name": "stdout",
     "output_type": "stream",
     "text": [
      "        Date  Values  Difference_in_Days\n",
      "0 2023-01-01      10                 NaN\n",
      "1 2023-01-02      15                 1.0\n",
      "2 2023-01-05      20                 3.0\n"
     ]
    }
   ],
   "source": [
    "df[\"Difference_in_Days\"] = df[\"Date\"].diff().dt.days\n",
    "print(df)"
   ]
  },
  {
   "cell_type": "markdown",
   "id": "7e7b57ff",
   "metadata": {},
   "source": [
    "## Datumsformat in der Ausgabe\n",
    "wir können das Datumsformat in der Ausgabe mit `strftime` ändern, wie wir es aus dem Python Standard gewohnt sind."
   ]
  },
  {
   "cell_type": "code",
   "execution_count": 5,
   "id": "6adbff50",
   "metadata": {},
   "outputs": [
    {
     "data": {
      "text/html": [
       "<div>\n",
       "<style scoped>\n",
       "    .dataframe tbody tr th:only-of-type {\n",
       "        vertical-align: middle;\n",
       "    }\n",
       "\n",
       "    .dataframe tbody tr th {\n",
       "        vertical-align: top;\n",
       "    }\n",
       "\n",
       "    .dataframe thead th {\n",
       "        text-align: right;\n",
       "    }\n",
       "</style>\n",
       "<table border=\"1\" class=\"dataframe\">\n",
       "  <thead>\n",
       "    <tr style=\"text-align: right;\">\n",
       "      <th></th>\n",
       "      <th>sales</th>\n",
       "      <th>old_sales</th>\n",
       "    </tr>\n",
       "  </thead>\n",
       "  <tbody>\n",
       "    <tr>\n",
       "      <th>31.01.2020</th>\n",
       "      <td>23</td>\n",
       "      <td>123</td>\n",
       "    </tr>\n",
       "    <tr>\n",
       "      <th>29.02.2020</th>\n",
       "      <td>23</td>\n",
       "      <td>23</td>\n",
       "    </tr>\n",
       "    <tr>\n",
       "      <th>31.03.2020</th>\n",
       "      <td>21</td>\n",
       "      <td>211</td>\n",
       "    </tr>\n",
       "    <tr>\n",
       "      <th>30.04.2020</th>\n",
       "      <td>43</td>\n",
       "      <td>431</td>\n",
       "    </tr>\n",
       "    <tr>\n",
       "      <th>31.05.2020</th>\n",
       "      <td>23</td>\n",
       "      <td>231</td>\n",
       "    </tr>\n",
       "    <tr>\n",
       "      <th>30.06.2020</th>\n",
       "      <td>53</td>\n",
       "      <td>513</td>\n",
       "    </tr>\n",
       "    <tr>\n",
       "      <th>31.07.2020</th>\n",
       "      <td>21</td>\n",
       "      <td>121</td>\n",
       "    </tr>\n",
       "    <tr>\n",
       "      <th>31.08.2020</th>\n",
       "      <td>42</td>\n",
       "      <td>42</td>\n",
       "    </tr>\n",
       "    <tr>\n",
       "      <th>30.09.2020</th>\n",
       "      <td>11</td>\n",
       "      <td>11</td>\n",
       "    </tr>\n",
       "    <tr>\n",
       "      <th>31.10.2020</th>\n",
       "      <td>44</td>\n",
       "      <td>441</td>\n",
       "    </tr>\n",
       "    <tr>\n",
       "      <th>30.11.2020</th>\n",
       "      <td>23</td>\n",
       "      <td>123</td>\n",
       "    </tr>\n",
       "    <tr>\n",
       "      <th>31.12.2020</th>\n",
       "      <td>23</td>\n",
       "      <td>123</td>\n",
       "    </tr>\n",
       "  </tbody>\n",
       "</table>\n",
       "</div>"
      ],
      "text/plain": [
       "            sales  old_sales\n",
       "31.01.2020     23        123\n",
       "29.02.2020     23         23\n",
       "31.03.2020     21        211\n",
       "30.04.2020     43        431\n",
       "31.05.2020     23        231\n",
       "30.06.2020     53        513\n",
       "31.07.2020     21        121\n",
       "31.08.2020     42         42\n",
       "30.09.2020     11         11\n",
       "31.10.2020     44        441\n",
       "30.11.2020     23        123\n",
       "31.12.2020     23        123"
      ]
     },
     "execution_count": 5,
     "metadata": {},
     "output_type": "execute_result"
    }
   ],
   "source": [
    "# ein Dataframe erstellen mit einem monatlichen Zeitindex, Ende des Monats\n",
    "df_sales_2020_end_month = pd.DataFrame({\n",
    "    \"sales\": [23, 23, 21, 43, 23, 53, 21, 42, 11, 44, 23, 23],\n",
    "    \"old_sales\": [123, 23, 211, 431, 231, 513, 121, 42, 11, 441, 123, 123],\n",
    "},\n",
    "    index = pd.date_range(\"01/01/2020\", periods=12, freq=\"M\")\n",
    ")\n",
    "\n",
    "df_sales_2020_end_month.index = df_sales_2020_end_month.index.strftime(\"%d.%m.%Y\")\n",
    "df_sales_2020_end_month"
   ]
  },
  {
   "cell_type": "markdown",
   "id": "a9ca7736",
   "metadata": {},
   "source": [
    "### Zeitzonen (noch bearbeiten)\n",
    "\n",
    "Daten auf werden mit Lisabon-Zeit lokalisiert, dh. sie verschieben sich zu `UTC` um +2 Stunden."
   ]
  },
  {
   "cell_type": "code",
   "execution_count": 8,
   "id": "2dff080f",
   "metadata": {},
   "outputs": [
    {
     "data": {
      "text/plain": [
       "(Index(['19.04.2022 11:04', '19.04.2022 12:04', '19.04.2022 13:04',\n",
       "        '19.04.2022 14:04', '19.04.2022 15:04', '19.04.2022 16:04',\n",
       "        '19.04.2022 17:04', '19.04.2022 18:04', '19.04.2022 19:04',\n",
       "        '19.04.2022 20:04', '19.04.2022 21:04', '19.04.2022 22:04'],\n",
       "       dtype='object'),\n",
       " datetime.datetime(2022, 4, 19, 11, 11, 6, 158670))"
      ]
     },
     "execution_count": 8,
     "metadata": {},
     "output_type": "execute_result"
    }
   ],
   "source": [
    "from datetime import datetime\n",
    "df_result_hour = pd.DataFrame({\n",
    "    \"results\": np.random.randint(low=1, high=3, size=(12,))\n",
    "},\n",
    "    index = pd.date_range(datetime.now(), periods=12, freq=\"H\")\n",
    ")\n",
    "\n",
    "df_result_hour.index = df_result_hour.index.tz_localize(\"Europe/Lisbon\")  \n",
    "df_result_hour.index = df_result_hour.index.tz_convert('Europe/Lisbon')\n",
    "df_result_hour.loc[\"2022-04-19\"].index.strftime(\"%d.%m.%Y %H:%m\"), datetime.now()\n",
    "# df_result_hour.index"
   ]
  },
  {
   "cell_type": "markdown",
   "id": "3959ebbd",
   "metadata": {},
   "source": [
    "## Nach Index Zeiten filtern"
   ]
  },
  {
   "cell_type": "code",
   "execution_count": 13,
   "id": "83d232e1",
   "metadata": {},
   "outputs": [
    {
     "data": {
      "text/html": [
       "<div>\n",
       "<style scoped>\n",
       "    .dataframe tbody tr th:only-of-type {\n",
       "        vertical-align: middle;\n",
       "    }\n",
       "\n",
       "    .dataframe tbody tr th {\n",
       "        vertical-align: top;\n",
       "    }\n",
       "\n",
       "    .dataframe thead th {\n",
       "        text-align: right;\n",
       "    }\n",
       "</style>\n",
       "<table border=\"1\" class=\"dataframe\">\n",
       "  <thead>\n",
       "    <tr style=\"text-align: right;\">\n",
       "      <th></th>\n",
       "      <th>sales</th>\n",
       "      <th>old_sales</th>\n",
       "    </tr>\n",
       "  </thead>\n",
       "  <tbody>\n",
       "    <tr>\n",
       "      <th>2021-03-01</th>\n",
       "      <td>21</td>\n",
       "      <td>211</td>\n",
       "    </tr>\n",
       "  </tbody>\n",
       "</table>\n",
       "</div>"
      ],
      "text/plain": [
       "            sales  old_sales\n",
       "2021-03-01     21        211"
      ]
     },
     "execution_count": 13,
     "metadata": {},
     "output_type": "execute_result"
    }
   ],
   "source": [
    "# Verkäufe Monat März\n",
    "df_sales_2021_sommer = df_sales_2021[df_sales_2021.index.month == 3]\n",
    "df_sales_2021_sommer"
   ]
  },
  {
   "cell_type": "code",
   "execution_count": 17,
   "id": "76e34b0d-d056-4c2b-9bf5-4d6513b4717b",
   "metadata": {},
   "outputs": [
    {
     "name": "stdout",
     "output_type": "stream",
     "text": [
      "            Values\n",
      "Date              \n",
      "2023-01-02      15\n",
      "2023-01-03      20\n"
     ]
    }
   ],
   "source": [
    "df_filtered = df[\"2023-01-02\":\"2023-01-04\"]\n",
    "print(df_filtered)"
   ]
  },
  {
   "cell_type": "code",
   "execution_count": 34,
   "id": "b0e30612",
   "metadata": {},
   "outputs": [
    {
     "data": {
      "text/html": [
       "<div>\n",
       "<style scoped>\n",
       "    .dataframe tbody tr th:only-of-type {\n",
       "        vertical-align: middle;\n",
       "    }\n",
       "\n",
       "    .dataframe tbody tr th {\n",
       "        vertical-align: top;\n",
       "    }\n",
       "\n",
       "    .dataframe thead th {\n",
       "        text-align: right;\n",
       "    }\n",
       "</style>\n",
       "<table border=\"1\" class=\"dataframe\">\n",
       "  <thead>\n",
       "    <tr style=\"text-align: right;\">\n",
       "      <th></th>\n",
       "      <th>sales</th>\n",
       "      <th>old_sales</th>\n",
       "    </tr>\n",
       "  </thead>\n",
       "  <tbody>\n",
       "    <tr>\n",
       "      <th>2021-03-01</th>\n",
       "      <td>21</td>\n",
       "      <td>211</td>\n",
       "    </tr>\n",
       "    <tr>\n",
       "      <th>2021-04-01</th>\n",
       "      <td>43</td>\n",
       "      <td>431</td>\n",
       "    </tr>\n",
       "    <tr>\n",
       "      <th>2021-05-01</th>\n",
       "      <td>23</td>\n",
       "      <td>231</td>\n",
       "    </tr>\n",
       "    <tr>\n",
       "      <th>2021-06-01</th>\n",
       "      <td>53</td>\n",
       "      <td>513</td>\n",
       "    </tr>\n",
       "    <tr>\n",
       "      <th>2021-07-01</th>\n",
       "      <td>21</td>\n",
       "      <td>121</td>\n",
       "    </tr>\n",
       "  </tbody>\n",
       "</table>\n",
       "</div>"
      ],
      "text/plain": [
       "            sales  old_sales\n",
       "2021-03-01     21        211\n",
       "2021-04-01     43        431\n",
       "2021-05-01     23        231\n",
       "2021-06-01     53        513\n",
       "2021-07-01     21        121"
      ]
     },
     "execution_count": 34,
     "metadata": {},
     "output_type": "execute_result"
    }
   ],
   "source": [
    "# Verkäufe Monat März - Monat Juli\n",
    "from_march = df_sales_2021.index.month >= 3\n",
    "till_july = df_sales_2021.index.month <=  7\n",
    "df_sales_2021_springsummer = df_sales_2021[from_march & till_july]\n",
    "df_sales_2021_springsummer"
   ]
  },
  {
   "cell_type": "code",
   "execution_count": 43,
   "id": "17569405",
   "metadata": {},
   "outputs": [
    {
     "data": {
      "text/html": [
       "<div>\n",
       "<style scoped>\n",
       "    .dataframe tbody tr th:only-of-type {\n",
       "        vertical-align: middle;\n",
       "    }\n",
       "\n",
       "    .dataframe tbody tr th {\n",
       "        vertical-align: top;\n",
       "    }\n",
       "\n",
       "    .dataframe thead th {\n",
       "        text-align: right;\n",
       "    }\n",
       "</style>\n",
       "<table border=\"1\" class=\"dataframe\">\n",
       "  <thead>\n",
       "    <tr style=\"text-align: right;\">\n",
       "      <th></th>\n",
       "      <th>sales</th>\n",
       "      <th>old_sales</th>\n",
       "    </tr>\n",
       "  </thead>\n",
       "  <tbody>\n",
       "    <tr>\n",
       "      <th>2021-05-01</th>\n",
       "      <td>23</td>\n",
       "      <td>231</td>\n",
       "    </tr>\n",
       "    <tr>\n",
       "      <th>2021-06-01</th>\n",
       "      <td>53</td>\n",
       "      <td>513</td>\n",
       "    </tr>\n",
       "    <tr>\n",
       "      <th>2021-07-01</th>\n",
       "      <td>21</td>\n",
       "      <td>121</td>\n",
       "    </tr>\n",
       "    <tr>\n",
       "      <th>2021-08-01</th>\n",
       "      <td>42</td>\n",
       "      <td>42</td>\n",
       "    </tr>\n",
       "    <tr>\n",
       "      <th>2021-09-01</th>\n",
       "      <td>11</td>\n",
       "      <td>11</td>\n",
       "    </tr>\n",
       "    <tr>\n",
       "      <th>2021-10-01</th>\n",
       "      <td>44</td>\n",
       "      <td>441</td>\n",
       "    </tr>\n",
       "    <tr>\n",
       "      <th>2021-11-01</th>\n",
       "      <td>23</td>\n",
       "      <td>123</td>\n",
       "    </tr>\n",
       "    <tr>\n",
       "      <th>2021-12-01</th>\n",
       "      <td>23</td>\n",
       "      <td>123</td>\n",
       "    </tr>\n",
       "  </tbody>\n",
       "</table>\n",
       "</div>"
      ],
      "text/plain": [
       "            sales  old_sales\n",
       "2021-05-01     23        231\n",
       "2021-06-01     53        513\n",
       "2021-07-01     21        121\n",
       "2021-08-01     42         42\n",
       "2021-09-01     11         11\n",
       "2021-10-01     44        441\n",
       "2021-11-01     23        123\n",
       "2021-12-01     23        123"
      ]
     },
     "execution_count": 43,
     "metadata": {},
     "output_type": "execute_result"
    }
   ],
   "source": [
    "deadline = pd.Timestamp(\"2021-04-08\")\n",
    "from_deadline = df_sales_2021[df_sales_2021.index > deadline]\n",
    "from_deadline"
   ]
  },
  {
   "cell_type": "code",
   "execution_count": null,
   "id": "802ab979",
   "metadata": {},
   "outputs": [],
   "source": []
  },
  {
   "cell_type": "markdown",
   "id": "b45361a0",
   "metadata": {},
   "source": [
    "## Timestamp erstellen"
   ]
  },
  {
   "cell_type": "code",
   "execution_count": null,
   "id": "4290bd30",
   "metadata": {},
   "outputs": [],
   "source": [
    "friday = pd.Timestamp(\"2022-04-08\")\n",
    "friday"
   ]
  },
  {
   "cell_type": "markdown",
   "id": "51aa72d4",
   "metadata": {},
   "source": [
    "## Rechnen mit Time-Deltas"
   ]
  },
  {
   "cell_type": "code",
   "execution_count": 44,
   "id": "ecf89a87",
   "metadata": {},
   "outputs": [
    {
     "data": {
      "text/plain": [
       "Timestamp('2021-04-09 00:00:00')"
      ]
     },
     "execution_count": 44,
     "metadata": {},
     "output_type": "execute_result"
    }
   ],
   "source": [
    "# Timedelta auf Timestamp anwenden\n",
    "saturday = friday + pd.Timedelta(\"1 day\")\n",
    "saturday"
   ]
  },
  {
   "cell_type": "code",
   "execution_count": 45,
   "id": "4b2ba451",
   "metadata": {},
   "outputs": [
    {
     "data": {
      "text/html": [
       "<div>\n",
       "<style scoped>\n",
       "    .dataframe tbody tr th:only-of-type {\n",
       "        vertical-align: middle;\n",
       "    }\n",
       "\n",
       "    .dataframe tbody tr th {\n",
       "        vertical-align: top;\n",
       "    }\n",
       "\n",
       "    .dataframe thead th {\n",
       "        text-align: right;\n",
       "    }\n",
       "</style>\n",
       "<table border=\"1\" class=\"dataframe\">\n",
       "  <thead>\n",
       "    <tr style=\"text-align: right;\">\n",
       "      <th></th>\n",
       "      <th>results</th>\n",
       "    </tr>\n",
       "  </thead>\n",
       "  <tbody>\n",
       "    <tr>\n",
       "      <th>2020-12-31 22:00:00</th>\n",
       "      <td>1</td>\n",
       "    </tr>\n",
       "    <tr>\n",
       "      <th>2020-12-31 23:00:00</th>\n",
       "      <td>2</td>\n",
       "    </tr>\n",
       "    <tr>\n",
       "      <th>2021-01-01 00:00:00</th>\n",
       "      <td>1</td>\n",
       "    </tr>\n",
       "    <tr>\n",
       "      <th>2021-01-01 01:00:00</th>\n",
       "      <td>1</td>\n",
       "    </tr>\n",
       "    <tr>\n",
       "      <th>2021-01-01 02:00:00</th>\n",
       "      <td>1</td>\n",
       "    </tr>\n",
       "    <tr>\n",
       "      <th>2021-01-01 03:00:00</th>\n",
       "      <td>2</td>\n",
       "    </tr>\n",
       "    <tr>\n",
       "      <th>2021-01-01 04:00:00</th>\n",
       "      <td>1</td>\n",
       "    </tr>\n",
       "    <tr>\n",
       "      <th>2021-01-01 05:00:00</th>\n",
       "      <td>1</td>\n",
       "    </tr>\n",
       "    <tr>\n",
       "      <th>2021-01-01 06:00:00</th>\n",
       "      <td>1</td>\n",
       "    </tr>\n",
       "    <tr>\n",
       "      <th>2021-01-01 07:00:00</th>\n",
       "      <td>2</td>\n",
       "    </tr>\n",
       "    <tr>\n",
       "      <th>2021-01-01 08:00:00</th>\n",
       "      <td>1</td>\n",
       "    </tr>\n",
       "    <tr>\n",
       "      <th>2021-01-01 09:00:00</th>\n",
       "      <td>1</td>\n",
       "    </tr>\n",
       "    <tr>\n",
       "      <th>2021-01-01 10:00:00</th>\n",
       "      <td>1</td>\n",
       "    </tr>\n",
       "    <tr>\n",
       "      <th>2021-01-01 11:00:00</th>\n",
       "      <td>1</td>\n",
       "    </tr>\n",
       "    <tr>\n",
       "      <th>2021-01-01 12:00:00</th>\n",
       "      <td>2</td>\n",
       "    </tr>\n",
       "    <tr>\n",
       "      <th>2021-01-01 13:00:00</th>\n",
       "      <td>1</td>\n",
       "    </tr>\n",
       "    <tr>\n",
       "      <th>2021-01-01 14:00:00</th>\n",
       "      <td>2</td>\n",
       "    </tr>\n",
       "    <tr>\n",
       "      <th>2021-01-01 15:00:00</th>\n",
       "      <td>2</td>\n",
       "    </tr>\n",
       "    <tr>\n",
       "      <th>2021-01-01 16:00:00</th>\n",
       "      <td>2</td>\n",
       "    </tr>\n",
       "    <tr>\n",
       "      <th>2021-01-01 17:00:00</th>\n",
       "      <td>1</td>\n",
       "    </tr>\n",
       "    <tr>\n",
       "      <th>2021-01-01 18:00:00</th>\n",
       "      <td>2</td>\n",
       "    </tr>\n",
       "    <tr>\n",
       "      <th>2021-01-01 19:00:00</th>\n",
       "      <td>1</td>\n",
       "    </tr>\n",
       "    <tr>\n",
       "      <th>2021-01-01 20:00:00</th>\n",
       "      <td>2</td>\n",
       "    </tr>\n",
       "    <tr>\n",
       "      <th>2021-01-01 21:00:00</th>\n",
       "      <td>2</td>\n",
       "    </tr>\n",
       "  </tbody>\n",
       "</table>\n",
       "</div>"
      ],
      "text/plain": [
       "                     results\n",
       "2020-12-31 22:00:00        1\n",
       "2020-12-31 23:00:00        2\n",
       "2021-01-01 00:00:00        1\n",
       "2021-01-01 01:00:00        1\n",
       "2021-01-01 02:00:00        1\n",
       "2021-01-01 03:00:00        2\n",
       "2021-01-01 04:00:00        1\n",
       "2021-01-01 05:00:00        1\n",
       "2021-01-01 06:00:00        1\n",
       "2021-01-01 07:00:00        2\n",
       "2021-01-01 08:00:00        1\n",
       "2021-01-01 09:00:00        1\n",
       "2021-01-01 10:00:00        1\n",
       "2021-01-01 11:00:00        1\n",
       "2021-01-01 12:00:00        2\n",
       "2021-01-01 13:00:00        1\n",
       "2021-01-01 14:00:00        2\n",
       "2021-01-01 15:00:00        2\n",
       "2021-01-01 16:00:00        2\n",
       "2021-01-01 17:00:00        1\n",
       "2021-01-01 18:00:00        2\n",
       "2021-01-01 19:00:00        1\n",
       "2021-01-01 20:00:00        2\n",
       "2021-01-01 21:00:00        2"
      ]
     },
     "execution_count": 45,
     "metadata": {},
     "output_type": "execute_result"
    }
   ],
   "source": [
    "# Timedelta auf ganze Spalte anwenden\n",
    "df_result_hours.index = df_result_hours.index - pd.Timedelta(\"1 hour\")\n",
    "df_result_hours"
   ]
  },
  {
   "cell_type": "code",
   "execution_count": 35,
   "id": "df91299d",
   "metadata": {},
   "outputs": [
    {
     "data": {
      "image/png": "[encoded data removed]",
      "text/plain": [
       "<Figure size 1296x576 with 1 Axes>"
      ]
     },
     "metadata": {
      "needs_background": "light"
     },
     "output_type": "display_data"
    }
   ],
   "source": [
    "plt.figure(figsize=(18,8))\n",
    "plt.plot(df_result_hours.index, df_result_hours.results)\n",
    "plt.show()"
   ]
  },
  {
   "cell_type": "markdown",
   "id": "97165077",
   "metadata": {},
   "source": [
    "## Datumsstrings umformatieren\n",
    "Wenn aus einer CSV-Datei oder einer anderen Quelle Daten eingelesen werden, kann Pandas oftmals nicht erkennen, dass es sich bei den Datum um ein Datumsformat handelt. Für diesen Zweck gibt es die Methode `to_datetime`."
   ]
  },
  {
   "cell_type": "code",
   "execution_count": 6,
   "id": "8b76140f",
   "metadata": {},
   "outputs": [
    {
     "name": "stdout",
     "output_type": "stream",
     "text": [
      "<class 'pandas.core.frame.DataFrame'>\n",
      "RangeIndex: 3 entries, 0 to 2\n",
      "Data columns (total 2 columns):\n",
      " #   Column  Non-Null Count  Dtype \n",
      "---  ------  --------------  ----- \n",
      " 0   dates   3 non-null      object\n",
      " 1   prices  3 non-null      int64 \n",
      "dtypes: int64(1), object(1)\n",
      "memory usage: 180.0+ bytes\n"
     ]
    }
   ],
   "source": [
    "dates = [\n",
    "    \"1. Jan 2010\",\n",
    "    \"1. Feb 2010\",\n",
    "    \"1. Mar 2010\",\n",
    "]\n",
    "\n",
    "prices = [\n",
    "    200,\n",
    "    339,\n",
    "    124\n",
    "]\n",
    "\n",
    "new_sales = pd.DataFrame({\n",
    "    \"dates\": dates,\n",
    "    \"prices\": prices\n",
    "})\n",
    "\n",
    "# Datum in Dates wird nicht als Datum erkannt\n",
    "new_sales.info()"
   ]
  },
  {
   "cell_type": "code",
   "execution_count": 64,
   "id": "ce1607b4",
   "metadata": {},
   "outputs": [],
   "source": [
    "#new_sales.set_index(\"dates\", inplace=True)\n",
    "# new_sales.index"
   ]
  },
  {
   "cell_type": "code",
   "execution_count": 10,
   "id": "6cc20820",
   "metadata": {},
   "outputs": [
    {
     "data": {
      "text/html": [
       "<div>\n",
       "<style scoped>\n",
       "    .dataframe tbody tr th:only-of-type {\n",
       "        vertical-align: middle;\n",
       "    }\n",
       "\n",
       "    .dataframe tbody tr th {\n",
       "        vertical-align: top;\n",
       "    }\n",
       "\n",
       "    .dataframe thead th {\n",
       "        text-align: right;\n",
       "    }\n",
       "</style>\n",
       "<table border=\"1\" class=\"dataframe\">\n",
       "  <thead>\n",
       "    <tr style=\"text-align: right;\">\n",
       "      <th></th>\n",
       "      <th>dates</th>\n",
       "      <th>prices</th>\n",
       "    </tr>\n",
       "  </thead>\n",
       "  <tbody>\n",
       "    <tr>\n",
       "      <th>0</th>\n",
       "      <td>2010-01-01</td>\n",
       "      <td>200</td>\n",
       "    </tr>\n",
       "    <tr>\n",
       "      <th>1</th>\n",
       "      <td>2010-02-01</td>\n",
       "      <td>339</td>\n",
       "    </tr>\n",
       "    <tr>\n",
       "      <th>2</th>\n",
       "      <td>2010-03-01</td>\n",
       "      <td>124</td>\n",
       "    </tr>\n",
       "  </tbody>\n",
       "</table>\n",
       "</div>"
      ],
      "text/plain": [
       "       dates  prices\n",
       "0 2010-01-01     200\n",
       "1 2010-02-01     339\n",
       "2 2010-03-01     124"
      ]
     },
     "execution_count": 10,
     "metadata": {},
     "output_type": "execute_result"
    }
   ],
   "source": [
    "new_sales[\"dates\"] = pd.to_datetime(new_sales[\"dates\"]) # mit format='%Y-%m-%d' kann man das Ausgangsformat angeeben\n",
    "new_sales"
   ]
  },
  {
   "cell_type": "code",
   "execution_count": 70,
   "id": "c9d21649",
   "metadata": {},
   "outputs": [
    {
     "data": {
      "text/html": [
       "<div>\n",
       "<style scoped>\n",
       "    .dataframe tbody tr th:only-of-type {\n",
       "        vertical-align: middle;\n",
       "    }\n",
       "\n",
       "    .dataframe tbody tr th {\n",
       "        vertical-align: top;\n",
       "    }\n",
       "\n",
       "    .dataframe thead th {\n",
       "        text-align: right;\n",
       "    }\n",
       "</style>\n",
       "<table border=\"1\" class=\"dataframe\">\n",
       "  <thead>\n",
       "    <tr style=\"text-align: right;\">\n",
       "      <th></th>\n",
       "      <th>prices</th>\n",
       "    </tr>\n",
       "    <tr>\n",
       "      <th>dates</th>\n",
       "      <th></th>\n",
       "    </tr>\n",
       "  </thead>\n",
       "  <tbody>\n",
       "    <tr>\n",
       "      <th>2010-01-01</th>\n",
       "      <td>200</td>\n",
       "    </tr>\n",
       "    <tr>\n",
       "      <th>2010-02-01</th>\n",
       "      <td>339</td>\n",
       "    </tr>\n",
       "    <tr>\n",
       "      <th>2010-03-01</th>\n",
       "      <td>124</td>\n",
       "    </tr>\n",
       "  </tbody>\n",
       "</table>\n",
       "</div>"
      ],
      "text/plain": [
       "            prices\n",
       "dates             \n",
       "2010-01-01     200\n",
       "2010-02-01     339\n",
       "2010-03-01     124"
      ]
     },
     "execution_count": 70,
     "metadata": {},
     "output_type": "execute_result"
    }
   ],
   "source": [
    "# jetzt noch zu index umfomren\n",
    "new_sales.set_index(\"dates\", inplace=True)\n",
    "new_sales"
   ]
  }
 ],
 "metadata": {
  "kernelspec": {
   "display_name": "Python 3 (ipykernel)",
   "language": "python",
   "name": "python3"
  },
  "language_info": {
   "codemirror_mode": {
    "name": "ipython",
    "version": 3
   },
   "file_extension": ".py",
   "mimetype": "text/x-python",
   "name": "python",
   "nbconvert_exporter": "python",
   "pygments_lexer": "ipython3",
   "version": "3.12.4"
  }
 },
 "nbformat": 4,
 "nbformat_minor": 5
}

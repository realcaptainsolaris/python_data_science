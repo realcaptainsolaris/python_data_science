{
 "cells": [
  {
   "cell_type": "markdown",
   "id": "c418600c",
   "metadata": {},
   "source": [
    "# Pandas DataFrame\n",
    "Der Datentyp DataFrame ist die wichtigste Datenstruktur in Pandas. Er repräsentiert eine Tabelle ähnlich wie eine ExcelTabelle mit Spalten und Zeilen. Jede Spalte (sowie jede Zeile) ist eine Pandas-Series und damit unter der Haube auch wieder ein Numpy-Array.\n",
    "\n",
    "Man kann also sagen, dass dieser Datentyp auf Tabellen basiert.\n",
    "\n",
    "Jede Spalte besteht aus einem eindeutigen Daten-Typen, aber verschiedene Spalten haben verschiedene\n",
    "Typen, z.B. könnte die erste Spalte vom Typ Integer sein, während die zweite Spalte vom Typ\n",
    "Boolean und so weiter.\n",
    "\n",
    "DataFrames lassen sich auf vielfältige Weise erstellen. Wir schauen uns hier mal die wichtigsten an."
   ]
  },
  {
   "cell_type": "markdown",
   "id": "cd5eb154",
   "metadata": {},
   "source": [
    "## Dataframe aus einem Dictionary erstellen\n",
    "Ein Dataframe lässt sich besonders einfach aus einem Dictionary erstellen. Die Keys des Dictionaries werden die zukünftigen Spalten, die Werte des Dictionaries werden die Einträge, sofern sie als Sequenz vorliegen. Beim Erstellen eines DataFrames muss darauf geachtet werden, dass die Anzahl der Werte für jeden Key gleich lang sind."
   ]
  },
  {
   "cell_type": "code",
   "execution_count": 2,
   "id": "66d7403a",
   "metadata": {},
   "outputs": [],
   "source": [
    "import pandas as pd"
   ]
  },
  {
   "cell_type": "code",
   "execution_count": 13,
   "id": "e77f2429",
   "metadata": {},
   "outputs": [
    {
     "name": "stdout",
     "output_type": "stream",
     "text": [
      "Shape von df:  (3, 2)\n",
      "Dim von df:  2\n",
      "\n",
      "Datentypen:  names     object\n",
      "points     int64\n",
      "dtype: object\n"
     ]
    }
   ],
   "source": [
    "names = [\"Ron\", \"Hermione\", \"Harry\"]\n",
    "points = [3, 2, 4]\n",
    "\n",
    "d = {\n",
    "    \"names\": names,\n",
    "    \"points\": points,\n",
    "}\n",
    "\n",
    "df = pd.DataFrame(d)\n",
    "print(\"Shape von df: \", df.shape)\n",
    "print(\"Dim von df: \", df.ndim)\n",
    "print()\n",
    "print(\"Datentypen: \", df.dtypes)"
   ]
  },
  {
   "cell_type": "code",
   "execution_count": 4,
   "id": "914bd5e0",
   "metadata": {},
   "outputs": [
    {
     "data": {
      "text/html": [
       "<div>\n",
       "<style scoped>\n",
       "    .dataframe tbody tr th:only-of-type {\n",
       "        vertical-align: middle;\n",
       "    }\n",
       "\n",
       "    .dataframe tbody tr th {\n",
       "        vertical-align: top;\n",
       "    }\n",
       "\n",
       "    .dataframe thead th {\n",
       "        text-align: right;\n",
       "    }\n",
       "</style>\n",
       "<table border=\"1\" class=\"dataframe\">\n",
       "  <thead>\n",
       "    <tr style=\"text-align: right;\">\n",
       "      <th></th>\n",
       "      <th>names</th>\n",
       "      <th>points</th>\n",
       "    </tr>\n",
       "  </thead>\n",
       "  <tbody>\n",
       "    <tr>\n",
       "      <th>0</th>\n",
       "      <td>Ron</td>\n",
       "      <td>3</td>\n",
       "    </tr>\n",
       "    <tr>\n",
       "      <th>1</th>\n",
       "      <td>Hermione</td>\n",
       "      <td>2</td>\n",
       "    </tr>\n",
       "    <tr>\n",
       "      <th>2</th>\n",
       "      <td>Harry</td>\n",
       "      <td>4</td>\n",
       "    </tr>\n",
       "  </tbody>\n",
       "</table>\n",
       "</div>"
      ],
      "text/plain": [
       "      names  points\n",
       "0       Ron       3\n",
       "1  Hermione       2\n",
       "2     Harry       4"
      ]
     },
     "execution_count": 4,
     "metadata": {},
     "output_type": "execute_result"
    }
   ],
   "source": [
    "df"
   ]
  },
  {
   "cell_type": "markdown",
   "id": "f3dfe71a",
   "metadata": {},
   "source": [
    "### Dataframe aus einem zweidimensionalen Numpy Array mit Spaltennamen erstellen"
   ]
  },
  {
   "cell_type": "code",
   "execution_count": 36,
   "id": "bff98bfd",
   "metadata": {},
   "outputs": [
    {
     "name": "stdout",
     "output_type": "stream",
     "text": [
      "   id  value\n",
      "0   2      2\n",
      "1   2      3\n",
      "2   2      3\n",
      "3   3      3\n",
      "\n"
     ]
    },
    {
     "data": {
      "text/plain": [
       "(2, 1)"
      ]
     },
     "execution_count": 36,
     "metadata": {},
     "output_type": "execute_result"
    }
   ],
   "source": [
    "# numpy array\n",
    "import numpy as np\n",
    "M = np.random.randint(low=1, high=4, size=(4,2))\n",
    "spaltennamen = [\"id\", \"value\"]\n",
    "\n",
    "df_2 = pd.DataFrame(M, columns=spaltennamen)\n",
    "# df_2.columns = spaltennamen alternativ\n",
    "print(df_2)\n",
    "print()\n",
    "M.shape, M.ndim\n",
    "\n",
    "v = np.random.randn(3)\n",
    "v.shape, v.ndim\n",
    "\n",
    "x = v[:, np.newaxis]\n",
    "x.shape, v.shape\n",
    "x.ndim, v.ndim"
   ]
  },
  {
   "cell_type": "markdown",
   "id": "235d84b8",
   "metadata": {},
   "source": [
    "### Dataframe aus zweidimensionaler Liste erstellen"
   ]
  },
  {
   "cell_type": "code",
   "execution_count": 11,
   "id": "da611caa",
   "metadata": {},
   "outputs": [
    {
     "data": {
      "text/html": [
       "<div>\n",
       "<style scoped>\n",
       "    .dataframe tbody tr th:only-of-type {\n",
       "        vertical-align: middle;\n",
       "    }\n",
       "\n",
       "    .dataframe tbody tr th {\n",
       "        vertical-align: top;\n",
       "    }\n",
       "\n",
       "    .dataframe thead th {\n",
       "        text-align: right;\n",
       "    }\n",
       "</style>\n",
       "<table border=\"1\" class=\"dataframe\">\n",
       "  <thead>\n",
       "    <tr style=\"text-align: right;\">\n",
       "      <th></th>\n",
       "      <th>Name</th>\n",
       "      <th>Age</th>\n",
       "      <th>Department</th>\n",
       "    </tr>\n",
       "  </thead>\n",
       "  <tbody>\n",
       "    <tr>\n",
       "      <th>0</th>\n",
       "      <td>Emma</td>\n",
       "      <td>29</td>\n",
       "      <td>HR</td>\n",
       "    </tr>\n",
       "    <tr>\n",
       "      <th>1</th>\n",
       "      <td>Oliver</td>\n",
       "      <td>25</td>\n",
       "      <td>Finance</td>\n",
       "    </tr>\n",
       "    <tr>\n",
       "      <th>2</th>\n",
       "      <td>Harry</td>\n",
       "      <td>33</td>\n",
       "      <td>Marketing</td>\n",
       "    </tr>\n",
       "    <tr>\n",
       "      <th>3</th>\n",
       "      <td>Sophia</td>\n",
       "      <td>24</td>\n",
       "      <td>IT</td>\n",
       "    </tr>\n",
       "    <tr>\n",
       "      <th>4</th>\n",
       "      <td>Mandos</td>\n",
       "      <td>53</td>\n",
       "      <td>IT</td>\n",
       "    </tr>\n",
       "  </tbody>\n",
       "</table>\n",
       "</div>"
      ],
      "text/plain": [
       "     Name  Age Department\n",
       "0    Emma   29         HR\n",
       "1  Oliver   25    Finance\n",
       "2   Harry   33  Marketing\n",
       "3  Sophia   24         IT\n",
       "4  Mandos   53         IT"
      ]
     },
     "execution_count": 11,
     "metadata": {},
     "output_type": "execute_result"
    }
   ],
   "source": [
    "staff = [\n",
    "    ['Emma', 29, 'HR'],\n",
    "    ['Oliver', 25, 'Finance'],\n",
    "    ['Harry', 33, 'Marketing'],\n",
    "    ['Sophia', 24, 'IT'],\n",
    "    ['Mandos', 53, 'IT']\n",
    "]\n",
    "\n",
    "df_3 = pd.DataFrame(staff, columns=['Name', 'Age', 'Department'])\n",
    "df_3"
   ]
  },
  {
   "cell_type": "markdown",
   "id": "89d2b3aa",
   "metadata": {},
   "source": [
    "### Dataframe aus einer Liste von Dictionaries erstellen"
   ]
  },
  {
   "cell_type": "code",
   "execution_count": 4,
   "id": "06add729",
   "metadata": {},
   "outputs": [
    {
     "data": {
      "text/html": [
       "<div>\n",
       "<style scoped>\n",
       "    .dataframe tbody tr th:only-of-type {\n",
       "        vertical-align: middle;\n",
       "    }\n",
       "\n",
       "    .dataframe tbody tr th {\n",
       "        vertical-align: top;\n",
       "    }\n",
       "\n",
       "    .dataframe thead th {\n",
       "        text-align: right;\n",
       "    }\n",
       "</style>\n",
       "<table border=\"1\" class=\"dataframe\">\n",
       "  <thead>\n",
       "    <tr style=\"text-align: right;\">\n",
       "      <th></th>\n",
       "      <th>Name</th>\n",
       "      <th>Age</th>\n",
       "      <th>Department</th>\n",
       "    </tr>\n",
       "  </thead>\n",
       "  <tbody>\n",
       "    <tr>\n",
       "      <th>0</th>\n",
       "      <td>Emma</td>\n",
       "      <td>29</td>\n",
       "      <td>HR</td>\n",
       "    </tr>\n",
       "    <tr>\n",
       "      <th>1</th>\n",
       "      <td>Oliver</td>\n",
       "      <td>25</td>\n",
       "      <td>Finance</td>\n",
       "    </tr>\n",
       "    <tr>\n",
       "      <th>2</th>\n",
       "      <td>Harry</td>\n",
       "      <td>33</td>\n",
       "      <td>Finance</td>\n",
       "    </tr>\n",
       "    <tr>\n",
       "      <th>3</th>\n",
       "      <td>Sophia</td>\n",
       "      <td>24</td>\n",
       "      <td>IT</td>\n",
       "    </tr>\n",
       "  </tbody>\n",
       "</table>\n",
       "</div>"
      ],
      "text/plain": [
       "     Name  Age Department\n",
       "0    Emma   29         HR\n",
       "1  Oliver   25    Finance\n",
       "2   Harry   33    Finance\n",
       "3  Sophia   24         IT"
      ]
     },
     "execution_count": 4,
     "metadata": {},
     "output_type": "execute_result"
    }
   ],
   "source": [
    "staff = [\n",
    "    {'Name': 'Emma', 'Age': 29, 'Department': 'HR'},\n",
    "    {'Name': 'Oliver', 'Age': 25, 'Department': 'Finance'},\n",
    "    {'Name': 'Harry', 'Age': 33, 'Department': 'Finance'},\n",
    "    {'Name': 'Sophia', 'Age': 24, 'Department': 'IT'}]\n",
    "\n",
    "df_4 = pd.DataFrame(staff)\n",
    "df_4"
   ]
  },
  {
   "cell_type": "markdown",
   "id": "5212fc81",
   "metadata": {},
   "source": [
    "### Spalte im DataFrame adressieren\n",
    "Eine Spalte in einem Dataframe ist eine Pandas Series. Es gibt zwei Möglichkeiten, eine Spalte zu adressieren:"
   ]
  },
  {
   "cell_type": "code",
   "execution_count": 5,
   "id": "385ff2af",
   "metadata": {},
   "outputs": [
    {
     "name": "stdout",
     "output_type": "stream",
     "text": [
      "Dot Syntax:\n",
      " 0         Ron\n",
      "1    Hermione\n",
      "2       Harry\n",
      "Name: names, dtype: object\n",
      "\n",
      "[] Syntax:\n",
      " 0         Ron\n",
      "1    Hermione\n",
      "2       Harry\n",
      "Name: names, dtype: object\n"
     ]
    }
   ],
   "source": [
    "print(\"Dot Syntax:\\n\", df.names)\n",
    "print()\n",
    "print(\"[] Syntax:\\n\", df[\"names\"])"
   ]
  },
  {
   "cell_type": "markdown",
   "id": "902ed4d7",
   "metadata": {},
   "source": [
    "### Spalten anzeigen lassen"
   ]
  },
  {
   "cell_type": "code",
   "execution_count": 6,
   "id": "a5481896",
   "metadata": {},
   "outputs": [
    {
     "data": {
      "text/plain": [
       "(Index(['names', 'points'], dtype='object'), ['names', 'points'])"
      ]
     },
     "execution_count": 6,
     "metadata": {},
     "output_type": "execute_result"
    }
   ],
   "source": [
    "df.columns, list(df.columns)"
   ]
  },
  {
   "cell_type": "markdown",
   "id": "1faec625-9d26-4c6f-bc01-825e32482ccf",
   "metadata": {},
   "source": [
    "### Index der Spalten anzeigen"
   ]
  },
  {
   "cell_type": "code",
   "execution_count": 7,
   "id": "84a43068-2b4c-48b9-b217-448a03289529",
   "metadata": {},
   "outputs": [
    {
     "data": {
      "text/plain": [
       "(RangeIndex(start=0, stop=3, step=1), RangeIndex(start=0, stop=3, step=1))"
      ]
     },
     "execution_count": 7,
     "metadata": {},
     "output_type": "execute_result"
    }
   ],
   "source": [
    "df.names.index, df.index"
   ]
  },
  {
   "cell_type": "markdown",
   "id": "fcfa6080",
   "metadata": {},
   "source": [
    "### Tail und Head\n",
    "mit den Funktionen Tail und Head lassen sich die ersten und letzten Einträge eines Dataframes anzeigen. Beide Funktionen erwarten optional die Anzahl der Einträge, die angezeigt werden sollen. Ohne Argument aufgerufen liegt der Defaultwert bei 10"
   ]
  },
  {
   "cell_type": "code",
   "execution_count": 19,
   "id": "8e6da6ca",
   "metadata": {},
   "outputs": [
    {
     "data": {
      "text/html": [
       "<div>\n",
       "<style scoped>\n",
       "    .dataframe tbody tr th:only-of-type {\n",
       "        vertical-align: middle;\n",
       "    }\n",
       "\n",
       "    .dataframe tbody tr th {\n",
       "        vertical-align: top;\n",
       "    }\n",
       "\n",
       "    .dataframe thead th {\n",
       "        text-align: right;\n",
       "    }\n",
       "</style>\n",
       "<table border=\"1\" class=\"dataframe\">\n",
       "  <thead>\n",
       "    <tr style=\"text-align: right;\">\n",
       "      <th></th>\n",
       "      <th>names</th>\n",
       "      <th>points</th>\n",
       "    </tr>\n",
       "  </thead>\n",
       "  <tbody>\n",
       "    <tr>\n",
       "      <th>1</th>\n",
       "      <td>Hermione</td>\n",
       "      <td>2</td>\n",
       "    </tr>\n",
       "    <tr>\n",
       "      <th>2</th>\n",
       "      <td>Harry</td>\n",
       "      <td>4</td>\n",
       "    </tr>\n",
       "  </tbody>\n",
       "</table>\n",
       "</div>"
      ],
      "text/plain": [
       "      names  points\n",
       "1  Hermione       2\n",
       "2     Harry       4"
      ]
     },
     "execution_count": 19,
     "metadata": {},
     "output_type": "execute_result"
    }
   ],
   "source": [
    "# Zeige die beiden leztten Einträge\n",
    "df.tail(2)"
   ]
  },
  {
   "cell_type": "code",
   "execution_count": 20,
   "id": "886273a1",
   "metadata": {},
   "outputs": [
    {
     "data": {
      "text/html": [
       "<div>\n",
       "<style scoped>\n",
       "    .dataframe tbody tr th:only-of-type {\n",
       "        vertical-align: middle;\n",
       "    }\n",
       "\n",
       "    .dataframe tbody tr th {\n",
       "        vertical-align: top;\n",
       "    }\n",
       "\n",
       "    .dataframe thead th {\n",
       "        text-align: right;\n",
       "    }\n",
       "</style>\n",
       "<table border=\"1\" class=\"dataframe\">\n",
       "  <thead>\n",
       "    <tr style=\"text-align: right;\">\n",
       "      <th></th>\n",
       "      <th>names</th>\n",
       "      <th>points</th>\n",
       "    </tr>\n",
       "  </thead>\n",
       "  <tbody>\n",
       "    <tr>\n",
       "      <th>0</th>\n",
       "      <td>Ron</td>\n",
       "      <td>3</td>\n",
       "    </tr>\n",
       "  </tbody>\n",
       "</table>\n",
       "</div>"
      ],
      "text/plain": [
       "  names  points\n",
       "0   Ron       3"
      ]
     },
     "execution_count": 20,
     "metadata": {},
     "output_type": "execute_result"
    }
   ],
   "source": [
    "# Zeige den ersten Eintrag\n",
    "df.head(1)"
   ]
  },
  {
   "cell_type": "code",
   "execution_count": 10,
   "id": "f6b18637-aa7b-42ae-b095-513af5d4c92e",
   "metadata": {},
   "outputs": [
    {
     "name": "stdout",
     "output_type": "stream",
     "text": [
      "<class 'pandas.core.frame.DataFrame'>\n",
      "RangeIndex: 3 entries, 0 to 2\n",
      "Data columns (total 2 columns):\n",
      " #   Column  Non-Null Count  Dtype \n",
      "---  ------  --------------  ----- \n",
      " 0   names   3 non-null      object\n",
      " 1   points  3 non-null      int8  \n",
      "dtypes: int8(1), object(1)\n",
      "memory usage: 159.0+ bytes\n"
     ]
    }
   ],
   "source": [
    "df.dtypes\n",
    "df[\"points\"] = df[\"points\"].astype(\"int8\")\n",
    "\n",
    "(\n",
    "    df\n",
    "    .assign(\n",
    "        points=df[\"points\"].astype(\"int8\"),\n",
    "    ) \n",
    ")\n",
    "df.info()"
   ]
  },
  {
   "cell_type": "markdown",
   "id": "98cf1c77",
   "metadata": {},
   "source": [
    "### Aufgabe \n",
    "Erstelle ein Dictionary colors, mit folgenden Key-Value Paaren:\n",
    "\n",
    "red: [3, 4, 2]     \n",
    "green: [3, 4, \"5\"]    \n",
    "blue: [2.2, 4.4, 1.1]\n",
    "\n",
    "Erstelle aus dem Dictionary einen DataFrame. Zeige den Datentyp jeder Spalte. Ändere den Datentyp für die Spalte red in int8.\n"
   ]
  },
  {
   "cell_type": "code",
   "execution_count": 39,
   "id": "c198ac83",
   "metadata": {},
   "outputs": [
    {
     "name": "stdout",
     "output_type": "stream",
     "text": [
      "Datentyp red:  int64\n",
      "Datentyp green:  object\n",
      "Datentyp blue:  float64\n",
      "Datentyp red:  int64\n"
     ]
    },
    {
     "data": {
      "text/plain": [
       "red        int64\n",
       "green       int8\n",
       "blue     float64\n",
       "dtype: object"
      ]
     },
     "execution_count": 39,
     "metadata": {},
     "output_type": "execute_result"
    }
   ],
   "source": [
    "colors = {\n",
    "    \"red\": [3, 4, 2],\n",
    "    \"green\": [3, 4, \"5\"],\n",
    "    \"blue\": [2.2, 4.4, 1.1]    \n",
    "}\n",
    "df = pd.DataFrame(colors)\n",
    "print(\"Datentyp red: \", df.red.dtype)\n",
    "print(\"Datentyp green: \", df.green.dtype)\n",
    "print(\"Datentyp blue: \", df.blue.dtype)\n",
    "\n",
    "df.green = df.green.astype(\"int8\")\n",
    "print(\"Datentyp red: \", df.red.dtype)\n",
    "df.dtypes"
   ]
  },
  {
   "cell_type": "code",
   "execution_count": null,
   "id": "0ff3938a",
   "metadata": {},
   "outputs": [],
   "source": []
  }
 ],
 "metadata": {
  "kernelspec": {
   "display_name": "Python 3 (ipykernel)",
   "language": "python",
   "name": "python3"
  },
  "language_info": {
   "codemirror_mode": {
    "name": "ipython",
    "version": 3
   },
   "file_extension": ".py",
   "mimetype": "text/x-python",
   "name": "python",
   "nbconvert_exporter": "python",
   "pygments_lexer": "ipython3",
   "version": "3.12.4"
  }
 },
 "nbformat": 4,
 "nbformat_minor": 5
}

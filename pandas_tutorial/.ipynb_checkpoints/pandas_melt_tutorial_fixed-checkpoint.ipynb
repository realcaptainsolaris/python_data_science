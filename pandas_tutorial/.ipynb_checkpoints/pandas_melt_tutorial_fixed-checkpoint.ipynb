{
 "cells": [
  {
   "cell_type": "markdown",
   "id": "75ae9029",
   "metadata": {},
   "source": [
    "# Pandas `melt()` – Von Grundlegend bis Mittelschwer\n",
    "\n",
    "Das `melt()`-Verfahren in Pandas wird verwendet, um breite Tabellen in lange Tabellen umzuwandeln. \n",
    "Es ist nützlich für Datenaufbereitung und Visualisierung.\n",
    "\n",
    "In diesem Notebook behandeln wir:\n",
    "- Ein einfaches Beispiel\n",
    "- Verwendung von `id_vars` und `value_vars`\n",
    "- Anwenden von `melt()` auf eine etwas komplexere Tabelle\n",
    "- Typische Anwendungsfälle\n"
   ]
  },
  {
   "cell_type": "markdown",
   "id": "8f46c62d",
   "metadata": {},
   "source": [
    "## 1. Einfaches Beispiel\n",
    "Wir haben eine breite Tabelle mit mehreren Jahren als Spalten und möchten sie in eine lange Form umwandeln."
   ]
  },
  {
   "cell_type": "code",
   "execution_count": null,
   "id": "80924771",
   "metadata": {},
   "outputs": [],
   "source": [
    "import pandas as pd\n",
    "\n",
    "# Erstellen eines DataFrames\n",
    "df = pd.DataFrame({\n",
    "    'Jahr': ['2020', '2021', '2022'],\n",
    "    'Produkt_A': [100, 150, 130],\n",
    "    'Produkt_B': [200, 220, 210]\n",
    "})\n",
    "\n",
    "print(\"Originaler DataFrame:\")\n",
    "display(df)\n",
    "\n",
    "# Anwendung von melt\n",
    "df_long = df.melt(id_vars=['Jahr'], var_name='Produkt', value_name='Verkauf')\n",
    "\n",
    "print(\"Langer DataFrame:\")\n",
    "display(df_long)\n"
   ]
  },
  {
   "cell_type": "markdown",
   "id": "db2a16d3",
   "metadata": {},
   "source": [
    "## 2. Mittelkomplexes Beispiel\n",
    "Hier arbeiten wir mit einer Tabelle, die mehrere ID-Spalten hat und `melt()` gezielt auf bestimmte Spalten anwenden soll."
   ]
  },
  {
   "cell_type": "code",
   "execution_count": null,
   "id": "586935db",
   "metadata": {},
   "outputs": [],
   "source": [
    "# Erstellen eines komplexeren DataFrames\n",
    "df2 = pd.DataFrame({\n",
    "    'Region': ['Nord', 'Süd', 'West'],\n",
    "    'Jahr': ['2020', '2021', '2022'],\n",
    "    'Produkt_A': [100, 150, 130],\n",
    "    'Produkt_B': [200, 220, 210],\n",
    "    'Produkt_C': [50, 60, 70]\n",
    "})\n",
    "\n",
    "print(\"Originaler komplexerer DataFrame:\")\n",
    "display(df2)\n",
    "\n",
    "# Anwendung von melt auf bestimmte Spalten\n",
    "df2_long = df2.melt(id_vars=['Region', 'Jahr'], var_name='Produkt', value_name='Verkauf')\n",
    "\n",
    "print(\"Langer DataFrame mit mehreren ID-Spalten:\")\n",
    "display(df2_long)\n"
   ]
  },
  {
   "cell_type": "markdown",
   "id": "74e98f75",
   "metadata": {},
   "source": [
    "## Fazit\n",
    "- `melt()` hilft, Daten von einer breiten in eine lange Form zu überführen.\n",
    "- Mit `id_vars` behalten wir bestimmte Spalten bei, während `value_vars` definiert, welche Spalten geschmolzen werden.\n",
    "- Dies ist nützlich für Analysen und Visualisierung.\n"
   ]
  }
 ],
 "metadata": {},
 "nbformat": 4,
 "nbformat_minor": 5
}

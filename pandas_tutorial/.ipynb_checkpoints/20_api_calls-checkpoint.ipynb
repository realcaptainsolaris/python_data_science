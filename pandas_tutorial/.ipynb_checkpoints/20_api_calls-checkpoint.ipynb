{
 "cells": [
  {
   "cell_type": "markdown",
   "id": "ee8375a2",
   "metadata": {},
   "source": [
    "# Eine API mit Pandas ansprechen\n",
    "\n",
    "Um API-Endpunkte mit Pandas auszulesen, wird die `requests`- Bibiliothek benötigt. Das muss mit pip installiert werden. Mit dieser Bibliothek können komfortabel Web-Requests durchgeführt werden.\n",
    "    \n",
    "    pip install requests\n",
    "\n",
    "Im folgenden Beispiel wollen wir die `Aviationapi` ansprechen, die uns Informationen zu Flughäfen gibt. Bei der `Aviationapi` handelt es sich um eine frei zugängliche API, für die kein Authentifizierungskey benötigt wird. Das vereinfacht die Arbeit für uns im Tutorial.\n",
    "\n",
    "mehr dazu: https://docs.aviationapi.com\n",
    "\n",
    "https://api.aviationapi.com/v1/airports?apt=FFM,AVL,NEW"
   ]
  },
  {
   "cell_type": "code",
   "execution_count": 1,
   "id": "a773aa20",
   "metadata": {},
   "outputs": [],
   "source": [
    "import pandas as pd\n",
    "import requests"
   ]
  },
  {
   "cell_type": "markdown",
   "id": "ce64de8b",
   "metadata": {},
   "source": [
    "## URL festlegen\n",
    "wir werden hier im Tutorial nur eine Funktion der API ansprechen, nämlich die Funktion `airports`. "
   ]
  },
  {
   "cell_type": "code",
   "execution_count": 2,
   "id": "0311a214",
   "metadata": {},
   "outputs": [],
   "source": [
    "API_URL = 'https://api.aviationapi.com/v1/'\n",
    "API_METHOD = 'airports?apt='"
   ]
  },
  {
   "cell_type": "markdown",
   "id": "6f4066a9",
   "metadata": {},
   "source": [
    "## URL anfragen\n",
    "wir wollen die drei Flughäfen FFM, AVL und NEW anfragen"
   ]
  },
  {
   "cell_type": "code",
   "execution_count": 3,
   "id": "7d3279a8",
   "metadata": {},
   "outputs": [
    {
     "data": {
      "text/plain": [
       "<Response [200]>"
      ]
     },
     "execution_count": 3,
     "metadata": {},
     "output_type": "execute_result"
    }
   ],
   "source": [
    "airports = [\"FFM\",\"AVL\",\"NEW\"]\n",
    "API_AIPORTS_URL = \"\".join([API_URL, API_METHOD, \",\".join(airports)])\n",
    "\n",
    "# GET Request auf den Server\n",
    "result = requests.get(API_AIPORTS_URL)\n",
    "\n",
    "# Rückgabewert muss <Response [200]> sein. 200 ist Status OK\n",
    "result"
   ]
  },
  {
   "cell_type": "markdown",
   "id": "1f202c4f",
   "metadata": {},
   "source": [
    "## Antwort auswerten\n",
    "Wir haben jetzt ein Response-Objekt zurückbekommen, dass wir untersuchen können"
   ]
  },
  {
   "cell_type": "code",
   "execution_count": 4,
   "id": "08933dd8",
   "metadata": {},
   "outputs": [
    {
     "data": {
      "text/plain": [
       "{'_content': b'{\"FFM\":[{\"site_number\":\"10692.*A\",\"type\":\"AIRPORT\",\"facility_name\":\"FERGUS FALLS MUNI-EINAR MICKELSON FLD\",\"faa_ident\":\"FFM\",\"icao_ident\":\"KFFM\",\"region\":\"AGL\",\"district_office\":\"DMA\",\"state\":\"MN\",\"state_full\":\"MINNESOTA\",\"county\":\"OTTER TAIL\",\"city\":\"FERGUS FALLS\",\"ownership\":\"PU\",\"use\":\"PU\",\"manager\":\"SKY CREW SERVICES\",\"manager_phone\":\"218-739-3733\",\"latitude\":\"46-17-03.8000N\",\"latitude_sec\":\"166623.8000N\",\"longitude\":\"096-09-24.1000W\",\"longitude_sec\":\"346164.1000W\",\"elevation\":\"1182\",\"magnetic_variation\":\"05E\",\"tpa\":\"\",\"vfr_sectional\":\"TWIN CITIES\",\"boundary_artcc\":\"ZMP\",\"boundary_artcc_name\":\"MINNEAPOLIS\",\"responsible_artcc\":\"ZMP\",\"responsible_artcc_name\":\"MINNEAPOLIS\",\"fss_phone_number\":\"\",\"fss_phone_numer_tollfree\":\"1-800-WX-BRIEF\",\"notam_facility_ident\":\"FFM\",\"status\":\"O\",\"certification_typedate\":\"\",\"customs_airport_of_entry\":\"N\",\"military_joint_use\":\"N\",\"military_landing\":\"Y\",\"lighting_schedule\":\"SEE RMK\",\"beacon_schedule\":\"SS-SR\",\"control_tower\":\"N\",\"unicom\":\"122.800\",\"ctaf\":\"122.800\",\"effective_date\":\"11\\\\/04\\\\/2021\"}],\"AVL\":[{\"site_number\":\"16517.5*A\",\"type\":\"AIRPORT\",\"facility_name\":\"ASHEVILLE RGNL\",\"faa_ident\":\"AVL\",\"icao_ident\":\"KAVL\",\"region\":\"ASO\",\"district_office\":\"MEM\",\"state\":\"NC\",\"state_full\":\"NORTH CAROLINA\",\"county\":\"BUNCOMBE\",\"city\":\"ASHEVILLE\",\"ownership\":\"PU\",\"use\":\"PU\",\"manager\":\"LEW S. BLEIWEIS, A.A.E.\",\"manager_phone\":\"828-654-3243\",\"latitude\":\"35-26-09.9980N\",\"latitude_sec\":\"127569.9980N\",\"longitude\":\"082-32-31.3700W\",\"longitude_sec\":\"297151.3700W\",\"elevation\":\"2164\",\"magnetic_variation\":\"07W\",\"tpa\":\"\",\"vfr_sectional\":\"ATLANTA\",\"boundary_artcc\":\"ZTL\",\"boundary_artcc_name\":\"ATLANTA\",\"responsible_artcc\":\"ZTL\",\"responsible_artcc_name\":\"ATLANTA\",\"fss_phone_number\":\"\",\"fss_phone_numer_tollfree\":\"1-800-WX-BRIEF\",\"notam_facility_ident\":\"AVL\",\"status\":\"O\",\"certification_typedate\":\"I B S 05\\\\/1973\",\"customs_airport_of_entry\":\"N\",\"military_joint_use\":\"N\",\"military_landing\":\"Y\",\"lighting_schedule\":\"SEE RMK\",\"beacon_schedule\":\"SS-SR\",\"control_tower\":\"Y\",\"unicom\":\"122.950\",\"ctaf\":\"121.100\",\"effective_date\":\"11\\\\/04\\\\/2021\"}],\"NEW\":[{\"site_number\":\"07676.*A\",\"type\":\"AIRPORT\",\"facility_name\":\"LAKEFRONT\",\"faa_ident\":\"NEW\",\"icao_ident\":\"KNEW\",\"region\":\"ASW\",\"district_office\":\"LNM\",\"state\":\"LA\",\"state_full\":\"LOUISIANA\",\"county\":\"ORLEANS\",\"city\":\"NEW ORLEANS\",\"ownership\":\"PU\",\"use\":\"PU\",\"manager\":\"BRUCE MARTIN\",\"manager_phone\":\"504-874-0498\",\"latitude\":\"30-02-32.7000N\",\"latitude_sec\":\"108152.7000N\",\"longitude\":\"090-01-41.7000W\",\"longitude_sec\":\"324101.7000W\",\"elevation\":\"7\",\"magnetic_variation\":\"02E\",\"tpa\":\"\",\"vfr_sectional\":\"NEW ORLEANS\",\"boundary_artcc\":\"ZHU\",\"boundary_artcc_name\":\"HOUSTON\",\"responsible_artcc\":\"ZHU\",\"responsible_artcc_name\":\"HOUSTON\",\"fss_phone_number\":\"\",\"fss_phone_numer_tollfree\":\"1-800-WX-BRIEF\",\"notam_facility_ident\":\"NEW\",\"status\":\"O\",\"certification_typedate\":\"\",\"customs_airport_of_entry\":\"N\",\"military_joint_use\":\"N\",\"military_landing\":\"Y\",\"lighting_schedule\":\"SEE RMK\",\"beacon_schedule\":\"SEE RMK\",\"control_tower\":\"Y\",\"unicom\":\"\",\"ctaf\":\"118.950\",\"effective_date\":\"11\\\\/04\\\\/2021\"}]}',\n",
       " '_content_consumed': True,\n",
       " '_next': None,\n",
       " 'status_code': 200,\n",
       " 'headers': {'Date': 'Mon, 17 Feb 2025 21:06:00 GMT', 'Content-Type': 'application/json', 'Transfer-Encoding': 'chunked', 'Connection': 'keep-alive', 'Cache-Control': 'no-cache, private, max-age=172800', 'x-ratelimit-limit': '60', 'x-ratelimit-remaining': '59', 'expires': 'Wed, 19 Feb 2025 21:06:00 GMT', 'vary': 'User-Agent', 'cf-cache-status': 'DYNAMIC', 'Report-To': '{\"endpoints\":[{\"url\":\"https:\\\\/\\\\/a.nel.cloudflare.com\\\\/report\\\\/v4?s=byyrnKkmUqLBgvFHnwl5e5ZK1crtYv4xEd22G46k5xt9%2FGjBpzBwcO2WIVroUxQm7svKXe9MFOQuhBJIE7bgfqOafoR%2BSihsFKAbsL6hNy7THwYJPoa6MVtHljbjMk8UdtsAfQuQQxoCLHSPyJDEWtWd\"}],\"group\":\"cf-nel\",\"max_age\":604800}', 'NEL': '{\"success_fraction\":0,\"report_to\":\"cf-nel\",\"max_age\":604800}', 'Server': 'cloudflare', 'CF-RAY': '9138bd219c342c21-FRA', 'Content-Encoding': 'gzip', 'alt-svc': 'h3=\":443\"; ma=86400', 'server-timing': 'cfL4;desc=\"?proto=TCP&rtt=22762&min_rtt=22737&rtt_var=8577&sent=5&recv=6&lost=0&retrans=0&sent_bytes=2853&recv_bytes=796&delivery_rate=176270&cwnd=253&unsent_bytes=0&cid=d535337107335ade&ts=405&x=0\"'},\n",
       " 'raw': <urllib3.response.HTTPResponse at 0x7c6e957de710>,\n",
       " 'url': 'https://api.aviationapi.com/v1/airports?apt=FFM,AVL,NEW',\n",
       " 'encoding': 'utf-8',\n",
       " 'history': [],\n",
       " 'reason': 'OK',\n",
       " 'cookies': <RequestsCookieJar[]>,\n",
       " 'elapsed': datetime.timedelta(microseconds=488911),\n",
       " 'request': <PreparedRequest [GET]>,\n",
       " 'connection': <requests.adapters.HTTPAdapter at 0x7c6e943d0c20>}"
      ]
     },
     "execution_count": 4,
     "metadata": {},
     "output_type": "execute_result"
    }
   ],
   "source": [
    "result.__dict__"
   ]
  },
  {
   "cell_type": "markdown",
   "id": "e86845d0",
   "metadata": {},
   "source": [
    "## Daten aus der Antwort extrahieren\n",
    "wir müssen jetzt die JSON-Daten aus der Antwort extrahieren. Das geht einfach mit der Methonde `json` auf das Response-Objekt. wenn wir uns das `json_data`- Objekt ausgeben lassen, sehen wir, dass es sich um ein Dictionary handelt, dessen Keys die Flughafen-shortcuts sind, die wir übergeben haben."
   ]
  },
  {
   "cell_type": "code",
   "execution_count": 5,
   "id": "07825d0b",
   "metadata": {},
   "outputs": [
    {
     "data": {
      "text/plain": [
       "{'FFM': [{'site_number': '10692.*A',\n",
       "   'type': 'AIRPORT',\n",
       "   'facility_name': 'FERGUS FALLS MUNI-EINAR MICKELSON FLD',\n",
       "   'faa_ident': 'FFM',\n",
       "   'icao_ident': 'KFFM',\n",
       "   'region': 'AGL',\n",
       "   'district_office': 'DMA',\n",
       "   'state': 'MN',\n",
       "   'state_full': 'MINNESOTA',\n",
       "   'county': 'OTTER TAIL',\n",
       "   'city': 'FERGUS FALLS',\n",
       "   'ownership': 'PU',\n",
       "   'use': 'PU',\n",
       "   'manager': 'SKY CREW SERVICES',\n",
       "   'manager_phone': '218-739-3733',\n",
       "   'latitude': '46-17-03.8000N',\n",
       "   'latitude_sec': '166623.8000N',\n",
       "   'longitude': '096-09-24.1000W',\n",
       "   'longitude_sec': '346164.1000W',\n",
       "   'elevation': '1182',\n",
       "   'magnetic_variation': '05E',\n",
       "   'tpa': '',\n",
       "   'vfr_sectional': 'TWIN CITIES',\n",
       "   'boundary_artcc': 'ZMP',\n",
       "   'boundary_artcc_name': 'MINNEAPOLIS',\n",
       "   'responsible_artcc': 'ZMP',\n",
       "   'responsible_artcc_name': 'MINNEAPOLIS',\n",
       "   'fss_phone_number': '',\n",
       "   'fss_phone_numer_tollfree': '1-800-WX-BRIEF',\n",
       "   'notam_facility_ident': 'FFM',\n",
       "   'status': 'O',\n",
       "   'certification_typedate': '',\n",
       "   'customs_airport_of_entry': 'N',\n",
       "   'military_joint_use': 'N',\n",
       "   'military_landing': 'Y',\n",
       "   'lighting_schedule': 'SEE RMK',\n",
       "   'beacon_schedule': 'SS-SR',\n",
       "   'control_tower': 'N',\n",
       "   'unicom': '122.800',\n",
       "   'ctaf': '122.800',\n",
       "   'effective_date': '11/04/2021'}],\n",
       " 'AVL': [{'site_number': '16517.5*A',\n",
       "   'type': 'AIRPORT',\n",
       "   'facility_name': 'ASHEVILLE RGNL',\n",
       "   'faa_ident': 'AVL',\n",
       "   'icao_ident': 'KAVL',\n",
       "   'region': 'ASO',\n",
       "   'district_office': 'MEM',\n",
       "   'state': 'NC',\n",
       "   'state_full': 'NORTH CAROLINA',\n",
       "   'county': 'BUNCOMBE',\n",
       "   'city': 'ASHEVILLE',\n",
       "   'ownership': 'PU',\n",
       "   'use': 'PU',\n",
       "   'manager': 'LEW S. BLEIWEIS, A.A.E.',\n",
       "   'manager_phone': '828-654-3243',\n",
       "   'latitude': '35-26-09.9980N',\n",
       "   'latitude_sec': '127569.9980N',\n",
       "   'longitude': '082-32-31.3700W',\n",
       "   'longitude_sec': '297151.3700W',\n",
       "   'elevation': '2164',\n",
       "   'magnetic_variation': '07W',\n",
       "   'tpa': '',\n",
       "   'vfr_sectional': 'ATLANTA',\n",
       "   'boundary_artcc': 'ZTL',\n",
       "   'boundary_artcc_name': 'ATLANTA',\n",
       "   'responsible_artcc': 'ZTL',\n",
       "   'responsible_artcc_name': 'ATLANTA',\n",
       "   'fss_phone_number': '',\n",
       "   'fss_phone_numer_tollfree': '1-800-WX-BRIEF',\n",
       "   'notam_facility_ident': 'AVL',\n",
       "   'status': 'O',\n",
       "   'certification_typedate': 'I B S 05/1973',\n",
       "   'customs_airport_of_entry': 'N',\n",
       "   'military_joint_use': 'N',\n",
       "   'military_landing': 'Y',\n",
       "   'lighting_schedule': 'SEE RMK',\n",
       "   'beacon_schedule': 'SS-SR',\n",
       "   'control_tower': 'Y',\n",
       "   'unicom': '122.950',\n",
       "   'ctaf': '121.100',\n",
       "   'effective_date': '11/04/2021'}],\n",
       " 'NEW': [{'site_number': '07676.*A',\n",
       "   'type': 'AIRPORT',\n",
       "   'facility_name': 'LAKEFRONT',\n",
       "   'faa_ident': 'NEW',\n",
       "   'icao_ident': 'KNEW',\n",
       "   'region': 'ASW',\n",
       "   'district_office': 'LNM',\n",
       "   'state': 'LA',\n",
       "   'state_full': 'LOUISIANA',\n",
       "   'county': 'ORLEANS',\n",
       "   'city': 'NEW ORLEANS',\n",
       "   'ownership': 'PU',\n",
       "   'use': 'PU',\n",
       "   'manager': 'BRUCE MARTIN',\n",
       "   'manager_phone': '504-874-0498',\n",
       "   'latitude': '30-02-32.7000N',\n",
       "   'latitude_sec': '108152.7000N',\n",
       "   'longitude': '090-01-41.7000W',\n",
       "   'longitude_sec': '324101.7000W',\n",
       "   'elevation': '7',\n",
       "   'magnetic_variation': '02E',\n",
       "   'tpa': '',\n",
       "   'vfr_sectional': 'NEW ORLEANS',\n",
       "   'boundary_artcc': 'ZHU',\n",
       "   'boundary_artcc_name': 'HOUSTON',\n",
       "   'responsible_artcc': 'ZHU',\n",
       "   'responsible_artcc_name': 'HOUSTON',\n",
       "   'fss_phone_number': '',\n",
       "   'fss_phone_numer_tollfree': '1-800-WX-BRIEF',\n",
       "   'notam_facility_ident': 'NEW',\n",
       "   'status': 'O',\n",
       "   'certification_typedate': '',\n",
       "   'customs_airport_of_entry': 'N',\n",
       "   'military_joint_use': 'N',\n",
       "   'military_landing': 'Y',\n",
       "   'lighting_schedule': 'SEE RMK',\n",
       "   'beacon_schedule': 'SEE RMK',\n",
       "   'control_tower': 'Y',\n",
       "   'unicom': '',\n",
       "   'ctaf': '118.950',\n",
       "   'effective_date': '11/04/2021'}]}"
      ]
     },
     "execution_count": 5,
     "metadata": {},
     "output_type": "execute_result"
    }
   ],
   "source": [
    "json_data = result.json()\n",
    "json_data"
   ]
  },
  {
   "cell_type": "markdown",
   "id": "d79c8dac",
   "metadata": {},
   "source": [
    "## Daten umwandeln in ein Dataframe"
   ]
  },
  {
   "cell_type": "code",
   "execution_count": 6,
   "id": "32055c16",
   "metadata": {},
   "outputs": [
    {
     "data": {
      "text/html": [
       "<div>\n",
       "<style scoped>\n",
       "    .dataframe tbody tr th:only-of-type {\n",
       "        vertical-align: middle;\n",
       "    }\n",
       "\n",
       "    .dataframe tbody tr th {\n",
       "        vertical-align: top;\n",
       "    }\n",
       "\n",
       "    .dataframe thead th {\n",
       "        text-align: right;\n",
       "    }\n",
       "</style>\n",
       "<table border=\"1\" class=\"dataframe\">\n",
       "  <thead>\n",
       "    <tr style=\"text-align: right;\">\n",
       "      <th></th>\n",
       "      <th>site_number</th>\n",
       "      <th>faa_ident</th>\n",
       "      <th>state</th>\n",
       "      <th>type</th>\n",
       "      <th>manager</th>\n",
       "      <th>manager_phone</th>\n",
       "    </tr>\n",
       "  </thead>\n",
       "  <tbody>\n",
       "    <tr>\n",
       "      <th>0</th>\n",
       "      <td>10692.*A</td>\n",
       "      <td>FFM</td>\n",
       "      <td>MN</td>\n",
       "      <td>AIRPORT</td>\n",
       "      <td>SKY CREW SERVICES</td>\n",
       "      <td>218-739-3733</td>\n",
       "    </tr>\n",
       "    <tr>\n",
       "      <th>1</th>\n",
       "      <td>16517.5*A</td>\n",
       "      <td>AVL</td>\n",
       "      <td>NC</td>\n",
       "      <td>AIRPORT</td>\n",
       "      <td>LEW S. BLEIWEIS, A.A.E.</td>\n",
       "      <td>828-654-3243</td>\n",
       "    </tr>\n",
       "    <tr>\n",
       "      <th>2</th>\n",
       "      <td>07676.*A</td>\n",
       "      <td>NEW</td>\n",
       "      <td>LA</td>\n",
       "      <td>AIRPORT</td>\n",
       "      <td>BRUCE MARTIN</td>\n",
       "      <td>504-874-0498</td>\n",
       "    </tr>\n",
       "  </tbody>\n",
       "</table>\n",
       "</div>"
      ],
      "text/plain": [
       "  site_number faa_ident state     type                  manager manager_phone\n",
       "0    10692.*A       FFM    MN  AIRPORT        SKY CREW SERVICES  218-739-3733\n",
       "1   16517.5*A       AVL    NC  AIRPORT  LEW S. BLEIWEIS, A.A.E.  828-654-3243\n",
       "2    07676.*A       NEW    LA  AIRPORT             BRUCE MARTIN  504-874-0498"
      ]
     },
     "execution_count": 6,
     "metadata": {},
     "output_type": "execute_result"
    }
   ],
   "source": [
    "airports_list = [json_data[key][0] for key in airports ]\n",
    "df = pd.DataFrame(airports_list, columns=[\"site_number\", \"faa_ident\", \"state\", \"type\", \"manager\", \"manager_phone\"])\n",
    "df"
   ]
  }
 ],
 "metadata": {
  "kernelspec": {
   "display_name": "Python 3 (ipykernel)",
   "language": "python",
   "name": "python3"
  },
  "language_info": {
   "codemirror_mode": {
    "name": "ipython",
    "version": 3
   },
   "file_extension": ".py",
   "mimetype": "text/x-python",
   "name": "python",
   "nbconvert_exporter": "python",
   "pygments_lexer": "ipython3",
   "version": "3.12.4"
  }
 },
 "nbformat": 4,
 "nbformat_minor": 5
}

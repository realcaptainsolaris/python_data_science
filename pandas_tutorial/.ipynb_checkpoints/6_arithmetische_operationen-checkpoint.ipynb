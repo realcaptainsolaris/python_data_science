{
 "cells": [
  {
   "cell_type": "code",
   "execution_count": 2,
   "id": "b3de51e8",
   "metadata": {},
   "outputs": [],
   "source": [
    "import numpy as np\n",
    "import pandas as pd\n",
    "import matplotlib.pyplot as plt\n",
    "\n",
    "np.random.seed(42)"
   ]
  },
  {
   "cell_type": "code",
   "execution_count": null,
   "id": "4b51be99-29c7-4f91-8c90-2f79fe316b64",
   "metadata": {},
   "outputs": [],
   "source": []
  },
  {
   "cell_type": "markdown",
   "id": "8e47e196",
   "metadata": {},
   "source": [
    "# Arithmetische Funktionen\n",
    "\n",
    "| Python Operator  | Pandas Funktion  | Beispiel       |\n",
    "|------------------|------------------|----------------|\n",
    "| +                | add()            | M.add(N)       |\n",
    "| -                | sub()            | M.sub(N)       |\n",
    "| *                | mul()            | M.mul(3)       |\n",
    "| /                | div()            | M.div(N)       |\n",
    "| //               | floordiv()       | M.floordiv(N)  |\n",
    "| %                | mod()            | M.mod(N)       |\n",
    "| **               | pow()            | M.pow(N)       |\n",
    "\n",
    "This should now display correctly."
   ]
  },
  {
   "cell_type": "code",
   "execution_count": 42,
   "id": "08bf6a07",
   "metadata": {},
   "outputs": [
    {
     "data": {
      "text/html": [
       "<div>\n",
       "<style scoped>\n",
       "    .dataframe tbody tr th:only-of-type {\n",
       "        vertical-align: middle;\n",
       "    }\n",
       "\n",
       "    .dataframe tbody tr th {\n",
       "        vertical-align: top;\n",
       "    }\n",
       "\n",
       "    .dataframe thead th {\n",
       "        text-align: right;\n",
       "    }\n",
       "</style>\n",
       "<table border=\"1\" class=\"dataframe\">\n",
       "  <thead>\n",
       "    <tr style=\"text-align: right;\">\n",
       "      <th></th>\n",
       "      <th>a</th>\n",
       "      <th>b</th>\n",
       "      <th>c</th>\n",
       "    </tr>\n",
       "  </thead>\n",
       "  <tbody>\n",
       "    <tr>\n",
       "      <th>0</th>\n",
       "      <td>1</td>\n",
       "      <td>4</td>\n",
       "      <td>13</td>\n",
       "    </tr>\n",
       "    <tr>\n",
       "      <th>1</th>\n",
       "      <td>2</td>\n",
       "      <td>5</td>\n",
       "      <td>14</td>\n",
       "    </tr>\n",
       "    <tr>\n",
       "      <th>2</th>\n",
       "      <td>3</td>\n",
       "      <td>6</td>\n",
       "      <td>17</td>\n",
       "    </tr>\n",
       "  </tbody>\n",
       "</table>\n",
       "</div>"
      ],
      "text/plain": [
       "   a  b   c\n",
       "0  1  4  13\n",
       "1  2  5  14\n",
       "2  3  6  17"
      ]
     },
     "metadata": {},
     "output_type": "display_data"
    },
    {
     "data": {
      "text/html": [
       "<div>\n",
       "<style scoped>\n",
       "    .dataframe tbody tr th:only-of-type {\n",
       "        vertical-align: middle;\n",
       "    }\n",
       "\n",
       "    .dataframe tbody tr th {\n",
       "        vertical-align: top;\n",
       "    }\n",
       "\n",
       "    .dataframe thead th {\n",
       "        text-align: right;\n",
       "    }\n",
       "</style>\n",
       "<table border=\"1\" class=\"dataframe\">\n",
       "  <thead>\n",
       "    <tr style=\"text-align: right;\">\n",
       "      <th></th>\n",
       "      <th>a</th>\n",
       "      <th>b</th>\n",
       "    </tr>\n",
       "  </thead>\n",
       "  <tbody>\n",
       "    <tr>\n",
       "      <th>0</th>\n",
       "      <td>3</td>\n",
       "      <td>3</td>\n",
       "    </tr>\n",
       "    <tr>\n",
       "      <th>1</th>\n",
       "      <td>3</td>\n",
       "      <td>4</td>\n",
       "    </tr>\n",
       "  </tbody>\n",
       "</table>\n",
       "</div>"
      ],
      "text/plain": [
       "   a  b\n",
       "0  3  3\n",
       "1  3  4"
      ]
     },
     "metadata": {},
     "output_type": "display_data"
    }
   ],
   "source": [
    "c = {\n",
    "    \"a\": [3, 3],\n",
    "    \"b\": [3, 4],\n",
    "}\n",
    "\n",
    "d = {\n",
    "    \"a\": [1, 2, 3],\n",
    "    \"b\": [4, 5, 6],\n",
    "    \"c\": [13, 14, 17],\n",
    "}\n",
    "M = pd.DataFrame(c)\n",
    "N = pd.DataFrame(d)\n",
    "\n",
    "display(N)\n",
    "display(M)"
   ]
  },
  {
   "cell_type": "markdown",
   "id": "b0aac89c",
   "metadata": {},
   "source": [
    "## Addition von zwei Dataframes\n",
    "Falls die DataFrames nicht die gleiche Spalten/Zeilenanzahl haben, ergeben sich hier NaN-Werte. Man kann beim Addieren dem entgegenwirken, indem man `fill_value` auf 0 setzt. In diesem Fall ist der Datentyp der Ergebnisspalten ein Float (NAN ist ein Floatwert)"
   ]
  },
  {
   "cell_type": "code",
   "execution_count": 34,
   "id": "328acb9b",
   "metadata": {},
   "outputs": [
    {
     "name": "stdout",
     "output_type": "stream",
     "text": [
      "<class 'pandas.core.frame.DataFrame'>\n",
      "Index: 3 entries, 0 to 2\n",
      "Data columns (total 3 columns):\n",
      " #   Column  Non-Null Count  Dtype  \n",
      "---  ------  --------------  -----  \n",
      " 0   a       3 non-null      float64\n",
      " 1   b       3 non-null      float64\n",
      " 2   c       3 non-null      float64\n",
      "dtypes: float64(3)\n",
      "memory usage: 96.0 bytes\n"
     ]
    },
    {
     "data": {
      "text/plain": [
       "(     a    b     c\n",
       " 0  4.0  7.0  13.0\n",
       " 1  5.0  9.0  14.0\n",
       " 2  3.0  6.0  17.0,\n",
       " None,\n",
       "    a  b   c\n",
       " 0  4  7  13\n",
       " 1  5  9  14\n",
       " 2  3  6  17)"
      ]
     },
     "execution_count": 34,
     "metadata": {},
     "output_type": "execute_result"
    }
   ],
   "source": [
    "# Addition (die additive Eigenschaft auf 0 setzen, um NAN-Werte zu vermeiden). \n",
    "Z = M.add(N, fill_value=0)\n",
    "Z, Z.info(), Z.astype(\"int8\")"
   ]
  },
  {
   "cell_type": "code",
   "execution_count": 40,
   "id": "17e3ed74-0a45-49fa-a15c-7619abbab783",
   "metadata": {},
   "outputs": [
    {
     "data": {
      "text/html": [
       "<div>\n",
       "<style scoped>\n",
       "    .dataframe tbody tr th:only-of-type {\n",
       "        vertical-align: middle;\n",
       "    }\n",
       "\n",
       "    .dataframe tbody tr th {\n",
       "        vertical-align: top;\n",
       "    }\n",
       "\n",
       "    .dataframe thead th {\n",
       "        text-align: right;\n",
       "    }\n",
       "</style>\n",
       "<table border=\"1\" class=\"dataframe\">\n",
       "  <thead>\n",
       "    <tr style=\"text-align: right;\">\n",
       "      <th></th>\n",
       "      <th>a</th>\n",
       "      <th>b</th>\n",
       "    </tr>\n",
       "  </thead>\n",
       "  <tbody>\n",
       "    <tr>\n",
       "      <th>0</th>\n",
       "      <td>6</td>\n",
       "      <td>6</td>\n",
       "    </tr>\n",
       "    <tr>\n",
       "      <th>1</th>\n",
       "      <td>6</td>\n",
       "      <td>8</td>\n",
       "    </tr>\n",
       "  </tbody>\n",
       "</table>\n",
       "</div>"
      ],
      "text/plain": [
       "   a  b\n",
       "0  6  6\n",
       "1  6  8"
      ]
     },
     "execution_count": 40,
     "metadata": {},
     "output_type": "execute_result"
    }
   ],
   "source": [
    "# Dataframes gleicher Dimension erzeugen Ausgangsdatentyp\n",
    "P = pd.DataFrame(c)\n",
    "Q = pd.DataFrame(c)\n",
    "Z = P.add(Q)\n",
    "Z"
   ]
  },
  {
   "cell_type": "markdown",
   "id": "49d04a1b",
   "metadata": {},
   "source": [
    "### Addition von Spaltenwerten\n",
    "im Beispiel rechne wir 3 + 3 + 9. Auf die Series lassen sich wieder die arith. Numpy-Funktionen ausführen."
   ]
  },
  {
   "cell_type": "code",
   "execution_count": 41,
   "id": "94521ff6",
   "metadata": {},
   "outputs": [
    {
     "data": {
      "text/plain": [
       "np.int64(6)"
      ]
     },
     "execution_count": 41,
     "metadata": {},
     "output_type": "execute_result"
    }
   ],
   "source": [
    "N.a.sum()"
   ]
  },
  {
   "cell_type": "markdown",
   "id": "f5d59b48",
   "metadata": {},
   "source": [
    "## Subtraktion von zwei DataFrames\n",
    "Es wird elementweise abgezogen. Falls die Dataframes nicht das gleiche Shape haben, ergeben sich wieder NaN-Werte."
   ]
  },
  {
   "cell_type": "code",
   "execution_count": 43,
   "id": "65b398a0",
   "metadata": {},
   "outputs": [
    {
     "data": {
      "text/html": [
       "<div>\n",
       "<style scoped>\n",
       "    .dataframe tbody tr th:only-of-type {\n",
       "        vertical-align: middle;\n",
       "    }\n",
       "\n",
       "    .dataframe tbody tr th {\n",
       "        vertical-align: top;\n",
       "    }\n",
       "\n",
       "    .dataframe thead th {\n",
       "        text-align: right;\n",
       "    }\n",
       "</style>\n",
       "<table border=\"1\" class=\"dataframe\">\n",
       "  <thead>\n",
       "    <tr style=\"text-align: right;\">\n",
       "      <th></th>\n",
       "      <th>a</th>\n",
       "      <th>b</th>\n",
       "    </tr>\n",
       "  </thead>\n",
       "  <tbody>\n",
       "    <tr>\n",
       "      <th>0</th>\n",
       "      <td>0</td>\n",
       "      <td>0</td>\n",
       "    </tr>\n",
       "    <tr>\n",
       "      <th>1</th>\n",
       "      <td>0</td>\n",
       "      <td>0</td>\n",
       "    </tr>\n",
       "  </tbody>\n",
       "</table>\n",
       "</div>"
      ],
      "text/plain": [
       "   a  b\n",
       "0  0  0\n",
       "1  0  0"
      ]
     },
     "metadata": {},
     "output_type": "display_data"
    },
    {
     "data": {
      "text/html": [
       "<div>\n",
       "<style scoped>\n",
       "    .dataframe tbody tr th:only-of-type {\n",
       "        vertical-align: middle;\n",
       "    }\n",
       "\n",
       "    .dataframe tbody tr th {\n",
       "        vertical-align: top;\n",
       "    }\n",
       "\n",
       "    .dataframe thead th {\n",
       "        text-align: right;\n",
       "    }\n",
       "</style>\n",
       "<table border=\"1\" class=\"dataframe\">\n",
       "  <thead>\n",
       "    <tr style=\"text-align: right;\">\n",
       "      <th></th>\n",
       "      <th>a</th>\n",
       "      <th>b</th>\n",
       "      <th>c</th>\n",
       "    </tr>\n",
       "  </thead>\n",
       "  <tbody>\n",
       "    <tr>\n",
       "      <th>0</th>\n",
       "      <td>2.0</td>\n",
       "      <td>-1.0</td>\n",
       "      <td>-13.0</td>\n",
       "    </tr>\n",
       "    <tr>\n",
       "      <th>1</th>\n",
       "      <td>1.0</td>\n",
       "      <td>-1.0</td>\n",
       "      <td>-14.0</td>\n",
       "    </tr>\n",
       "    <tr>\n",
       "      <th>2</th>\n",
       "      <td>-3.0</td>\n",
       "      <td>-6.0</td>\n",
       "      <td>-17.0</td>\n",
       "    </tr>\n",
       "  </tbody>\n",
       "</table>\n",
       "</div>"
      ],
      "text/plain": [
       "     a    b     c\n",
       "0  2.0 -1.0 -13.0\n",
       "1  1.0 -1.0 -14.0\n",
       "2 -3.0 -6.0 -17.0"
      ]
     },
     "metadata": {},
     "output_type": "display_data"
    },
    {
     "data": {
      "text/plain": [
       "(None, None)"
      ]
     },
     "execution_count": 43,
     "metadata": {},
     "output_type": "execute_result"
    }
   ],
   "source": [
    "display(M.sub(M)), display(M.sub(N, fill_value=0))"
   ]
  },
  {
   "cell_type": "markdown",
   "id": "addeddb0",
   "metadata": {},
   "source": [
    "## Subtraktion von zwei Spalten"
   ]
  },
  {
   "cell_type": "code",
   "execution_count": 44,
   "id": "2b1d4393",
   "metadata": {},
   "outputs": [
    {
     "data": {
      "text/plain": [
       "0    0\n",
       "1   -1\n",
       "dtype: int64"
      ]
     },
     "execution_count": 44,
     "metadata": {},
     "output_type": "execute_result"
    }
   ],
   "source": [
    "M.a - M.b"
   ]
  },
  {
   "cell_type": "markdown",
   "id": "255d0d02",
   "metadata": {},
   "source": [
    "## Multiplikation \n",
    "Die Multiplikation findet elementweise sowie statt. "
   ]
  },
  {
   "cell_type": "code",
   "execution_count": 47,
   "id": "e4f05e31",
   "metadata": {},
   "outputs": [
    {
     "data": {
      "text/html": [
       "<div>\n",
       "<style scoped>\n",
       "    .dataframe tbody tr th:only-of-type {\n",
       "        vertical-align: middle;\n",
       "    }\n",
       "\n",
       "    .dataframe tbody tr th {\n",
       "        vertical-align: top;\n",
       "    }\n",
       "\n",
       "    .dataframe thead th {\n",
       "        text-align: right;\n",
       "    }\n",
       "</style>\n",
       "<table border=\"1\" class=\"dataframe\">\n",
       "  <thead>\n",
       "    <tr style=\"text-align: right;\">\n",
       "      <th></th>\n",
       "      <th>a</th>\n",
       "      <th>b</th>\n",
       "    </tr>\n",
       "  </thead>\n",
       "  <tbody>\n",
       "    <tr>\n",
       "      <th>0</th>\n",
       "      <td>9</td>\n",
       "      <td>9</td>\n",
       "    </tr>\n",
       "    <tr>\n",
       "      <th>1</th>\n",
       "      <td>9</td>\n",
       "      <td>16</td>\n",
       "    </tr>\n",
       "  </tbody>\n",
       "</table>\n",
       "</div>"
      ],
      "text/plain": [
       "   a   b\n",
       "0  9   9\n",
       "1  9  16"
      ]
     },
     "metadata": {},
     "output_type": "display_data"
    },
    {
     "data": {
      "text/html": [
       "<div>\n",
       "<style scoped>\n",
       "    .dataframe tbody tr th:only-of-type {\n",
       "        vertical-align: middle;\n",
       "    }\n",
       "\n",
       "    .dataframe tbody tr th {\n",
       "        vertical-align: top;\n",
       "    }\n",
       "\n",
       "    .dataframe thead th {\n",
       "        text-align: right;\n",
       "    }\n",
       "</style>\n",
       "<table border=\"1\" class=\"dataframe\">\n",
       "  <thead>\n",
       "    <tr style=\"text-align: right;\">\n",
       "      <th></th>\n",
       "      <th>a</th>\n",
       "      <th>b</th>\n",
       "    </tr>\n",
       "  </thead>\n",
       "  <tbody>\n",
       "    <tr>\n",
       "      <th>0</th>\n",
       "      <td>9</td>\n",
       "      <td>9</td>\n",
       "    </tr>\n",
       "    <tr>\n",
       "      <th>1</th>\n",
       "      <td>9</td>\n",
       "      <td>12</td>\n",
       "    </tr>\n",
       "  </tbody>\n",
       "</table>\n",
       "</div>"
      ],
      "text/plain": [
       "   a   b\n",
       "0  9   9\n",
       "1  9  12"
      ]
     },
     "metadata": {},
     "output_type": "display_data"
    },
    {
     "data": {
      "text/html": [
       "<div>\n",
       "<style scoped>\n",
       "    .dataframe tbody tr th:only-of-type {\n",
       "        vertical-align: middle;\n",
       "    }\n",
       "\n",
       "    .dataframe tbody tr th {\n",
       "        vertical-align: top;\n",
       "    }\n",
       "\n",
       "    .dataframe thead th {\n",
       "        text-align: right;\n",
       "    }\n",
       "</style>\n",
       "<table border=\"1\" class=\"dataframe\">\n",
       "  <thead>\n",
       "    <tr style=\"text-align: right;\">\n",
       "      <th></th>\n",
       "      <th>a</th>\n",
       "      <th>b</th>\n",
       "      <th>c</th>\n",
       "    </tr>\n",
       "  </thead>\n",
       "  <tbody>\n",
       "    <tr>\n",
       "      <th>0</th>\n",
       "      <td>3.0</td>\n",
       "      <td>12.0</td>\n",
       "      <td>13.0</td>\n",
       "    </tr>\n",
       "    <tr>\n",
       "      <th>1</th>\n",
       "      <td>6.0</td>\n",
       "      <td>20.0</td>\n",
       "      <td>14.0</td>\n",
       "    </tr>\n",
       "    <tr>\n",
       "      <th>2</th>\n",
       "      <td>3.0</td>\n",
       "      <td>6.0</td>\n",
       "      <td>17.0</td>\n",
       "    </tr>\n",
       "  </tbody>\n",
       "</table>\n",
       "</div>"
      ],
      "text/plain": [
       "     a     b     c\n",
       "0  3.0  12.0  13.0\n",
       "1  6.0  20.0  14.0\n",
       "2  3.0   6.0  17.0"
      ]
     },
     "metadata": {},
     "output_type": "display_data"
    }
   ],
   "source": [
    "display(M.mul(M))\n",
    "display(M.mul(3))\n",
    "display(M.mul(N, fill_value=1))"
   ]
  },
  {
   "cell_type": "code",
   "execution_count": 39,
   "id": "9288e34e",
   "metadata": {},
   "outputs": [
    {
     "data": {
      "text/html": [
       "<div>\n",
       "<style scoped>\n",
       "    .dataframe tbody tr th:only-of-type {\n",
       "        vertical-align: middle;\n",
       "    }\n",
       "\n",
       "    .dataframe tbody tr th {\n",
       "        vertical-align: top;\n",
       "    }\n",
       "\n",
       "    .dataframe thead th {\n",
       "        text-align: right;\n",
       "    }\n",
       "</style>\n",
       "<table border=\"1\" class=\"dataframe\">\n",
       "  <thead>\n",
       "    <tr style=\"text-align: right;\">\n",
       "      <th></th>\n",
       "      <th>a</th>\n",
       "      <th>b</th>\n",
       "    </tr>\n",
       "  </thead>\n",
       "  <tbody>\n",
       "    <tr>\n",
       "      <th>0</th>\n",
       "      <td>1.0</td>\n",
       "      <td>1.0</td>\n",
       "    </tr>\n",
       "    <tr>\n",
       "      <th>1</th>\n",
       "      <td>0.0</td>\n",
       "      <td>1.0</td>\n",
       "    </tr>\n",
       "    <tr>\n",
       "      <th>2</th>\n",
       "      <td>NaN</td>\n",
       "      <td>NaN</td>\n",
       "    </tr>\n",
       "  </tbody>\n",
       "</table>\n",
       "</div>"
      ],
      "text/plain": [
       "     a    b\n",
       "0  1.0  1.0\n",
       "1  0.0  1.0\n",
       "2  NaN  NaN"
      ]
     },
     "execution_count": 39,
     "metadata": {},
     "output_type": "execute_result"
    }
   ],
   "source": [
    "M.floordiv(N)"
   ]
  },
  {
   "cell_type": "code",
   "execution_count": 42,
   "id": "4f981c43",
   "metadata": {},
   "outputs": [
    {
     "data": {
      "text/html": [
       "<div>\n",
       "<style scoped>\n",
       "    .dataframe tbody tr th:only-of-type {\n",
       "        vertical-align: middle;\n",
       "    }\n",
       "\n",
       "    .dataframe tbody tr th {\n",
       "        vertical-align: top;\n",
       "    }\n",
       "\n",
       "    .dataframe thead th {\n",
       "        text-align: right;\n",
       "    }\n",
       "</style>\n",
       "<table border=\"1\" class=\"dataframe\">\n",
       "  <thead>\n",
       "    <tr style=\"text-align: right;\">\n",
       "      <th></th>\n",
       "      <th>a</th>\n",
       "      <th>b</th>\n",
       "    </tr>\n",
       "  </thead>\n",
       "  <tbody>\n",
       "    <tr>\n",
       "      <th>0</th>\n",
       "      <td>27.0</td>\n",
       "      <td>27.0</td>\n",
       "    </tr>\n",
       "    <tr>\n",
       "      <th>1</th>\n",
       "      <td>1594323.0</td>\n",
       "      <td>256.0</td>\n",
       "    </tr>\n",
       "    <tr>\n",
       "      <th>2</th>\n",
       "      <td>NaN</td>\n",
       "      <td>NaN</td>\n",
       "    </tr>\n",
       "  </tbody>\n",
       "</table>\n",
       "</div>"
      ],
      "text/plain": [
       "           a      b\n",
       "0       27.0   27.0\n",
       "1  1594323.0  256.0\n",
       "2        NaN    NaN"
      ]
     },
     "execution_count": 42,
     "metadata": {},
     "output_type": "execute_result"
    }
   ],
   "source": [
    "M.pow(N)"
   ]
  },
  {
   "cell_type": "code",
   "execution_count": 40,
   "id": "b91a5564",
   "metadata": {},
   "outputs": [
    {
     "data": {
      "text/html": [
       "<div>\n",
       "<style scoped>\n",
       "    .dataframe tbody tr th:only-of-type {\n",
       "        vertical-align: middle;\n",
       "    }\n",
       "\n",
       "    .dataframe tbody tr th {\n",
       "        vertical-align: top;\n",
       "    }\n",
       "\n",
       "    .dataframe thead th {\n",
       "        text-align: right;\n",
       "    }\n",
       "</style>\n",
       "<table border=\"1\" class=\"dataframe\">\n",
       "  <thead>\n",
       "    <tr style=\"text-align: right;\">\n",
       "      <th></th>\n",
       "      <th>a</th>\n",
       "      <th>b</th>\n",
       "    </tr>\n",
       "  </thead>\n",
       "  <tbody>\n",
       "    <tr>\n",
       "      <th>0</th>\n",
       "      <td>0.0</td>\n",
       "      <td>0.0</td>\n",
       "    </tr>\n",
       "    <tr>\n",
       "      <th>1</th>\n",
       "      <td>3.0</td>\n",
       "      <td>0.0</td>\n",
       "    </tr>\n",
       "    <tr>\n",
       "      <th>2</th>\n",
       "      <td>NaN</td>\n",
       "      <td>NaN</td>\n",
       "    </tr>\n",
       "  </tbody>\n",
       "</table>\n",
       "</div>"
      ],
      "text/plain": [
       "     a    b\n",
       "0  0.0  0.0\n",
       "1  3.0  0.0\n",
       "2  NaN  NaN"
      ]
     },
     "execution_count": 40,
     "metadata": {},
     "output_type": "execute_result"
    }
   ],
   "source": [
    "M.mod(N)"
   ]
  },
  {
   "cell_type": "markdown",
   "id": "e54b7a60-3a19-45f0-b6e5-6d148203a940",
   "metadata": {},
   "source": [
    "# Aufgabe Rohöl\n",
    "\n",
    "## Szenario:\n",
    "Ein Ölunternehmen überwacht die **Tagesproduktion von Rohöl** aus verschiedenen Förderanlagen. Die Produktion wird in **Barrel pro Tag (bbl/d)** gemessen.  \n",
    "Nun haben die Ingenieure neue Daten für eine **zweite Messreihe** erhalten. Deine Aufgabe ist es, die Messwerte zu kombinieren, Berechnungen durchzuführen und die Daten zu bereinigen.\n",
    "\n",
    "---\n",
    "\n",
    "### Gegeben ist ein Dataframe df\n",
    "- der die zwei Messreihen von Tagesdaten für die Ölquellen enthählt.\n",
    "- Die Spalten heißen: `\"Förderanlage\"`, `\"Produktion_1 (bbl/d)\"`, `\"Produktion_2 (bbl/d)\"`.\n",
    "\n",
    "### Berechne die Gesamte Produktion\n",
    "- Addiere die Spalten `\"Produktion_1 (bbl/d)\"` und `\"Produktion_2 (bbl/d)\"`, um eine neue Spalte `\"Gesamtproduktion (bbl/d)\"` zu erhalten.\n",
    "\n",
    "### Bereinige die Daten\n",
    "- Entferne die ursprünglichen Spalten `\"Produktion_1 (bbl/d)\"` und `\"Produktion_2 (bbl/d)\"`, da nur die Gesamtproduktion wichtig ist.\n",
    "- Der Index soll auf die Förderanlagen gesetzt werden. lösche die Spalte Forderanlagen.\n",
    "\n",
    "### Füge eine Spalte \"Erwartete Produktion\" hinzu\n",
    "- Erhöhe die `\"Gesamtproduktion (bbl/d)\"` um **10%** und speichere das Ergebnis in einer neuen Spalte `\"Erwartete Produktion (bbl/d)\"`.\n",
    "\n",
    "## Erwartetes Endergebnis (`df_final`)\n",
    "| Förderanlage | Gesamtproduktion (bbl/d) | Erwartete Produktion (bbl/d) |\n",
    "|-------------|--------------------------|-------------------------------|\n",
    "| A1          | 1020                      | 1122.0                        |\n",
    "| B2          | 1430                      | 1573.0                        |\n",
    "| C3          | 1180                      | 1298.0                        |\n",
    "| D4          | 910                       | 1001.0                        |\n",
    "| E5          | 1610                      | 1771.0                        |\n",
    "\n",
    "---\n",
    "\n",
    "### **Bonus-Aufgabe (optional)**\n",
    "- Wandle die Spalte `\"Erwartete Produktion (bbl/d)\"` in `int16` um.\n",
    "- Sortiere den DataFrame nach `\"Gesamtproduktion (bbl/d)\"` absteigend.\n",
    "- Erstelle einen horizontalen Bar-Plot, der für jede Förderanlage Gesamtproduktion und Erwartete Produktion zeigt.\n",
    "- Erstelle dazu für die X-Achse eine Beschriftung (\"Barrel pro Tag (bbl/d)\")\n",
    "\n",
    "**Happy Coding!**\n"
   ]
  },
  {
   "cell_type": "code",
   "execution_count": 18,
   "id": "c5f2bdc9-1281-4987-815f-e5bb42504046",
   "metadata": {},
   "outputs": [
    {
     "data": {
      "text/html": [
       "<div>\n",
       "<style scoped>\n",
       "    .dataframe tbody tr th:only-of-type {\n",
       "        vertical-align: middle;\n",
       "    }\n",
       "\n",
       "    .dataframe tbody tr th {\n",
       "        vertical-align: top;\n",
       "    }\n",
       "\n",
       "    .dataframe thead th {\n",
       "        text-align: right;\n",
       "    }\n",
       "</style>\n",
       "<table border=\"1\" class=\"dataframe\">\n",
       "  <thead>\n",
       "    <tr style=\"text-align: right;\">\n",
       "      <th></th>\n",
       "      <th>Gesamtproduktion (bbl/d)</th>\n",
       "      <th>Erwartete Produktion (bbl/d)</th>\n",
       "    </tr>\n",
       "    <tr>\n",
       "      <th>Förderanlage</th>\n",
       "      <th></th>\n",
       "      <th></th>\n",
       "    </tr>\n",
       "  </thead>\n",
       "  <tbody>\n",
       "    <tr>\n",
       "      <th>A1</th>\n",
       "      <td>1020</td>\n",
       "      <td>1122</td>\n",
       "    </tr>\n",
       "    <tr>\n",
       "      <th>B2</th>\n",
       "      <td>1430</td>\n",
       "      <td>1573</td>\n",
       "    </tr>\n",
       "    <tr>\n",
       "      <th>C3</th>\n",
       "      <td>1180</td>\n",
       "      <td>1298</td>\n",
       "    </tr>\n",
       "    <tr>\n",
       "      <th>D4</th>\n",
       "      <td>910</td>\n",
       "      <td>1001</td>\n",
       "    </tr>\n",
       "    <tr>\n",
       "      <th>E5</th>\n",
       "      <td>1610</td>\n",
       "      <td>1771</td>\n",
       "    </tr>\n",
       "  </tbody>\n",
       "</table>\n",
       "</div>"
      ],
      "text/plain": [
       "              Gesamtproduktion (bbl/d)  Erwartete Produktion (bbl/d)\n",
       "Förderanlage                                                        \n",
       "A1                                1020                          1122\n",
       "B2                                1430                          1573\n",
       "C3                                1180                          1298\n",
       "D4                                 910                          1001\n",
       "E5                                1610                          1771"
      ]
     },
     "execution_count": 18,
     "metadata": {},
     "output_type": "execute_result"
    }
   ],
   "source": [
    "df = pd.DataFrame({\n",
    "    \"Förderanlage\": [\"A1\", \"B2\", \"C3\", \"D4\", \"E5\"],\n",
    "    \"Produktion_1 (bbl/d)\": [500, 700, 600, 450, 800],\n",
    "    \"Produktion_2 (bbl/d)\": [520, 730, 580, 460, 810]\n",
    "})\n",
    "\n",
    "df[\"Gesamtproduktion (bbl/d)\"]  = df[\"Produktion_1 (bbl/d)\"] + df[\"Produktion_2 (bbl/d)\"]\n",
    "df = df.drop(columns=[\"Produktion_1 (bbl/d)\", \"Produktion_2 (bbl/d)\"])\n",
    "df[\"Erwartete Produktion (bbl/d)\"] = df[\"Gesamtproduktion (bbl/d)\"] * 1.1\n",
    "df.index = df[\"Förderanlage\"]\n",
    "df = df.drop(columns=[\"Förderanlage\"])\n",
    "df[\"Erwartete Produktion (bbl/d)\"] = df[\"Erwartete Produktion (bbl/d)\"].astype(\"int16\")\n",
    "df"
   ]
  },
  {
   "cell_type": "code",
   "execution_count": 21,
   "id": "f35559b2-9428-426b-80c5-8495052cd381",
   "metadata": {},
   "outputs": [
    {
     "data": {
      "image/png": "[encoded data removed]",
      "text/plain": [
       "<Figure size 640x480 with 1 Axes>"
      ]
     },
     "metadata": {},
     "output_type": "display_data"
    }
   ],
   "source": [
    "df.plot(kind=\"barh\")\n",
    "plt.xlabel(\"Barrel pro Tag\")  # X-Achsenbeschriftung setzen\n",
    "plt.title(\"Ölproduktion nach Förderanlage\")  # Titel setzen\n",
    "plt.show()  # Diagramm anzeigen"
   ]
  }
 ],
 "metadata": {
  "kernelspec": {
   "display_name": "Python 3 (ipykernel)",
   "language": "python",
   "name": "python3"
  },
  "language_info": {
   "codemirror_mode": {
    "name": "ipython",
    "version": 3
   },
   "file_extension": ".py",
   "mimetype": "text/x-python",
   "name": "python",
   "nbconvert_exporter": "python",
   "pygments_lexer": "ipython3",
   "version": "3.12.4"
  }
 },
 "nbformat": 4,
 "nbformat_minor": 5
}

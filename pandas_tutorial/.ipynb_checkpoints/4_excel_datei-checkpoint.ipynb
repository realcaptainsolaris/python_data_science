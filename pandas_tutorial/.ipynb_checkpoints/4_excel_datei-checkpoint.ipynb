{
 "cells": [
  {
   "cell_type": "markdown",
   "id": "68a4392e",
   "metadata": {},
   "source": [
    "# Excel-Dateien mit Pandas\n",
    "\n",
    "In diesem Notebook werden alle wichtigen Möglichkeiten für den Import, Export und die Bearbeitung von Excel-Dateien mit Pandas gezeigt. Jede Codezeile wird detailliert erklärt."
   ]
  },
  {
   "cell_type": "markdown",
   "id": "531a0629",
   "metadata": {},
   "source": [
    "## 1. Excel-Dateien einlesen\n",
    "\n",
    "### `pd.read_excel()`\n",
    "- Liest Excel-Dateien in einen Pandas DataFrame ein.\n",
    "- Argument `sheet_name` erlaubt das Einlesen eines bestimmten Tabellenblatts."
   ]
  },
  {
   "cell_type": "code",
   "execution_count": 2,
   "id": "97497aff",
   "metadata": {},
   "outputs": [
    {
     "name": "stdout",
     "output_type": "stream",
     "text": [
      "Eingelesene Excel-Datei - erste 5 Zeilen:\n",
      "  Geschlecht      Größe     Gewicht\n",
      "0       Male  73.847017  241.893563\n",
      "1       Male  68.781904  162.310473\n",
      "2       Male  74.110105  212.740856\n",
      "3       Male  71.730978  220.042470\n",
      "4       Male  69.881796  206.349801\n"
     ]
    }
   ],
   "source": [
    "import pandas as pd\n",
    "\n",
    "# Excel-Datei von einer URL einlesen\n",
    "# 'sheet_name' gibt das gewünschte Tabellenblatt an.\n",
    "url = \"data/testframe.xlsx\"\n",
    "df = pd.read_excel(url, sheet_name='Sheet1')\n",
    "print(\"Eingelesene Excel-Datei - erste 5 Zeilen:\")\n",
    "print(df.head())"
   ]
  },
  {
   "cell_type": "markdown",
   "id": "a8c73616",
   "metadata": {},
   "source": [
    "### 1.1. Bestimmte Spalten und Zeilen einlesen\n",
    "- Mit `usecols` werden nur bestimmte Spalten geladen.\n",
    "- `nrows` begrenzt die Anzahl der Zeilen, die importiert werden."
   ]
  },
  {
   "cell_type": "code",
   "execution_count": 3,
   "id": "7a25eec1",
   "metadata": {},
   "outputs": [
    {
     "name": "stdout",
     "output_type": "stream",
     "text": [
      "Excel-Datei mit bestimmten Spalten und Zeilen:\n",
      "  Geschlecht      Größe\n",
      "0       Male  73.847017\n",
      "1       Male  68.781904\n",
      "2       Male  74.110105\n",
      "3       Male  71.730978\n",
      "4       Male  69.881796\n",
      "5       Male  67.253016\n",
      "6       Male  68.785081\n",
      "7       Male  68.348516\n",
      "8       Male  67.018950\n",
      "9       Male  63.456494\n"
     ]
    }
   ],
   "source": [
    "# Nur bestimmte Spalten (A bis E) und die ersten 10 Zeilen einlesen\n",
    "df_selected = pd.read_excel(url, sheet_name='Sheet1', usecols='A:B', nrows=10)\n",
    "print(\"Excel-Datei mit bestimmten Spalten und Zeilen:\")\n",
    "print(df_selected)"
   ]
  },
  {
   "cell_type": "markdown",
   "id": "0333a090",
   "metadata": {},
   "source": [
    "## 2. Excel-Dateien exportieren\n",
    "\n",
    "### `df.to_excel()`\n",
    "- Exportiert einen Pandas DataFrame in eine Excel-Datei.\n",
    "- Das Argument `sheet_name` gibt den Namen des Tabellenblatts an."
   ]
  },
  {
   "cell_type": "code",
   "execution_count": 6,
   "id": "63571c41",
   "metadata": {},
   "outputs": [
    {
     "name": "stdout",
     "output_type": "stream",
     "text": [
      "DataFrame wurde als 'example_export.xlsx' gespeichert.\n"
     ]
    }
   ],
   "source": [
    "# DataFrame in eine Excel-Datei exportieren\n",
    "# 'index=False' verhindert das Exportieren des Index\n",
    "df_selected.to_excel('data/example_export.xlsx', index=False, sheet_name='Daten')\n",
    "print(\"DataFrame wurde als 'example_export.xlsx' gespeichert.\")"
   ]
  },
  {
   "cell_type": "markdown",
   "id": "06a37000",
   "metadata": {},
   "source": [
    "### 2.1. Mehrere Tabellenblätter exportieren\n",
    "- Verwenden Sie `pd.ExcelWriter`, um mehrere Tabellenblätter in derselben Excel-Datei zu speichern."
   ]
  },
  {
   "cell_type": "code",
   "execution_count": 7,
   "id": "dcb3b29d",
   "metadata": {},
   "outputs": [
    {
     "name": "stdout",
     "output_type": "stream",
     "text": [
      "Excel-Datei mit mehreren Tabellenblättern exportiert.\n"
     ]
    }
   ],
   "source": [
    "# Mehrere Tabellenblätter exportieren\n",
    "# Erstelle eine Excel-Datei mit zwei Tabellenblättern\n",
    "with pd.ExcelWriter('data/example_multi_sheet.xlsx') as writer:\n",
    "    df.head(10).to_excel(writer, sheet_name='Tabelle_1', index=False)\n",
    "    df.tail(10).to_excel(writer, sheet_name='Tabelle_2', index=False)\n",
    "print(\"Excel-Datei mit mehreren Tabellenblättern exportiert.\")"
   ]
  },
  {
   "cell_type": "markdown",
   "id": "8214d122",
   "metadata": {},
   "source": [
    "## 3. Index und Kopfzeilen anpassen\n",
    "- `index` steuert, ob der Index exportiert wird.\n",
    "- Mit `header` können benutzerdefinierte Spaltennamen verwendet werden."
   ]
  },
  {
   "cell_type": "code",
   "execution_count": null,
   "id": "c00e644b",
   "metadata": {},
   "outputs": [],
   "source": [
    "# Export ohne Index und mit benutzerdefinierten Spaltennamen\n",
    "df_selected.to_excel('example_no_index.xlsx', index=False, header=['ID', 'Datum', 'Region', 'Produkt', 'Umsatz'])\n",
    "print(\"Excel-Datei ohne Index und mit angepassten Kopfzeilen exportiert.\")"
   ]
  },
  {
   "cell_type": "markdown",
   "id": "407ef061",
   "metadata": {},
   "source": [
    "## 4. Arbeiten mit mehreren Tabellenblättern\n",
    "- Das Argument `sheet_name` ermöglicht das Einlesen spezifischer Tabellenblätter."
   ]
  },
  {
   "cell_type": "code",
   "execution_count": null,
   "id": "577bff3a",
   "metadata": {},
   "outputs": [],
   "source": [
    "# Ein bestimmtes Tabellenblatt lesen\n",
    "df_sheet2 = pd.read_excel(url, sheet_name='Returns')\n",
    "print(\"Eingelesenes Tabellenblatt 'Returns' - erste 5 Zeilen:\")\n",
    "print(df_sheet2.head())"
   ]
  },
  {
   "cell_type": "markdown",
   "id": "3ca0fd7b",
   "metadata": {},
   "source": [
    "## 5. Fehlende Werte behandeln\n",
    "- Mit `na_values` können fehlende Werte beim Import definiert werden.\n",
    "- `na_rep` gibt den Ersatzwert für fehlende Werte beim Export an."
   ]
  },
  {
   "cell_type": "code",
   "execution_count": null,
   "id": "c23c0e24",
   "metadata": {},
   "outputs": [],
   "source": [
    "# Fehlende Werte beim Einlesen durch definierte Werte ersetzen\n",
    "df_with_na = pd.read_excel(url, sheet_name='Orders', na_values=[''])\n",
    "print(\"Daten mit fehlenden Werten (NA):\")\n",
    "print(df_with_na.head())\n",
    "\n",
    "# Fehlende Werte beim Export durch 'N/A' ersetzen\n",
    "df_with_na.to_excel('example_no_na.xlsx', na_rep='N/A', index=False)\n",
    "print(\"Fehlende Werte wurden durch 'N/A' ersetzt und exportiert.\")"
   ]
  },
  {
   "cell_type": "markdown",
   "id": "0a91bafa",
   "metadata": {},
   "source": [
    "## 6. Zusammenfassung\n",
    "\n",
    "In diesem Notebook haben Sie gelernt:\n",
    "\n",
    "1. **Excel-Dateien importieren** mit `pd.read_excel()` und `usecols`, `nrows`.\n",
    "2. **Excel-Dateien exportieren** mit `df.to_excel()`.\n",
    "3. Mehrere Tabellenblätter speichern mit `ExcelWriter`.\n",
    "4. **Index und Kopfzeilen** anpassen.\n",
    "5. Fehlende Werte behandeln mit `na_values` und `na_rep`.\n",
    "\n",
    "Pandas bietet umfassende Werkzeuge zur effizienten Arbeit mit Excel-Dateien."
   ]
  }
 ],
 "metadata": {
  "kernelspec": {
   "display_name": "Python 3 (ipykernel)",
   "language": "python",
   "name": "python3"
  },
  "language_info": {
   "codemirror_mode": {
    "name": "ipython",
    "version": 3
   },
   "file_extension": ".py",
   "mimetype": "text/x-python",
   "name": "python",
   "nbconvert_exporter": "python",
   "pygments_lexer": "ipython3",
   "version": "3.12.4"
  }
 },
 "nbformat": 4,
 "nbformat_minor": 5
}

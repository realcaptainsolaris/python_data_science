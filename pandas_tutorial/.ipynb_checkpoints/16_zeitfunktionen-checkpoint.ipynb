{
 "cells": [
  {
   "cell_type": "markdown",
   "id": "cd43525e",
   "metadata": {},
   "source": [
    "# Pandas Zeitfunktionen\n",
    "\n",
    "In diesem Notebook lernen wir, wie man die wichtigsten Zeitfunktionen in Pandas verwendet."
   ]
  },
  {
   "cell_type": "markdown",
   "id": "cf49902b",
   "metadata": {},
   "source": [
    "## 1. Datums- und Zeitspalten erstellen\n",
    "\n",
    "Mit `pd.to_datetime()` können wir Zeitstempel in Pandas erstellen."
   ]
  },
  {
   "cell_type": "code",
   "execution_count": null,
   "id": "4440c9ab",
   "metadata": {},
   "outputs": [],
   "source": [
    "import pandas as pd\n",
    "\n",
    "# Beispiel-Daten: Datums- und Uhrzeitangaben\n",
    "daten = {'Zeitstempel': ['2024-06-01 08:00:00', '2024-06-01 12:30:00', '2024-06-01 16:45:00']}\n",
    "df = pd.DataFrame(daten)\n",
    "\n",
    "# Konvertiere Zeitstempel in datetime-Format\n",
    "df['Zeitstempel'] = pd.to_datetime(df['Zeitstempel'])\n",
    "print(\"Daten mit Zeitstempeln im datetime-Format:\")\n",
    "print(df)"
   ]
  },
  {
   "cell_type": "markdown",
   "id": "9e906bb9",
   "metadata": {},
   "source": [
    "## 2. Aktuelles Datum und Uhrzeit\n",
    "\n",
    "Verwenden Sie `pd.Timestamp.now()` für das aktuelle Datum und die Uhrzeit."
   ]
  },
  {
   "cell_type": "code",
   "execution_count": null,
   "id": "3483533c",
   "metadata": {},
   "outputs": [],
   "source": [
    "# Aktuelles Datum und Uhrzeit abrufen\n",
    "aktuelles_datum = pd.Timestamp.now()\n",
    "print(\"Aktuelles Datum und Uhrzeit:\")\n",
    "print(aktuelles_datum)"
   ]
  },
  {
   "cell_type": "markdown",
   "id": "63a7b560",
   "metadata": {},
   "source": [
    "## 3. Datumskomponenten extrahieren\n",
    "\n",
    "Mit `.dt` können wir einzelne Komponenten eines Zeitstempels extrahieren, z.B. Jahr, Monat, Tag, Stunde."
   ]
  },
  {
   "cell_type": "code",
   "execution_count": null,
   "id": "d1638ca0",
   "metadata": {},
   "outputs": [],
   "source": [
    "# Extrahiere Jahr, Monat und Tag\n",
    "df['Jahr'] = df['Zeitstempel'].dt.year\n",
    "df['Monat'] = df['Zeitstempel'].dt.month\n",
    "df['Tag'] = df['Zeitstempel'].dt.day\n",
    "print(\"Daten mit extrahierten Komponenten:\")\n",
    "print(df)"
   ]
  },
  {
   "cell_type": "markdown",
   "id": "c6647ea3",
   "metadata": {},
   "source": [
    "## 4. Zeitdifferenzen berechnen\n",
    "\n",
    "Verwenden Sie `pd.Timedelta` oder `.diff()` zum Berechnen von Zeitunterschieden."
   ]
  },
  {
   "cell_type": "code",
   "execution_count": null,
   "id": "42708182",
   "metadata": {},
   "outputs": [],
   "source": [
    "# Berechne die Differenz zwischen Zeitstempeln\n",
    "df['Differenz'] = df['Zeitstempel'].diff()\n",
    "print(\"Zeitdifferenzen zwischen den Zeitstempeln:\")\n",
    "print(df)"
   ]
  },
  {
   "cell_type": "markdown",
   "id": "8c84d583",
   "metadata": {},
   "source": [
    "## 5. Arbeiten mit Zeitzonen\n",
    "\n",
    "Zuweisen und Konvertieren von Zeitzonen mithilfe von `tz_localize` und `tz_convert`."
   ]
  },
  {
   "cell_type": "code",
   "execution_count": null,
   "id": "cfe73ab7",
   "metadata": {},
   "outputs": [],
   "source": [
    "# Zeitzone zuweisen (UTC) und konvertieren\n",
    "df['Zeitstempel_UTC'] = df['Zeitstempel'].dt.tz_localize('UTC')\n",
    "df['Zeitstempel_Berlin'] = df['Zeitstempel_UTC'].dt.tz_convert('Europe/Berlin')\n",
    "print(\"Daten mit Zeitzonen (UTC und Berlin):\")\n",
    "print(df)"
   ]
  },
  {
   "cell_type": "markdown",
   "id": "f99dc619",
   "metadata": {},
   "source": [
    "## 6. Zusammenfassung\n",
    "\n",
    "- **`pd.to_datetime()`**: Konvertiert Werte in datetime-Format.\n",
    "- **`.dt`**: Ermöglicht den Zugriff auf Datumskomponenten.\n",
    "- **`diff()`**: Berechnet die Differenz zwischen Zeitstempeln.\n",
    "- **`tz_localize`** und **`tz_convert`**: Arbeiten mit Zeitzonen."
   ]
  }
 ],
 "metadata": {},
 "nbformat": 4,
 "nbformat_minor": 5
}

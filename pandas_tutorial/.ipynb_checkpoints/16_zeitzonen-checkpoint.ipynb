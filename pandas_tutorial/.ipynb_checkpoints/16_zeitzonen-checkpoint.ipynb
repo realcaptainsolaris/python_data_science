{
 "cells": [
  {
   "cell_type": "markdown",
   "id": "bec62138",
   "metadata": {},
   "source": [
    "# Pandas Zeitzonen\n",
    "\n",
    "In diesem Notebook lernen wir, wie man Zeitzonen in Pandas handhabt."
   ]
  },
  {
   "cell_type": "markdown",
   "id": "28df4a46",
   "metadata": {},
   "source": [
    "## 1. Einführung in Zeitzonen\n",
    "\n",
    "Pandas ermöglicht es uns, Datums- und Zeitangaben zu manipulieren und mit verschiedenen Zeitzonen zu arbeiten. Dazu müssen wir zunächst sicherstellen, dass die Spalten im **Datetime**-Format sind."
   ]
  },
  {
   "cell_type": "code",
   "execution_count": 1,
   "id": "ec30bfdb",
   "metadata": {},
   "outputs": [
    {
     "name": "stdout",
     "output_type": "stream",
     "text": [
      "Ursprüngliche Daten:\n",
      "                Datum\n",
      "0 2024-06-01 12:00:00\n",
      "1 2024-06-02 14:30:00\n",
      "2 2024-06-03 09:00:00\n"
     ]
    }
   ],
   "source": [
    "import pandas as pd\n",
    "import pytz\n",
    "\n",
    "# Beispiel-Daten\n",
    "daten = {'Datum': ['2024-06-01 12:00:00', '2024-06-02 14:30:00', '2024-06-03 09:00:00']}\n",
    "df = pd.DataFrame(daten)\n",
    "\n",
    "# Konvertiere die 'Datum'-Spalte in Datetime-Format\n",
    "df['Datum'] = pd.to_datetime(df['Datum'])\n",
    "print(\"Ursprüngliche Daten:\")\n",
    "print(df)"
   ]
  },
  {
   "cell_type": "markdown",
   "id": "475dea98",
   "metadata": {},
   "source": [
    "## 2. Zeitzone zuweisen\n",
    "\n",
    "Wir können einer Spalte mit Zeitangaben eine Zeitzone zuweisen, z.B. **UTC**."
   ]
  },
  {
   "cell_type": "code",
   "execution_count": 2,
   "id": "1a37be34",
   "metadata": {},
   "outputs": [
    {
     "name": "stdout",
     "output_type": "stream",
     "text": [
      "Daten mit zugewiesener UTC-Zeitzone:\n",
      "                Datum                 Datum_UTC\n",
      "0 2024-06-01 12:00:00 2024-06-01 12:00:00+00:00\n",
      "1 2024-06-02 14:30:00 2024-06-02 14:30:00+00:00\n",
      "2 2024-06-03 09:00:00 2024-06-03 09:00:00+00:00\n"
     ]
    }
   ],
   "source": [
    "# Zeitzone UTC zuweisen\n",
    "df['Datum_UTC'] = df['Datum'].dt.tz_localize('UTC')\n",
    "print(\"Daten mit zugewiesener UTC-Zeitzone:\")\n",
    "print(df)"
   ]
  },
  {
   "cell_type": "markdown",
   "id": "4b78ccdb",
   "metadata": {},
   "source": [
    "## 3. Zeitzone konvertieren\n",
    "\n",
    "Mit `tz_convert` können wir die Zeitzone in eine andere ändern."
   ]
  },
  {
   "cell_type": "code",
   "execution_count": 3,
   "id": "ca1dc6aa",
   "metadata": {},
   "outputs": [
    {
     "name": "stdout",
     "output_type": "stream",
     "text": [
      "Daten konvertiert nach Europe/Berlin:\n",
      "                Datum                 Datum_UTC              Datum_Berlin\n",
      "0 2024-06-01 12:00:00 2024-06-01 12:00:00+00:00 2024-06-01 14:00:00+02:00\n",
      "1 2024-06-02 14:30:00 2024-06-02 14:30:00+00:00 2024-06-02 16:30:00+02:00\n",
      "2 2024-06-03 09:00:00 2024-06-03 09:00:00+00:00 2024-06-03 11:00:00+02:00\n"
     ]
    }
   ],
   "source": [
    "# Zeitzone in 'Europe/Berlin' konvertieren\n",
    "df['Datum_Berlin'] = df['Datum_UTC'].dt.tz_convert('Europe/Berlin')\n",
    "print(\"Daten konvertiert nach Europe/Berlin:\")\n",
    "print(df)"
   ]
  },
  {
   "cell_type": "markdown",
   "id": "78b8b6fe",
   "metadata": {},
   "source": [
    "## 4. Zeitunterschied berechnen\n",
    "\n",
    "Wir können den Zeitunterschied zwischen verschiedenen Zeitzonen vergleichen."
   ]
  },
  {
   "cell_type": "code",
   "execution_count": 4,
   "id": "a7f6569d",
   "metadata": {},
   "outputs": [
    {
     "name": "stdout",
     "output_type": "stream",
     "text": [
      "Zeitdifferenz zwischen UTC und Berlin:\n",
      "                Datum                 Datum_UTC              Datum_Berlin  \\\n",
      "0 2024-06-01 12:00:00 2024-06-01 12:00:00+00:00 2024-06-01 14:00:00+02:00   \n",
      "1 2024-06-02 14:30:00 2024-06-02 14:30:00+00:00 2024-06-02 16:30:00+02:00   \n",
      "2 2024-06-03 09:00:00 2024-06-03 09:00:00+00:00 2024-06-03 11:00:00+02:00   \n",
      "\n",
      "  Zeitdifferenz  \n",
      "0        0 days  \n",
      "1        0 days  \n",
      "2        0 days  \n"
     ]
    }
   ],
   "source": [
    "# Beispiel für Zeitdifferenz\n",
    "df['Zeitdifferenz'] = df['Datum_Berlin'] - df['Datum_UTC']\n",
    "print(\"Zeitdifferenz zwischen UTC und Berlin:\")\n",
    "print(df)"
   ]
  },
  {
   "cell_type": "markdown",
   "id": "93ff5302",
   "metadata": {},
   "source": [
    "## 5. Zusammenfassung\n",
    "\n",
    "- **`tz_localize`**: Zuweisen einer Zeitzone.\n",
    "- **`tz_convert`**: Konvertieren in eine andere Zeitzone.\n",
    "- Arbeiten mit Zeitzonen hilft, globale Zeitunterschiede korrekt zu handhaben."
   ]
  },
  {
   "cell_type": "markdown",
   "id": "86b67f77-7288-4528-97bc-3108fa316ca1",
   "metadata": {},
   "source": [
    "# Aufgabe: Zeitzonen \n",
    "**Beschreibung:**  \n",
    "Sie haben einen **gegebenen DataFrame** mit Verkaufsdaten. Der DataFrame enthält eine Spalte **`sell_date`**, die Zeitstempel der Verkäufe in der **US/Eastern**-Zeitzone enthält. Ihre Aufgabe ist es, die folgenden Schritte durchzuführen:\n",
    "\n",
    "1. **Zeitzone zuweisen:** Weisen Sie der Spalte **`sell_date`** die Zeitzone **`US/Eastern`** zu.\n",
    "\n",
    "2. **Zeitzone konvertieren:** Erstellen Sie eine neue Spalte **`europe_sell_date`**, die die Zeitstempel aus **`sell_date`** in die Zeitzone **`Europe/Berlin`** konvertiert.\n",
    "\n",
    "3. **Zeitunterschied berechnen:** Berechnen Sie den Zeitunterschied zwischen **`sell_date`** (US/Eastern) und **`europe_sell_date`** (Europe/Berlin) und speichern Sie diesen in einer neuen Spalte **`timediff`**. Da dieser Vergleich mit zeitzonen-bewussten Spalten eine Differenz von 0 aufwweisen würde, müssen die Spalten bei der Differenz-Operation als \"timezone-naive\" behandelt werden.\n",
    "\n",
    "Zum Beispiel für die Spalte `europe_sell_date`:\n",
    "\n",
    "    df_products['europe_sell_date'].dt.tz_localize(None) \n"
   ]
  },
  {
   "cell_type": "code",
   "execution_count": 20,
   "id": "9861e27b-62e3-4a49-8b88-267beab54240",
   "metadata": {},
   "outputs": [
    {
     "data": {
      "text/html": [
       "<div>\n",
       "<style scoped>\n",
       "    .dataframe tbody tr th:only-of-type {\n",
       "        vertical-align: middle;\n",
       "    }\n",
       "\n",
       "    .dataframe tbody tr th {\n",
       "        vertical-align: top;\n",
       "    }\n",
       "\n",
       "    .dataframe thead th {\n",
       "        text-align: right;\n",
       "    }\n",
       "</style>\n",
       "<table border=\"1\" class=\"dataframe\">\n",
       "  <thead>\n",
       "    <tr style=\"text-align: right;\">\n",
       "      <th></th>\n",
       "      <th>product</th>\n",
       "      <th>sell_date</th>\n",
       "      <th>europe_sell_date</th>\n",
       "      <th>timediff</th>\n",
       "    </tr>\n",
       "  </thead>\n",
       "  <tbody>\n",
       "    <tr>\n",
       "      <th>0</th>\n",
       "      <td>Produkt_C</td>\n",
       "      <td>2024-06-01 08:00:00-04:00</td>\n",
       "      <td>2024-06-01 14:00:00+02:00</td>\n",
       "      <td>6.0</td>\n",
       "    </tr>\n",
       "    <tr>\n",
       "      <th>1</th>\n",
       "      <td>Produkt_B</td>\n",
       "      <td>2024-06-02 06:15:00-04:00</td>\n",
       "      <td>2024-06-02 12:15:00+02:00</td>\n",
       "      <td>6.0</td>\n",
       "    </tr>\n",
       "    <tr>\n",
       "      <th>2</th>\n",
       "      <td>Produkt_D</td>\n",
       "      <td>2024-06-01 16:30:00-04:00</td>\n",
       "      <td>2024-06-01 22:30:00+02:00</td>\n",
       "      <td>6.0</td>\n",
       "    </tr>\n",
       "    <tr>\n",
       "      <th>3</th>\n",
       "      <td>Produkt_A</td>\n",
       "      <td>2024-06-01 16:30:00-04:00</td>\n",
       "      <td>2024-06-01 22:30:00+02:00</td>\n",
       "      <td>6.0</td>\n",
       "    </tr>\n",
       "    <tr>\n",
       "      <th>4</th>\n",
       "      <td>Produkt_C</td>\n",
       "      <td>2024-06-01 12:00:00-04:00</td>\n",
       "      <td>2024-06-01 18:00:00+02:00</td>\n",
       "      <td>6.0</td>\n",
       "    </tr>\n",
       "    <tr>\n",
       "      <th>5</th>\n",
       "      <td>Produkt_D</td>\n",
       "      <td>2024-06-01 23:00:00-04:00</td>\n",
       "      <td>2024-06-02 05:00:00+02:00</td>\n",
       "      <td>6.0</td>\n",
       "    </tr>\n",
       "    <tr>\n",
       "      <th>6</th>\n",
       "      <td>Produkt_A</td>\n",
       "      <td>2024-06-01 12:00:00-04:00</td>\n",
       "      <td>2024-06-01 18:00:00+02:00</td>\n",
       "      <td>6.0</td>\n",
       "    </tr>\n",
       "    <tr>\n",
       "      <th>7</th>\n",
       "      <td>Produkt_B</td>\n",
       "      <td>2024-06-01 23:00:00-04:00</td>\n",
       "      <td>2024-06-02 05:00:00+02:00</td>\n",
       "      <td>6.0</td>\n",
       "    </tr>\n",
       "    <tr>\n",
       "      <th>8</th>\n",
       "      <td>Produkt_E</td>\n",
       "      <td>2024-06-01 08:00:00-04:00</td>\n",
       "      <td>2024-06-01 14:00:00+02:00</td>\n",
       "      <td>6.0</td>\n",
       "    </tr>\n",
       "    <tr>\n",
       "      <th>9</th>\n",
       "      <td>Produkt_E</td>\n",
       "      <td>2024-06-01 08:00:00-04:00</td>\n",
       "      <td>2024-06-01 14:00:00+02:00</td>\n",
       "      <td>6.0</td>\n",
       "    </tr>\n",
       "  </tbody>\n",
       "</table>\n",
       "</div>"
      ],
      "text/plain": [
       "     product                 sell_date          europe_sell_date  timediff\n",
       "0  Produkt_C 2024-06-01 08:00:00-04:00 2024-06-01 14:00:00+02:00       6.0\n",
       "1  Produkt_B 2024-06-02 06:15:00-04:00 2024-06-02 12:15:00+02:00       6.0\n",
       "2  Produkt_D 2024-06-01 16:30:00-04:00 2024-06-01 22:30:00+02:00       6.0\n",
       "3  Produkt_A 2024-06-01 16:30:00-04:00 2024-06-01 22:30:00+02:00       6.0\n",
       "4  Produkt_C 2024-06-01 12:00:00-04:00 2024-06-01 18:00:00+02:00       6.0\n",
       "5  Produkt_D 2024-06-01 23:00:00-04:00 2024-06-02 05:00:00+02:00       6.0\n",
       "6  Produkt_A 2024-06-01 12:00:00-04:00 2024-06-01 18:00:00+02:00       6.0\n",
       "7  Produkt_B 2024-06-01 23:00:00-04:00 2024-06-02 05:00:00+02:00       6.0\n",
       "8  Produkt_E 2024-06-01 08:00:00-04:00 2024-06-01 14:00:00+02:00       6.0\n",
       "9  Produkt_E 2024-06-01 08:00:00-04:00 2024-06-01 14:00:00+02:00       6.0"
      ]
     },
     "execution_count": 20,
     "metadata": {},
     "output_type": "execute_result"
    }
   ],
   "source": [
    "import random\n",
    "\n",
    "# Erweiterung: Zufällige Produktnamen hinzufügen und 10 Einträge erstellen\n",
    "products = ['Produkt_A', 'Produkt_B', 'Produkt_C', 'Produkt_D', 'Produkt_E']\n",
    "sell_dates = ['2024-06-01 08:00:00', '2024-06-01 12:00:00', \n",
    "              '2024-06-01 16:30:00', '2024-06-01 23:00:00', \n",
    "              '2024-06-02 06:15:00']\n",
    "\n",
    "# Erstellen von 10 Einträgen mit Produktnamen und Verkaufsdaten\n",
    "data = {\n",
    "    'product': [random.choice(products) for _ in range(10)],\n",
    "    'sell_date': [random.choice(sell_dates) for _ in range(10)]\n",
    "}\n",
    "\n",
    "# Erstellen des DataFrames\n",
    "df_products = pd.DataFrame(data)\n",
    "\n",
    "# 1) konvertiere die 'sell_date'-Spalte in Datetime und weise die Zeitzone US/Eastern zu\n",
    "df_products['sell_date'] = pd.to_datetime(df_products['sell_date']).dt.tz_localize('US/Eastern')\n",
    "\n",
    "# 2) Neue Spalte europe_sell_date als Europe/Berlin Zeitzone\n",
    "df_products['europe_sell_date'] = df_products['sell_date'].dt.tz_convert('Europe/Berlin')\n",
    "\n",
    "#3 ) Neue Spalte time_diff als Differenz zwischen sell_date und europe_sell_date\n",
    "df_products['timediff'] = (df_products['sell_date'] - df_products['europe_sell_date'])\n",
    "df_products['timediff'] = (df_products['europe_sell_date'].dt.tz_localize(None) - df_products['sell_date'].dt.tz_localize(None)).dt.total_seconds() / 3600\n",
    "df_products\n"
   ]
  }
 ],
 "metadata": {
  "kernelspec": {
   "display_name": "Python 3 (ipykernel)",
   "language": "python",
   "name": "python3"
  },
  "language_info": {
   "codemirror_mode": {
    "name": "ipython",
    "version": 3
   },
   "file_extension": ".py",
   "mimetype": "text/x-python",
   "name": "python",
   "nbconvert_exporter": "python",
   "pygments_lexer": "ipython3",
   "version": "3.12.4"
  }
 },
 "nbformat": 4,
 "nbformat_minor": 5
}

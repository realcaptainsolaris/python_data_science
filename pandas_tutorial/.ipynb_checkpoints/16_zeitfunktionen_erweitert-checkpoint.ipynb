{
 "cells": [
  {
   "cell_type": "markdown",
   "id": "cd43525e",
   "metadata": {},
   "source": [
    "# Pandas Zeitfunktionen\n",
    "\n",
    "In diesem Notebook lernen wir, wie man die wichtigsten Zeitfunktionen in Pandas verwendet."
   ]
  },
  {
   "cell_type": "markdown",
   "id": "cf49902b",
   "metadata": {},
   "source": [
    "## 1. Datums- und Zeitspalten erstellen\n",
    "\n",
    "Mit `pd.to_datetime()` können wir Zeitstempel in Pandas erstellen."
   ]
  },
  {
   "cell_type": "code",
   "execution_count": 1,
   "id": "4440c9ab",
   "metadata": {},
   "outputs": [
    {
     "name": "stdout",
     "output_type": "stream",
     "text": [
      "Daten mit Zeitstempeln im datetime-Format:\n",
      "          Zeitstempel\n",
      "0 2024-06-01 08:00:00\n",
      "1 2024-06-01 12:30:00\n",
      "2 2024-06-01 16:45:00\n"
     ]
    }
   ],
   "source": [
    "import pandas as pd\n",
    "\n",
    "# Beispiel-Daten: Datums- und Uhrzeitangaben\n",
    "daten = {'Zeitstempel': ['2024-06-01 08:00:00', '2024-06-01 12:30:00', '2024-06-01 16:45:00']}\n",
    "df = pd.DataFrame(daten)\n",
    "\n",
    "# Konvertiere Zeitstempel in datetime-Format\n",
    "df['Zeitstempel'] = pd.to_datetime(df['Zeitstempel'])\n",
    "print(\"Daten mit Zeitstempeln im datetime-Format:\")\n",
    "print(df)"
   ]
  },
  {
   "cell_type": "markdown",
   "id": "9e906bb9",
   "metadata": {},
   "source": [
    "## 2. Aktuelles Datum und Uhrzeit\n",
    "\n",
    "Verwenden Sie `pd.Timestamp.now()` für das aktuelle Datum und die Uhrzeit."
   ]
  },
  {
   "cell_type": "code",
   "execution_count": 2,
   "id": "3483533c",
   "metadata": {},
   "outputs": [
    {
     "name": "stdout",
     "output_type": "stream",
     "text": [
      "Aktuelles Datum und Uhrzeit:\n",
      "2024-12-09 00:53:08.801356\n"
     ]
    }
   ],
   "source": [
    "# Aktuelles Datum und Uhrzeit abrufen\n",
    "aktuelles_datum = pd.Timestamp.now()\n",
    "print(\"Aktuelles Datum und Uhrzeit:\")\n",
    "print(aktuelles_datum)"
   ]
  },
  {
   "cell_type": "markdown",
   "id": "63a7b560",
   "metadata": {},
   "source": [
    "## 3. Datumskomponenten extrahieren\n",
    "\n",
    "Mit `.dt` können wir einzelne Komponenten eines Zeitstempels extrahieren, z.B. Jahr, Monat, Tag, Stunde."
   ]
  },
  {
   "cell_type": "code",
   "execution_count": 3,
   "id": "d1638ca0",
   "metadata": {},
   "outputs": [
    {
     "name": "stdout",
     "output_type": "stream",
     "text": [
      "Daten mit extrahierten Komponenten:\n",
      "          Zeitstempel  Jahr  Monat  Tag\n",
      "0 2024-06-01 08:00:00  2024      6    1\n",
      "1 2024-06-01 12:30:00  2024      6    1\n",
      "2 2024-06-01 16:45:00  2024      6    1\n"
     ]
    }
   ],
   "source": [
    "# Extrahiere Jahr, Monat und Tag\n",
    "df['Jahr'] = df['Zeitstempel'].dt.year\n",
    "df['Monat'] = df['Zeitstempel'].dt.month\n",
    "df['Tag'] = df['Zeitstempel'].dt.day\n",
    "print(\"Daten mit extrahierten Komponenten:\")\n",
    "print(df)"
   ]
  },
  {
   "cell_type": "markdown",
   "id": "c6647ea3",
   "metadata": {},
   "source": [
    "## 4. Zeitdifferenzen berechnen\n",
    "\n",
    "Verwenden Sie `pd.Timedelta` oder `.diff()` zum Berechnen von Zeitunterschieden."
   ]
  },
  {
   "cell_type": "code",
   "execution_count": 4,
   "id": "42708182",
   "metadata": {},
   "outputs": [
    {
     "name": "stdout",
     "output_type": "stream",
     "text": [
      "Zeitdifferenzen zwischen den Zeitstempeln:\n",
      "          Zeitstempel  Jahr  Monat  Tag       Differenz\n",
      "0 2024-06-01 08:00:00  2024      6    1             NaT\n",
      "1 2024-06-01 12:30:00  2024      6    1 0 days 04:30:00\n",
      "2 2024-06-01 16:45:00  2024      6    1 0 days 04:15:00\n"
     ]
    }
   ],
   "source": [
    "# Berechne die Differenz zwischen Zeitstempeln\n",
    "df['Differenz'] = df['Zeitstempel'].diff()\n",
    "print(\"Zeitdifferenzen zwischen den Zeitstempeln:\")\n",
    "print(df)"
   ]
  },
  {
   "cell_type": "markdown",
   "id": "8c84d583",
   "metadata": {},
   "source": [
    "## 5. Arbeiten mit Zeitzonen\n",
    "\n",
    "Zuweisen und Konvertieren von Zeitzonen mithilfe von `tz_localize` und `tz_convert`."
   ]
  },
  {
   "cell_type": "code",
   "execution_count": null,
   "id": "cfe73ab7",
   "metadata": {},
   "outputs": [],
   "source": [
    "# Zeitzone zuweisen (UTC) und konvertieren\n",
    "df['Zeitstempel_UTC'] = df['Zeitstempel'].dt.tz_localize('UTC')\n",
    "df['Zeitstempel_Berlin'] = df['Zeitstempel_UTC'].dt.tz_convert('Europe/Berlin')\n",
    "print(\"Daten mit Zeitzonen (UTC und Berlin):\")\n",
    "print(df)"
   ]
  },
  {
   "cell_type": "markdown",
   "id": "f99dc619",
   "metadata": {},
   "source": [
    "## 6. Zusammenfassung\n",
    "\n",
    "- **`pd.to_datetime()`**: Konvertiert Werte in datetime-Format.\n",
    "- **`.dt`**: Ermöglicht den Zugriff auf Datumskomponenten.\n",
    "- **`diff()`**: Berechnet die Differenz zwischen Zeitstempeln.\n",
    "- **`tz_localize`** und **`tz_convert`**: Arbeiten mit Zeitzonen."
   ]
  },
  {
   "cell_type": "markdown",
   "id": "d288971d",
   "metadata": {},
   "source": [
    "## 7. Wochentage und Quartale bestimmen\n",
    "\n",
    "Mit `.dt` können Wochentage und Quartale aus Zeitstempeln extrahiert werden."
   ]
  },
  {
   "cell_type": "code",
   "execution_count": 5,
   "id": "235ea221",
   "metadata": {},
   "outputs": [
    {
     "name": "stdout",
     "output_type": "stream",
     "text": [
      "Daten mit Wochentagen und Quartalen:\n",
      "          Zeitstempel  Jahr  Monat  Tag       Differenz Wochentag  Quartal\n",
      "0 2024-06-01 08:00:00  2024      6    1             NaT  Saturday        2\n",
      "1 2024-06-01 12:30:00  2024      6    1 0 days 04:30:00  Saturday        2\n",
      "2 2024-06-01 16:45:00  2024      6    1 0 days 04:15:00  Saturday        2\n"
     ]
    }
   ],
   "source": [
    "# Extrahiere Wochentag und Quartal\n",
    "df['Wochentag'] = df['Zeitstempel'].dt.day_name()\n",
    "df['Quartal'] = df['Zeitstempel'].dt.quarter\n",
    "print(\"Daten mit Wochentagen und Quartalen:\")\n",
    "print(df)"
   ]
  },
  {
   "cell_type": "markdown",
   "id": "ae826cfa",
   "metadata": {},
   "source": [
    "## 8. Zeit hinzufügen oder subtrahieren\n",
    "\n",
    "Mit `pd.Timedelta` können wir Zeit zu bestehenden Zeitstempeln addieren oder subtrahieren."
   ]
  },
  {
   "cell_type": "code",
   "execution_count": 6,
   "id": "b41df00c",
   "metadata": {},
   "outputs": [
    {
     "name": "stdout",
     "output_type": "stream",
     "text": [
      "Zeitstempel um 2 Tage erweitert:\n",
      "          Zeitstempel  Jahr  Monat  Tag       Differenz Wochentag  Quartal  \\\n",
      "0 2024-06-01 08:00:00  2024      6    1             NaT  Saturday        2   \n",
      "1 2024-06-01 12:30:00  2024      6    1 0 days 04:30:00  Saturday        2   \n",
      "2 2024-06-01 16:45:00  2024      6    1 0 days 04:15:00  Saturday        2   \n",
      "\n",
      "          Plus_2_Tage  \n",
      "0 2024-06-03 08:00:00  \n",
      "1 2024-06-03 12:30:00  \n",
      "2 2024-06-03 16:45:00  \n"
     ]
    }
   ],
   "source": [
    "# Füge 2 Tage zu jedem Zeitstempel hinzu\n",
    "df['Plus_2_Tage'] = df['Zeitstempel'] + pd.Timedelta(days=2)\n",
    "print(\"Zeitstempel um 2 Tage erweitert:\")\n",
    "print(df)"
   ]
  },
  {
   "cell_type": "markdown",
   "id": "54cf8435",
   "metadata": {},
   "source": [
    "## 9. Zeitstempel runden\n",
    "\n",
    "Verwenden Sie `.round()` oder `.floor()`, um Zeitstempel zu runden."
   ]
  },
  {
   "cell_type": "code",
   "execution_count": 8,
   "id": "0cd12c15",
   "metadata": {},
   "outputs": [
    {
     "name": "stdout",
     "output_type": "stream",
     "text": [
      "Gerundete Zeitstempel:\n",
      "          Zeitstempel  Jahr  Monat  Tag       Differenz Wochentag  Quartal  \\\n",
      "0 2024-06-01 08:00:00  2024      6    1             NaT  Saturday        2   \n",
      "1 2024-06-01 12:30:00  2024      6    1 0 days 04:30:00  Saturday        2   \n",
      "2 2024-06-01 16:45:00  2024      6    1 0 days 04:15:00  Saturday        2   \n",
      "\n",
      "          Plus_2_Tage            Gerundet  \n",
      "0 2024-06-03 08:00:00 2024-06-01 08:00:00  \n",
      "1 2024-06-03 12:30:00 2024-06-01 12:00:00  \n",
      "2 2024-06-03 16:45:00 2024-06-01 17:00:00  \n"
     ]
    }
   ],
   "source": [
    "# Runde die Zeitstempel auf die nächste Stunde ab\n",
    "df['Gerundet'] = df['Zeitstempel'].dt.round('h')\n",
    "print(\"Gerundete Zeitstempel:\")\n",
    "print(df)"
   ]
  },
  {
   "cell_type": "markdown",
   "id": "5da6a388",
   "metadata": {},
   "source": [
    "## 10. Zeitreihen erstellen\n",
    "\n",
    "Mit `pd.date_range()` können Zeitreihen erstellt werden."
   ]
  },
  {
   "cell_type": "code",
   "execution_count": 9,
   "id": "ed54ba50",
   "metadata": {},
   "outputs": [
    {
     "name": "stdout",
     "output_type": "stream",
     "text": [
      "Zeitreihe mit täglichen Intervallen:\n",
      "DatetimeIndex(['2024-06-01', '2024-06-02', '2024-06-03', '2024-06-04',\n",
      "               '2024-06-05', '2024-06-06', '2024-06-07', '2024-06-08',\n",
      "               '2024-06-09', '2024-06-10'],\n",
      "              dtype='datetime64[ns]', freq='D')\n"
     ]
    }
   ],
   "source": [
    "# Erstelle eine Zeitreihe zwischen zwei Daten\n",
    "zeitreihe = pd.date_range(start='2024-06-01', end='2024-06-10', freq='D')\n",
    "print(\"Zeitreihe mit täglichen Intervallen:\")\n",
    "print(zeitreihe)"
   ]
  }
 ],
 "metadata": {
  "kernelspec": {
   "display_name": "Python 3 (ipykernel)",
   "language": "python",
   "name": "python3"
  },
  "language_info": {
   "codemirror_mode": {
    "name": "ipython",
    "version": 3
   },
   "file_extension": ".py",
   "mimetype": "text/x-python",
   "name": "python",
   "nbconvert_exporter": "python",
   "pygments_lexer": "ipython3",
   "version": "3.12.4"
  }
 },
 "nbformat": 4,
 "nbformat_minor": 5
}

{
 "cells": [
  {
   "cell_type": "markdown",
   "id": "042414fc",
   "metadata": {},
   "source": [
    "# Feather\n",
    "\n",
    "Bisher hatten wir unsere Daten entweder als `CSV-Datei` gespeichert oder den DataFrame direkt `Pickle-Datei`, was beides okay ist. Es gibt nun ein weiteres Format, in dem wir unsere DataFrames speichern können, und das ist `Feather`. Feather speichert die Dateien als Binärformat und somit sind die generierten Daten auch nicht menschenlesbar. Sie sind also kein Ersatz für CSV-Dateinen sondern müssen eher als Ergänzung gesehen werden.\n",
    "\n",
    "## Was ist Feather?\n",
    "\n",
    "Einfach ausgedrückt ist es ein `Datenformat zum Speichern von DataFrames`. Es basiert auf einer einfachen Prämisse – `Dataframes so effizient wie möglich` in den und aus dem Speicher zu verschieben. Feather ist besonders gut geeignet für große Datensätze, da es sehr viel schneller und auch platzsparender als CSV-Daten ist.\n",
    "\n",
    "## Warum nicht Pickle?\n",
    "Pickle ist ein Pythonformat und auch nur via Python einzulesen. Feather hingegen ist sprachagnostisch und könnte auch von einem R-Programm eingelesen werden. Dh. wenn Austausch zwischen Plattformen nötig ist, ist von Pickle abzuraten.\n",
    "\n",
    "## Wann nicht mit Feather arbeiten?\n",
    "Feather-Dateien sind nicht ausgelegt für das Langzeitspeichern von Daten. Zur Zeit sind zwischen den verschiedenen Feather-Versionen keine Kompatibilitäten garantiert.\n",
    "\n",
    "## Feather installieren\n",
    "Um Feather zu nutzen, müssen wir es mit pip aus dem Python Package Index installieren.\n",
    "\n",
    "    pip install feather-format\n",
    "\n",
    "## Arbeiten mit Feather\n",
    "Wir wollen jetzt einen großen DataFrame aus einer Gleichverteilung erstellen und diesen einmal mit pandas `to_csv` und einmal mit `feather` speichern. "
   ]
  },
  {
   "cell_type": "code",
   "execution_count": 2,
   "id": "1740b4a2",
   "metadata": {},
   "outputs": [
    {
     "data": {
      "text/html": [
       "<div>\n",
       "<style scoped>\n",
       "    .dataframe tbody tr th:only-of-type {\n",
       "        vertical-align: middle;\n",
       "    }\n",
       "\n",
       "    .dataframe tbody tr th {\n",
       "        vertical-align: top;\n",
       "    }\n",
       "\n",
       "    .dataframe thead th {\n",
       "        text-align: right;\n",
       "    }\n",
       "</style>\n",
       "<table border=\"1\" class=\"dataframe\">\n",
       "  <thead>\n",
       "    <tr style=\"text-align: right;\">\n",
       "      <th></th>\n",
       "      <th>a</th>\n",
       "      <th>b</th>\n",
       "      <th>c</th>\n",
       "      <th>d</th>\n",
       "    </tr>\n",
       "  </thead>\n",
       "  <tbody>\n",
       "    <tr>\n",
       "      <th>0</th>\n",
       "      <td>0.324050</td>\n",
       "      <td>0.091008</td>\n",
       "      <td>0.706418</td>\n",
       "      <td>0.989340</td>\n",
       "    </tr>\n",
       "    <tr>\n",
       "      <th>1</th>\n",
       "      <td>0.648961</td>\n",
       "      <td>0.063097</td>\n",
       "      <td>0.456979</td>\n",
       "      <td>0.013280</td>\n",
       "    </tr>\n",
       "    <tr>\n",
       "      <th>2</th>\n",
       "      <td>0.395322</td>\n",
       "      <td>0.251725</td>\n",
       "      <td>0.730725</td>\n",
       "      <td>0.759643</td>\n",
       "    </tr>\n",
       "    <tr>\n",
       "      <th>3</th>\n",
       "      <td>0.334077</td>\n",
       "      <td>0.877719</td>\n",
       "      <td>0.524200</td>\n",
       "      <td>0.699598</td>\n",
       "    </tr>\n",
       "    <tr>\n",
       "      <th>4</th>\n",
       "      <td>0.193544</td>\n",
       "      <td>0.101755</td>\n",
       "      <td>0.795134</td>\n",
       "      <td>0.722851</td>\n",
       "    </tr>\n",
       "  </tbody>\n",
       "</table>\n",
       "</div>"
      ],
      "text/plain": [
       "          a         b         c         d\n",
       "0  0.324050  0.091008  0.706418  0.989340\n",
       "1  0.648961  0.063097  0.456979  0.013280\n",
       "2  0.395322  0.251725  0.730725  0.759643\n",
       "3  0.334077  0.877719  0.524200  0.699598\n",
       "4  0.193544  0.101755  0.795134  0.722851"
      ]
     },
     "execution_count": 2,
     "metadata": {},
     "output_type": "execute_result"
    }
   ],
   "source": [
    "import numpy as np\n",
    "import feather\n",
    "import pandas as pd\n",
    "\n",
    "SIZE = 1_000_000\n",
    "\n",
    "df = pd.DataFrame({\n",
    "    \"a\": np.random.rand(SIZE),\n",
    "    \"b\": np.random.rand(SIZE),\n",
    "    \"c\": np.random.rand(SIZE),\n",
    "    \"d\": np.random.rand(SIZE),\n",
    "})\n",
    "\n",
    "df.head()"
   ]
  },
  {
   "cell_type": "markdown",
   "id": "88762f62",
   "metadata": {},
   "source": [
    "## Als CSV speichern und Zeit messen\n",
    "mit `%%time`  können wir die vergangene Zeit messen, die eine Zelle zur Berechnung benötigt hat. Man muss hier zwischen `Wall time` und `CPU-Time` unterscheiden. Wall Time ist die tatsächlich vergangene Zeit nach menschlichen Maßstäben, CPU time ist die Zeit, die die CPU benötigt hat. In diesem Beispiel unterscheiden sich die beiden nicht groß."
   ]
  },
  {
   "cell_type": "code",
   "execution_count": 4,
   "id": "eae677e3",
   "metadata": {},
   "outputs": [
    {
     "name": "stdout",
     "output_type": "stream",
     "text": [
      "CPU times: user 8.23 s, sys: 263 ms, total: 8.49 s\n",
      "Wall time: 8.94 s\n"
     ]
    }
   ],
   "source": [
    "%%time\n",
    "df.to_csv(\"data/feather.csv\")"
   ]
  },
  {
   "cell_type": "markdown",
   "id": "18691692",
   "metadata": {},
   "source": [
    "## Als Feather speichern und Zeit messen\n",
    "Nun Speichern wir den DataFrame als Feather-Datei. Der Zeitunterschied ist enorm!"
   ]
  },
  {
   "cell_type": "code",
   "execution_count": 5,
   "id": "d8f35b48",
   "metadata": {},
   "outputs": [
    {
     "name": "stdout",
     "output_type": "stream",
     "text": [
      "CPU times: user 68.3 ms, sys: 44.5 ms, total: 113 ms\n",
      "Wall time: 63.4 ms\n"
     ]
    }
   ],
   "source": [
    "%%time\n",
    "df.to_feather(\"data/feather.feather\")"
   ]
  },
  {
   "cell_type": "markdown",
   "id": "b501925c",
   "metadata": {},
   "source": [
    "## Dateigrößen prüfen\n",
    "Ein Vergleich der Dateigrößen zeigt, dass die feather Datei 30MB groß ist, die CSV-Datei ca. 80MB. Es ist also auch ein ordentlicher Raumgewinn, der beim Nutzen von Feather einhergeht."
   ]
  },
  {
   "cell_type": "markdown",
   "id": "ee82e5d2",
   "metadata": {},
   "source": [
    "## Feather Datei wieder einlesen\n",
    "Eine Feather-Datei lässt sich mit `read_feather` auch wieder leicht einlesen."
   ]
  },
  {
   "cell_type": "code",
   "execution_count": 6,
   "id": "52c6594f",
   "metadata": {},
   "outputs": [
    {
     "data": {
      "text/html": [
       "<div>\n",
       "<style scoped>\n",
       "    .dataframe tbody tr th:only-of-type {\n",
       "        vertical-align: middle;\n",
       "    }\n",
       "\n",
       "    .dataframe tbody tr th {\n",
       "        vertical-align: top;\n",
       "    }\n",
       "\n",
       "    .dataframe thead th {\n",
       "        text-align: right;\n",
       "    }\n",
       "</style>\n",
       "<table border=\"1\" class=\"dataframe\">\n",
       "  <thead>\n",
       "    <tr style=\"text-align: right;\">\n",
       "      <th></th>\n",
       "      <th>a</th>\n",
       "      <th>b</th>\n",
       "      <th>c</th>\n",
       "      <th>d</th>\n",
       "    </tr>\n",
       "  </thead>\n",
       "  <tbody>\n",
       "    <tr>\n",
       "      <th>0</th>\n",
       "      <td>0.324050</td>\n",
       "      <td>0.091008</td>\n",
       "      <td>0.706418</td>\n",
       "      <td>0.989340</td>\n",
       "    </tr>\n",
       "    <tr>\n",
       "      <th>1</th>\n",
       "      <td>0.648961</td>\n",
       "      <td>0.063097</td>\n",
       "      <td>0.456979</td>\n",
       "      <td>0.013280</td>\n",
       "    </tr>\n",
       "    <tr>\n",
       "      <th>2</th>\n",
       "      <td>0.395322</td>\n",
       "      <td>0.251725</td>\n",
       "      <td>0.730725</td>\n",
       "      <td>0.759643</td>\n",
       "    </tr>\n",
       "    <tr>\n",
       "      <th>3</th>\n",
       "      <td>0.334077</td>\n",
       "      <td>0.877719</td>\n",
       "      <td>0.524200</td>\n",
       "      <td>0.699598</td>\n",
       "    </tr>\n",
       "    <tr>\n",
       "      <th>4</th>\n",
       "      <td>0.193544</td>\n",
       "      <td>0.101755</td>\n",
       "      <td>0.795134</td>\n",
       "      <td>0.722851</td>\n",
       "    </tr>\n",
       "  </tbody>\n",
       "</table>\n",
       "</div>"
      ],
      "text/plain": [
       "          a         b         c         d\n",
       "0  0.324050  0.091008  0.706418  0.989340\n",
       "1  0.648961  0.063097  0.456979  0.013280\n",
       "2  0.395322  0.251725  0.730725  0.759643\n",
       "3  0.334077  0.877719  0.524200  0.699598\n",
       "4  0.193544  0.101755  0.795134  0.722851"
      ]
     },
     "execution_count": 6,
     "metadata": {},
     "output_type": "execute_result"
    }
   ],
   "source": [
    "df_2 = pd.read_feather(\"data/feather.feather\")\n",
    "df_2.head()"
   ]
  }
 ],
 "metadata": {
  "kernelspec": {
   "display_name": "venv",
   "language": "python",
   "name": "venv"
  },
  "language_info": {
   "codemirror_mode": {
    "name": "ipython",
    "version": 3
   },
   "file_extension": ".py",
   "mimetype": "text/x-python",
   "name": "python",
   "nbconvert_exporter": "python",
   "pygments_lexer": "ipython3",
   "version": "3.9.10"
  }
 },
 "nbformat": 4,
 "nbformat_minor": 5
}

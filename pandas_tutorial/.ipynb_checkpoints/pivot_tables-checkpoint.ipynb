{
 "cells": [
  {
   "cell_type": "markdown",
   "id": "c413d60d",
   "metadata": {},
   "source": [
    "# Pivot-Tabellen in Pandas - Eine umfassende Anleitung\n",
    "\n",
    "In diesem Notebook lernen Sie die verschiedenen Möglichkeiten, **Pivot-Tabellen** mit Pandas zu erstellen und zu analysieren."
   ]
  },
  {
   "cell_type": "markdown",
   "id": "3dd3c0b2",
   "metadata": {},
   "source": [
    "## 1. Was ist eine Pivot-Tabelle?\n",
    "\n",
    "Eine Pivot-Tabelle ist eine Datenstruktur, die es ermöglicht, Daten **zusammenzufassen**, zu **aggregieren** und **neu anzuordnen**. Sie wird häufig zur Datenanalyse verwendet."
   ]
  },
  {
   "cell_type": "markdown",
   "id": "4ba30535",
   "metadata": {},
   "source": [
    "## 2. Beispiel-Datensatz erstellen\n",
    "\n",
    "Wir erstellen zunächst einen einfachen Beispiel-Datensatz, um die Konzepte zu verdeutlichen."
   ]
  },
  {
   "cell_type": "code",
   "execution_count": 2,
   "id": "0da14804",
   "metadata": {},
   "outputs": [
    {
     "name": "stdout",
     "output_type": "stream",
     "text": [
      "Beispiel-Daten:\n"
     ]
    },
    {
     "data": {
      "text/html": [
       "<div>\n",
       "<style scoped>\n",
       "    .dataframe tbody tr th:only-of-type {\n",
       "        vertical-align: middle;\n",
       "    }\n",
       "\n",
       "    .dataframe tbody tr th {\n",
       "        vertical-align: top;\n",
       "    }\n",
       "\n",
       "    .dataframe thead th {\n",
       "        text-align: right;\n",
       "    }\n",
       "</style>\n",
       "<table border=\"1\" class=\"dataframe\">\n",
       "  <thead>\n",
       "    <tr style=\"text-align: right;\">\n",
       "      <th></th>\n",
       "      <th>Kategorie</th>\n",
       "      <th>Produkt</th>\n",
       "      <th>Umsatz</th>\n",
       "      <th>Datum</th>\n",
       "    </tr>\n",
       "  </thead>\n",
       "  <tbody>\n",
       "    <tr>\n",
       "      <th>0</th>\n",
       "      <td>A</td>\n",
       "      <td>X</td>\n",
       "      <td>100</td>\n",
       "      <td>2024-01-01</td>\n",
       "    </tr>\n",
       "    <tr>\n",
       "      <th>1</th>\n",
       "      <td>B</td>\n",
       "      <td>Y</td>\n",
       "      <td>150</td>\n",
       "      <td>2024-01-02</td>\n",
       "    </tr>\n",
       "    <tr>\n",
       "      <th>2</th>\n",
       "      <td>A</td>\n",
       "      <td>Z</td>\n",
       "      <td>200</td>\n",
       "      <td>2024-01-03</td>\n",
       "    </tr>\n",
       "    <tr>\n",
       "      <th>3</th>\n",
       "      <td>C</td>\n",
       "      <td>X</td>\n",
       "      <td>130</td>\n",
       "      <td>2024-01-04</td>\n",
       "    </tr>\n",
       "    <tr>\n",
       "      <th>4</th>\n",
       "      <td>B</td>\n",
       "      <td>Y</td>\n",
       "      <td>120</td>\n",
       "      <td>2024-01-05</td>\n",
       "    </tr>\n",
       "    <tr>\n",
       "      <th>5</th>\n",
       "      <td>C</td>\n",
       "      <td>Z</td>\n",
       "      <td>180</td>\n",
       "      <td>2024-01-06</td>\n",
       "    </tr>\n",
       "    <tr>\n",
       "      <th>6</th>\n",
       "      <td>A</td>\n",
       "      <td>X</td>\n",
       "      <td>140</td>\n",
       "      <td>2024-01-07</td>\n",
       "    </tr>\n",
       "    <tr>\n",
       "      <th>7</th>\n",
       "      <td>B</td>\n",
       "      <td>Y</td>\n",
       "      <td>170</td>\n",
       "      <td>2024-01-08</td>\n",
       "    </tr>\n",
       "    <tr>\n",
       "      <th>8</th>\n",
       "      <td>C</td>\n",
       "      <td>Z</td>\n",
       "      <td>160</td>\n",
       "      <td>2024-01-09</td>\n",
       "    </tr>\n",
       "    <tr>\n",
       "      <th>9</th>\n",
       "      <td>A</td>\n",
       "      <td>X</td>\n",
       "      <td>190</td>\n",
       "      <td>2024-01-10</td>\n",
       "    </tr>\n",
       "  </tbody>\n",
       "</table>\n",
       "</div>"
      ],
      "text/plain": [
       "  Kategorie Produkt  Umsatz      Datum\n",
       "0         A       X     100 2024-01-01\n",
       "1         B       Y     150 2024-01-02\n",
       "2         A       Z     200 2024-01-03\n",
       "3         C       X     130 2024-01-04\n",
       "4         B       Y     120 2024-01-05\n",
       "5         C       Z     180 2024-01-06\n",
       "6         A       X     140 2024-01-07\n",
       "7         B       Y     170 2024-01-08\n",
       "8         C       Z     160 2024-01-09\n",
       "9         A       X     190 2024-01-10"
      ]
     },
     "execution_count": 2,
     "metadata": {},
     "output_type": "execute_result"
    }
   ],
   "source": [
    "import pandas as pd\n",
    "\n",
    "# Beispiel-Daten\n",
    "data = {\n",
    "    'Kategorie': ['A', 'B', 'A', 'C', 'B', 'C', 'A', 'B', 'C', 'A'],\n",
    "    'Produkt': ['X', 'Y', 'Z', 'X', 'Y', 'Z', 'X', 'Y', 'Z', 'X'],\n",
    "    'Umsatz': [100, 150, 200, 130, 120, 180, 140, 170, 160, 190],\n",
    "    'Datum': pd.date_range(start='2024-01-01', periods=10, freq='D')\n",
    "}\n",
    "df = pd.DataFrame(data)\n",
    "print(\"Beispiel-Daten:\")\n",
    "df"
   ]
  },
  {
   "cell_type": "markdown",
   "id": "93ce95b3",
   "metadata": {},
   "source": [
    "## 3. Einfache Pivot-Tabelle erstellen\n",
    "\n",
    "Verwenden Sie die Methode `pivot_table()` von Pandas, um eine einfache Pivot-Tabelle zu erstellen."
   ]
  },
  {
   "cell_type": "code",
   "execution_count": 3,
   "id": "f4477ed5",
   "metadata": {},
   "outputs": [
    {
     "name": "stdout",
     "output_type": "stream",
     "text": [
      "Einfache Pivot-Tabelle:\n",
      "Produkt      X    Y    Z\n",
      "Kategorie               \n",
      "A          430    0  200\n",
      "B            0  440    0\n",
      "C          130    0  340\n"
     ]
    }
   ],
   "source": [
    "# Erstellen einer einfachen Pivot-Tabelle: Umsätze nach Kategorie und Produkt\n",
    "pivot1 = df.pivot_table(values='Umsatz', index='Kategorie', columns='Produkt', aggfunc='sum', fill_value=0)\n",
    "print(\"Einfache Pivot-Tabelle:\")\n",
    "print(pivot1)"
   ]
  },
  {
   "cell_type": "markdown",
   "id": "7be44408",
   "metadata": {},
   "source": [
    "### Erklärung:\n",
    "- **`values`**: Die Spalte, die zusammengefasst werden soll (z.B. Umsatz).\n",
    "- **`index`**: Die Zeilenkategorien.\n",
    "- **`columns`**: Die Spaltenkategorien.\n",
    "- **`aggfunc`**: Die Aggregationsfunktion (z.B. `sum`, `mean`, `count`).\n",
    "- **`fill_value`**: Setzt fehlende Werte auf einen bestimmten Wert (z.B. `0`)."
   ]
  },
  {
   "cell_type": "markdown",
   "id": "09f885e4",
   "metadata": {},
   "source": [
    "## 4. Mehrere Aggregationsfunktionen verwenden\n",
    "\n",
    "Sie können mehrere Aggregationsfunktionen gleichzeitig anwenden."
   ]
  },
  {
   "cell_type": "code",
   "execution_count": 4,
   "id": "474913ec",
   "metadata": {},
   "outputs": [
    {
     "name": "stdout",
     "output_type": "stream",
     "text": [
      "Pivot-Tabelle mit mehreren Aggregationsfunktionen:\n",
      "           sum                  mean                   \n",
      "Produkt      X    Y    Z           X           Y      Z\n",
      "Kategorie                                              \n",
      "A          430    0  200  143.333333    0.000000  200.0\n",
      "B            0  440    0    0.000000  146.666667    0.0\n",
      "C          130    0  340  130.000000    0.000000  170.0\n"
     ]
    }
   ],
   "source": [
    "# Mehrere Aggregationsfunktionen: Summe und Mittelwert\n",
    "pivot2 = df.pivot_table(values='Umsatz', index='Kategorie', columns='Produkt', aggfunc=['sum', 'mean'], fill_value=0)\n",
    "print(\"Pivot-Tabelle mit mehreren Aggregationsfunktionen:\")\n",
    "print(pivot2)"
   ]
  },
  {
   "cell_type": "markdown",
   "id": "a57162bd",
   "metadata": {},
   "source": [
    "## 5. Zeitbasierte Pivot-Tabellen\n",
    "\n",
    "Pivot-Tabellen eignen sich hervorragend für zeitbasierte Daten."
   ]
  },
  {
   "cell_type": "code",
   "execution_count": 5,
   "id": "b78a2f43",
   "metadata": {},
   "outputs": [
    {
     "name": "stdout",
     "output_type": "stream",
     "text": [
      "Zeitbasierte Pivot-Tabelle:\n",
      "Kategorie    A    B    C\n",
      "Datum                   \n",
      "1          630  440  470\n"
     ]
    }
   ],
   "source": [
    "# Umsätze nach Datum und Kategorie aggregieren\n",
    "pivot3 = df.pivot_table(values='Umsatz', index=df['Datum'].dt.month, columns='Kategorie', aggfunc='sum', fill_value=0)\n",
    "print(\"Zeitbasierte Pivot-Tabelle:\")\n",
    "print(pivot3)"
   ]
  },
  {
   "cell_type": "markdown",
   "id": "eab14314",
   "metadata": {},
   "source": [
    "## 6. Pivot-Tabelle mit mehreren Indexen\n",
    "\n",
    "Sie können mehrere Spalten für den Index oder die Spalten verwenden."
   ]
  },
  {
   "cell_type": "code",
   "execution_count": 6,
   "id": "ecde36b6",
   "metadata": {},
   "outputs": [
    {
     "name": "stdout",
     "output_type": "stream",
     "text": [
      "Pivot-Tabelle mit mehreren Indexen und Spalten:\n",
      "Datum               1    2    3    4    5    6    7    8    9    10\n",
      "Kategorie Produkt                                                  \n",
      "A         X        100    0    0    0    0    0  140    0    0  190\n",
      "          Z          0    0  200    0    0    0    0    0    0    0\n",
      "B         Y          0  150    0    0  120    0    0  170    0    0\n",
      "C         X          0    0    0  130    0    0    0    0    0    0\n",
      "          Z          0    0    0    0    0  180    0    0  160    0\n"
     ]
    }
   ],
   "source": [
    "# Mehrere Indexe und Spalten\n",
    "pivot4 = df.pivot_table(values='Umsatz', index=['Kategorie', 'Produkt'], columns=df['Datum'].dt.day, aggfunc='sum', fill_value=0)\n",
    "print(\"Pivot-Tabelle mit mehreren Indexen und Spalten:\")\n",
    "print(pivot4)"
   ]
  },
  {
   "cell_type": "markdown",
   "id": "8d8ce183",
   "metadata": {},
   "source": [
    "## 7. Filtern und Sortieren von Pivot-Tabellen\n",
    "\n",
    "Nach dem Erstellen können Sie Pivot-Tabellen wie einen normalen DataFrame filtern und sortieren."
   ]
  },
  {
   "cell_type": "code",
   "execution_count": 9,
   "id": "53195b14",
   "metadata": {},
   "outputs": [
    {
     "name": "stdout",
     "output_type": "stream",
     "text": [
      "Gefilterte Pivot-Tabelle:\n",
      "Produkt      X    Y    Z\n",
      "Kategorie               \n",
      "A          430    0  200\n",
      "B            0  440    0\n",
      "C          130    0  340\n"
     ]
    },
    {
     "data": {
      "text/plain": [
       "(None, pandas.core.frame.DataFrame)"
      ]
     },
     "execution_count": 9,
     "metadata": {},
     "output_type": "execute_result"
    }
   ],
   "source": [
    "# Filtern: Nur Kategorien mit Umsatz > 150 anzeigen\n",
    "filtered = pivot1[pivot1.sum(axis=1) > 150]\n",
    "print(\"Gefilterte Pivot-Tabelle:\")\n",
    "print(filtered), type(filtered)"
   ]
  },
  {
   "cell_type": "markdown",
   "id": "bb4a37c8",
   "metadata": {},
   "source": [
    "## 8. Pivot-Tabelle zurück in einen DataFrame umwandeln\n",
    "\n",
    "Sie können eine Pivot-Tabelle zurück in einen flachen DataFrame konvertieren."
   ]
  },
  {
   "cell_type": "code",
   "execution_count": null,
   "id": "9926052c",
   "metadata": {},
   "outputs": [],
   "source": [
    "# Reset der Pivot-Tabelle in ein flaches Format\n",
    "flattened = pivot1.reset_index()\n",
    "print(\"Flache Pivot-Tabelle:\")\n",
    "print(flattened)"
   ]
  },
  {
   "cell_type": "markdown",
   "id": "f19881f0",
   "metadata": {},
   "source": [
    "## 9. Zusammenfassung\n",
    "\n",
    "In diesem Notebook haben wir Folgendes gelernt:\n",
    "1. **Pivot-Tabellen erstellen** mit der `pivot_table()`-Methode.\n",
    "2. Verwendung von **mehreren Aggregationsfunktionen**.\n",
    "3. Pivot-Tabellen für **zeitbasierte Analysen**.\n",
    "4. Arbeiten mit **mehreren Indexen und Spalten**.\n",
    "5. Filtern und Sortieren von Pivot-Tabellen.\n",
    "6. Zurückkonvertieren einer Pivot-Tabelle in einen flachen DataFrame."
   ]
  }
 ],
 "metadata": {
  "kernelspec": {
   "display_name": "Python 3 (ipykernel)",
   "language": "python",
   "name": "python3"
  },
  "language_info": {
   "codemirror_mode": {
    "name": "ipython",
    "version": 3
   },
   "file_extension": ".py",
   "mimetype": "text/x-python",
   "name": "python",
   "nbconvert_exporter": "python",
   "pygments_lexer": "ipython3",
   "version": "3.12.4"
  }
 },
 "nbformat": 4,
 "nbformat_minor": 5
}

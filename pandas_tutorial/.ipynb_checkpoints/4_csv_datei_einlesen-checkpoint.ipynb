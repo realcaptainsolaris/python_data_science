{
 "cells": [
  {
   "cell_type": "markdown",
   "id": "50413ef1",
   "metadata": {},
   "source": [
    "# CSV-Datei in einen DataFrame einlesen\n",
    "Pandas bietet mit der Methode `read_csv()` eine einfache Methode, eine CSV-Datei einzulesen. Die Methode bietet unzählige Parameter. Mehr dazu in der Doku: https://pandas.pydata.org/docs/reference/api/pandas.read_csv.html"
   ]
  },
  {
   "cell_type": "code",
   "execution_count": 2,
   "id": "d2fdbbae",
   "metadata": {},
   "outputs": [],
   "source": [
    "import numpy as np\n",
    "import pandas as pd\n",
    "np.random.seed(42)"
   ]
  },
  {
   "cell_type": "markdown",
   "id": "5144038c",
   "metadata": {},
   "source": [
    "## Beispiel: Firmenmitarbeiter\n",
    "Unsere Beispiel-Datei ist eine fiktive Mitarbeiter-Datei mit 500 Mitarbeitern und 11 Spalten.\n",
    "Wir wollen die Datei einlesen und untersuchen."
   ]
  },
  {
   "cell_type": "markdown",
   "id": "3edc915d",
   "metadata": {},
   "source": [
    "### 1. Datei mit read_csv einlesen"
   ]
  },
  {
   "cell_type": "code",
   "execution_count": 22,
   "id": "d8d53c42",
   "metadata": {},
   "outputs": [],
   "source": [
    "file_name = \"data/uk-500.csv\"\n",
    "df = pd.read_csv(file_name)"
   ]
  },
  {
   "cell_type": "markdown",
   "id": "7b60e215",
   "metadata": {},
   "source": [
    "### 2. die ersten 5 Zeilen ausgeben lassen"
   ]
  },
  {
   "cell_type": "code",
   "execution_count": 5,
   "id": "6a43aede",
   "metadata": {},
   "outputs": [
    {
     "data": {
      "text/html": [
       "<div>\n",
       "<style scoped>\n",
       "    .dataframe tbody tr th:only-of-type {\n",
       "        vertical-align: middle;\n",
       "    }\n",
       "\n",
       "    .dataframe tbody tr th {\n",
       "        vertical-align: top;\n",
       "    }\n",
       "\n",
       "    .dataframe thead th {\n",
       "        text-align: right;\n",
       "    }\n",
       "</style>\n",
       "<table border=\"1\" class=\"dataframe\">\n",
       "  <thead>\n",
       "    <tr style=\"text-align: right;\">\n",
       "      <th></th>\n",
       "      <th>first_name</th>\n",
       "      <th>last_name</th>\n",
       "      <th>company_name</th>\n",
       "      <th>address</th>\n",
       "      <th>city</th>\n",
       "      <th>county</th>\n",
       "      <th>postal</th>\n",
       "      <th>phone1</th>\n",
       "      <th>phone2</th>\n",
       "      <th>email</th>\n",
       "      <th>web</th>\n",
       "    </tr>\n",
       "  </thead>\n",
       "  <tbody>\n",
       "    <tr>\n",
       "      <th>0</th>\n",
       "      <td>Aleshia</td>\n",
       "      <td>Tomkiewicz</td>\n",
       "      <td>Alan D Rosenburg Cpa Pc</td>\n",
       "      <td>14 Taylor St</td>\n",
       "      <td>St. Stephens Ward</td>\n",
       "      <td>Kent</td>\n",
       "      <td>CT2 7PP</td>\n",
       "      <td>01835-703597</td>\n",
       "      <td>01944-369967</td>\n",
       "      <td>atomkiewicz@hotmail.com</td>\n",
       "      <td>http://www.alandrosenburgcpapc.co.uk</td>\n",
       "    </tr>\n",
       "    <tr>\n",
       "      <th>1</th>\n",
       "      <td>Evan</td>\n",
       "      <td>Zigomalas</td>\n",
       "      <td>Cap Gemini America</td>\n",
       "      <td>5 Binney St</td>\n",
       "      <td>Abbey Ward</td>\n",
       "      <td>Buckinghamshire</td>\n",
       "      <td>HP11 2AX</td>\n",
       "      <td>01937-864715</td>\n",
       "      <td>01714-737668</td>\n",
       "      <td>evan.zigomalas@gmail.com</td>\n",
       "      <td>http://www.capgeminiamerica.co.uk</td>\n",
       "    </tr>\n",
       "    <tr>\n",
       "      <th>2</th>\n",
       "      <td>France</td>\n",
       "      <td>Andrade</td>\n",
       "      <td>Elliott, John W Esq</td>\n",
       "      <td>8 Moor Place</td>\n",
       "      <td>East Southbourne and Tuckton W</td>\n",
       "      <td>Bournemouth</td>\n",
       "      <td>BH6 3BE</td>\n",
       "      <td>01347-368222</td>\n",
       "      <td>01935-821636</td>\n",
       "      <td>france.andrade@hotmail.com</td>\n",
       "      <td>http://www.elliottjohnwesq.co.uk</td>\n",
       "    </tr>\n",
       "    <tr>\n",
       "      <th>3</th>\n",
       "      <td>Ulysses</td>\n",
       "      <td>Mcwalters</td>\n",
       "      <td>Mcmahan, Ben L</td>\n",
       "      <td>505 Exeter Rd</td>\n",
       "      <td>Hawerby cum Beesby</td>\n",
       "      <td>Lincolnshire</td>\n",
       "      <td>DN36 5RP</td>\n",
       "      <td>01912-771311</td>\n",
       "      <td>01302-601380</td>\n",
       "      <td>ulysses@hotmail.com</td>\n",
       "      <td>http://www.mcmahanbenl.co.uk</td>\n",
       "    </tr>\n",
       "    <tr>\n",
       "      <th>4</th>\n",
       "      <td>Tyisha</td>\n",
       "      <td>Veness</td>\n",
       "      <td>Champagne Room</td>\n",
       "      <td>5396 Forth Street</td>\n",
       "      <td>Greets Green and Lyng Ward</td>\n",
       "      <td>West Midlands</td>\n",
       "      <td>B70 9DT</td>\n",
       "      <td>01547-429341</td>\n",
       "      <td>01290-367248</td>\n",
       "      <td>tyisha.veness@hotmail.com</td>\n",
       "      <td>http://www.champagneroom.co.uk</td>\n",
       "    </tr>\n",
       "  </tbody>\n",
       "</table>\n",
       "</div>"
      ],
      "text/plain": [
       "  first_name   last_name             company_name            address  \\\n",
       "0    Aleshia  Tomkiewicz  Alan D Rosenburg Cpa Pc       14 Taylor St   \n",
       "1       Evan   Zigomalas       Cap Gemini America        5 Binney St   \n",
       "2     France     Andrade      Elliott, John W Esq       8 Moor Place   \n",
       "3    Ulysses   Mcwalters           Mcmahan, Ben L      505 Exeter Rd   \n",
       "4     Tyisha      Veness           Champagne Room  5396 Forth Street   \n",
       "\n",
       "                             city           county    postal        phone1  \\\n",
       "0               St. Stephens Ward             Kent   CT2 7PP  01835-703597   \n",
       "1                      Abbey Ward  Buckinghamshire  HP11 2AX  01937-864715   \n",
       "2  East Southbourne and Tuckton W      Bournemouth   BH6 3BE  01347-368222   \n",
       "3              Hawerby cum Beesby     Lincolnshire  DN36 5RP  01912-771311   \n",
       "4      Greets Green and Lyng Ward    West Midlands   B70 9DT  01547-429341   \n",
       "\n",
       "         phone2                       email  \\\n",
       "0  01944-369967     atomkiewicz@hotmail.com   \n",
       "1  01714-737668    evan.zigomalas@gmail.com   \n",
       "2  01935-821636  france.andrade@hotmail.com   \n",
       "3  01302-601380         ulysses@hotmail.com   \n",
       "4  01290-367248   tyisha.veness@hotmail.com   \n",
       "\n",
       "                                    web  \n",
       "0  http://www.alandrosenburgcpapc.co.uk  \n",
       "1     http://www.capgeminiamerica.co.uk  \n",
       "2      http://www.elliottjohnwesq.co.uk  \n",
       "3          http://www.mcmahanbenl.co.uk  \n",
       "4        http://www.champagneroom.co.uk  "
      ]
     },
     "execution_count": 5,
     "metadata": {},
     "output_type": "execute_result"
    }
   ],
   "source": [
    "df.head(5)"
   ]
  },
  {
   "cell_type": "markdown",
   "id": "c01397b2",
   "metadata": {},
   "source": [
    "### 3. die letzte Zeile ausgeben lassen"
   ]
  },
  {
   "cell_type": "code",
   "execution_count": 9,
   "id": "33335965",
   "metadata": {},
   "outputs": [
    {
     "data": {
      "text/html": [
       "<div>\n",
       "<style scoped>\n",
       "    .dataframe tbody tr th:only-of-type {\n",
       "        vertical-align: middle;\n",
       "    }\n",
       "\n",
       "    .dataframe tbody tr th {\n",
       "        vertical-align: top;\n",
       "    }\n",
       "\n",
       "    .dataframe thead th {\n",
       "        text-align: right;\n",
       "    }\n",
       "</style>\n",
       "<table border=\"1\" class=\"dataframe\">\n",
       "  <thead>\n",
       "    <tr style=\"text-align: right;\">\n",
       "      <th></th>\n",
       "      <th>first_name</th>\n",
       "      <th>last_name</th>\n",
       "      <th>company_name</th>\n",
       "      <th>address</th>\n",
       "      <th>city</th>\n",
       "      <th>county</th>\n",
       "      <th>postal</th>\n",
       "      <th>phone1</th>\n",
       "      <th>phone2</th>\n",
       "      <th>email</th>\n",
       "      <th>web</th>\n",
       "    </tr>\n",
       "  </thead>\n",
       "  <tbody>\n",
       "    <tr>\n",
       "      <th>499</th>\n",
       "      <td>Mi</td>\n",
       "      <td>Richan</td>\n",
       "      <td>Nelson Wright Haworth Golf Crs</td>\n",
       "      <td>6 Norwood Grove</td>\n",
       "      <td>Tanworth-in-Arden</td>\n",
       "      <td>Warwickshire</td>\n",
       "      <td>B94 5RZ</td>\n",
       "      <td>01451-785624</td>\n",
       "      <td>01202-738406</td>\n",
       "      <td>mi@hotmail.com</td>\n",
       "      <td>http://www.nelsonwrighthaworthgolfcrs.co.uk</td>\n",
       "    </tr>\n",
       "  </tbody>\n",
       "</table>\n",
       "</div>"
      ],
      "text/plain": [
       "    first_name last_name                    company_name          address  \\\n",
       "499         Mi    Richan  Nelson Wright Haworth Golf Crs  6 Norwood Grove   \n",
       "\n",
       "                  city        county   postal        phone1        phone2  \\\n",
       "499  Tanworth-in-Arden  Warwickshire  B94 5RZ  01451-785624  01202-738406   \n",
       "\n",
       "              email                                          web  \n",
       "499  mi@hotmail.com  http://www.nelsonwrighthaworthgolfcrs.co.uk  "
      ]
     },
     "execution_count": 9,
     "metadata": {},
     "output_type": "execute_result"
    }
   ],
   "source": [
    "df.tail(1)"
   ]
  },
  {
   "cell_type": "markdown",
   "id": "138fa492",
   "metadata": {},
   "source": [
    "### die Spaltennamen ausgeben lassen"
   ]
  },
  {
   "cell_type": "code",
   "execution_count": 6,
   "id": "6945a284",
   "metadata": {},
   "outputs": [
    {
     "data": {
      "text/plain": [
       "Index(['first_name', 'last_name', 'company_name', 'address', 'city', 'county',\n",
       "       'postal', 'phone1', 'phone2', 'email', 'web'],\n",
       "      dtype='object')"
      ]
     },
     "execution_count": 6,
     "metadata": {},
     "output_type": "execute_result"
    }
   ],
   "source": [
    "df.columns"
   ]
  },
  {
   "cell_type": "markdown",
   "id": "165e2de5",
   "metadata": {},
   "source": [
    "### Shape und Dimensionen\n",
    "Anhand des shapes kann man sehen, wie groß die Datei ist. Der erste Wert bildet die Zeilen des Dataframes ab, der zweite Wert repräsentiert die Spalten. Die Dimension ist 2, wie das bei einem Dataframe immer der Fall ist, da es sich ja um eine Tabelle handelt."
   ]
  },
  {
   "cell_type": "code",
   "execution_count": 7,
   "id": "3536a553",
   "metadata": {},
   "outputs": [
    {
     "data": {
      "text/plain": [
       "((500, 11), 2)"
      ]
     },
     "execution_count": 7,
     "metadata": {},
     "output_type": "execute_result"
    }
   ],
   "source": [
    "df.shape, df.ndim"
   ]
  },
  {
   "cell_type": "markdown",
   "id": "abdab14e",
   "metadata": {},
   "source": [
    "### eindeutige Werte einer Spalte (unique)\n",
    "Oft ist es von Interesse, wieviele eindeutige Werte eine Spalte hat. Wir interessieren uns für die eindeutigen Werte in der Spalte `county`. Dafür können wir die Methode `unique()` auf eine Series (Spalte) anwenden."
   ]
  },
  {
   "cell_type": "code",
   "execution_count": 13,
   "id": "3c687a20",
   "metadata": {},
   "outputs": [
    {
     "data": {
      "text/plain": [
       "(102,)"
      ]
     },
     "execution_count": 13,
     "metadata": {},
     "output_type": "execute_result"
    }
   ],
   "source": [
    "unique_counties = df.county.unique()\n",
    "unique_counties.shape"
   ]
  },
  {
   "cell_type": "markdown",
   "id": "dc0ae2f1",
   "metadata": {},
   "source": [
    "## Spalten beim Einlesen der Datei auslassen\n",
    "Falls wir nicht an allen Spalten interessiert sind, können wir sie auch gleich beim Einlesen auslassen. Wir interessieren uns jetzt nur für die Spalten `first_name`, `last_name` und `company_name`. Diese Technik verringert maßgeblich den Speicherverbrauch im RAM und sollte bei sehr großen Dateien durchgeführt werden."
   ]
  },
  {
   "cell_type": "code",
   "execution_count": 7,
   "id": "e9d4ec37",
   "metadata": {},
   "outputs": [
    {
     "data": {
      "text/html": [
       "<div>\n",
       "<style scoped>\n",
       "    .dataframe tbody tr th:only-of-type {\n",
       "        vertical-align: middle;\n",
       "    }\n",
       "\n",
       "    .dataframe tbody tr th {\n",
       "        vertical-align: top;\n",
       "    }\n",
       "\n",
       "    .dataframe thead th {\n",
       "        text-align: right;\n",
       "    }\n",
       "</style>\n",
       "<table border=\"1\" class=\"dataframe\">\n",
       "  <thead>\n",
       "    <tr style=\"text-align: right;\">\n",
       "      <th></th>\n",
       "      <th>first_name</th>\n",
       "      <th>last_name</th>\n",
       "      <th>company_name</th>\n",
       "    </tr>\n",
       "  </thead>\n",
       "  <tbody>\n",
       "    <tr>\n",
       "      <th>0</th>\n",
       "      <td>Aleshia</td>\n",
       "      <td>Tomkiewicz</td>\n",
       "      <td>Alan D Rosenburg Cpa Pc</td>\n",
       "    </tr>\n",
       "    <tr>\n",
       "      <th>1</th>\n",
       "      <td>Evan</td>\n",
       "      <td>Zigomalas</td>\n",
       "      <td>Cap Gemini America</td>\n",
       "    </tr>\n",
       "    <tr>\n",
       "      <th>2</th>\n",
       "      <td>France</td>\n",
       "      <td>Andrade</td>\n",
       "      <td>Elliott, John W Esq</td>\n",
       "    </tr>\n",
       "    <tr>\n",
       "      <th>3</th>\n",
       "      <td>Ulysses</td>\n",
       "      <td>Mcwalters</td>\n",
       "      <td>Mcmahan, Ben L</td>\n",
       "    </tr>\n",
       "    <tr>\n",
       "      <th>4</th>\n",
       "      <td>Tyisha</td>\n",
       "      <td>Veness</td>\n",
       "      <td>Champagne Room</td>\n",
       "    </tr>\n",
       "  </tbody>\n",
       "</table>\n",
       "</div>"
      ],
      "text/plain": [
       "  first_name   last_name             company_name\n",
       "0    Aleshia  Tomkiewicz  Alan D Rosenburg Cpa Pc\n",
       "1       Evan   Zigomalas       Cap Gemini America\n",
       "2     France     Andrade      Elliott, John W Esq\n",
       "3    Ulysses   Mcwalters           Mcmahan, Ben L\n",
       "4     Tyisha      Veness           Champagne Room"
      ]
     },
     "execution_count": 7,
     "metadata": {},
     "output_type": "execute_result"
    }
   ],
   "source": [
    "file_name = \"data/uk-500.csv\"\n",
    "df_employees = pd.read_csv(file_name, usecols=[\"first_name\", \"last_name\", \"company_name\"])\n",
    "df_employees.head()"
   ]
  },
  {
   "cell_type": "code",
   "execution_count": 18,
   "id": "3cd023eb",
   "metadata": {},
   "outputs": [
    {
     "name": "stdout",
     "output_type": "stream",
     "text": [
      "<class 'pandas.core.frame.DataFrame'>\n",
      "RangeIndex: 500 entries, 0 to 499\n",
      "Data columns (total 3 columns):\n",
      " #   Column        Non-Null Count  Dtype \n",
      "---  ------        --------------  ----- \n",
      " 0   first_name    500 non-null    object\n",
      " 1   last_name     500 non-null    object\n",
      " 2   company_name  500 non-null    object\n",
      "dtypes: object(3)\n",
      "memory usage: 11.8+ KB\n"
     ]
    }
   ],
   "source": [
    "df_employees.info()"
   ]
  },
  {
   "cell_type": "markdown",
   "id": "9f4776a6-9f20-43fb-a329-6261e5a66fdb",
   "metadata": {},
   "source": [
    "## Datentyp beim Auslesen angeben\n",
    "\n",
    "Eine weitere Methoden, den Speicherverbrauch zu reduzieren, ist es, die Datentypen der Spalten beim Laden der CSV-Datei anzugeben. Somit kann der Speicherverbrauch vor allem bei vorrangig numerischen Daten maßgeblich reduziert werden. "
   ]
  },
  {
   "cell_type": "code",
   "execution_count": 12,
   "id": "662ae3df-2d1b-4c7b-ab22-6e43c2f3d58a",
   "metadata": {},
   "outputs": [
    {
     "data": {
      "text/html": [
       "<div>\n",
       "<style scoped>\n",
       "    .dataframe tbody tr th:only-of-type {\n",
       "        vertical-align: middle;\n",
       "    }\n",
       "\n",
       "    .dataframe tbody tr th {\n",
       "        vertical-align: top;\n",
       "    }\n",
       "\n",
       "    .dataframe thead th {\n",
       "        text-align: right;\n",
       "    }\n",
       "</style>\n",
       "<table border=\"1\" class=\"dataframe\">\n",
       "  <thead>\n",
       "    <tr style=\"text-align: right;\">\n",
       "      <th></th>\n",
       "      <th>species</th>\n",
       "      <th>island</th>\n",
       "      <th>culmen_length_mm</th>\n",
       "      <th>culmen_depth_mm</th>\n",
       "      <th>flipper_length_mm</th>\n",
       "      <th>body_mass_g</th>\n",
       "      <th>sex</th>\n",
       "    </tr>\n",
       "  </thead>\n",
       "  <tbody>\n",
       "    <tr>\n",
       "      <th>342</th>\n",
       "      <td>Gentoo</td>\n",
       "      <td>Biscoe</td>\n",
       "      <td>45.200001</td>\n",
       "      <td>14.8</td>\n",
       "      <td>212.0</td>\n",
       "      <td>5200.0</td>\n",
       "      <td>FEMALE</td>\n",
       "    </tr>\n",
       "    <tr>\n",
       "      <th>343</th>\n",
       "      <td>Gentoo</td>\n",
       "      <td>Biscoe</td>\n",
       "      <td>49.900002</td>\n",
       "      <td>16.1</td>\n",
       "      <td>213.0</td>\n",
       "      <td>5400.0</td>\n",
       "      <td>MALE</td>\n",
       "    </tr>\n",
       "  </tbody>\n",
       "</table>\n",
       "</div>"
      ],
      "text/plain": [
       "    species  island  culmen_length_mm  culmen_depth_mm  flipper_length_mm  \\\n",
       "342  Gentoo  Biscoe         45.200001             14.8              212.0   \n",
       "343  Gentoo  Biscoe         49.900002             16.1              213.0   \n",
       "\n",
       "     body_mass_g     sex  \n",
       "342       5200.0  FEMALE  \n",
       "343       5400.0    MALE  "
      ]
     },
     "execution_count": 12,
     "metadata": {},
     "output_type": "execute_result"
    }
   ],
   "source": [
    "file_name = \"data/penguin_size.csv\"\n",
    "df = pd.read_csv(file_name, dtype={\"culmen_length_mm\": \"float32\", \"culmen_depth_mm\": \"float32\"})\n",
    "df.tail(2)"
   ]
  },
  {
   "cell_type": "markdown",
   "id": "bd881af7-bb1f-4515-8907-a8728c00be08",
   "metadata": {},
   "source": [
    "## Daten in Teilen einlesen\n",
    "\n",
    "Bei sehr großen CSV-Dateien kann es sinnvoll sein, die Daten in Teilen zu lesen, um den Arbeitsspeicher zu schonen. Dies ist besonders nützlich, wenn die Datei zu groß ist, um sie komplett in den Speicher zu laden. Eine empfohlene maximale Größe für die Arbeit mit Pandas liegt bei 5 bis 10 Millionen Zeilen oder etwa 1 bis 5 GB Daten, je nach Komplexität der Operationen und verfügbaren Arbeitsspeicher des Systems. Alternativ zum Batch-Prozess kann auch eine andere Libary gewählt werden: siehe Dask, Pyspark, Vaex und andere."
   ]
  },
  {
   "cell_type": "code",
   "execution_count": 14,
   "id": "94867307-9e68-456f-ac1b-dbd70921b14c",
   "metadata": {},
   "outputs": [
    {
     "data": {
      "text/html": [
       "<div>\n",
       "<style scoped>\n",
       "    .dataframe tbody tr th:only-of-type {\n",
       "        vertical-align: middle;\n",
       "    }\n",
       "\n",
       "    .dataframe tbody tr th {\n",
       "        vertical-align: top;\n",
       "    }\n",
       "\n",
       "    .dataframe thead th {\n",
       "        text-align: right;\n",
       "    }\n",
       "</style>\n",
       "<table border=\"1\" class=\"dataframe\">\n",
       "  <thead>\n",
       "    <tr style=\"text-align: right;\">\n",
       "      <th></th>\n",
       "      <th>species</th>\n",
       "      <th>island</th>\n",
       "      <th>culmen_length_mm</th>\n",
       "      <th>culmen_depth_mm</th>\n",
       "      <th>flipper_length_mm</th>\n",
       "      <th>body_mass_g</th>\n",
       "      <th>sex</th>\n",
       "    </tr>\n",
       "  </thead>\n",
       "  <tbody>\n",
       "    <tr>\n",
       "      <th>0</th>\n",
       "      <td>Adelie</td>\n",
       "      <td>Torgersen</td>\n",
       "      <td>39.1</td>\n",
       "      <td>18.7</td>\n",
       "      <td>181.0</td>\n",
       "      <td>3750.0</td>\n",
       "      <td>MALE</td>\n",
       "    </tr>\n",
       "    <tr>\n",
       "      <th>1</th>\n",
       "      <td>Adelie</td>\n",
       "      <td>Torgersen</td>\n",
       "      <td>39.5</td>\n",
       "      <td>17.4</td>\n",
       "      <td>186.0</td>\n",
       "      <td>3800.0</td>\n",
       "      <td>FEMALE</td>\n",
       "    </tr>\n",
       "    <tr>\n",
       "      <th>2</th>\n",
       "      <td>Adelie</td>\n",
       "      <td>Torgersen</td>\n",
       "      <td>36.7</td>\n",
       "      <td>19.3</td>\n",
       "      <td>193.0</td>\n",
       "      <td>3450.0</td>\n",
       "      <td>FEMALE</td>\n",
       "    </tr>\n",
       "  </tbody>\n",
       "</table>\n",
       "</div>"
      ],
      "text/plain": [
       "  species     island  culmen_length_mm  culmen_depth_mm  flipper_length_mm  \\\n",
       "0  Adelie  Torgersen              39.1             18.7              181.0   \n",
       "1  Adelie  Torgersen              39.5             17.4              186.0   \n",
       "2  Adelie  Torgersen              36.7             19.3              193.0   \n",
       "\n",
       "   body_mass_g     sex  \n",
       "0       3750.0    MALE  \n",
       "1       3800.0  FEMALE  \n",
       "2       3450.0  FEMALE  "
      ]
     },
     "execution_count": 14,
     "metadata": {},
     "output_type": "execute_result"
    }
   ],
   "source": [
    "# Daten stückweise einlesen um sehr große Datei einzulesen und zu filtern. \n",
    "\n",
    "# Create an empty DataFrame to store the filtered results\n",
    "filtered_df = pd.DataFrame()\n",
    "\n",
    "# Read the CSV file in chunks\n",
    "chunk_size = 1000  # Adjust the chunk size as needed\n",
    "for chunk in pd.read_csv(file_name, chunksize=chunk_size):\n",
    "    # Apply the filter condition on the chunk\n",
    "    filtered_chunk = chunk[chunk['culmen_length_mm'] < 40]\n",
    "    \n",
    "    # Append the filtered chunk to the filtered_df\n",
    "    filtered_df = pd.concat([filtered_df, filtered_chunk], ignore_index=True)\n",
    "\n",
    "# Display the final filtered DataFrame\n",
    "filtered_df.head(3)\n"
   ]
  },
  {
   "cell_type": "markdown",
   "id": "a546de93-72d9-40ce-8f7d-018b14287fa1",
   "metadata": {},
   "source": [
    "## Ergebnis als Pickle speichern\n",
    "\n",
    "Du kannst das gefilterte DataFrame als komprimierte Pickle-Datei speichern, um Speicherplatz zu sparen und die Ladezeiten zu verbessern. Hinweis: Pickle-Dateien sind nur im Python-Kosmus gebräuchlich (siehe parquet-Format für Alternative)"
   ]
  },
  {
   "cell_type": "code",
   "execution_count": 16,
   "id": "a90bb896-d20f-402b-802c-156b0c52e21a",
   "metadata": {},
   "outputs": [
    {
     "name": "stdout",
     "output_type": "stream",
     "text": [
      "Filtered DataFrame saved to data/filtered_penguins.pkl.gz\n"
     ]
    }
   ],
   "source": [
    "output_file = \"data/filtered_penguins.pkl.gz\"\n",
    "filtered_df.to_pickle(output_file, compression=\"gzip\")\n",
    "\n",
    "print(f\"Filtered DataFrame saved to {output_file}\")"
   ]
  },
  {
   "cell_type": "markdown",
   "id": "5eca442c-17e2-432a-a0e0-12b54055622d",
   "metadata": {},
   "source": [
    "## Pickle laden"
   ]
  },
  {
   "cell_type": "code",
   "execution_count": 17,
   "id": "b6b3a2b5-9793-4ef9-b2b5-d874dd6f4eb0",
   "metadata": {},
   "outputs": [
    {
     "name": "stdout",
     "output_type": "stream",
     "text": [
      "   species     island  culmen_length_mm  culmen_depth_mm  flipper_length_mm  \\\n",
      "0   Adelie  Torgersen              39.1             18.7              181.0   \n",
      "1   Adelie  Torgersen              39.5             17.4              186.0   \n",
      "2   Adelie  Torgersen              36.7             19.3              193.0   \n",
      "3   Adelie  Torgersen              39.3             20.6              190.0   \n",
      "4   Adelie  Torgersen              38.9             17.8              181.0   \n",
      "..     ...        ...               ...              ...                ...   \n",
      "95  Adelie      Dream              39.2             18.6              190.0   \n",
      "96  Adelie      Dream              36.6             18.4              184.0   \n",
      "97  Adelie      Dream              36.0             17.8              195.0   \n",
      "98  Adelie      Dream              37.8             18.1              193.0   \n",
      "99  Adelie      Dream              36.0             17.1              187.0   \n",
      "\n",
      "    body_mass_g     sex  \n",
      "0        3750.0    MALE  \n",
      "1        3800.0  FEMALE  \n",
      "2        3450.0  FEMALE  \n",
      "3        3650.0    MALE  \n",
      "4        3625.0  FEMALE  \n",
      "..          ...     ...  \n",
      "95       4250.0    MALE  \n",
      "96       3475.0  FEMALE  \n",
      "97       3450.0  FEMALE  \n",
      "98       3750.0    MALE  \n",
      "99       3700.0  FEMALE  \n",
      "\n",
      "[100 rows x 7 columns]\n"
     ]
    }
   ],
   "source": [
    "loaded_df = pd.read_pickle(output_file)\n",
    "print(loaded_df)"
   ]
  },
  {
   "cell_type": "markdown",
   "id": "15028d29-6c09-4682-8426-47e8150a006d",
   "metadata": {},
   "source": [
    "## Parquet-Format\n",
    "\n",
    "Eine sprachagnostische Alternative zu Pickle ist das Parquet-Format, das von vielen Programmiersprachen und Datenverarbeitungstools unterstützt wird, wie z.B. Python, R, Java, Apache Spark, etc. Parquet ist ein spaltenbasiertes Speicherformat, das effizient in der Speicherung und Abfrage von großen Datenmengen ist.\n"
   ]
  },
  {
   "cell_type": "code",
   "execution_count": 20,
   "id": "43eb8f53-7096-47bb-a7c1-4c97c4ca1676",
   "metadata": {},
   "outputs": [
    {
     "name": "stdout",
     "output_type": "stream",
     "text": [
      "Gefiltertes DataFrame wurde als data/filtered_penguins.parquet gespeichert.\n",
      "   species     island  culmen_length_mm  culmen_depth_mm  flipper_length_mm  \\\n",
      "0   Adelie  Torgersen              39.1             18.7              181.0   \n",
      "1   Adelie  Torgersen              39.5             17.4              186.0   \n",
      "2   Adelie  Torgersen              36.7             19.3              193.0   \n",
      "3   Adelie  Torgersen              39.3             20.6              190.0   \n",
      "4   Adelie  Torgersen              38.9             17.8              181.0   \n",
      "..     ...        ...               ...              ...                ...   \n",
      "95  Adelie      Dream              39.2             18.6              190.0   \n",
      "96  Adelie      Dream              36.6             18.4              184.0   \n",
      "97  Adelie      Dream              36.0             17.8              195.0   \n",
      "98  Adelie      Dream              37.8             18.1              193.0   \n",
      "99  Adelie      Dream              36.0             17.1              187.0   \n",
      "\n",
      "    body_mass_g     sex  \n",
      "0        3750.0    MALE  \n",
      "1        3800.0  FEMALE  \n",
      "2        3450.0  FEMALE  \n",
      "3        3650.0    MALE  \n",
      "4        3625.0  FEMALE  \n",
      "..          ...     ...  \n",
      "95       4250.0    MALE  \n",
      "96       3475.0  FEMALE  \n",
      "97       3450.0  FEMALE  \n",
      "98       3750.0    MALE  \n",
      "99       3700.0  FEMALE  \n",
      "\n",
      "[100 rows x 7 columns]\n"
     ]
    }
   ],
   "source": [
    "import pandas as pd\n",
    "\n",
    "# Angenommen, du hast ein gefiltertes DataFrame 'filtered_df'\n",
    "output_file = \"data/filtered_penguins.parquet\"\n",
    "\n",
    "# Speichere das DataFrame im Parquet-Format mit Kompression\n",
    "filtered_df.to_parquet(output_file, compression='gzip')\n",
    "\n",
    "print(f\"Gefiltertes DataFrame wurde als {output_file} gespeichert.\")\n",
    "\n",
    "# Lade die gespeicherte Parquet-Datei\n",
    "loaded_df = pd.read_parquet(output_file)\n",
    "print(loaded_df)\n"
   ]
  }
 ],
 "metadata": {
  "kernelspec": {
   "display_name": "Python 3 (ipykernel)",
   "language": "python",
   "name": "python3"
  },
  "language_info": {
   "codemirror_mode": {
    "name": "ipython",
    "version": 3
   },
   "file_extension": ".py",
   "mimetype": "text/x-python",
   "name": "python",
   "nbconvert_exporter": "python",
   "pygments_lexer": "ipython3",
   "version": "3.12.4"
  }
 },
 "nbformat": 4,
 "nbformat_minor": 5
}

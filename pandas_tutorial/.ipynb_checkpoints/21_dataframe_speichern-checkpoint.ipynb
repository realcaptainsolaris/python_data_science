{
 "cells": [
  {
   "cell_type": "markdown",
   "id": "16936db7",
   "metadata": {},
   "source": [
    "# Dataframe auf der Festplatte speichern\n",
    "Bisher hatten wir Dataframes als CSV-Daten gespeichert. Wir können Dataframes aber auch als `Pickle`-Objekte im Binärformat auf der Festplatte ablegen. Dazu können wir die Methode `to_pickle` nutzen."
   ]
  },
  {
   "cell_type": "code",
   "execution_count": 1,
   "id": "7dd24693",
   "metadata": {},
   "outputs": [],
   "source": [
    "import pandas as pd"
   ]
  },
  {
   "cell_type": "code",
   "execution_count": 6,
   "id": "0e49806a",
   "metadata": {},
   "outputs": [],
   "source": [
    "df_shortcuts = pd.DataFrame({\n",
    "    \"sales\": [1, 2, 3, 4],\n",
    "    \"shortcuts\": [\"p\", \"a\", \"q\", \"x\"]\n",
    "})\n",
    "\n",
    "df_shortcuts.to_pickle(\"shortcuts_df.pkl\")"
   ]
  },
  {
   "cell_type": "markdown",
   "id": "5c9611c8",
   "metadata": {},
   "source": [
    "## Pickle Datei einlesen\n",
    "Pickle Dateien können mit `pd.read_pickle` wieder eingelesen werden. VORSICHT: das sollte niemals von Quellen eingelesen werden, denen nicht getraut wird. Beim Entpickeln werden Methoden ausgeführt, die Schadcode ausführen könnten!"
   ]
  },
  {
   "cell_type": "code",
   "execution_count": 5,
   "id": "c239f6a3",
   "metadata": {},
   "outputs": [
    {
     "data": {
      "text/html": [
       "<div>\n",
       "<style scoped>\n",
       "    .dataframe tbody tr th:only-of-type {\n",
       "        vertical-align: middle;\n",
       "    }\n",
       "\n",
       "    .dataframe tbody tr th {\n",
       "        vertical-align: top;\n",
       "    }\n",
       "\n",
       "    .dataframe thead th {\n",
       "        text-align: right;\n",
       "    }\n",
       "</style>\n",
       "<table border=\"1\" class=\"dataframe\">\n",
       "  <thead>\n",
       "    <tr style=\"text-align: right;\">\n",
       "      <th></th>\n",
       "      <th>sales</th>\n",
       "      <th>shortcuts</th>\n",
       "    </tr>\n",
       "  </thead>\n",
       "  <tbody>\n",
       "    <tr>\n",
       "      <th>0</th>\n",
       "      <td>1</td>\n",
       "      <td>p</td>\n",
       "    </tr>\n",
       "    <tr>\n",
       "      <th>1</th>\n",
       "      <td>2</td>\n",
       "      <td>a</td>\n",
       "    </tr>\n",
       "    <tr>\n",
       "      <th>2</th>\n",
       "      <td>3</td>\n",
       "      <td>q</td>\n",
       "    </tr>\n",
       "    <tr>\n",
       "      <th>3</th>\n",
       "      <td>4</td>\n",
       "      <td>x</td>\n",
       "    </tr>\n",
       "  </tbody>\n",
       "</table>\n",
       "</div>"
      ],
      "text/plain": [
       "   sales shortcuts\n",
       "0      1         p\n",
       "1      2         a\n",
       "2      3         q\n",
       "3      4         x"
      ]
     },
     "execution_count": 5,
     "metadata": {},
     "output_type": "execute_result"
    }
   ],
   "source": [
    "df_shortcuts_new = pd.read_pickle(\"shortcuts_df.pkl\")\n",
    "df_shortcuts_new"
   ]
  }
 ],
 "metadata": {
  "kernelspec": {
   "display_name": "Python 3 (ipykernel)",
   "language": "python",
   "name": "python3"
  },
  "language_info": {
   "codemirror_mode": {
    "name": "ipython",
    "version": 3
   },
   "file_extension": ".py",
   "mimetype": "text/x-python",
   "name": "python",
   "nbconvert_exporter": "python",
   "pygments_lexer": "ipython3",
   "version": "3.9.10"
  }
 },
 "nbformat": 4,
 "nbformat_minor": 5
}

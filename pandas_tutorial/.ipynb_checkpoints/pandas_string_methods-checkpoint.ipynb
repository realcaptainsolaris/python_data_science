{
 "cells": [
  {
   "cell_type": "markdown",
   "id": "350b781c",
   "metadata": {},
   "source": [
    "# Pandas String-Methoden\n",
    "\n",
    "Pandas bietet eine Vielzahl von String-Methoden zur Manipulation und Analyse von Textdaten.\n",
    "Diese Methoden sind nützlich, wenn man mit Spalten arbeitet, die Zeichenketten enthalten.\n",
    "\n",
    "In diesem Notebook behandeln wir:\n",
    "- Grundlagen der String-Methoden (`.str.lower()`, `.str.upper()`, `.str.contains()` usw.)\n",
    "- `split()` mit `expand=True`\n",
    "- Anwendung in einem praktischen Beispiel\n"
   ]
  },
  {
   "cell_type": "markdown",
   "id": "9e46ea8f",
   "metadata": {},
   "source": [
    "## 1. Grundlagen der String-Methoden\n",
    "Hier sind einige grundlegende Methoden zur Manipulation von Textdaten in Pandas."
   ]
  },
  {
   "cell_type": "code",
   "execution_count": 1,
   "id": "dd8a1a80",
   "metadata": {},
   "outputs": [
    {
     "name": "stdout",
     "output_type": "stream",
     "text": [
      "Originaler DataFrame:\n"
     ]
    },
    {
     "data": {
      "text/html": [
       "<div>\n",
       "<style scoped>\n",
       "    .dataframe tbody tr th:only-of-type {\n",
       "        vertical-align: middle;\n",
       "    }\n",
       "\n",
       "    .dataframe tbody tr th {\n",
       "        vertical-align: top;\n",
       "    }\n",
       "\n",
       "    .dataframe thead th {\n",
       "        text-align: right;\n",
       "    }\n",
       "</style>\n",
       "<table border=\"1\" class=\"dataframe\">\n",
       "  <thead>\n",
       "    <tr style=\"text-align: right;\">\n",
       "      <th></th>\n",
       "      <th>Name</th>\n",
       "      <th>Email</th>\n",
       "    </tr>\n",
       "  </thead>\n",
       "  <tbody>\n",
       "    <tr>\n",
       "      <th>0</th>\n",
       "      <td>Alice Johnson</td>\n",
       "      <td>alice@example.com</td>\n",
       "    </tr>\n",
       "    <tr>\n",
       "      <th>1</th>\n",
       "      <td>Bob Smith</td>\n",
       "      <td>bob.smith@example.com</td>\n",
       "    </tr>\n",
       "    <tr>\n",
       "      <th>2</th>\n",
       "      <td>Charlie Brown</td>\n",
       "      <td>charlie@example.net</td>\n",
       "    </tr>\n",
       "  </tbody>\n",
       "</table>\n",
       "</div>"
      ],
      "text/plain": [
       "            Name                  Email\n",
       "0  Alice Johnson      alice@example.com\n",
       "1      Bob Smith  bob.smith@example.com\n",
       "2  Charlie Brown    charlie@example.net"
      ]
     },
     "metadata": {},
     "output_type": "display_data"
    },
    {
     "name": "stdout",
     "output_type": "stream",
     "text": [
      "DataFrame mit angewandten String-Methoden:\n"
     ]
    },
    {
     "data": {
      "text/html": [
       "<div>\n",
       "<style scoped>\n",
       "    .dataframe tbody tr th:only-of-type {\n",
       "        vertical-align: middle;\n",
       "    }\n",
       "\n",
       "    .dataframe tbody tr th {\n",
       "        vertical-align: top;\n",
       "    }\n",
       "\n",
       "    .dataframe thead th {\n",
       "        text-align: right;\n",
       "    }\n",
       "</style>\n",
       "<table border=\"1\" class=\"dataframe\">\n",
       "  <thead>\n",
       "    <tr style=\"text-align: right;\">\n",
       "      <th></th>\n",
       "      <th>Name</th>\n",
       "      <th>Email</th>\n",
       "      <th>Name_klein</th>\n",
       "      <th>Name_groß</th>\n",
       "      <th>Hat_Smith</th>\n",
       "    </tr>\n",
       "  </thead>\n",
       "  <tbody>\n",
       "    <tr>\n",
       "      <th>0</th>\n",
       "      <td>Alice Johnson</td>\n",
       "      <td>alice@example.com</td>\n",
       "      <td>alice johnson</td>\n",
       "      <td>ALICE JOHNSON</td>\n",
       "      <td>False</td>\n",
       "    </tr>\n",
       "    <tr>\n",
       "      <th>1</th>\n",
       "      <td>Bob Smith</td>\n",
       "      <td>bob.smith@example.com</td>\n",
       "      <td>bob smith</td>\n",
       "      <td>BOB SMITH</td>\n",
       "      <td>True</td>\n",
       "    </tr>\n",
       "    <tr>\n",
       "      <th>2</th>\n",
       "      <td>Charlie Brown</td>\n",
       "      <td>charlie@example.net</td>\n",
       "      <td>charlie brown</td>\n",
       "      <td>CHARLIE BROWN</td>\n",
       "      <td>False</td>\n",
       "    </tr>\n",
       "  </tbody>\n",
       "</table>\n",
       "</div>"
      ],
      "text/plain": [
       "            Name                  Email     Name_klein      Name_groß  \\\n",
       "0  Alice Johnson      alice@example.com  alice johnson  ALICE JOHNSON   \n",
       "1      Bob Smith  bob.smith@example.com      bob smith      BOB SMITH   \n",
       "2  Charlie Brown    charlie@example.net  charlie brown  CHARLIE BROWN   \n",
       "\n",
       "   Hat_Smith  \n",
       "0      False  \n",
       "1       True  \n",
       "2      False  "
      ]
     },
     "metadata": {},
     "output_type": "display_data"
    }
   ],
   "source": [
    "import pandas as pd\n",
    "\n",
    "# Erstellen eines DataFrames mit Textspalten\n",
    "df = pd.DataFrame({\n",
    "    'Name': ['Alice Johnson', 'Bob Smith', 'Charlie Brown'],\n",
    "    'Email': ['alice@example.com', 'bob.smith@example.com', 'charlie@example.net']\n",
    "})\n",
    "\n",
    "print(\"Originaler DataFrame:\")\n",
    "display(df)\n",
    "\n",
    "# Anwendung von String-Methoden\n",
    "df['Name_klein'] = df['Name'].str.lower()\n",
    "df['Name_groß'] = df['Name'].str.upper()\n",
    "df['Hat_Smith'] = df['Name'].str.contains('Smith')\n",
    "\n",
    "print(\"DataFrame mit angewandten String-Methoden:\")\n",
    "display(df)\n"
   ]
  },
  {
   "cell_type": "markdown",
   "id": "bdf81052",
   "metadata": {},
   "source": [
    "## 2. Anwendung von `split()` mit `expand=True`\n",
    "Wir teilen eine Spalte in mehrere Spalten auf."
   ]
  },
  {
   "cell_type": "code",
   "execution_count": 2,
   "id": "9372ab37",
   "metadata": {},
   "outputs": [
    {
     "name": "stdout",
     "output_type": "stream",
     "text": [
      "DataFrame nach Split:\n"
     ]
    },
    {
     "data": {
      "text/html": [
       "<div>\n",
       "<style scoped>\n",
       "    .dataframe tbody tr th:only-of-type {\n",
       "        vertical-align: middle;\n",
       "    }\n",
       "\n",
       "    .dataframe tbody tr th {\n",
       "        vertical-align: top;\n",
       "    }\n",
       "\n",
       "    .dataframe thead th {\n",
       "        text-align: right;\n",
       "    }\n",
       "</style>\n",
       "<table border=\"1\" class=\"dataframe\">\n",
       "  <thead>\n",
       "    <tr style=\"text-align: right;\">\n",
       "      <th></th>\n",
       "      <th>Name</th>\n",
       "      <th>Email</th>\n",
       "      <th>Name_klein</th>\n",
       "      <th>Name_groß</th>\n",
       "      <th>Hat_Smith</th>\n",
       "      <th>Vorname</th>\n",
       "      <th>Nachname</th>\n",
       "    </tr>\n",
       "  </thead>\n",
       "  <tbody>\n",
       "    <tr>\n",
       "      <th>0</th>\n",
       "      <td>Alice Johnson</td>\n",
       "      <td>alice@example.com</td>\n",
       "      <td>alice johnson</td>\n",
       "      <td>ALICE JOHNSON</td>\n",
       "      <td>False</td>\n",
       "      <td>Alice</td>\n",
       "      <td>Johnson</td>\n",
       "    </tr>\n",
       "    <tr>\n",
       "      <th>1</th>\n",
       "      <td>Bob Smith</td>\n",
       "      <td>bob.smith@example.com</td>\n",
       "      <td>bob smith</td>\n",
       "      <td>BOB SMITH</td>\n",
       "      <td>True</td>\n",
       "      <td>Bob</td>\n",
       "      <td>Smith</td>\n",
       "    </tr>\n",
       "    <tr>\n",
       "      <th>2</th>\n",
       "      <td>Charlie Brown</td>\n",
       "      <td>charlie@example.net</td>\n",
       "      <td>charlie brown</td>\n",
       "      <td>CHARLIE BROWN</td>\n",
       "      <td>False</td>\n",
       "      <td>Charlie</td>\n",
       "      <td>Brown</td>\n",
       "    </tr>\n",
       "  </tbody>\n",
       "</table>\n",
       "</div>"
      ],
      "text/plain": [
       "            Name                  Email     Name_klein      Name_groß  \\\n",
       "0  Alice Johnson      alice@example.com  alice johnson  ALICE JOHNSON   \n",
       "1      Bob Smith  bob.smith@example.com      bob smith      BOB SMITH   \n",
       "2  Charlie Brown    charlie@example.net  charlie brown  CHARLIE BROWN   \n",
       "\n",
       "   Hat_Smith  Vorname Nachname  \n",
       "0      False    Alice  Johnson  \n",
       "1       True      Bob    Smith  \n",
       "2      False  Charlie    Brown  "
      ]
     },
     "metadata": {},
     "output_type": "display_data"
    }
   ],
   "source": [
    "# Spalte 'Name' in Vor- und Nachname aufteilen\n",
    "df[['Vorname', 'Nachname']] = df['Name'].str.split(' ', expand=True)\n",
    "\n",
    "print(\"DataFrame nach Split:\")\n",
    "display(df)\n"
   ]
  },
  {
   "cell_type": "markdown",
   "id": "3170891f",
   "metadata": {},
   "source": [
    "## Fazit\n",
    "- Pandas bietet viele nützliche String-Methoden für Textverarbeitung.\n",
    "- `split()` mit `expand=True` kann verwendet werden, um Spalten zu trennen.\n",
    "- Diese Methoden sind hilfreich für die Datenbereinigung und Analyse.\n"
   ]
  }
 ],
 "metadata": {
  "kernelspec": {
   "display_name": "Python 3 (ipykernel)",
   "language": "python",
   "name": "python3"
  },
  "language_info": {
   "codemirror_mode": {
    "name": "ipython",
    "version": 3
   },
   "file_extension": ".py",
   "mimetype": "text/x-python",
   "name": "python",
   "nbconvert_exporter": "python",
   "pygments_lexer": "ipython3",
   "version": "3.12.4"
  }
 },
 "nbformat": 4,
 "nbformat_minor": 5
}

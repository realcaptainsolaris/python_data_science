{
 "cells": [
  {
   "cell_type": "markdown",
   "id": "12bc3004",
   "metadata": {},
   "source": [
    "# Die Apply Methode\n",
    "Mit der Apply-Methode lassen sich auf Spalten Funktionen anwenden. So könnte man zum Beispiel Einträge einer Spalte anhand einer Vergleichsfunktion kategorisieren oder die Einträge verändern.\n",
    "\n",
    "Doku:\n",
    "https://pandas.pydata.org/docs/reference/api/pandas.DataFrame.apply.html\n"
   ]
  },
  {
   "cell_type": "code",
   "execution_count": 4,
   "id": "523d74e1",
   "metadata": {},
   "outputs": [],
   "source": [
    "import numpy as np\n",
    "import pandas as pd\n",
    "import matplotlib.pyplot as plt"
   ]
  },
  {
   "cell_type": "markdown",
   "id": "2308e7de-c5b3-4be3-af03-e588333d5893",
   "metadata": {},
   "source": [
    "## Beispiel Status\n",
    "Wir wollen jedem Status einen Statuscode hinzufügen, dazu soll eine neue Spalte Status_code angelegt werden."
   ]
  },
  {
   "cell_type": "code",
   "execution_count": 22,
   "id": "88f42a81-ed5f-402d-a7b3-36f3a35dc311",
   "metadata": {},
   "outputs": [
    {
     "name": "stdout",
     "output_type": "stream",
     "text": [
      "     Status  Status_Code\n",
      "0    active            1\n",
      "1  inactive            0\n",
      "2    active            1\n",
      "3   pending           -1\n"
     ]
    }
   ],
   "source": [
    "df = pd.DataFrame({\"Status\": [\"active\", \"inactive\", \"active\", \"pending\"]})\n",
    "df\n",
    "# Mapping-Funktion\n",
    "status_mapping = {\"active\": 1, \"inactive\": 0, \"pending\": -1}\n",
    "df[\"Status_Code\"] = df[\"Status\"].apply(lambda x: status_mapping[x])\n",
    "\n",
    "print(df)"
   ]
  },
  {
   "cell_type": "markdown",
   "id": "c2cf0a69-7d9b-46c4-992c-25262434787e",
   "metadata": {},
   "source": [
    "## Beispiel Temperatur\n",
    "Temperatur von Celsius in Fahrenheit umrechnen\n",
    "\n"
   ]
  },
  {
   "cell_type": "code",
   "execution_count": 23,
   "id": "5a1264ae-3837-4830-95cd-b65d9a092970",
   "metadata": {},
   "outputs": [
    {
     "name": "stdout",
     "output_type": "stream",
     "text": [
      "   Celsius  Fahrenheit\n",
      "0        0        32.0\n",
      "1       10        50.0\n",
      "2       20        68.0\n",
      "3       30        86.0\n",
      "4       40       104.0\n"
     ]
    }
   ],
   "source": [
    "df = pd.DataFrame({\"Celsius\": [0, 10, 20, 30, 40]})\n",
    "\n",
    "def celsius_to_fahrenheit(c):\n",
    "    return (c * 9/5) + 32\n",
    "\n",
    "df[\"Fahrenheit\"] = df[\"Celsius\"].apply(celsius_to_fahrenheit)\n",
    "\n",
    "print(df)"
   ]
  },
  {
   "cell_type": "markdown",
   "id": "7fdea72a",
   "metadata": {},
   "source": [
    "## Beispiel Berge\n",
    "Gegeben ist ein Dataframe mit Daten von Bergen. Wir wollen jetzt die Einträge der Spalte \"Hill_Name\" so verändern, dass wir den Suffix \"_MT\" von jeden jedem Eintrag rauslöschen."
   ]
  },
  {
   "cell_type": "code",
   "execution_count": 5,
   "id": "c5f0078e",
   "metadata": {},
   "outputs": [
    {
     "data": {
      "text/html": [
       "<div>\n",
       "<style scoped>\n",
       "    .dataframe tbody tr th:only-of-type {\n",
       "        vertical-align: middle;\n",
       "    }\n",
       "\n",
       "    .dataframe tbody tr th {\n",
       "        vertical-align: top;\n",
       "    }\n",
       "\n",
       "    .dataframe thead th {\n",
       "        text-align: right;\n",
       "    }\n",
       "</style>\n",
       "<table border=\"1\" class=\"dataframe\">\n",
       "  <thead>\n",
       "    <tr style=\"text-align: right;\">\n",
       "      <th></th>\n",
       "      <th>Hill_Name</th>\n",
       "      <th>Height</th>\n",
       "      <th>Latitude</th>\n",
       "      <th>Longitude</th>\n",
       "    </tr>\n",
       "  </thead>\n",
       "  <tbody>\n",
       "    <tr>\n",
       "      <th>0</th>\n",
       "      <td>Ben Nevis_MT</td>\n",
       "      <td>1345</td>\n",
       "      <td>56.796850</td>\n",
       "      <td>-5.003508</td>\n",
       "    </tr>\n",
       "    <tr>\n",
       "      <th>1</th>\n",
       "      <td>Ben Macdui_MT</td>\n",
       "      <td>1309</td>\n",
       "      <td>57.070453</td>\n",
       "      <td>-3.668262</td>\n",
       "    </tr>\n",
       "    <tr>\n",
       "      <th>2</th>\n",
       "      <td>Braeriach_MT</td>\n",
       "      <td>1296</td>\n",
       "      <td>57.078628</td>\n",
       "      <td>-3.728024</td>\n",
       "    </tr>\n",
       "    <tr>\n",
       "      <th>3</th>\n",
       "      <td>Cairn Toul_MT</td>\n",
       "      <td>1291</td>\n",
       "      <td>57.054611</td>\n",
       "      <td>-3.710420</td>\n",
       "    </tr>\n",
       "    <tr>\n",
       "      <th>4</th>\n",
       "      <td>Sgòr an Lochan Uaine_MT</td>\n",
       "      <td>1258</td>\n",
       "      <td>57.057999</td>\n",
       "      <td>-3.725416</td>\n",
       "    </tr>\n",
       "  </tbody>\n",
       "</table>\n",
       "</div>"
      ],
      "text/plain": [
       "                 Hill_Name  Height   Latitude  Longitude\n",
       "0             Ben Nevis_MT    1345  56.796850  -5.003508\n",
       "1            Ben Macdui_MT    1309  57.070453  -3.668262\n",
       "2             Braeriach_MT    1296  57.078628  -3.728024\n",
       "3            Cairn Toul_MT    1291  57.054611  -3.710420\n",
       "4  Sgòr an Lochan Uaine_MT    1258  57.057999  -3.725416"
      ]
     },
     "execution_count": 5,
     "metadata": {},
     "output_type": "execute_result"
    }
   ],
   "source": [
    "scottish_hills = {\n",
    "    'Hill_Name': ['Ben Nevis_MT', 'Ben Macdui_MT', 'Braeriach_MT', 'Cairn Toul_MT', 'Sgòr an Lochan Uaine_MT'],\n",
    "    'Height': [1345, 1309, 1296, 1291, 1258],\n",
    "    'Latitude': [56.79685, 57.070453, 57.078628, 57.054611, 57.057999],\n",
    "    'Longitude': [-5.003508, -3.668262, -3.728024, -3.71042, -3.725416]}\n",
    "\n",
    "\n",
    "df = pd.DataFrame(scottish_hills)\n",
    "df"
   ]
  },
  {
   "cell_type": "markdown",
   "id": "1705a1a9",
   "metadata": {},
   "source": [
    "### Löschen des Suffixes _MT\n",
    "wir schreiben dazu eine Funktion, die einen String entgegennimmt, und den Substring _MT durch einen leeren String ersetzt. Danach nutzen wir die Methode apply auf der Spalte Hill_Name und führen somit für jeden Eintrag in dieser Spalte die Funktion auf. `apply()` erwartet als Argument eine Funktionsreferenz.\n",
    "\n",
    "Die Funktion `replace_suffix` erwartet als Parameter einen String. Die Funktion wird nun auf jeden Wert der Spalte angewandt."
   ]
  },
  {
   "cell_type": "code",
   "execution_count": 7,
   "id": "a88ae715",
   "metadata": {},
   "outputs": [
    {
     "data": {
      "text/html": [
       "<div>\n",
       "<style scoped>\n",
       "    .dataframe tbody tr th:only-of-type {\n",
       "        vertical-align: middle;\n",
       "    }\n",
       "\n",
       "    .dataframe tbody tr th {\n",
       "        vertical-align: top;\n",
       "    }\n",
       "\n",
       "    .dataframe thead th {\n",
       "        text-align: right;\n",
       "    }\n",
       "</style>\n",
       "<table border=\"1\" class=\"dataframe\">\n",
       "  <thead>\n",
       "    <tr style=\"text-align: right;\">\n",
       "      <th></th>\n",
       "      <th>Hill_Name</th>\n",
       "      <th>Height</th>\n",
       "      <th>Latitude</th>\n",
       "      <th>Longitude</th>\n",
       "      <th>hillname2</th>\n",
       "    </tr>\n",
       "  </thead>\n",
       "  <tbody>\n",
       "    <tr>\n",
       "      <th>0</th>\n",
       "      <td>Ben Nevis</td>\n",
       "      <td>1345</td>\n",
       "      <td>56.796850</td>\n",
       "      <td>-5.003508</td>\n",
       "      <td>Ben Nevis</td>\n",
       "    </tr>\n",
       "    <tr>\n",
       "      <th>1</th>\n",
       "      <td>Ben Macdui</td>\n",
       "      <td>1309</td>\n",
       "      <td>57.070453</td>\n",
       "      <td>-3.668262</td>\n",
       "      <td>Ben Macdui</td>\n",
       "    </tr>\n",
       "    <tr>\n",
       "      <th>2</th>\n",
       "      <td>Braeriach</td>\n",
       "      <td>1296</td>\n",
       "      <td>57.078628</td>\n",
       "      <td>-3.728024</td>\n",
       "      <td>Braeriach</td>\n",
       "    </tr>\n",
       "    <tr>\n",
       "      <th>3</th>\n",
       "      <td>Cairn Toul</td>\n",
       "      <td>1291</td>\n",
       "      <td>57.054611</td>\n",
       "      <td>-3.710420</td>\n",
       "      <td>Cairn Toul</td>\n",
       "    </tr>\n",
       "    <tr>\n",
       "      <th>4</th>\n",
       "      <td>Sgòr an Lochan Uaine</td>\n",
       "      <td>1258</td>\n",
       "      <td>57.057999</td>\n",
       "      <td>-3.725416</td>\n",
       "      <td>Sgòr an Lochan Uaine</td>\n",
       "    </tr>\n",
       "  </tbody>\n",
       "</table>\n",
       "</div>"
      ],
      "text/plain": [
       "              Hill_Name  Height   Latitude  Longitude             hillname2\n",
       "0             Ben Nevis    1345  56.796850  -5.003508             Ben Nevis\n",
       "1            Ben Macdui    1309  57.070453  -3.668262            Ben Macdui\n",
       "2             Braeriach    1296  57.078628  -3.728024             Braeriach\n",
       "3            Cairn Toul    1291  57.054611  -3.710420            Cairn Toul\n",
       "4  Sgòr an Lochan Uaine    1258  57.057999  -3.725416  Sgòr an Lochan Uaine"
      ]
     },
     "execution_count": 7,
     "metadata": {},
     "output_type": "execute_result"
    }
   ],
   "source": [
    "def replace_suffix(entry: str) -> str:\n",
    "    return entry.replace(\"_MT\", \"\")\n",
    "\n",
    "df[\"Hill_Name\"] = df[\"Hill_Name\"].apply(replace_suffix)\n",
    "df\n",
    "\n",
    "# Alternative via replace\n",
    "df[\"hillname2\"] = df[\"Hill_Name\"].str.replace(\"_MT\", \"\")\n",
    "df\n"
   ]
  },
  {
   "cell_type": "markdown",
   "id": "b8c3cd6a",
   "metadata": {},
   "source": [
    "### Neue Spalte Bergkategorie\n",
    "Wir wollen jetzt eine neue Spalte in den DataFrame einfügen. Und zwar wollen wir eine Kategoriespalte haben, die den Berg nach seiner Höhe klassifiziert. Wir haben zwei Klassen: `small` und `big`. \n",
    "\n",
    "Dazu schreiben wir eine Funktion, die die Klassifizierung anhand der Spalte `Height` vornimmt. Und wir erstellen eine neue Spalte im Dataframe `df`."
   ]
  },
  {
   "cell_type": "code",
   "execution_count": 18,
   "id": "f4689551",
   "metadata": {},
   "outputs": [
    {
     "data": {
      "text/html": [
       "<div>\n",
       "<style scoped>\n",
       "    .dataframe tbody tr th:only-of-type {\n",
       "        vertical-align: middle;\n",
       "    }\n",
       "\n",
       "    .dataframe tbody tr th {\n",
       "        vertical-align: top;\n",
       "    }\n",
       "\n",
       "    .dataframe thead th {\n",
       "        text-align: right;\n",
       "    }\n",
       "</style>\n",
       "<table border=\"1\" class=\"dataframe\">\n",
       "  <thead>\n",
       "    <tr style=\"text-align: right;\">\n",
       "      <th></th>\n",
       "      <th>Hill_Name</th>\n",
       "      <th>Height</th>\n",
       "      <th>Latitude</th>\n",
       "      <th>Longitude</th>\n",
       "      <th>hillname2</th>\n",
       "      <th>Hill_Category</th>\n",
       "    </tr>\n",
       "  </thead>\n",
       "  <tbody>\n",
       "    <tr>\n",
       "      <th>0</th>\n",
       "      <td>Ben Nevis</td>\n",
       "      <td>1345</td>\n",
       "      <td>56.796850</td>\n",
       "      <td>-5.003508</td>\n",
       "      <td>Ben Nevis</td>\n",
       "      <td>big</td>\n",
       "    </tr>\n",
       "    <tr>\n",
       "      <th>1</th>\n",
       "      <td>Ben Macdui</td>\n",
       "      <td>1309</td>\n",
       "      <td>57.070453</td>\n",
       "      <td>-3.668262</td>\n",
       "      <td>Ben Macdui</td>\n",
       "      <td>big</td>\n",
       "    </tr>\n",
       "    <tr>\n",
       "      <th>2</th>\n",
       "      <td>Braeriach</td>\n",
       "      <td>1296</td>\n",
       "      <td>57.078628</td>\n",
       "      <td>-3.728024</td>\n",
       "      <td>Braeriach</td>\n",
       "      <td>small</td>\n",
       "    </tr>\n",
       "    <tr>\n",
       "      <th>3</th>\n",
       "      <td>Cairn Toul</td>\n",
       "      <td>1291</td>\n",
       "      <td>57.054611</td>\n",
       "      <td>-3.710420</td>\n",
       "      <td>Cairn Toul</td>\n",
       "      <td>small</td>\n",
       "    </tr>\n",
       "    <tr>\n",
       "      <th>4</th>\n",
       "      <td>Sgòr an Lochan Uaine</td>\n",
       "      <td>1258</td>\n",
       "      <td>57.057999</td>\n",
       "      <td>-3.725416</td>\n",
       "      <td>Sgòr an Lochan Uaine</td>\n",
       "      <td>small</td>\n",
       "    </tr>\n",
       "  </tbody>\n",
       "</table>\n",
       "</div>"
      ],
      "text/plain": [
       "              Hill_Name  Height   Latitude  Longitude             hillname2  \\\n",
       "0             Ben Nevis    1345  56.796850  -5.003508             Ben Nevis   \n",
       "1            Ben Macdui    1309  57.070453  -3.668262            Ben Macdui   \n",
       "2             Braeriach    1296  57.078628  -3.728024             Braeriach   \n",
       "3            Cairn Toul    1291  57.054611  -3.710420            Cairn Toul   \n",
       "4  Sgòr an Lochan Uaine    1258  57.057999  -3.725416  Sgòr an Lochan Uaine   \n",
       "\n",
       "  Hill_Category  \n",
       "0           big  \n",
       "1           big  \n",
       "2         small  \n",
       "3         small  \n",
       "4         small  "
      ]
     },
     "execution_count": 18,
     "metadata": {},
     "output_type": "execute_result"
    }
   ],
   "source": [
    "def size(n: int) -> str:\n",
    "    if n > 1300:\n",
    "        return 'big'\n",
    "    return 'small'\n",
    "\n",
    "df[\"Hill_Category\"] = df[\"Height\"].apply(size)\n",
    "df"
   ]
  },
  {
   "cell_type": "code",
   "execution_count": 19,
   "id": "4c89959e",
   "metadata": {},
   "outputs": [
    {
     "data": {
      "image/png": "[encoded data removed]",
      "text/plain": [
       "<Figure size 640x480 with 1 Axes>"
      ]
     },
     "metadata": {},
     "output_type": "display_data"
    }
   ],
   "source": [
    "# plt.bar(df['Hill_Name'], df['Height'])\n",
    "df.plot(kind=\"bar\", x=\"Hill_Name\", y=\"Height\", legend=False)\n",
    "plt.xticks(rotation=25)\n",
    "plt.ylabel(\"Höhe in Meter\")\n",
    "plt.show()"
   ]
  },
  {
   "cell_type": "code",
   "execution_count": 6,
   "id": "310f42df",
   "metadata": {},
   "outputs": [
    {
     "data": {
      "text/plain": [
       "0    1345\n",
       "1    1309\n",
       "2    1296\n",
       "3    1291\n",
       "4    1258\n",
       "Name: Height, dtype: int64"
      ]
     },
     "execution_count": 6,
     "metadata": {},
     "output_type": "execute_result"
    }
   ],
   "source": [
    "df.Height.round()"
   ]
  },
  {
   "cell_type": "markdown",
   "id": "99e2a142",
   "metadata": {},
   "source": [
    "## Eindeutige Werte einer Spalte bestimmen"
   ]
  },
  {
   "cell_type": "code",
   "execution_count": 7,
   "id": "508068a7",
   "metadata": {},
   "outputs": [
    {
     "data": {
      "text/plain": [
       "array(['big', 'small'], dtype=object)"
      ]
     },
     "execution_count": 7,
     "metadata": {},
     "output_type": "execute_result"
    }
   ],
   "source": [
    "df.Hill_Category.unique()"
   ]
  },
  {
   "cell_type": "markdown",
   "id": "22df82b7",
   "metadata": {},
   "source": [
    "## Duplikate bestimmen\n",
    "Das Gegenteil von `unique` ist die Funktion `duplicated`. Diese Methode, die auf einen Dataframe sowie auf eine Series angewendet werden kann, erzeugt eine boolsche Serie aller Einträge, die doppelt in dem Dataframe vorkommen. wird die Methode auf einen `DataFrame` angewandt, werden bei der Überprüfung alle Spalten berücksichtigt.\n",
    "\n",
    "Mehr dazu unter:\n",
    "https://pandas.pydata.org/docs/reference/api/pandas.DataFrame.duplicated.html"
   ]
  },
  {
   "cell_type": "code",
   "execution_count": 21,
   "id": "515f03a6",
   "metadata": {},
   "outputs": [
    {
     "data": {
      "text/html": [
       "<div>\n",
       "<style scoped>\n",
       "    .dataframe tbody tr th:only-of-type {\n",
       "        vertical-align: middle;\n",
       "    }\n",
       "\n",
       "    .dataframe tbody tr th {\n",
       "        vertical-align: top;\n",
       "    }\n",
       "\n",
       "    .dataframe thead th {\n",
       "        text-align: right;\n",
       "    }\n",
       "</style>\n",
       "<table border=\"1\" class=\"dataframe\">\n",
       "  <thead>\n",
       "    <tr style=\"text-align: right;\">\n",
       "      <th></th>\n",
       "      <th>Hill_Name</th>\n",
       "      <th>Height</th>\n",
       "      <th>Latitude</th>\n",
       "      <th>Longitude</th>\n",
       "      <th>hillname2</th>\n",
       "      <th>Hill_Category</th>\n",
       "    </tr>\n",
       "  </thead>\n",
       "  <tbody>\n",
       "    <tr>\n",
       "      <th>0</th>\n",
       "      <td>Ben Nevis</td>\n",
       "      <td>1345</td>\n",
       "      <td>56.796850</td>\n",
       "      <td>-5.003508</td>\n",
       "      <td>Ben Nevis</td>\n",
       "      <td>big</td>\n",
       "    </tr>\n",
       "    <tr>\n",
       "      <th>1</th>\n",
       "      <td>Ben Macdui</td>\n",
       "      <td>1309</td>\n",
       "      <td>57.070453</td>\n",
       "      <td>-3.668262</td>\n",
       "      <td>Ben Macdui</td>\n",
       "      <td>big</td>\n",
       "    </tr>\n",
       "    <tr>\n",
       "      <th>2</th>\n",
       "      <td>Braeriach</td>\n",
       "      <td>1296</td>\n",
       "      <td>57.078628</td>\n",
       "      <td>-3.728024</td>\n",
       "      <td>Braeriach</td>\n",
       "      <td>small</td>\n",
       "    </tr>\n",
       "    <tr>\n",
       "      <th>3</th>\n",
       "      <td>Cairn Toul</td>\n",
       "      <td>1291</td>\n",
       "      <td>57.054611</td>\n",
       "      <td>-3.710420</td>\n",
       "      <td>Cairn Toul</td>\n",
       "      <td>small</td>\n",
       "    </tr>\n",
       "    <tr>\n",
       "      <th>4</th>\n",
       "      <td>Sgòr an Lochan Uaine</td>\n",
       "      <td>1258</td>\n",
       "      <td>57.057999</td>\n",
       "      <td>-3.725416</td>\n",
       "      <td>Sgòr an Lochan Uaine</td>\n",
       "      <td>small</td>\n",
       "    </tr>\n",
       "  </tbody>\n",
       "</table>\n",
       "</div>"
      ],
      "text/plain": [
       "              Hill_Name  Height   Latitude  Longitude             hillname2  \\\n",
       "0             Ben Nevis    1345  56.796850  -5.003508             Ben Nevis   \n",
       "1            Ben Macdui    1309  57.070453  -3.668262            Ben Macdui   \n",
       "2             Braeriach    1296  57.078628  -3.728024             Braeriach   \n",
       "3            Cairn Toul    1291  57.054611  -3.710420            Cairn Toul   \n",
       "4  Sgòr an Lochan Uaine    1258  57.057999  -3.725416  Sgòr an Lochan Uaine   \n",
       "\n",
       "  Hill_Category  \n",
       "0           big  \n",
       "1           big  \n",
       "2         small  \n",
       "3         small  \n",
       "4         small  "
      ]
     },
     "execution_count": 21,
     "metadata": {},
     "output_type": "execute_result"
    }
   ],
   "source": [
    "# Anzahl der Dupletten\n",
    "df.Hill_Category.duplicated().sum()\n",
    "df"
   ]
  },
  {
   "cell_type": "code",
   "execution_count": 20,
   "id": "9da38b3d",
   "metadata": {},
   "outputs": [
    {
     "data": {
      "text/plain": [
       "(0    False\n",
       " 1    False\n",
       " 2    False\n",
       " 3    False\n",
       " 4    False\n",
       " dtype: bool,\n",
       " 0    False\n",
       " 1     True\n",
       " 2    False\n",
       " 3     True\n",
       " 4     True\n",
       " Name: Hill_Category, dtype: bool)"
      ]
     },
     "execution_count": 20,
     "metadata": {},
     "output_type": "execute_result"
    }
   ],
   "source": [
    "df.duplicated(), df.Hill_Category.duplicated()"
   ]
  },
  {
   "cell_type": "code",
   "execution_count": null,
   "id": "2a933bd7",
   "metadata": {},
   "outputs": [],
   "source": []
  }
 ],
 "metadata": {
  "kernelspec": {
   "display_name": "Python 3 (ipykernel)",
   "language": "python",
   "name": "python3"
  },
  "language_info": {
   "codemirror_mode": {
    "name": "ipython",
    "version": 3
   },
   "file_extension": ".py",
   "mimetype": "text/x-python",
   "name": "python",
   "nbconvert_exporter": "python",
   "pygments_lexer": "ipython3",
   "version": "3.12.4"
  }
 },
 "nbformat": 4,
 "nbformat_minor": 5
}

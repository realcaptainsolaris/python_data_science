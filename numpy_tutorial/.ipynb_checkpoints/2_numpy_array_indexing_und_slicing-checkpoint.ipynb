{
 "cells": [
  {
   "cell_type": "code",
   "execution_count": 2,
   "id": "8e4fff49",
   "metadata": {},
   "outputs": [],
   "source": [
    "import numpy as np\n",
    "import matplotlib.pyplot as plt"
   ]
  },
  {
   "cell_type": "markdown",
   "id": "0d000e66",
   "metadata": {},
   "source": [
    "# Arrays indexieren DOZENT\n",
    "\n",
    "Wir können auf Elemente eines Numpy Arrays ebenso wie in Python-Listen (oder Arrays aus anderen Programmiersprachen) per Index zugreifen. Auf das letzte Element können wir mit -1 zugreifen, wie wir das auch von Python-Listen gewohnt sind.\n",
    "\n",
    "## Indizieren von eindimensionalen Arrays"
   ]
  },
  {
   "cell_type": "code",
   "execution_count": 3,
   "id": "e739901c",
   "metadata": {},
   "outputs": [
    {
     "data": {
      "text/plain": [
       "(1, 4, 2)"
      ]
     },
     "execution_count": 3,
     "metadata": {},
     "output_type": "execute_result"
    }
   ],
   "source": [
    "M = np.array([1, 2, 3, 4])\n",
    "first_element = M[0]\n",
    "last_element = M[-1]\n",
    "second_element = M[1]\n",
    "\n",
    "first_element, last_element, second_element"
   ]
  },
  {
   "cell_type": "markdown",
   "id": "0d38110e",
   "metadata": {},
   "source": [
    "## Indizieren von zweidimensionalen Arrays (Matrizen)\n",
    "Um ein Elment in einer Matrix zu indizieren, können wir mit dem Format `row,column` arbeiten."
   ]
  },
  {
   "cell_type": "code",
   "execution_count": 6,
   "id": "6bf1cfcd",
   "metadata": {},
   "outputs": [
    {
     "name": "stdout",
     "output_type": "stream",
     "text": [
      "[[1 0 0]\n",
      " [0 2 0]\n",
      " [0 0 3]]\n",
      "element in der ersten Zeile, zweiten Spalte:  0\n",
      "element in der ersten Zeile, zweiten Spalte (Alternative):  0\n",
      "element in der zweiten Zeile, zweiten Spalte:  2\n",
      "element in der dritten Zeile, dritte Spalte:  3\n"
     ]
    }
   ],
   "source": [
    "M = np.diag([1, 2, 3])\n",
    "print(M)\n",
    "print(\"element in der ersten Zeile, zweiten Spalte: \", M[0,1])\n",
    "print(\"element in der ersten Zeile, zweiten Spalte (Alternative): \", M[1][0])\n",
    "print(\"element in der zweiten Zeile, zweiten Spalte: \", M[1,1])\n",
    "print(\"element in der dritten Zeile, dritte Spalte: \", M[2,2])"
   ]
  },
  {
   "cell_type": "markdown",
   "id": "70ee704f",
   "metadata": {},
   "source": [
    "## Integer array indexing\n",
    "Wir können beim Indexing auch einen Array mit Index-Positionen angeben"
   ]
  },
  {
   "cell_type": "code",
   "execution_count": 12,
   "id": "90ca0fb8",
   "metadata": {},
   "outputs": [
    {
     "name": "stdout",
     "output_type": "stream",
     "text": [
      "3\n",
      "[[1 2 3]\n",
      " [4 5 6]\n",
      " [7 8 9]] \n",
      " [[1 2 3]\n",
      " [7 8 9]]\n"
     ]
    }
   ],
   "source": [
    "M = np.array([[1, 2, 3], [4, 5, 6], [7, 8, 9]])\n",
    "# Element in Zeile 1 und Spalte 3 indizieren (klassisch)\n",
    "print(M[0,2])\n",
    "\n",
    "# 1 Zeile und dritte Zeile mit Array Indexing\n",
    "print(M, \"\\n\", M[[0,2]])"
   ]
  },
  {
   "cell_type": "markdown",
   "id": "a9a7425f-42b5-4d62-898e-992e32c70ffd",
   "metadata": {},
   "source": [
    "## Aufgabe\n",
    "\n",
    "- Erstelle eine 2 x 3 Matrix M.\n",
    "- Gebe den Shape des Arrays aus.\n",
    "- Gebe den Wert in der zweiten Zeile und der ersten Spalte aus\n",
    "- Gebe den Datentyp des Arrays aus\n",
    "- Gebe die 2. Reihe aus\n",
    "\n",
    "$ M = \\left( \\begin{matrix} 1 & 12 & 13 \\\\ 42 & 51 & 62 \\end{matrix} \\right) $"
   ]
  },
  {
   "cell_type": "code",
   "execution_count": 16,
   "id": "cf226fc1",
   "metadata": {},
   "outputs": [
    {
     "data": {
      "text/plain": [
       "(array([[ 1, 12, 13],\n",
       "        [42, 51, 62]]),\n",
       " (2, 3),\n",
       " np.int64(42),\n",
       " np.int64(42),\n",
       " dtype('int64'),\n",
       " array([42, 51, 62]))"
      ]
     },
     "execution_count": 16,
     "metadata": {},
     "output_type": "execute_result"
    }
   ],
   "source": [
    "M = np.array([[1, 12, 13], [42, 51, 62]])\n",
    "M, M.shape, M[1,0], M[1][0], M.dtype, M[1]"
   ]
  },
  {
   "cell_type": "markdown",
   "id": "fa80e1f4",
   "metadata": {},
   "source": [
    "## Zufällige Datenpunkte aus einer zweidimensionalen, normalverteilten Liste\n",
    "Gegeben ist eine Liste mit Datenpunkte, die jeweils zwei Features haben. wir wollen aus dieser Liste zwei zufällige Datenpunkte ausschneiden."
   ]
  },
  {
   "cell_type": "code",
   "execution_count": 19,
   "id": "b2e34e18",
   "metadata": {},
   "outputs": [
    {
     "name": "stdout",
     "output_type": "stream",
     "text": [
      "[[ -0.99742573  -2.35870877]\n",
      " [  1.28113186  -7.05268286]\n",
      " [ -0.66971248 -11.20867266]\n",
      " [ -0.09666762  12.69760773]\n",
      " [ -0.35345757  14.04966481]\n",
      " [  0.53155974  -0.67034931]\n",
      " [ -0.07049946   3.85068605]\n",
      " [  1.85170657  14.42901578]\n",
      " [ -1.59560439 -11.47171682]\n",
      " [  0.69255248  10.69003822]]\n",
      "(10, 2)\n",
      "[4 9]\n",
      "[[-0.35345757 14.04966481]\n",
      " [ 0.69255248 10.69003822]]\n"
     ]
    }
   ],
   "source": [
    "mean = [0, 0]\n",
    "cov = [[1, 0], [0, 100]]\n",
    "x = np.random.multivariate_normal(mean, cov, size=10)\n",
    "\n",
    "# zufällige Indizies erstellen\n",
    "random_idx = np.random.randint(low=0, high=x.shape[0], size=2)\n",
    "print(x)\n",
    "print(x.shape)\n",
    "print(random_idx)\n",
    "\n",
    "# Datenpunkte aus Liste indizieren\n",
    "data_samples = x[random_idx]\n",
    "print(data_samples)"
   ]
  },
  {
   "cell_type": "markdown",
   "id": "8a880410",
   "metadata": {},
   "source": [
    "# Arrays Slicing (Ausschneiden von Werten aus Arrays)\n",
    "Generell erzeugen Slicing Operationen in Numpy keinen neuen Array, sondern bieten einen sogenannten View auf das Ursprungsarray. verändert man die geslicte Submenge, verändert man auch die Originaldaten. Verhindern kann man das mit copy (siehe weiter unten).\n",
    "\n",
    "## von eindimensionalen Arrays (Vektoren)\n",
    "Eindimensionale Arrays lassen sich wie in Python mit dem Slicing-Operator sclicen. Schema `Start:End:Schrittweite`."
   ]
  },
  {
   "cell_type": "code",
   "execution_count": 29,
   "id": "32c4a6d6",
   "metadata": {},
   "outputs": [
    {
     "data": {
      "text/plain": [
       "(133875927852688, 133875927852688)"
      ]
     },
     "execution_count": 29,
     "metadata": {},
     "output_type": "execute_result"
    }
   ],
   "source": [
    "x = np.array([8, 1, 2, 3, 4, 5, 6])\n",
    "v = x[0:4]\n",
    "v[1] = 99 # x wird verändert\n",
    "# v = v * 99 # x wird nicht verändert, gensauso wenig wie v * 99\n",
    "v.sort() # x wird verändert\n",
    "v, x\n",
    "# id(v[1]), id(x[1]) => haben die selbe ID"
   ]
  },
  {
   "cell_type": "code",
   "execution_count": 9,
   "id": "5b9b88c2",
   "metadata": {},
   "outputs": [
    {
     "data": {
      "text/plain": [
       "array([4, 5])"
      ]
     },
     "execution_count": 9,
     "metadata": {},
     "output_type": "execute_result"
    }
   ],
   "source": [
    "x[3:5]"
   ]
  },
  {
   "cell_type": "markdown",
   "id": "538bc0a5",
   "metadata": {},
   "source": [
    "## von zweidimensionalen Arrays (Matritzen)\n",
    "Zweidimensionale Arrays lassen sich wie in Python mit dem Slicing-Operator sclicen. \n",
    "Schema `Zeile von:Zeile bis, Spalte von:Spalte bis`."
   ]
  },
  {
   "cell_type": "markdown",
   "id": "cc997047",
   "metadata": {},
   "source": [
    "$ M = \\left( \\begin{matrix} 1 & 2 & 3 \\\\ 4 & 5 & 6 \\end{matrix} \\right) $"
   ]
  },
  {
   "cell_type": "code",
   "execution_count": 10,
   "id": "b7967760",
   "metadata": {},
   "outputs": [
    {
     "data": {
      "text/plain": [
       "array([[1, 2, 3],\n",
       "       [4, 5, 6]])"
      ]
     },
     "execution_count": 10,
     "metadata": {},
     "output_type": "execute_result"
    }
   ],
   "source": [
    "M = np.array([[1, 2, 3], [4, 5, 6]])\n",
    "M"
   ]
  },
  {
   "cell_type": "markdown",
   "id": "065d13ee",
   "metadata": {},
   "source": [
    "### alle Zeilen, die ersten beiden Spalten \n",
    "\n",
    "Um eine Matrix nach folgendem Schema aus M \"auszuschneiden\"\n",
    "$ M = \\left( \\begin{matrix} 1 & 2 \\\\ 4 & 5 \\end{matrix} \\right) $"
   ]
  },
  {
   "cell_type": "code",
   "execution_count": 11,
   "id": "add7fa21",
   "metadata": {},
   "outputs": [
    {
     "data": {
      "text/plain": [
       "array([[1, 2],\n",
       "       [4, 5]])"
      ]
     },
     "execution_count": 11,
     "metadata": {},
     "output_type": "execute_result"
    }
   ],
   "source": [
    "M = np.array([[1, 2, 3], [4, 5, 6]])\n",
    "M2 = M[:,:2]\n",
    "M2"
   ]
  },
  {
   "cell_type": "markdown",
   "id": "b1f55556",
   "metadata": {},
   "source": [
    "### ersten zwei Zeilen, erste Spalte"
   ]
  },
  {
   "cell_type": "code",
   "execution_count": 12,
   "id": "52615322",
   "metadata": {},
   "outputs": [
    {
     "data": {
      "text/plain": [
       "array([1, 4])"
      ]
     },
     "execution_count": 12,
     "metadata": {},
     "output_type": "execute_result"
    }
   ],
   "source": [
    "#  (Slicing der ersten beiden Zeilen, Indexing der Spalte 0)\n",
    "M = np.array([[1, 2, 3], [4, 5, 6]])\n",
    "M2 = M[:,0]\n",
    "M2"
   ]
  },
  {
   "cell_type": "markdown",
   "id": "d4d517f0",
   "metadata": {},
   "source": [
    "### alle Zeilen und die erste und dritte Spalte mit Multiindexing"
   ]
  },
  {
   "cell_type": "code",
   "execution_count": 13,
   "id": "91cf693a",
   "metadata": {},
   "outputs": [
    {
     "data": {
      "text/plain": [
       "array([[1, 3],\n",
       "       [4, 6]])"
      ]
     },
     "execution_count": 13,
     "metadata": {},
     "output_type": "execute_result"
    }
   ],
   "source": [
    "M = np.array([[1, 2, 3], [4, 5, 6]])\n",
    "M3 = M[:, [0,2]]\n",
    "M3"
   ]
  },
  {
   "cell_type": "markdown",
   "id": "4adc01ef",
   "metadata": {},
   "source": [
    "### Diagonale aus zweidimensionalem Array"
   ]
  },
  {
   "cell_type": "code",
   "execution_count": 6,
   "id": "8c4f9aa1",
   "metadata": {},
   "outputs": [
    {
     "data": {
      "text/plain": [
       "(array([[1, 2, 3],\n",
       "        [4, 5, 6],\n",
       "        [7, 8, 9]]),\n",
       " array([1, 5, 9]))"
      ]
     },
     "execution_count": 6,
     "metadata": {},
     "output_type": "execute_result"
    }
   ],
   "source": [
    "M = np.array([[1, 2, 3], [4, 5, 6], [7, 8, 9]])\n",
    "M, M.diagonal()"
   ]
  },
  {
   "cell_type": "markdown",
   "id": "5b189724",
   "metadata": {},
   "source": [
    "## Aufgabe\n",
    "$X =  \\left(  \\begin{array}{rrrr} \n",
    "2 & 3 & 8 \\\\ \n",
    "1 & 22 & 22 \\\\ \n",
    "4 & 22 & 22 \\\\ \n",
    "\\end{array} \\right) $\n",
    "\n",
    "a) Erstelle das zweidimensionale Array   \n",
    "b) Schneide den Block mit den 22 aus (2 x 2 Matrix)    \n",
    "c) Schneide die diagonalen Werte aus (als Vektor mit shape(3,) [2, 22, 22])"
   ]
  },
  {
   "cell_type": "code",
   "execution_count": 36,
   "id": "3095a464",
   "metadata": {},
   "outputs": [
    {
     "name": "stdout",
     "output_type": "stream",
     "text": [
      "[[ 2  3  8]\n",
      " [ 1 22 22]\n",
      " [ 4 22 22]]\n",
      "[[22 22]\n",
      " [22 22]]\n",
      "[ 2 22 22]\n",
      "M2:\n",
      " [ 8 22  4]\n"
     ]
    },
    {
     "data": {
      "text/plain": [
       "array([[  2,   3,   8],\n",
       "       [  1,  99, 199],\n",
       "       [  4, 440, 440]])"
      ]
     },
     "execution_count": 36,
     "metadata": {},
     "output_type": "execute_result"
    }
   ],
   "source": [
    "M = np.array([[2, 3, 8], [1, 22, 22], [4, 22, 22]])\n",
    "print(M)\n",
    "print(M[1:, 1:])\n",
    "print(M.diagonal())\n",
    "\n",
    "# Gegediagonale\n",
    "M2 = M[::-1, :]\n",
    "print(\"M2:\\n\", M2.diagonal()[::-1])\n",
    "\n",
    "# hier nochmal erklären, dass nur View. \n",
    "x = M[1:, 1:]\n",
    "x[0] = [99,199]\n",
    "x[1] = x[1] * 20\n",
    "M"
   ]
  },
  {
   "cell_type": "markdown",
   "id": "ce046f32",
   "metadata": {},
   "source": [
    "## copy\n",
    "Um eine tatsächliche Kopie durch Slicing von einem Array zu erstellen, muss man die Methode Copy nutzen.\n",
    "Falls der Datentyp \"Object\" (d.h. Python Objekte) genutzt wird, gilt das gleiche, wie in Python: dann besser tiefe Kopie nutzen via copy.deepcopy()"
   ]
  },
  {
   "cell_type": "code",
   "execution_count": 45,
   "id": "fbb21459",
   "metadata": {},
   "outputs": [
    {
     "data": {
      "text/plain": [
       "(array([100,  23]),\n",
       " array([[  2,   3, 100],\n",
       "        [  3,  45,  23]]))"
      ]
     },
     "execution_count": 45,
     "metadata": {},
     "output_type": "execute_result"
    }
   ],
   "source": [
    "# ohne copy: Verändern von Index 0 bei P_copy verändert auch P\n",
    "P = np.array([[2, 3, 4], [3, 45, 23]])\n",
    "P_copy = P[:, 2]\n",
    "P_copy[0] = 100\n",
    "P_copy, P"
   ]
  },
  {
   "cell_type": "code",
   "execution_count": 46,
   "id": "d161184e",
   "metadata": {},
   "outputs": [
    {
     "data": {
      "text/plain": [
       "(array([100,  23]),\n",
       " array([[ 2,  3,  4],\n",
       "        [ 3, 45, 23]]))"
      ]
     },
     "execution_count": 46,
     "metadata": {},
     "output_type": "execute_result"
    }
   ],
   "source": [
    "# mit copy: Z bleibt unverändert\n",
    "Z = np.array([[2, 3, 4], [3, 45, 23]])\n",
    "Z_copy = Z[:, 2].copy()\n",
    "Z_copy[0] = 100\n",
    "Z_copy, Z"
   ]
  },
  {
   "cell_type": "code",
   "execution_count": 47,
   "id": "04228f18-ccaa-464b-b840-8846c5430708",
   "metadata": {},
   "outputs": [
    {
     "data": {
      "text/plain": [
       "array([[ 2, 99],\n",
       "       [ 3, 45]])"
      ]
     },
     "execution_count": 47,
     "metadata": {},
     "output_type": "execute_result"
    }
   ],
   "source": [
    "X_copy = Z[0:2, 0:2].copy()\n",
    "X_copy[0,1] =  99\n",
    "X_copy "
   ]
  },
  {
   "cell_type": "code",
   "execution_count": 48,
   "id": "8211e95f-53b7-48f4-b6ec-7e3b5b4bffa9",
   "metadata": {},
   "outputs": [
    {
     "data": {
      "text/plain": [
       "array([1, 'm', list([10, 3, 4])], dtype=object)"
      ]
     },
     "execution_count": 48,
     "metadata": {},
     "output_type": "execute_result"
    }
   ],
   "source": [
    "# object (aus der doku von .copy())\n",
    "a = np.array([1, 'm', [2, 3, 4]], dtype=object)\n",
    "b = a.copy()\n",
    "b[2][0] = 10\n",
    "a"
   ]
  }
 ],
 "metadata": {
  "kernelspec": {
   "display_name": "Python 3 (ipykernel)",
   "language": "python",
   "name": "python3"
  },
  "language_info": {
   "codemirror_mode": {
    "name": "ipython",
    "version": 3
   },
   "file_extension": ".py",
   "mimetype": "text/x-python",
   "name": "python",
   "nbconvert_exporter": "python",
   "pygments_lexer": "ipython3",
   "version": "3.12.4"
  }
 },
 "nbformat": 4,
 "nbformat_minor": 5
}

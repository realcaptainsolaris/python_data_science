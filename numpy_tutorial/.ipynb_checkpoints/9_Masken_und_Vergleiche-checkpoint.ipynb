{
 "cells": [
  {
   "cell_type": "markdown",
   "id": "ac2d23ec",
   "metadata": {},
   "source": [
    "# Boolsche Vergleichsoperatoren\n",
    "\n",
    "Boolsche Masken in NumPy sind Arrays aus True- und False-Werten, die verwendet werden, um bestimmte Elemente eines Arrays zu filtern oder zu bearbeiten. Sie ermöglichen es, Operationen nur auf die Elemente anzuwenden, die einer bestimmten Bedingung entsprechen. Boolsche Masken sind besonders nützlich für schnelle, vektorisierten Abfragen, wie z.B. das Filtern von Werten größer als ein bestimmter Schwellenwert.\n",
    "\n",
    "## Boolsche Vergleiche, boolsche Serie"
   ]
  },
  {
   "cell_type": "code",
   "execution_count": 2,
   "id": "be1b33d9",
   "metadata": {},
   "outputs": [
    {
     "data": {
      "text/plain": [
       "array([False, False, False,  True,  True])"
      ]
     },
     "execution_count": 2,
     "metadata": {},
     "output_type": "execute_result"
    }
   ],
   "source": [
    "import numpy as np\n",
    "import matplotlib.pyplot as plt\n",
    "\n",
    "a = np.array([1, 2, 3, 4, 5])\n",
    "THRESHOLD = 3\n",
    "\n",
    "# Array erstellen mit True/False-Werten, wenn Bedingung wahr ist (mit Python)\n",
    "result = [el > THRESHOLD for el in a]\n",
    "\n",
    "# mit Numpy\n",
    "result = a > THRESHOLD\n",
    "\n",
    "result"
   ]
  },
  {
   "cell_type": "markdown",
   "id": "790f4e1f",
   "metadata": {},
   "source": [
    "### Und Oder mit binären Operatoren\n",
    "Für die Und-Bedingung in NumPy wird das kaufmännische Und (&) verwendet, das normalerweise für bitweise Operationen genutzt wird. Ebenso kommt das Pipe-Symbol (|) zum Einsatz, das für das bitweise Oder steht. Beide Operatoren werden in Kombination mit booleschen Masken verwendet, um logische Bedingungen effizient auszudrücken."
   ]
  },
  {
   "cell_type": "markdown",
   "id": "46b0aab9-c3fa-492c-9169-7a9eeda4e213",
   "metadata": {},
   "source": [
    "### ODER"
   ]
  },
  {
   "cell_type": "code",
   "execution_count": 8,
   "id": "0695e7bc",
   "metadata": {},
   "outputs": [
    {
     "data": {
      "text/plain": [
       "array([ True, False, False, False,  True])"
      ]
     },
     "execution_count": 8,
     "metadata": {},
     "output_type": "execute_result"
    }
   ],
   "source": [
    "# bei einer Oder-Verknüpfung die Klammern nicht vergessen! Ansonsten Fehler.\n",
    "result = (a > 4) | (a < 2)\n",
    "result"
   ]
  },
  {
   "cell_type": "markdown",
   "id": "6a2404aa-1ea4-4b70-9e26-4da4286e0bab",
   "metadata": {},
   "source": [
    "### UND"
   ]
  },
  {
   "cell_type": "code",
   "execution_count": 24,
   "id": "3c941244",
   "metadata": {},
   "outputs": [
    {
     "name": "stdout",
     "output_type": "stream",
     "text": [
      "a > 2: [False False  True  True  True]\n",
      "a < 4: [ True  True  True False False]\n",
      "result:  [False False  True False False]\n"
     ]
    }
   ],
   "source": [
    "# bei einer Und-Verknüpfung die Klammern nicht vergessen! Ansonsten Fehler.\n",
    "result = (a > 2) & (a < 4)\n",
    "print(\"a > 2:\", (a > 2))\n",
    "print(\"a < 4:\", (a < 4))\n",
    "print(\"result: \", result)"
   ]
  },
  {
   "cell_type": "code",
   "execution_count": 10,
   "id": "17be729a",
   "metadata": {},
   "outputs": [
    {
     "data": {
      "text/plain": [
       "array([False, False,  True, False, False])"
      ]
     },
     "execution_count": 10,
     "metadata": {},
     "output_type": "execute_result"
    }
   ],
   "source": [
    "result = (a == 3)\n",
    "result"
   ]
  },
  {
   "cell_type": "markdown",
   "id": "bd068a82-2678-4393-99be-f484c5c2e60d",
   "metadata": {},
   "source": [
    "### NOT\n",
    "\n",
    "In NumPy wird die Negation einer booleschen Maske oder eines booleschen Arrays mit der Funktion np.logical_not() oder dem Tilde-Operator (~) umgesetzt."
   ]
  },
  {
   "cell_type": "code",
   "execution_count": 2,
   "id": "7ba18b7e-f8b6-4166-9d20-83d7fe339c95",
   "metadata": {},
   "outputs": [
    {
     "name": "stdout",
     "output_type": "stream",
     "text": [
      "Ursprüngliche Bedingung: [False False False  True  True]\n",
      "Negierte Bedingung: [ True  True  True False False]\n",
      "Gefilterte Werte (negiert): [1 2 3]\n",
      "The history saving thread hit an unexpected error (OperationalError('attempt to write a readonly database')).History will not be written to the database.\n"
     ]
    }
   ],
   "source": [
    "arr = np.array([1, 2, 3, 4, 5])\n",
    "mask = arr > 3  # Elemente größer als 3\n",
    "negated_mask = ~mask  # Negation: Elemente kleiner oder gleich 3\n",
    "\n",
    "print(\"Ursprüngliche Bedingung:\", mask)\n",
    "print(\"Negierte Bedingung:\", negated_mask)\n",
    "print(\"Gefilterte Werte (negiert):\", arr[negated_mask])"
   ]
  },
  {
   "cell_type": "markdown",
   "id": "af839dc2",
   "metadata": {},
   "source": [
    "## All und Any\n",
    "um zu prüfen, ob alle Werte in einer boolschen Serie wahr sind, können wir die `all-Funktion`nutzen. `Any`hingegen prüft, ob zumindest ein Wert in der Serie wahr ist (vgl. den Python-Funktionen all und any). Die Numpy-Pendants sind allerdings deutlich schneller."
   ]
  },
  {
   "cell_type": "code",
   "execution_count": 20,
   "id": "4d8cd205",
   "metadata": {},
   "outputs": [
    {
     "data": {
      "text/plain": [
       "(False,\n",
       " array([[False, False, False],\n",
       "        [False, False,  True]]))"
      ]
     },
     "execution_count": 20,
     "metadata": {},
     "output_type": "execute_result"
    }
   ],
   "source": [
    "# sind alle Werte wahr?\n",
    "M = np.random.random(size=(2, 3))\n",
    "np.all(M < 0.2), M < 0.2"
   ]
  },
  {
   "cell_type": "code",
   "execution_count": 22,
   "id": "a4bdb112",
   "metadata": {},
   "outputs": [
    {
     "data": {
      "text/plain": [
       "(True,\n",
       " array([[False, False, False],\n",
       "        [False, False,  True]]))"
      ]
     },
     "execution_count": 22,
     "metadata": {},
     "output_type": "execute_result"
    }
   ],
   "source": [
    "# ist zumindest ein Wert wahr?\n",
    "np.any(M < 0.2), M < 0.2"
   ]
  },
  {
   "cell_type": "markdown",
   "id": "72ca883a",
   "metadata": {},
   "source": [
    "# Boolsches Indexing\n",
    "Boolsche Serien lassen sich zum Indizieren von Numpy Arrays verwenden"
   ]
  },
  {
   "cell_type": "code",
   "execution_count": 32,
   "id": "2144a352",
   "metadata": {},
   "outputs": [
    {
     "data": {
      "text/plain": [
       "(array([0.37454012]), array([[0.37454012, 0.95071431, 0.73199394]]))"
      ]
     },
     "execution_count": 32,
     "metadata": {},
     "output_type": "execute_result"
    }
   ],
   "source": [
    "np.random.seed(42)\n",
    "M = np.random.random(size=(1, 3))\n",
    "truthy = M[M < 0.5]\n",
    "truthy, M"
   ]
  },
  {
   "cell_type": "code",
   "execution_count": 39,
   "id": "c20be63b",
   "metadata": {},
   "outputs": [
    {
     "name": "stdout",
     "output_type": "stream",
     "text": [
      "x shape:  (2, 5)\n",
      "result shape:  (4,)\n",
      "Result:  [ 1  2  9 10]\n"
     ]
    }
   ],
   "source": [
    "# Mehrdimensionale Arrays verlieren generell beim Multi-Indexing den Ursprungs-Shape\n",
    "x = np.arange(start=1, stop=11).reshape((2,-1))\n",
    "print(\"x shape: \", x.shape)\n",
    "result = x[(x < 3) | (x > 8)]\n",
    "print(\"result shape: \", result.shape)\n",
    "print(\"Result: \", result)"
   ]
  },
  {
   "cell_type": "code",
   "execution_count": 23,
   "id": "640b80a2-550a-456a-8e34-15a6807ab157",
   "metadata": {},
   "outputs": [
    {
     "data": {
      "text/plain": [
       "(np.float64(0.31448753875085117), np.float64(-0.2956023068963138))"
      ]
     },
     "execution_count": 23,
     "metadata": {},
     "output_type": "execute_result"
    },
    {
     "data": {
      "image/png": "[encoded data removed]",
      "text/plain": [
       "<Figure size 640x480 with 1 Axes>"
      ]
     },
     "metadata": {},
     "output_type": "display_data"
    }
   ],
   "source": [
    "## Plotte funktion zwischen 0 und 10 und berechne Standardabweichung für [4, 7] (geschossenes Interval)\n",
    "x = np.linspace(0, 10, 10_000 + 1)\n",
    "y = np.exp(-x/10) * np.sin(x)\n",
    "\n",
    "filtered_x = (x >= 4) & (x <= 7)\n",
    "mean = y[filtered_x].mean()\n",
    "std = y[filtered_x].std()\n",
    "\n",
    "plt.plot(x, y)\n",
    "plt.axhline(std, color=\"red\")\n",
    "std, mean"
   ]
  },
  {
   "cell_type": "markdown",
   "id": "5f030977-abc2-4390-911a-712684a0f24d",
   "metadata": {},
   "source": [
    "## Aufgabe\n",
    "Summiere jede ganze Zahl von 0 bis 10.000 mit Ausnahme von Zahlen, die durch 4 oder 7 ohne Rest teilbar sind.\n",
    "Erledige die Aufgabe in zwei Zeilen (mit Ausgabe 3 Zeilen)"
   ]
  },
  {
   "cell_type": "code",
   "execution_count": 50,
   "id": "e0ef1da8-32c7-412e-9858-9643d9829cfa",
   "metadata": {},
   "outputs": [
    {
     "data": {
      "text/plain": [
       "np.int64(32147142)"
      ]
     },
     "execution_count": 50,
     "metadata": {},
     "output_type": "execute_result"
    }
   ],
   "source": [
    "x = np.arange(0, 10000 + 1)\n",
    "sum_ = x[(x % 4 != 0) & (x % 7 != 0)].sum()\n",
    "sum_"
   ]
  },
  {
   "cell_type": "markdown",
   "id": "2e8218e6-732a-41c2-bc8f-a009f279a2df",
   "metadata": {},
   "source": [
    "## Aufgabe\n",
    "\n",
    "Du hast die Niederschlagsmengen (in mm) für jeden Tag eines Monats gegeben und sollst mehrere Bedingungen mit booleschen Masken kombinieren.\n",
    "\n",
    "a) Berechne, an wie vielen Tagen der Niederschlag mehr als 5 mm und weniger als 20 mm betrug.\n",
    "b) Bestimme die Tage, an denen der Niederschlag entweder 0 mm (kein Regen) oder mehr als 50 mm (starker Regen) betrug.\n",
    "c) Berechne den durchschnittlichen Niederschlag der Tage, an denen die Niederschlagsmenge zwischen 5 mm und 20 mm lag.\n",
    "    "
   ]
  },
  {
   "cell_type": "code",
   "execution_count": 7,
   "id": "4dd91cac-da24-4887-9072-3dba750c12e4",
   "metadata": {},
   "outputs": [
    {
     "name": "stdout",
     "output_type": "stream",
     "text": [
      "1. Tage mit Niederschlag zwischen 5 und 20 mm:\n",
      "[12 18 10  6 15  7  8 12 15  9]\n",
      "\n",
      "2. Tage ohne Regen oder mit starkem Regen (> 50 mm):\n",
      "[ 0  0  0 60 55  0  0 52  0  0  0]\n",
      "\n",
      "3. Durchschnittlicher Niederschlag (5-20 mm):\n",
      "11.2\n"
     ]
    }
   ],
   "source": [
    "import numpy as np\n",
    "\n",
    "# Niederschlagsmengen in mm für 30 Tage eines Monats\n",
    "rainfall = np.array([\n",
    "    0, 12, 5, 0, 18, 25, 0, 60, 55, 10, \n",
    "    6, 0, 15, 22, 5, 7, 0, 50, 52, 3, \n",
    "    8, 20, 30, 0, 12, 15, 0, 9, 45, 0\n",
    "])\n",
    "\n",
    "# TODO 1: Erstelle eine Maske für Niederschlag > 5 mm und < 20 mm\n",
    "mask_between_5_and_20 = (rainfall > 5) & (rainfall < 20)\n",
    "\n",
    "# TODO 2: Erstelle eine Maske für Niederschlag == 0 mm ODER > 50 mm\n",
    "mask_no_rain_or_heavy_rain = (rainfall == 0) | (rainfall > 50)\n",
    "\n",
    "# TODO 3: Berechne den Durchschnitt der Niederschläge zwischen 5 mm und 20 mm\n",
    "average_rainfall_between_5_and_20 = rainfall[mask_between_5_and_20].mean()\n",
    "\n",
    "# Ausgabe der Ergebnisse\n",
    "print(\"1. Tage mit Niederschlag zwischen 5 und 20 mm:\")\n",
    "print(rainfall[mask_between_5_and_20])\n",
    "\n",
    "print(\"\\n2. Tage ohne Regen oder mit starkem Regen (> 50 mm):\")\n",
    "print(rainfall[mask_no_rain_or_heavy_rain])\n",
    "\n",
    "print(\"\\n3. Durchschnittlicher Niederschlag (5-20 mm):\")\n",
    "print(average_rainfall_between_5_and_20)\n"
   ]
  },
  {
   "cell_type": "markdown",
   "id": "57b74e29-501e-4a32-8383-924deef27c9c",
   "metadata": {},
   "source": [
    "### Erwartet Ergebnisse\n",
    "\n",
    "Tage mit Niederschlag zwischen 5 mm und 20 mm:     \n",
    "[12, 18, 10, 6, 15, 7, 8, 12, 15, 9]   \n",
    "\n",
    "Tage ohne Regen (0 mm) oder mit starkem Regen (> 50 mm):     \n",
    "[0, 0, 0, 60, 55, 0, 50, 52, 0, 0, 0, 0]    \n",
    "\n",
    "Durchschnittlicher Niederschlag der Tage zwischen 5 mm und 20 mm:   \n",
    "11.2 mm "
   ]
  }
 ],
 "metadata": {
  "kernelspec": {
   "display_name": "Python 3 (ipykernel)",
   "language": "python",
   "name": "python3"
  },
  "language_info": {
   "codemirror_mode": {
    "name": "ipython",
    "version": 3
   },
   "file_extension": ".py",
   "mimetype": "text/x-python",
   "name": "python",
   "nbconvert_exporter": "python",
   "pygments_lexer": "ipython3",
   "version": "3.12.4"
  }
 },
 "nbformat": 4,
 "nbformat_minor": 5
}

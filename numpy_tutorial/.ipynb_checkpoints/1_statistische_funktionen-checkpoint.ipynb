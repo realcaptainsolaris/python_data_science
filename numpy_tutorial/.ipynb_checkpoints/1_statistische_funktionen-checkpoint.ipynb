{
 "cells": [
  {
   "cell_type": "markdown",
   "id": "7144857e-4e85-43cc-af1a-e94a4202d906",
   "metadata": {},
   "source": [
    "# Statistische Funktionen mit Numpy"
   ]
  },
  {
   "cell_type": "code",
   "execution_count": 4,
   "id": "190e75c8-8b25-4ef5-93bc-ddb503c9cedf",
   "metadata": {},
   "outputs": [],
   "source": [
    "import numpy as np\n",
    "\n",
    "matrix = np.array([[1, 2, 3, 4, 5], [12, 14, 14, 25, 35]])"
   ]
  },
  {
   "cell_type": "markdown",
   "id": "604b422d-c965-491b-8ced-3190e60f058a",
   "metadata": {},
   "source": [
    "## Mittelwert\n",
    "Die Funktion `np.mean(arr)` berechnet den Mittelwert (Durchschnitt) aller Elemente im Array `arr`. Optional kann eine Achse (`axis`) angegeben werden, um spalten- oder zeilenweise Mittelwerte zu berechnen."
   ]
  },
  {
   "cell_type": "code",
   "execution_count": 8,
   "id": "4e8223dd-eb07-440b-8efd-a8ca226fa667",
   "metadata": {},
   "outputs": [
    {
     "data": {
      "text/plain": [
       "(np.float64(11.5), array([ 3., 20.]))"
      ]
     },
     "execution_count": 8,
     "metadata": {},
     "output_type": "execute_result"
    }
   ],
   "source": [
    "mean_value = np.mean(matrix)\n",
    "spalten = np.mean(matrix, axis=1) #geht über die gesamte spalten, 0 geht über die Zeilen\n",
    "mean_value, spalten"
   ]
  },
  {
   "cell_type": "markdown",
   "id": "2c571637-8955-467d-af9d-debe9ce7ff77",
   "metadata": {},
   "source": [
    "## Standardabweicheung und Varianz (Streumaße)\n",
    "\n",
    "Die Funktion np.std(arr) berechnet die Standardabweichung der Werte in arr, also das Maß für die durchschnittliche Abweichung vom Mittelwert. Optional kann ddof=1 gesetzt werden, um die Stichprobenstandardabweichung zu berechnen.\n",
    "\n",
    "Die Funktion np.var(arr) gibt die Varianz des Arrays zurück, also das Quadrat der Standardabweichung."
   ]
  },
  {
   "cell_type": "code",
   "execution_count": 12,
   "id": "90fba5d6-4c20-48d3-8871-fe47a7e7d0bb",
   "metadata": {},
   "outputs": [
    {
     "data": {
      "text/plain": [
       "(np.float64(10.575916035975323),\n",
       " array([ 5.5,  6. ,  5.5, 10.5, 15. ]),\n",
       " np.float64(111.85))"
      ]
     },
     "execution_count": 12,
     "metadata": {},
     "output_type": "execute_result"
    }
   ],
   "source": [
    "np.std(matrix), np.std(matrix, axis=0), np.var(matrix)"
   ]
  },
  {
   "cell_type": "markdown",
   "id": "e0f5717c-c2c9-4f71-9c17-cddf9cf580da",
   "metadata": {},
   "source": [
    "## Min, Max, Median"
   ]
  },
  {
   "cell_type": "code",
   "execution_count": 15,
   "id": "b0d5e0b1-95f4-425d-9176-db7202e38fa7",
   "metadata": {},
   "outputs": [
    {
     "data": {
      "text/plain": [
       "(np.int64(1), np.int64(35), array([ 5, 35]), np.float64(8.5))"
      ]
     },
     "execution_count": 15,
     "metadata": {},
     "output_type": "execute_result"
    }
   ],
   "source": [
    "np.min(matrix), np.max(matrix), np.max(matrix,axis=1), np.median(matrix)"
   ]
  },
  {
   "cell_type": "markdown",
   "id": "de66eaf2-58dc-4256-baed-4a63680eff48",
   "metadata": {},
   "source": [
    "## Percentile\n",
    "\n",
    "### `np.percentile`\n",
    "Die Funktion `np.percentile(arr, q)` berechnet den q-ten Perzentilwert eines Arrays `arr`, also den Wert, unterhalb dessen q% der Daten liegen. Sie kann auch mit mehreren Perzentilwerten (`q` als Liste) und verschiedenen Interpolationsmethoden verwendet werden.\n",
    "\n",
    "dozent: quasi 25% aller zahlen sind kleiner oder gleich 3.0\n"
   ]
  },
  {
   "cell_type": "code",
   "execution_count": 22,
   "id": "320f4179-379e-40be-94f5-93c5e2ed8559",
   "metadata": {},
   "outputs": [
    {
     "name": "stdout",
     "output_type": "stream",
     "text": [
      "3.0\n",
      "5.0\n",
      "7.0\n",
      "9.0\n"
     ]
    }
   ],
   "source": [
    "data = np.array([1, 3, 5, 7, 9])\n",
    "p25 = np.percentile(data, 25)  # 25. Perzentil\n",
    "print(p25)  # Ausgabe: 3.0\n",
    "\n",
    "p50 = np.percentile(data, 50)  # 50. Perzentil\n",
    "print(p50)  # Ausgabe: 5\n",
    "\n",
    "p75 = np.percentile(data, 75)  # 75. Perzentil\n",
    "print(p75)  # Ausgabe: 7\n",
    "\n",
    "p100 = np.percentile(data, 100)  # 100. Perzentil\n",
    "print(p100)  # Ausgabe: 9"
   ]
  }
 ],
 "metadata": {
  "kernelspec": {
   "display_name": "Python 3 (ipykernel)",
   "language": "python",
   "name": "python3"
  },
  "language_info": {
   "codemirror_mode": {
    "name": "ipython",
    "version": 3
   },
   "file_extension": ".py",
   "mimetype": "text/x-python",
   "name": "python",
   "nbconvert_exporter": "python",
   "pygments_lexer": "ipython3",
   "version": "3.12.4"
  }
 },
 "nbformat": 4,
 "nbformat_minor": 5
}

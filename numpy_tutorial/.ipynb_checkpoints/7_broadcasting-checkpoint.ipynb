{
 "cells": [
  {
   "cell_type": "markdown",
   "id": "2e8888ac",
   "metadata": {},
   "source": [
    "# Broadcasting\n",
    "Broadcasting in NumPy ermöglicht arithmetische Operationen zwischen Arrays unterschiedlicher Formen, indem kleinere Arrays automatisch an größere angepasst werden. Eine Dimension mit 1 wird entsprechend \"gestreckt\", um die Operation zu ermöglichen. Dadurch spart NumPy Speicher und Rechenzeit, ohne unnötige Kopien der Daten zu erstellen.\n",
    "\n",
    "![title](broadcasting_1.png)"
   ]
  },
  {
   "cell_type": "code",
   "execution_count": 2,
   "id": "b59ae412",
   "metadata": {},
   "outputs": [],
   "source": [
    "import numpy as np"
   ]
  },
  {
   "cell_type": "code",
   "execution_count": 6,
   "id": "55912aff",
   "metadata": {},
   "outputs": [
    {
     "name": "stdout",
     "output_type": "stream",
     "text": [
      "[2 4 6]\n",
      "[2 4 6]\n"
     ]
    }
   ],
   "source": [
    "a = np.array([1, 2, 3])\n",
    "b = np.array([2])\n",
    "\n",
    "result = a * b\n",
    "result\n",
    "\n",
    "x = a * 2\n",
    "print(x)\n",
    "print(result)"
   ]
  },
  {
   "cell_type": "markdown",
   "id": "c728a662",
   "metadata": {},
   "source": [
    "## 1) Arrays mit unterschiedlichem Shape addieren\n",
    "Arrays können miteinander addiert werden, wenn sie a) den gleichen Shape haben oder b) einer der Shapes 1 ist."
   ]
  },
  {
   "cell_type": "code",
   "execution_count": 17,
   "id": "02cc5d89",
   "metadata": {},
   "outputs": [
    {
     "name": "stdout",
     "output_type": "stream",
     "text": [
      "a: \n",
      " [[1 2 3]\n",
      " [4 5 6]]\n",
      "b: \n",
      " [1 2 3]\n",
      "a + b:\n",
      " [[2 4 6]\n",
      " [5 7 9]]\n"
     ]
    }
   ],
   "source": [
    "a = np.arange(start=1, stop=7).reshape((2,-1))\n",
    "b = np.arange(start=1, stop=4)\n",
    "print(\"a: \\n\", a)\n",
    "print(\"b: \\n\", b)\n",
    "\n",
    "print(\"a + b:\\n\", a + b)"
   ]
  },
  {
   "cell_type": "markdown",
   "id": "087fd31c",
   "metadata": {},
   "source": [
    "## 2) Skalar-Multiplikation\n",
    "Skalar zu Array-Broadcasting: Der Skalar wird auf die gesamte Form des Arrays erweitert.\n",
    "\n",
    "$a = 3$\n",
    "\n",
    "$ M = \\left( \\begin{matrix} 4 & 2 \\\\ 3 & 5 \\\\ 2 & 9 \\end{matrix} \\right) \\cdot a = \\left( \\begin{matrix} 12 & 6 \\\\ 9 & 15 \\\\ 6 & 27 \\end{matrix} \\right) $"
   ]
  },
  {
   "cell_type": "code",
   "execution_count": 16,
   "id": "147827a0",
   "metadata": {},
   "outputs": [
    {
     "data": {
      "text/plain": [
       "array([[12,  6],\n",
       "       [ 9, 15],\n",
       "       [ 6, 27]])"
      ]
     },
     "execution_count": 16,
     "metadata": {},
     "output_type": "execute_result"
    }
   ],
   "source": [
    "M = np.array([[4, 2], [3, 5], [2, 9]])\n",
    "M * 3"
   ]
  },
  {
   "cell_type": "code",
   "execution_count": 23,
   "id": "23de965a",
   "metadata": {},
   "outputs": [
    {
     "name": "stdout",
     "output_type": "stream",
     "text": [
      "a:\n",
      " [1 2 3]\n",
      "b:\n",
      " [[1]\n",
      " [2]\n",
      " [3]]\n",
      "a + b:\n",
      " [[2 3 4]\n",
      " [3 4 5]\n",
      " [4 5 6]]\n"
     ]
    }
   ],
   "source": [
    "a = np.arange(start=1, stop=4)\n",
    "b = a[:, np.newaxis]\n",
    "print(\"a:\\n\", a)\n",
    "print(\"b:\\n\", b)\n",
    "\n",
    "print(\"a + b:\\n\", a + b)"
   ]
  },
  {
   "cell_type": "markdown",
   "id": "5f8ff9bd-70e8-41ac-b6ac-3b107daadd3d",
   "metadata": {},
   "source": [
    "## Übungsaufgabe: Temperaturumrechnung für mehrere Städte\n",
    "\n",
    "Gegeben sind die die Tagesdurchschnittstemperaturen (in °C) für mehrere Städte über eine Woche in einem 2D-Array vorliegen. Deine Aufgabe ist es, diese Temperaturen mithilfe von Broadcasting in Fahrenheit umzurechnen."
   ]
  },
  {
   "cell_type": "code",
   "execution_count": 2,
   "id": "97df9869-d401-4575-a1a2-1deda283e32e",
   "metadata": {},
   "outputs": [
    {
     "name": "stdout",
     "output_type": "stream",
     "text": [
      "Temperaturen in Fahrenheit:\n",
      "[[59.  62.6 68.  69.8 66.2 64.4 60.8]\n",
      " [50.  53.6 59.  57.2 55.4 51.8 48.2]\n",
      " [77.  80.6 82.4 84.2 86.  78.8 75.2]\n",
      " [41.  44.6 50.  53.6 46.4 42.8 39.2]]\n"
     ]
    }
   ],
   "source": [
    "import numpy as np\n",
    "\n",
    "# Temperaturen in Grad Celsius für 4 Städte über 7 Tage\n",
    "temperatures_celsius = np.array([\n",
    "    [15, 17, 20, 21, 19, 18, 16],  # Stadt 1\n",
    "    [10, 12, 15, 14, 13, 11, 9],   # Stadt 2\n",
    "    [25, 27, 28, 29, 30, 26, 24],  # Stadt 3\n",
    "    [5, 7, 10, 12, 8, 6, 4]        # Stadt 4\n",
    "])\n",
    "\n",
    "# TODO: Konvertiere die Temperaturen in Fahrenheit\n",
    "# Formel: Fahrenheit = Celsius * 9/5 + 32\n",
    "\n",
    "temperatures_fahrenheit = temperatures_celsius * (9/5) + 32\n",
    "\n",
    "print(\"Temperaturen in Fahrenheit:\")\n",
    "print(temperatures_fahrenheit)\n"
   ]
  },
  {
   "cell_type": "markdown",
   "id": "cdf8d44f-12e0-4fa9-8f41-18747e4384d7",
   "metadata": {},
   "source": [
    "### Erwartete Ausgabe\n",
    "\n",
    "Temperaturen in Fahrenheit:\n",
    "\n",
    "[[59.   62.6  68.   69.8  66.2  64.4  60.8]   \n",
    " [50.   53.6  59.   57.2  55.4  51.8  48.2]     \n",
    " [77.   80.6  82.4  84.2  86.   78.8  75.2]     \n",
    " [41.   44.6  50.   53.6  46.4  42.8  39.2]]    \n"
   ]
  },
  {
   "cell_type": "markdown",
   "id": "c5bf2820",
   "metadata": {},
   "source": [
    "## Z-Wert Standardisierung\n",
    "Im Machine Learning ist es oft nötig, (normalverteilte) Daten zu standardisieren. Wir müssen in diesem Fall den z-Wert jedes Datenpunktes berechnen.\n",
    "\n",
    "Mehr dazu:\n",
    "https://towardsai.net/p/machine-learning/machine-learning-standardization-z-score-normalization-with-mathematics\n",
    "\n",
    "#### Formel für z-Wert Transformation\n",
    "\n",
    "$z = \\frac{x - \\mu}{\\sigma}$  \n",
    "\n",
    "Um den Z-Wert berechnen zu können brauchen wir also den Mittelwert/Erwartungswert $\\mu$ und Standardabweichung $\\sigma$"
   ]
  },
  {
   "cell_type": "code",
   "execution_count": 7,
   "id": "67687fbd",
   "metadata": {},
   "outputs": [
    {
     "name": "stdout",
     "output_type": "stream",
     "text": [
      "Data Shape:  (100000, 2)\n",
      "Data Sample: \n",
      " [[6.45305253 4.87942586]\n",
      " [4.85297675 2.17274882]\n",
      " [2.96428461 1.52322128]\n",
      " [4.67182466 8.51886951]\n",
      " [4.21818175 5.01438935]]\n",
      "Standardabweichung der Spalten:  [2.00532724 2.00661586]\n",
      "Mittelwert der Spalten:  [4.98685311 4.99260142]\n"
     ]
    },
    {
     "data": {
      "text/plain": [
       "array([[ 0.7311522 , -0.05640121],\n",
       "       [-0.06676035, -1.40527774],\n",
       "       [-1.00859773, -1.72897076],\n",
       "       [-0.15709578,  1.75732095],\n",
       "       [-0.38331468,  0.01085804],\n",
       "       [-1.14149368, -0.12430678],\n",
       "       [ 0.58898719, -0.85396458],\n",
       "       [-1.05083153,  0.13130394],\n",
       "       [ 0.26388813,  0.05010461],\n",
       "       [ 0.30620282, -0.23678364]])"
      ]
     },
     "execution_count": 7,
     "metadata": {},
     "output_type": "execute_result"
    }
   ],
   "source": [
    "# Datensatz aus 100.000 Datenpunkten mit je zwei Features\n",
    "# die Daten sind normalverteilt. Wir wollen sie mit einer z-Transformation auf eine Standard-Normalverteilung bringen\n",
    "data = np.random.normal(loc=5, scale=2, size=(100_000, 2))\n",
    "\n",
    "print(\"Data Shape: \", data.shape)\n",
    "print(\"Data Sample: \\n\", data[0:5])\n",
    "\n",
    "# Standardabweichung und Mittelwert berechnen\n",
    "std = np.std(data, axis=0)\n",
    "mean = np.mean(data, axis=0)\n",
    "\n",
    "print(\"Standardabweichung der Spalten: \", std)\n",
    "print(\"Mittelwert der Spalten: \", mean)\n",
    "\n",
    "# von jedem Feature Datenpunkt ziehen wir den jeweiligen Mittelwert ab \n",
    "# und teilen durch die jeweilige Spalten-Standardabweichung\n",
    "data_z = (data - mean) / std\n",
    "data_z[0:10]"
   ]
  }
 ],
 "metadata": {
  "kernelspec": {
   "display_name": "Python 3 (ipykernel)",
   "language": "python",
   "name": "python3"
  },
  "language_info": {
   "codemirror_mode": {
    "name": "ipython",
    "version": 3
   },
   "file_extension": ".py",
   "mimetype": "text/x-python",
   "name": "python",
   "nbconvert_exporter": "python",
   "pygments_lexer": "ipython3",
   "version": "3.12.4"
  }
 },
 "nbformat": 4,
 "nbformat_minor": 5
}

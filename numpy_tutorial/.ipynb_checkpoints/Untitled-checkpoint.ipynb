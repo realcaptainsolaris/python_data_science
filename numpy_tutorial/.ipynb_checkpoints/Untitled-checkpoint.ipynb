{
 "cells": [
  {
   "cell_type": "markdown",
   "id": "7144857e-4e85-43cc-af1a-e94a4202d906",
   "metadata": {},
   "source": [
    "# Statistische Funktionen mit Numpy"
   ]
  },
  {
   "cell_type": "code",
   "execution_count": null,
   "id": "190e75c8-8b25-4ef5-93bc-ddb503c9cedf",
   "metadata": {},
   "outputs": [],
   "source": [
    "import numpy as np"
   ]
  },
  {
   "cell_type": "markdown",
   "id": "de66eaf2-58dc-4256-baed-4a63680eff48",
   "metadata": {},
   "source": [
    "## Percentile\n",
    "\n",
    "### `np.percentile`\n",
    "Die Funktion `np.percentile(arr, q)` berechnet den q-ten Perzentilwert eines Arrays `arr`, also den Wert, unterhalb dessen q% der Daten liegen. Sie kann auch mit mehreren Perzentilwerten (`q` als Liste) und verschiedenen Interpolationsmethoden verwendet werden.\n"
   ]
  },
  {
   "cell_type": "code",
   "execution_count": null,
   "id": "320f4179-379e-40be-94f5-93c5e2ed8559",
   "metadata": {},
   "outputs": [],
   "source": [
    "data = np.array([1, 3, 5, 7, 9])\n",
    "p25 = np.percentile(data, 25)  # 25. Perzentil\n",
    "print(p25)  # Ausgabe: 3.0"
   ]
  },
  {
   "cell_type": "code",
   "execution_count": null,
   "id": "6f5588ac-2063-4e89-a7bb-f756ac95310a",
   "metadata": {},
   "outputs": [],
   "source": []
  }
 ],
 "metadata": {
  "kernelspec": {
   "display_name": "Python 3 (ipykernel)",
   "language": "python",
   "name": "python3"
  },
  "language_info": {
   "codemirror_mode": {
    "name": "ipython",
    "version": 3
   },
   "file_extension": ".py",
   "mimetype": "text/x-python",
   "name": "python",
   "nbconvert_exporter": "python",
   "pygments_lexer": "ipython3",
   "version": "3.12.4"
  }
 },
 "nbformat": 4,
 "nbformat_minor": 5
}

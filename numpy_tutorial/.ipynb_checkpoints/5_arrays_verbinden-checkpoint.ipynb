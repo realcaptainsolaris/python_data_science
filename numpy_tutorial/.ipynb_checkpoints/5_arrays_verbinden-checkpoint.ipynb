{
 "cells": [
  {
   "cell_type": "markdown",
   "id": "da9cb10e",
   "metadata": {},
   "source": [
    "# Numpy Arrays verbinden DOZENT\n",
    "Um aus zwei oder mehreren Arrays einen neuen gemeinsamen Array zu bilden, stehen uns mehrere Möglichkeiten zur Verfügung.\n",
    "\n"
   ]
  },
  {
   "cell_type": "markdown",
   "id": "579786cb",
   "metadata": {},
   "source": [
    "## Concatenate von zwei eindimensionalen Arrays\n",
    "Mit der Methode `concatenate` lassen sich ein- und mehrdimensionale Arrays zu einem Array verbinden. Wichtig zu verstehen ist hier der Achsenbegriff (axis). Axis 0 bezeichnet die Zeilen (rows), während Axis 1 die Spalten bezeichnet.\n",
    "\n",
    "**Generell kann man sagen: Der Shape des neuen Arrays verändert sich nur an der Achse, an dem die Arrays zusammengefügt werden**.\n",
    "**Es können nur Arrays gleichen Shapes (gleicher Dimension) an der Nicht-Konkatenierungsachse konkateniert werden**\n",
    "\n",
    "\n",
    "- axis=0 (Zeilenweise Konkatenation) → Spaltenzahl muss gleich sein.       \n",
    "- axis=1 (Spaltenweise Konkatenation) → Zeilenzahl muss gleich sein.  \n",
    "\n",
    "![title](numpy-arrays-have-axes.webp)"
   ]
  },
  {
   "cell_type": "code",
   "execution_count": null,
   "id": "4da65321",
   "metadata": {},
   "outputs": [],
   "source": []
  },
  {
   "cell_type": "code",
   "execution_count": 3,
   "id": "69f4ef76",
   "metadata": {},
   "outputs": [
    {
     "name": "stdout",
     "output_type": "stream",
     "text": [
      "[1 2 3 4 5 6]\n"
     ]
    }
   ],
   "source": [
    "import numpy as np\n",
    "\n",
    "arr1 = np.array([1, 2, 3])\n",
    "arr2 = np.array([4, 5, 6])\n",
    "\n",
    "arr = np.concatenate((arr1, arr2), axis=0)\n",
    "\n",
    "print(arr) "
   ]
  },
  {
   "cell_type": "markdown",
   "id": "daceedd8",
   "metadata": {},
   "source": [
    "## Concatenate von zwei zweidimensionalen Arrays an Axis 0\n",
    "Wenn wir concatenate mit axis=0 durchführen, werden die Arrays \"untereinandert\" zusammengefügt. Das führt dazu, dass der Shape der Columns (Spalten) gleich bleibt, sich aber der Zeilenshape verändert. Die Arrays werden also vertikal \"gestapelt\". Dazu muss die Anzahl an Spalten in beiden Arrays übereinstimmen.\n",
    "\n",
    "![title](explanation_numpy-concatenate-axis-0.webp)"
   ]
  },
  {
   "cell_type": "code",
   "execution_count": 11,
   "id": "d2253235",
   "metadata": {},
   "outputs": [
    {
     "name": "stdout",
     "output_type": "stream",
     "text": [
      "[[1 1 1]\n",
      " [1 1 1]]\n",
      "----\n",
      "[[9 9 9]\n",
      " [9 9 9]]\n",
      "----\n",
      "[[1 1 1]\n",
      " [1 1 1]\n",
      " [9 9 9]\n",
      " [9 9 9]]\n",
      "(2, 3) (4, 3)\n"
     ]
    }
   ],
   "source": [
    "arr1 = np.array([[1, 1, 1], [1, 1, 1]])\n",
    "arr2 = np.array([[9, 9, 9], [9, 9, 9]])\n",
    "\n",
    "arr = np.concatenate((arr1, arr2), axis=0)\n",
    "print(arr1)\n",
    "print(\"----\")\n",
    "print(arr2)\n",
    "print(\"----\")\n",
    "print(arr) \n",
    "print(arr1.shape, arr.shape)"
   ]
  },
  {
   "cell_type": "markdown",
   "id": "c4862e13-dbd0-43bb-b438-3b92f228f8e2",
   "metadata": {},
   "source": [
    "## Aufgabe\n",
    "Gegeben sind Vektor v mit 3 Elementen und eine 2 x 3 Matrix M.\n",
    "Verbinde die beiden Objekte an der Achse 0 (Zeilen). "
   ]
  },
  {
   "cell_type": "code",
   "execution_count": 4,
   "id": "a0dce960-636c-4eb6-8266-cfc45c4bb156",
   "metadata": {},
   "outputs": [
    {
     "name": "stdout",
     "output_type": "stream",
     "text": [
      "[[1 2 3]]\n",
      "(1, 3) (2, 3)\n",
      "[[ 1  2  3]\n",
      " [11 22 33]\n",
      " [44 55 66]]\n"
     ]
    }
   ],
   "source": [
    "# Happy Coding\n",
    "v = np.array([1, 2, 3])\n",
    "M = np.array([[11, 22, 33], [44, 55, 66]])\n",
    "v = v.reshape((-1, 3))\n",
    "Mr = np.concatenate((v, M), axis=0)\n",
    "print(v)\n",
    "print(v.shape, M.shape)\n",
    "print(Mr)\n"
   ]
  },
  {
   "cell_type": "code",
   "execution_count": 6,
   "id": "db659273-3c8e-41e3-aa6f-4a3620ab4225",
   "metadata": {},
   "outputs": [
    {
     "name": "stdout",
     "output_type": "stream",
     "text": [
      "[[[0.34958553 0.90268805 0.6792546  0.56789609]\n",
      "  [0.34622004 0.07498762 0.34890361 0.6537118 ]\n",
      "  [0.27000449 0.50173508 0.49438347 0.78261073]]\n",
      "\n",
      " [[0.27335746 0.07551674 0.15463154 0.99320411]\n",
      "  [0.29487664 0.60402749 0.77287754 0.76265692]\n",
      "  [0.62659067 0.91191708 0.70690421 0.65949688]]]\n",
      "--\n",
      "[[[0.40578231 0.80142896 0.37848005 0.68685652]\n",
      "  [0.44546775 0.67197061 0.01987124 0.69702141]\n",
      "  [0.62400888 0.28477893 0.29451633 0.18670157]]\n",
      "\n",
      " [[0.28415237 0.09497842 0.11589595 0.31906597]\n",
      "  [0.09148098 0.9578669  0.96666617 0.8996674 ]\n",
      "  [0.71657292 0.14245693 0.78075711 0.47766876]]]\n",
      "--\n",
      "[[[0.34958553 0.90268805 0.6792546  0.56789609]\n",
      "  [0.34622004 0.07498762 0.34890361 0.6537118 ]\n",
      "  [0.27000449 0.50173508 0.49438347 0.78261073]]\n",
      "\n",
      " [[0.27335746 0.07551674 0.15463154 0.99320411]\n",
      "  [0.29487664 0.60402749 0.77287754 0.76265692]\n",
      "  [0.62659067 0.91191708 0.70690421 0.65949688]]\n",
      "\n",
      " [[0.40578231 0.80142896 0.37848005 0.68685652]\n",
      "  [0.44546775 0.67197061 0.01987124 0.69702141]\n",
      "  [0.62400888 0.28477893 0.29451633 0.18670157]]\n",
      "\n",
      " [[0.28415237 0.09497842 0.11589595 0.31906597]\n",
      "  [0.09148098 0.9578669  0.96666617 0.8996674 ]\n",
      "  [0.71657292 0.14245693 0.78075711 0.47766876]]]\n"
     ]
    }
   ],
   "source": [
    "# 3 Dimensioanele Arrays (Nur Dozent)\n",
    "# Define two 3-dimensional arrays\n",
    "array1 = np.random.rand(2, 3, 4)  # Shape (2, 3, 4)\n",
    "array2 = np.random.rand(2, 3, 4)  # Shape (2, 3, 4)\n",
    "\n",
    "# Concatenate along the first axis\n",
    "array3 = np.concatenate((array1, array2), axis=0)\n",
    "\n",
    "print(array1)\n",
    "print(\"--\")\n",
    "print(array2)\n",
    "print(\"--\")\n",
    "print(array3)"
   ]
  },
  {
   "cell_type": "markdown",
   "id": "1afd9385",
   "metadata": {},
   "source": [
    "## Concatenate von zwei zweidimensionalen Arrays an Axis 1\n",
    "Wenn wir concatenate mit axis=1 durchführen, werden die Arrays \"nebeneinandert\" zusammengefügt. Das führt dazu, dass der sich Shape der Columns (Spalten) verändert, der Zeilenshape aber gleich bleibt. \n",
    "![title](explanation_numpy-concatenate-axis-1.webp)"
   ]
  },
  {
   "cell_type": "code",
   "execution_count": 10,
   "id": "a4c1d34a",
   "metadata": {},
   "outputs": [
    {
     "name": "stdout",
     "output_type": "stream",
     "text": [
      "[[1 1 1]\n",
      " [1 1 1]]\n",
      "----\n",
      "[[9 9 9]\n",
      " [9 9 9]]\n",
      "----\n",
      "[[1 1 1 9 9 9]\n",
      " [1 1 1 9 9 9]]\n",
      "----\n",
      "(2, 3) (2, 3) (2, 6)\n"
     ]
    }
   ],
   "source": [
    "arr1 = np.array([[1, 1, 1], [1, 1, 1]])\n",
    "arr2 = np.array([[9, 9, 9], [9, 9, 9]])\n",
    "\n",
    "arr = np.concatenate((arr1, arr2), axis=1)\n",
    "print(arr1)\n",
    "print(\"----\")\n",
    "print(arr2)\n",
    "print(\"----\")\n",
    "print(arr) \n",
    "print(\"----\")\n",
    "print(arr1.shape, arr2.shape, arr.shape)"
   ]
  },
  {
   "cell_type": "markdown",
   "id": "6437671a",
   "metadata": {},
   "source": [
    "## Vektor und Matrix via vstack zu einem mehrdimensionalen Array zusammenfügen\n",
    "Um Arrays mit `concatenate` zu verbinden, müssen sie die gleichen Dimensionen haben. Somit lässt sich also kein ein- und mehrdimensionaler Array verbinden. Dazu gibt es die Methode `vstack`. vstack steht für vertikal Stapeln. \n",
    "\n",
    "Im Falle von vstack muss nur gegeben sein, dass beide Arrays die gleiche Anzahl an Spalten haben. Natürlich lassen sich auch zwei mehrdimensionale Arrays mit vstack verbinden."
   ]
  },
  {
   "cell_type": "code",
   "execution_count": 3,
   "id": "d0186266",
   "metadata": {},
   "outputs": [
    {
     "name": "stdout",
     "output_type": "stream",
     "text": [
      "[1 1 1]\n",
      "----\n",
      "[[9 9 9]\n",
      " [9 9 9]]\n",
      "----\n",
      "[[1 1 1]\n",
      " [9 9 9]\n",
      " [9 9 9]]\n",
      "(3,) (3, 3)\n"
     ]
    }
   ],
   "source": [
    "arr1 = np.array([1, 1, 1])\n",
    "arr2 = np.array([[9, 9, 9], [9, 9, 9]])\n",
    "\n",
    "arr = np.vstack((arr1, arr2))\n",
    "\n",
    "print(arr1)\n",
    "print(\"----\")\n",
    "print(arr2)\n",
    "print(\"----\")\n",
    "print(arr) \n",
    "print(arr1.shape, arr.shape)"
   ]
  },
  {
   "cell_type": "markdown",
   "id": "022f094a",
   "metadata": {},
   "source": [
    "## Zwei Matritzen via hstack zu einem mehrdimensionalen Array zusammenfügen\n",
    "Um Arrays mit `concatenate` zu verbinden, müssen sie die gleichen Dimensionen haben. Somit lässt sich also kein ein- und mehrdimensionaler Array verbinden. Dazu gibt es die Methode `hstack`. hstack steht für horizontal Stapeln. \n",
    "\n",
    "Im Falle von vstack muss nur gegeben sein, dass beide Arrays die gleiche Anzahl an Zeilen haben. "
   ]
  },
  {
   "cell_type": "code",
   "execution_count": 31,
   "id": "a5c789d9",
   "metadata": {},
   "outputs": [
    {
     "data": {
      "text/plain": [
       "(array([[1, 9, 9, 9],\n",
       "        [1, 9, 9, 9]]),\n",
       " (2, 1),\n",
       " (2, 3),\n",
       " (2, 4))"
      ]
     },
     "execution_count": 31,
     "metadata": {},
     "output_type": "execute_result"
    }
   ],
   "source": [
    "# zwei Arrays mit shape 2,1 und 2,3\n",
    "arr1 = np.array([[1], [1]])\n",
    "arr2 = np.array([[9, 9, 9], [9, 9, 9]])\n",
    "\n",
    "# Ergebnisshape ist 2,4\n",
    "arr = np.hstack((arr1, arr2))\n",
    "arr, arr1.shape, arr2.shape, arr.shape"
   ]
  },
  {
   "cell_type": "markdown",
   "id": "5085a8dc-f26f-4b2f-a558-873c08d27bf1",
   "metadata": {},
   "source": [
    "## Aufgabe\n",
    "\n",
    "Ein Unternehmen verwaltet den Bestand von 6 Produkten in einem Zentrallager und zwei Filialen. Die Bestandsdaten liegen als 1D-Array vor und sollen für eine bessere Analyse umgeformt werden.\n",
    "\n",
    "1. Reshape das gegebene 1D-Array in eine 3×6-Matrix, sodass jede Zeile einem Lagerstandort entspricht (Zentrallager, Filiale 1, Filiale 2).\n",
    "2. Extrahiere (Slice) aus der Matrix die Bestände der ersten 3 Produkte für alle Standorte.\n",
    "3. Füge neue Produkte für zwei neue Filialen (3 und 4) der ursprünglichen stock-Matrix hinzu. Nutze dazu vstack. Speichere das Ergebnis in der Variable final_stock_matrix.\n",
    "\n",
    "Das Ergebnis von stock sieht so aus:\n",
    "\n",
    "[[100, 150,  80, 200,  50,  90],     \n",
    "       [ 60, 120,  70, 100,  30,  50],       \n",
    "       [ 40, 110,  60,  80,  20,  30],         \n",
    "       [ 55, 130,  75,  95,  35,  60],         \n",
    "       [ 45, 100,  65,  85,  25,  40]]"
   ]
  },
  {
   "cell_type": "code",
   "execution_count": 10,
   "id": "fce60240-d431-49cf-b3cf-bee66c4478a7",
   "metadata": {},
   "outputs": [],
   "source": [
    "import numpy as np\n",
    "\n",
    "# 1D-Array mit den Beständen für 3 Standorte (6 Produkte pro Standort)\n",
    "stock = np.array([100, 150, 80, 200, 50, 90,   # Zentrallager\n",
    "                  60, 120, 70, 100, 30, 50,    # Filiale 1\n",
    "                  40, 110, 60, 80, 20, 30])    # Filiale 2\n",
    "\n",
    "# 1. Reshape in eine 3x6-Matrix (Zeilen: Standorte, Spalten: Produkte)\n",
    "\n",
    "# 2. Slicing: Extrahiere die ersten 3 Produkte für alle Standorte (Ergebnis wird nicht weiter benötigt)\n",
    "\n",
    "# 3. Simulierte Lieferung für zwei neue Filialen (2x6-Matrix)\n",
    "new_delivery = np.array([[55, 130, 75, 95, 35, 60],  # Filiale 3\n",
    "                         [45, 100, 65, 85, 25, 40]]) # Filiale 4\n",
    "\n",
    "final_stock_matrix = ...\n"
   ]
  }
 ],
 "metadata": {
  "kernelspec": {
   "display_name": "Python 3 (ipykernel)",
   "language": "python",
   "name": "python3"
  },
  "language_info": {
   "codemirror_mode": {
    "name": "ipython",
    "version": 3
   },
   "file_extension": ".py",
   "mimetype": "text/x-python",
   "name": "python",
   "nbconvert_exporter": "python",
   "pygments_lexer": "ipython3",
   "version": "3.12.4"
  }
 },
 "nbformat": 4,
 "nbformat_minor": 5
}

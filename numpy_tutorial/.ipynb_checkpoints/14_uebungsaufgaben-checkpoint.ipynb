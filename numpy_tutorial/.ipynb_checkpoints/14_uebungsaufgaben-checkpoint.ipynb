{
 "cells": [
  {
   "cell_type": "markdown",
   "id": "167e4e27",
   "metadata": {},
   "source": [
    "# Übungsaufgaben zu Numpy 1\n",
    "Übungsaufgaben zum Erstellen von Matritzen und Vektoren"
   ]
  },
  {
   "cell_type": "markdown",
   "id": "f7bc925b",
   "metadata": {},
   "source": [
    "## 1.0 Erstelle eine 5x5 Einheitsmatrix"
   ]
  },
  {
   "cell_type": "markdown",
   "id": "be319bc4",
   "metadata": {},
   "source": [
    "## 1.1 Erstelle eine 4 x 4 Nullmatrix"
   ]
  },
  {
   "cell_type": "markdown",
   "id": "e56dd067",
   "metadata": {},
   "source": [
    "## 1.2. Erstelle eine 3 x 4 Matrix mit diskreten Zufallswerten aus einer Gleichverteilung\n",
    "die Werte der Elemente liegen im geschlossenen Interval. $M_{ij} \\in [3, 9]$ Achte darauf, dass nur ganzzahlige Werte im Output liegen und keine Fließkommazahlen. \n",
    "\n",
    "Zeige außerdem den Shape der Matrix und den Datentypen. Welcher Datentyp wäre besser geeignet und warum?"
   ]
  },
  {
   "cell_type": "markdown",
   "id": "43b09433",
   "metadata": {},
   "source": [
    "## 1.3. Erstelle eine 3 x 4 Matrix mit Zufallswerten aus einer Gleichverteilung\n",
    "die Werte der Elemente liegen im halboffenen Interval. $M_{ij} \\in [3, 9)$ D.h. die 9 darf nicht in der Matrix als Element zu finden sein."
   ]
  },
  {
   "cell_type": "markdown",
   "id": "bd6113e3",
   "metadata": {},
   "source": [
    "## 1.4. Erstelle eine 2x2 Matrix mit Zufallswerten aus einer Normalverteilung.\n",
    "Der Mittelwert $mu$ beträgt 4, die Standardabweichung $\\sigma$ soll 0.5 betragen. Plotte die Daten in einem Scatterplot. Erstelle daraus einen Vektor $v$ mit 4 Elementen (reshape)."
   ]
  },
  {
   "cell_type": "markdown",
   "id": "65ca60a8",
   "metadata": {},
   "source": [
    "## 1.5. Erstelle eine Vektor mit n Zufallswerten aus einer Normalverteilung.\n",
    "Der Mittelwert $mu$ beträgt 4, die Standardabweichung $\\sigma$ soll 0.5 betragen. Plotte die Daten in einem Scatterplot."
   ]
  },
  {
   "cell_type": "markdown",
   "id": "00b17ea9",
   "metadata": {},
   "source": [
    "## 1.6 Elemente eines Vektors\n",
    "Gegeben ist folgender Vektor: $v = [2, 4, 2, 5]$. \n",
    "\n",
    "a) Gebe per Indexing das letzte Element zurück   \n",
    "b) Gebe die Werte von v an den folgenden Indexen aus: idx = [0, 3]    \n",
    "c) Bestimme Shape und Datentyp"
   ]
  },
  {
   "cell_type": "markdown",
   "id": "df1db21a",
   "metadata": {},
   "source": [
    "## 1.7 Array-Indexing\n",
    "gegeben $ M = \\left( \\begin{matrix} 1 & 2 & 3 \\\\ 4 & 5 & 6 \\end{matrix} \\right) $\n",
    "\n",
    "a) Gebe das Element in Zeile 2, Spalte 3 an    \n",
    "b) Gebe zwei zufällige Werte aus der Zeile 2 aus\n",
    "c) Bestimme Shape und Datentyp"
   ]
  },
  {
   "cell_type": "markdown",
   "id": "4f683d7e",
   "metadata": {},
   "source": [
    "## 1.8 Array Slicing\n",
    "gegeben $ M = \\left( \\begin{matrix} 1 & 2 & 3 \\\\ 4 & 95 & 96 \\\\ 13 & 90 & 91 \\end{matrix} \\right) $\n",
    "\n",
    "a) Schneide aus M den Sub-Array, der alle Werte >= 90 enthält    \n",
    "b) Schneide die Diagonale d aus M    \n",
    "c) Bestimme Shape und Datentyp"
   ]
  },
  {
   "cell_type": "markdown",
   "id": "6332386e",
   "metadata": {},
   "source": [
    "## 1.9 Array Slicing und Multi-Indexing\n",
    "gegeben $ M = \\left( \\begin{matrix} 1 & 2 & 3 & 3 \\\\ 4 & 95 & 96 & 3 \\\\ 13 & 90 & 91 & 3 \\\\ 13 & 90 & 91 & 3\\end{matrix} \\right) $\n",
    "\n",
    "soll $ E = \\left( \\begin{matrix} 1 & 1 & 1 & 1 \\\\ 1 & 95 & 96 & 1 \\\\ 1 & 90 & 91 & 1 \\\\ 1 & 1 & 1 & 1\\end{matrix} \\right) $\n",
    "\n",
    "a) forme M zu E um. Nutze dazu Slicing \n",
    "b) Schneide die Diagonale d aus M    \n",
    "b) Gebe zwei zufällige Werte aus der Zeile 2 aus\n",
    "c) Bestimme Shape und Datentyp"
   ]
  }
 ],
 "metadata": {
  "kernelspec": {
   "display_name": "Python 3 (ipykernel)",
   "language": "python",
   "name": "python3"
  },
  "language_info": {
   "codemirror_mode": {
    "name": "ipython",
    "version": 3
   },
   "file_extension": ".py",
   "mimetype": "text/x-python",
   "name": "python",
   "nbconvert_exporter": "python",
   "pygments_lexer": "ipython3",
   "version": "3.9.10"
  }
 },
 "nbformat": 4,
 "nbformat_minor": 5
}

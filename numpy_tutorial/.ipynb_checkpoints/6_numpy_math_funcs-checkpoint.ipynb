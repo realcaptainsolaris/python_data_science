{
  "cells": [
    {
      "cell_type": "markdown",
      "metadata": {},
      "source": [
        "# NumPy Mathematical Functions\n",
        "In this notebook, we explore various mathematical functions provided by NumPy, including basic operations, trigonometric functions, exponential and logarithmic functions, and rounding operations."
      ]
    },
    {
      "cell_type": "markdown",
      "metadata": {},
      "source": [
        "## 1. Basic Mathematical Operations\n",
        "NumPy provides a range of basic mathematical functions like addition, subtraction, multiplication, and division."
      ]
    },
    {
      "cell_type": "code",
      "execution_count": null,
      "metadata": {},
      "outputs": [],
      "source": [
        "import numpy as np\n",
        "\n",
        "# Arrays for demonstration\n",
        "a = np.array([1, 2, 3, 4])\n",
        "b = np.array([10, 20, 30, 40])\n",
        "\n",
        "# Basic operations\n",
        "print(\"Addition:\", np.add(a, b))\n",
        "print(\"Subtraction:\", np.subtract(a, b))\n",
        "print(\"Multiplication:\", np.multiply(a, b))\n",
        "print(\"Division:\", np.divide(b, a))"
      ]
    },
    {
      "cell_type": "markdown",
      "metadata": {},
      "source": [
        "## 2. Trigonometric Functions\n",
        "NumPy includes functions to calculate trigonometric values like sine, cosine, and tangent."
      ]
    },
    {
      "cell_type": "code",
      "execution_count": null,
      "metadata": {},
      "outputs": [],
      "source": [
        "# Trigonometric functions\n",
        "angles = np.array([0, np.pi / 4, np.pi / 2, np.pi])\n",
        "\n",
        "print(\"Sine:\", np.sin(angles))\n",
        "print(\"Cosine:\", np.cos(angles))\n",
        "print(\"Tangent:\", np.tan(angles))"
      ]
    },
    {
      "cell_type": "markdown",
      "metadata": {},
      "source": [
        "## 3. Exponential and Logarithmic Functions\n",
        "These functions are useful for working with exponential growth, decay, or logarithmic scales."
      ]
    },
    {
      "cell_type": "code",
      "execution_count": null,
      "metadata": {},
      "outputs": [],
      "source": [
        "# Exponential and logarithmic functions\n",
        "values = np.array([1, 2, 3, 4])\n",
        "\n",
        "print(\"Exponential:\", np.exp(values))\n",
        "print(\"Natural Logarithm:\", np.log(values))\n",
        "print(\"Base-10 Logarithm:\", np.log10(values))"
      ]
    },
    {
      "cell_type": "markdown",
      "metadata": {},
      "source": [
        "## 4. Power and Square Root\n",
        "Calculate powers and square roots of arrays."
      ]
    },
    {
      "cell_type": "code",
      "execution_count": null,
      "metadata": {},
      "outputs": [],
      "source": [
        "# Power and square root\n",
        "print(\"Square:\", np.square(values))\n",
        "print(\"Square Root:\", np.sqrt(values))"
      ]
    },
    {
      "cell_type": "markdown",
      "metadata": {},
      "source": [
        "## 5. Rounding Operations\n",
        "NumPy supports various rounding functions like floor, ceil, and round."
      ]
    },
    {
      "cell_type": "code",
      "execution_count": null,
      "metadata": {},
      "outputs": [],
      "source": [
        "# Rounding functions\n",
        "float_values = np.array([1.2, 2.5, 3.7, 4.1])\n",
        "\n",
        "print(\"Floor:\", np.floor(float_values))\n",
        "print(\"Ceil:\", np.ceil(float_values))\n",
        "print(\"Round:\", np.round(float_values))"
      ]
    },
    {
      "cell_type": "markdown",
      "metadata": {},
      "source": [
        "## Summary\n",
        "This notebook demonstrated the use of several mathematical functions available in NumPy. These functions are optimized for performance and are useful for numerical computations."
      ]
    }
  ],
  "metadata": {
    "kernelspec": {
      "display_name": "Python 3 (ipykernel)",
      "language": "python",
      "name": "python3"
    },
    "language_info": {
      "codemirror_mode": {
        "name": "ipython",
        "version": 3
      },
      "file_extension": ".py",
      "mimetype": "text/x-python",
      "name": "python",
      "nbconvert_exporter": "python",
      "pygments_lexer": "ipython3",
      "version": "3.10.4"
    }
  },
  "nbformat": 4,
  "nbformat_minor": 5
}

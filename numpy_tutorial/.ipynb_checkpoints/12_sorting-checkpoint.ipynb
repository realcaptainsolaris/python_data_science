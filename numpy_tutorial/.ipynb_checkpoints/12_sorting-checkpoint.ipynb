{
 "cells": [
  {
   "cell_type": "markdown",
   "id": "7148b0a1",
   "metadata": {},
   "source": [
    "# Arrays sortieren"
   ]
  },
  {
   "cell_type": "markdown",
   "id": "1d55806f",
   "metadata": {},
   "source": [
    "## eindimensionales Array sortieren\n",
    "die sort-Methode von Numpy arbeitet nicht inplace, dh. sie gibt ein neues Array zurück"
   ]
  },
  {
   "cell_type": "code",
   "execution_count": 2,
   "id": "db269452",
   "metadata": {},
   "outputs": [],
   "source": [
    "import numpy as np\n",
    "np.random.seed(42)"
   ]
  },
  {
   "cell_type": "code",
   "execution_count": 16,
   "id": "cbbc0626",
   "metadata": {},
   "outputs": [
    {
     "name": "stdout",
     "output_type": "stream",
     "text": [
      "x:  [54 95 17 74 63 23 85 89 77 77]\n",
      "x_sorted:  [17 23 54 63 74 77 77 85 89 95]\n"
     ]
    }
   ],
   "source": [
    "x = np.random.randint(low=3, high=100, size=(10,))\n",
    "x_sorted = np.sort(x)\n",
    "print(\"x: \", x)\n",
    "print(\"x_sorted: \", x_sorted)"
   ]
  },
  {
   "cell_type": "markdown",
   "id": "e4338f52",
   "metadata": {},
   "source": [
    "## mehrdimensionales Array sortieren\n",
    "auf ein mehrdimensionales Array angewandt, wird jede Zeile intern für sich sortiert"
   ]
  },
  {
   "cell_type": "code",
   "execution_count": 6,
   "id": "0cd97971",
   "metadata": {},
   "outputs": [
    {
     "name": "stdout",
     "output_type": "stream",
     "text": [
      "x: \n",
      " [[78 60]\n",
      " [24 91]\n",
      " [51 93]\n",
      " [61 44]]\n",
      "x_sorted: \n",
      " [[60 78]\n",
      " [24 91]\n",
      " [51 93]\n",
      " [44 61]]\n",
      "******************************\n",
      "x: \n",
      " [[78 60]\n",
      " [24 91]\n",
      " [51 93]\n",
      " [61 44]]\n",
      "x_sorted:\n",
      "  [[24 44]\n",
      " [51 60]\n",
      " [61 91]\n",
      " [78 93]]\n"
     ]
    }
   ],
   "source": [
    "x = np.random.randint(low=3, high=100, size=(4,2))\n",
    "x_sorted = np.sort(x)\n",
    "print(\"x: \\n\", x)\n",
    "print(\"x_sorted: \\n\", x_sorted)\n",
    "print(\"*\" * 30)\n",
    "x_sorted = np.sort(x, axis=0)  # über die Riehen sortieren\n",
    "print(\"x: \\n\", x)\n",
    "print(\"x_sorted:\\n \", x_sorted)"
   ]
  },
  {
   "cell_type": "markdown",
   "id": "57f62f15",
   "metadata": {},
   "source": [
    "## Argsort - sortierte Indizies zurückgeben\n",
    "Argsort gibt nicht den sortierten Array zurück, sondern die Indizies, an denen der Array sortiert wäre"
   ]
  },
  {
   "cell_type": "code",
   "execution_count": 18,
   "id": "1eb5f304",
   "metadata": {},
   "outputs": [
    {
     "name": "stdout",
     "output_type": "stream",
     "text": [
      "x:  [8 4 6]\n",
      "x_idxs:  [1 2 0]\n",
      "multi:  [4 6 8]\n"
     ]
    }
   ],
   "source": [
    "x = np.random.randint(low=3, high=10, size=(3,))\n",
    "x_idxs = np.argsort(x)\n",
    "print(\"x: \", x)\n",
    "print(\"x_idxs: \", x_idxs)\n",
    "\n",
    "# mit Multiindexing den Array dann sortiert ausgeben\n",
    "print(\"multi: \", x[x_idxs])"
   ]
  },
  {
   "cell_type": "markdown",
   "id": "15f25116",
   "metadata": {},
   "source": [
    "## Argmax - Index des größten Wertes"
   ]
  },
  {
   "cell_type": "code",
   "execution_count": 29,
   "id": "9acf84b4",
   "metadata": {},
   "outputs": [
    {
     "data": {
      "text/plain": [
       "(array([6, 4, 6]), 0)"
      ]
     },
     "execution_count": 29,
     "metadata": {},
     "output_type": "execute_result"
    }
   ],
   "source": [
    "x = np.random.randint(low=3, high=10, size=(3,))\n",
    "max = np.argmax(x)\n",
    "x, max"
   ]
  },
  {
   "cell_type": "markdown",
   "id": "9788050d",
   "metadata": {},
   "source": [
    "## Argmin - Index des kleinsten Wertes"
   ]
  },
  {
   "cell_type": "code",
   "execution_count": 30,
   "id": "706b174b",
   "metadata": {},
   "outputs": [
    {
     "data": {
      "text/plain": [
       "(array([4, 8, 8]), 0)"
      ]
     },
     "execution_count": 30,
     "metadata": {},
     "output_type": "execute_result"
    }
   ],
   "source": [
    "x = np.random.randint(low=3, high=10, size=(3,))\n",
    "min = np.argmin(x)\n",
    "x, min"
   ]
  }
 ],
 "metadata": {
  "kernelspec": {
   "display_name": "Python 3 (ipykernel)",
   "language": "python",
   "name": "python3"
  },
  "language_info": {
   "codemirror_mode": {
    "name": "ipython",
    "version": 3
   },
   "file_extension": ".py",
   "mimetype": "text/x-python",
   "name": "python",
   "nbconvert_exporter": "python",
   "pygments_lexer": "ipython3",
   "version": "3.12.4"
  }
 },
 "nbformat": 4,
 "nbformat_minor": 5
}

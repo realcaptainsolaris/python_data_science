{
 "cells": [
  {
   "cell_type": "markdown",
   "id": "cb9278a5",
   "metadata": {},
   "source": [
    "# Aggregate\n",
    "Aggregate können in Numpy entweder zeilenweise oder spaltenweise ausgeführt werden. Ein Aggregat ist das Zusammenfassen mehrerer Spalten oder Reihen mithilfe eine Aggregatsfunktion. So könnten zum Beispiel alle Zeilen eines Arrays spaltenweise aufaddiert werden.\n",
    "\n",
    "![title](np_matrix_aggregation_row.png)"
   ]
  },
  {
   "cell_type": "code",
   "execution_count": 2,
   "id": "1da2854a",
   "metadata": {},
   "outputs": [],
   "source": [
    "import numpy as np"
   ]
  },
  {
   "cell_type": "code",
   "execution_count": 3,
   "id": "d99ec8bb",
   "metadata": {},
   "outputs": [],
   "source": [
    "A = np.array([[4, 2], [3, 5], [2, 9]])"
   ]
  },
  {
   "cell_type": "markdown",
   "id": "77f800cf",
   "metadata": {},
   "source": [
    "## Maximum / Minimum auf Axis 0 (zeilenweise)\n",
    "$ A = \\left( \\begin{matrix} 4 & 2 \\\\ 3 & 5 \\\\ 2 & 9 \\end{matrix} \\right) $\n",
    "\n",
    "Wir berechnen für jede Spalte das Maximum über die Zeilen."
   ]
  },
  {
   "cell_type": "code",
   "execution_count": 31,
   "id": "d1688826",
   "metadata": {},
   "outputs": [
    {
     "data": {
      "text/plain": [
       "(array([4, 9]), array([2, 2]))"
      ]
     },
     "execution_count": 31,
     "metadata": {},
     "output_type": "execute_result"
    }
   ],
   "source": [
    "max = np.max(A, axis=0)  # alternativ auch A.max(axis=0)    \n",
    "min = np.min(A, axis=0)\n",
    "max, min"
   ]
  },
  {
   "cell_type": "markdown",
   "id": "1254b311",
   "metadata": {},
   "source": [
    "## Maximum / Minimum auf Axis 1 (spaltenweise)\n",
    "$ A = \\left( \\begin{matrix} 4 & 2 \\\\ 3 & 5 \\\\ 2 & 9 \\end{matrix} \\right) $\n",
    "\n",
    "Wir berechnen für jede Zeile das Maximum über die Spalten."
   ]
  },
  {
   "cell_type": "code",
   "execution_count": 28,
   "id": "1af589dc",
   "metadata": {},
   "outputs": [
    {
     "data": {
      "text/plain": [
       "(array([4, 5, 9]), 9, array([2, 3, 2]), 2)"
      ]
     },
     "execution_count": 28,
     "metadata": {},
     "output_type": "execute_result"
    }
   ],
   "source": [
    "max = np.max(A, axis=1)  # alternativ auch A.max(axis=1)\n",
    "min = np.min(A, axis=1)\n",
    "maxtotal = np.max(A)\n",
    "mintotal = np.min(A)\n",
    "max, maxtotal, min, mintotal"
   ]
  },
  {
   "cell_type": "markdown",
   "id": "7eb37beb",
   "metadata": {},
   "source": [
    "## Summe\n",
    "$ A = \\left( \\begin{matrix} 4 & 2 \\\\ 3 & 5 \\\\ 2 & 9 \\end{matrix} \\right) $\n",
    "\n",
    "Wir können mit `sum` die Summe aller Elemente berechnen oder bei Angabe der axis auch zeilen- bzw. spaltenweise summieren."
   ]
  },
  {
   "cell_type": "code",
   "execution_count": 45,
   "id": "59495a3b",
   "metadata": {},
   "outputs": [
    {
     "data": {
      "text/plain": [
       "(25, array([ 9, 16]), array([ 6,  8, 11]), 2)"
      ]
     },
     "execution_count": 45,
     "metadata": {},
     "output_type": "execute_result"
    }
   ],
   "source": [
    "A = np.array([[4, 2], [3, 5], [2, 9]])\n",
    "all_elements = np.sum(A)\n",
    "sum_rows = np.sum(A, axis=0)\n",
    "sum_cols = np.sum(A, axis=1)\n",
    "min = np.min(A)\n",
    "all_elements, sum_rows, sum_cols, min"
   ]
  },
  {
   "cell_type": "markdown",
   "id": "c0f0cb94",
   "metadata": {},
   "source": [
    "## Kumulierte Summe\n",
    "$ A = \\left( \\begin{matrix} 4 & 2 \\\\ 3 & 5 \\\\ 2 & 9 \\end{matrix} \\right) $"
   ]
  },
  {
   "cell_type": "code",
   "execution_count": 43,
   "id": "a7787970",
   "metadata": {},
   "outputs": [
    {
     "data": {
      "text/plain": [
       "(array([ 4,  6,  9, 14, 16, 25]),\n",
       " array([[ 4,  2],\n",
       "        [ 7,  7],\n",
       "        [ 9, 16]]),\n",
       " array([[ 4,  6],\n",
       "        [ 3,  8],\n",
       "        [ 2, 11]]))"
      ]
     },
     "execution_count": 43,
     "metadata": {},
     "output_type": "execute_result"
    }
   ],
   "source": [
    "A = np.array([[4, 2], [3, 5], [2, 9]])\n",
    "A.cumsum(), np.cumsum(A, axis=0), np.cumsum(A, axis=1)"
   ]
  },
  {
   "cell_type": "markdown",
   "id": "14ea02d7-b6dd-4f34-9b0a-75fcd6f78395",
   "metadata": {},
   "source": [
    "## Argmax / Argmin\n",
    "Die Funktion np.argmax() gibt den Index des größten Werts in einem Array zurück. \n",
    "Sie wird häufig verwendet, um die Position eines Maximums zu finden\n"
   ]
  },
  {
   "cell_type": "code",
   "execution_count": 4,
   "id": "db4736f1-f7ac-4ca2-be78-d9d43f542abe",
   "metadata": {},
   "outputs": [
    {
     "name": "stdout",
     "output_type": "stream",
     "text": [
      "Index des Maximums: 3\n",
      "Größtes Objekt: cu\n"
     ]
    }
   ],
   "source": [
    "# Beispiel 1D-Array\n",
    "arr = np.array([10, 20, 5, 30, 25])\n",
    "objects = [\"al\", \"be\", \"re\", \"cu\", \"cs\"]\n",
    "index_max = np.argmax(arr)\n",
    "\n",
    "print(\"Index des Maximums:\", index_max)\n",
    "print(\"Größtes Objekt:\", objects[index_max])"
   ]
  },
  {
   "cell_type": "code",
   "execution_count": 6,
   "id": "8a1f6755-d5fa-4bf9-a29d-af7384736e7d",
   "metadata": {},
   "outputs": [
    {
     "name": "stdout",
     "output_type": "stream",
     "text": [
      "Globales Maximum (Index): 3\n",
      "Globales Minimum (Index): 0\n",
      "Maximum entlang der Zeilen: [1 0]\n",
      "Maximum entlang der Spalten: [1 0 1]\n"
     ]
    }
   ],
   "source": [
    "arr = np.array([[1, 5, 3],\n",
    "                [7, 2, 6]])\n",
    "\n",
    "# Maximum im gesamten Array\n",
    "global_max = np.argmax(arr)\n",
    "global_min = np.argmin(arr)\n",
    "\n",
    "# Maximum entlang der Zeilen (axis=1)\n",
    "row_max = np.argmax(arr, axis=1)\n",
    "\n",
    "# Maximum entlang der Spalten (axis=0)\n",
    "col_max = np.argmax(arr, axis=0)\n",
    "\n",
    "print(\"Globales Maximum (Index):\", global_max)\n",
    "print(\"Globales Minimum (Index):\", global_min)\n",
    "print(\"Maximum entlang der Zeilen:\", row_max)\n",
    "print(\"Maximum entlang der Spalten:\", col_max)"
   ]
  },
  {
   "cell_type": "markdown",
   "id": "317c2e65",
   "metadata": {},
   "source": [
    "## Deskriptive Statistik\n",
    "$ A = \\left( \\begin{matrix} 4 & 2 \\\\ 3 & 5 \\\\ 2 & 9 \\end{matrix} \\right) $\n",
    "\n",
    "Numpy stellt uns grundlegende Werkzeuge der deskriptiven Statistik zur Verfügung (Mittelwert, Varianz, Standardabweichung)\n",
    "\n",
    "### Standardabweichung\n",
    "\n",
    "$\n",
    "\\sigma = \\sqrt{\\frac{1}{N} \\sum_{i=1}^N (x_i - \\mu)^2}\n",
    "$\n",
    "\n",
    "### Standardabweichung mit Bessel-Korrektur\n",
    "\n",
    "Die Bessel-Korrektur wird verwendet, um die Stichprobenvarianz zu berechnen, indem man durch N−1N−1 (statt NN) teilt. Sie korrigiert die Verzerrung (Bias), die entsteht, wenn man die Varianz einer Stichprobe zur Schätzung der Varianz der Grundgesamtheit verwendet, da der Stichprobenmittelwert bereits aus den Daten geschätzt wurde.\n",
    "\n",
    "\n",
    "$\n",
    "s = \\sqrt{\\frac{1}{N-1} \\sum_{i=1}^N (x_i - \\bar{x})^2}\n",
    "$\n",
    "\n",
    "### Kovarianzmatrix mit cov\n",
    "Was sagt Kovarianz Matrix aus?\n",
    "\n",
    "Eine Varianz-Kovarianz-Matrix ist eine quadratische Matrix, die die Varianzen und Kovarianzen für mehrere Variablen enthält. Die Diagonalelemente der Matrix enthalten die Varianzen der Variablen, die Nicht-Diagonalelemente enthalten die Kovarianzen zwischen allen möglichen Paaren von Variablen."
   ]
  },
  {
   "cell_type": "code",
   "execution_count": 5,
   "id": "b1bd62d8",
   "metadata": {},
   "outputs": [
    {
     "name": "stdout",
     "output_type": "stream",
     "text": [
      "[[4 2]\n",
      " [3 5]\n",
      " [2 9]]\n",
      "Mittelwert Spalten: [3.         5.33333333]\n",
      "Mittelwert Zeilen: [3.  4.  5.5]\n",
      "Standardabweichung Spalten:  [0.81649658 2.86744176]\n",
      "Standardabweichung Zeilen:  [1.  1.  3.5]\n",
      "Standardabweichung gesamt:  2.4094720491334933\n",
      "Varianz gesamt:  5.8055555555555545\n",
      "Median Achse 0:  [3. 5.]\n",
      "Median Achse 1:  [3.  4.  5.5]\n",
      "Kovarianz [[ 2.  -2.  -7. ]\n",
      " [-2.   2.   7. ]\n",
      " [-7.   7.  24.5]]\n"
     ]
    }
   ],
   "source": [
    "A = np.array([[4, 2], [3, 5], [2, 9]])\n",
    "mean_spalten = np.mean(A, axis=0)  \n",
    "mean_zeilen = np.mean(A, axis=1)  \n",
    "\n",
    "std_spalten = np.std(A, axis=0)  \n",
    "std_zeilen = np.std(A, axis=1)  \n",
    "\n",
    "print(A)\n",
    "print(\"Mittelwert Spalten:\", mean_spalten)\n",
    "print(\"Mittelwert Zeilen:\", mean_zeilen)\n",
    "print(\"Standardabweichung Spalten: \", std_spalten)\n",
    "print(\"Standardabweichung Zeilen: \", std_zeilen)\n",
    "\n",
    "print(\"Standardabweichung gesamt: \", np.std(A))\n",
    "print(\"Varianz gesamt: \", np.var(A))\n",
    "\n",
    "print(\"Median Achse 0: \", np.median(A, axis=0))\n",
    "print(\"Median Achse 1: \", np.median(A, axis=1))\n",
    "\n",
    "print(\"Kovarianz\", np.cov(A))"
   ]
  },
  {
   "cell_type": "markdown",
   "id": "1539733b-d12a-46be-ad6a-1897cd5a3488",
   "metadata": {},
   "source": [
    "# Aufgabe: Bevölkerungsdichteanalyse\n",
    "\n",
    "Gegeben sind Daten zur Einwohnerzahl und Fläche von 5 Regionen. Berechne die statistischen Kennzahlen der Bevölkerungsdichte.\n",
    "\n",
    "## Erwartete Ausgabe \n",
    "\n",
    "1. Bevölkerungsdichten der Regionen: [2000. 2000. 2000. 1500. 2000.]\n",
    "2. Mittelwert der Bevölkerungsdichte: 1900.00 Einwohner/km²\n",
    "3. Standardabweichung der Bevölkerungsdichte: 212.13\n",
    "4. Höchste Bevölkerungsdichte: 2000.00 Einwohner/km² (Region 2)\n",
    "5. Niedrigste Bevölkerungsdichte: 1500.00 Einwohner/km² (Region 4)\n"
   ]
  },
  {
   "cell_type": "code",
   "execution_count": 12,
   "id": "11819748-e273-4094-8494-f4accfbe310c",
   "metadata": {},
   "outputs": [
    {
     "name": "stdout",
     "output_type": "stream",
     "text": [
      "1. Bevölkerungsdichten der Regionen: [2000. 2000. 2000. 1500. 2000.]\n",
      "2. Mittelwert der Bevölkerungsdichte: 1900.00 Einwohner/km²\n",
      "3. Standardabweichung der Bevölkerungsdichte: 200.00\n",
      "4. Höchste Bevölkerungsdichte: 2000.00 Einwohner/km² (Region 1)\n",
      "5. Niedrigste Bevölkerungsdichte: 1500.00 Einwohner/km² (Region 4)\n",
      "6. Std mit Bessel: 223.61\n"
     ]
    }
   ],
   "source": [
    "import numpy as np\n",
    "\n",
    "# Einwohnerzahl der Regionen\n",
    "population = np.array([500000, 1200000, 800000, 300000, 1000000])\n",
    "\n",
    "# Fläche der Regionen in km²\n",
    "area = np.array([250, 600, 400, 200, 500])\n",
    "\n",
    "# TODO: Berechne die Bevölkerungsdichte für jede Region\n",
    "density = population / area\n",
    "\n",
    "# TODO: Berechne Mittelwert und Standardabweichung der Bevölkerungsdichte\n",
    "mean_density = np.mean(density)\n",
    "std_density = np.std(density)\n",
    "std_density_sample = np.std(density, ddof=1) ## Bessel-Korrektur, nur auf Nachfrage! \n",
    "\n",
    "# TODO: Bestimme Regionen mit höchster und niedrigster Bevölkerungsdichte\n",
    "max_density_index = np.argmax(density)\n",
    "min_density_index = np.argmin(density)\n",
    "\n",
    "print(\"1. Bevölkerungsdichten der Regionen:\", density)\n",
    "print(f\"2. Mittelwert der Bevölkerungsdichte: {mean_density:.2f} Einwohner/km²\")\n",
    "print(f\"3. Standardabweichung der Bevölkerungsdichte: {std_density:.2f}\")\n",
    "print(f\"4. Höchste Bevölkerungsdichte: {density[max_density_index]:.2f} Einwohner/km² (Region {max_density_index + 1})\")\n",
    "print(f\"5. Niedrigste Bevölkerungsdichte: {density[min_density_index]:.2f} Einwohner/km² (Region {min_density_index + 1})\")\n",
    "print(f\"6. Std mit Bessel: {std_density_sample:.2f}\")\n"
   ]
  }
 ],
 "metadata": {
  "kernelspec": {
   "display_name": "Python 3 (ipykernel)",
   "language": "python",
   "name": "python3"
  },
  "language_info": {
   "codemirror_mode": {
    "name": "ipython",
    "version": 3
   },
   "file_extension": ".py",
   "mimetype": "text/x-python",
   "name": "python",
   "nbconvert_exporter": "python",
   "pygments_lexer": "ipython3",
   "version": "3.12.4"
  }
 },
 "nbformat": 4,
 "nbformat_minor": 5
}

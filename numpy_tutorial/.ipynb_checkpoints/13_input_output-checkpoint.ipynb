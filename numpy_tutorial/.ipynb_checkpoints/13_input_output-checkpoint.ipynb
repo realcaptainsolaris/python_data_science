{
 "cells": [
  {
   "cell_type": "markdown",
   "id": "7ba390e8",
   "metadata": {},
   "source": [
    "# Daten speichern und laden\n",
    "Wir können mit Numpy Daten auch persistent auf der Festplatte speichern und von der Festplatte einlesen."
   ]
  },
  {
   "cell_type": "code",
   "execution_count": 2,
   "id": "3fd92bac",
   "metadata": {},
   "outputs": [],
   "source": [
    "import numpy as np"
   ]
  },
  {
   "cell_type": "markdown",
   "id": "872a6751",
   "metadata": {},
   "source": [
    "## Daten mit Pickle speichern\n",
    "Die Methode numpy.save nutzt im Hintergrund pickle, um Daten zu speichern. Sie erwaret als ersten Parameter einen Dateinamen (alternativ auch ein File-Objekt) und in zweiten Parameter dann das Array. \n",
    "Mit dem Parameter `allow_pickle` auf False kann man verhindern, dass die Datei als pickle gespeichert wird. Gründe könnten Security-Issues sein.\n",
    "\n",
    "### Datei-Suffix\n",
    "Falls kein Datei-Suffix beim Speichern angegeben wird, wird der Dateiname automatisch um die Endung `npy` ergänzt."
   ]
  },
  {
   "cell_type": "code",
   "execution_count": 12,
   "id": "1790f261",
   "metadata": {},
   "outputs": [],
   "source": [
    "mean = [1, 3, 4]\n",
    "cov = [\n",
    "    [1, 0, 0],\n",
    "    [0, 1, 0],\n",
    "    [0, 0, 1],\n",
    "]\n",
    "data = np.random.multivariate_normal(mean=mean, cov=cov, size=(10,))"
   ]
  },
  {
   "cell_type": "code",
   "execution_count": 18,
   "id": "631990bf",
   "metadata": {},
   "outputs": [],
   "source": [
    "np.save(\n",
    "    \"dataset_full\",\n",
    "    data,\n",
    "    allow_pickle=True,\n",
    ")"
   ]
  },
  {
   "cell_type": "markdown",
   "id": "73009aae",
   "metadata": {},
   "source": [
    "## Daten laden\n",
    "Beim Laden muss der Dateisuffix angegeben werden! Sonst wird die Datei nicht gefunden!"
   ]
  },
  {
   "cell_type": "code",
   "execution_count": 20,
   "id": "268d9e63",
   "metadata": {},
   "outputs": [
    {
     "data": {
      "text/plain": [
       "array([[ 2.18651834,  3.28215078,  4.05098865],\n",
       "       [ 3.42179594,  1.95706017,  3.59377778],\n",
       "       [-0.89649617,  2.1488531 ,  2.70197181],\n",
       "       [ 0.2613701 ,  3.112467  ,  5.0590376 ],\n",
       "       [ 1.0085256 ,  1.95903492,  3.71733525],\n",
       "       [ 1.44539863,  2.64188294,  3.88600646],\n",
       "       [-0.06531112,  2.01259876,  3.22798366],\n",
       "       [ 1.44895707,  2.91893895,  3.12892543],\n",
       "       [ 1.39242681,  2.0020698 ,  3.32037548],\n",
       "       [ 0.51971344,  3.40088796,  4.82692665]])"
      ]
     },
     "execution_count": 20,
     "metadata": {},
     "output_type": "execute_result"
    }
   ],
   "source": [
    "data = np.load(\"dataset_full.npy\")\n",
    "data"
   ]
  }
 ],
 "metadata": {
  "kernelspec": {
   "display_name": "Python 3 (ipykernel)",
   "language": "python",
   "name": "python3"
  },
  "language_info": {
   "codemirror_mode": {
    "name": "ipython",
    "version": 3
   },
   "file_extension": ".py",
   "mimetype": "text/x-python",
   "name": "python",
   "nbconvert_exporter": "python",
   "pygments_lexer": "ipython3",
   "version": "3.9.10"
  }
 },
 "nbformat": 4,
 "nbformat_minor": 5
}

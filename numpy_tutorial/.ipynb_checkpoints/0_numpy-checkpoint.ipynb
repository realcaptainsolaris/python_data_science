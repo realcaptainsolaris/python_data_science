{
 "cells": [
  {
   "cell_type": "markdown",
   "id": "d87fa12d-dbf5-4287-ae88-9603b856d6d0",
   "metadata": {},
   "source": [
    "## Dozent Numpy Einführung"
   ]
  },
  {
   "cell_type": "code",
   "execution_count": 18,
   "id": "52586103-b50d-4b19-ab73-9e9e3f4a6fe5",
   "metadata": {},
   "outputs": [
    {
     "name": "stdout",
     "output_type": "stream",
     "text": [
      "Variable   Type       Data/Info\n",
      "-------------------------------\n",
      "D          ndarray    2x3: 6 elems, type `float64`, 48 bytes\n",
      "np         module     <module 'numpy' from '/ho<...>kages/numpy/__init__.py'>\n"
     ]
    }
   ],
   "source": [
    "# gucken, welche module geladen sind im notebook\n",
    "%whos"
   ]
  },
  {
   "cell_type": "code",
   "execution_count": 6,
   "id": "497b5669",
   "metadata": {},
   "outputs": [],
   "source": [
    "import numpy as np"
   ]
  },
  {
   "cell_type": "code",
   "execution_count": 25,
   "id": "535de941",
   "metadata": {},
   "outputs": [
    {
     "data": {
      "text/plain": [
       "(2, numpy.int64)"
      ]
     },
     "execution_count": 25,
     "metadata": {},
     "output_type": "execute_result"
    }
   ],
   "source": [
    "# ein Array auf Basis einer Python Liste anlegen\n",
    "# Wir erinnern uns: die Elemente eines Numpy-Arrays sollten immer vom selben Datentyp sein\n",
    "\n",
    "x = np.array([1, 2, 3, 8])\n",
    "type(x[0]) #  numpy.int64 (unboxed, nativer datentyp)\n",
    "\n",
    "p = 2 # int boxed\n",
    "p.bit_length(), type(x[0])"
   ]
  },
  {
   "cell_type": "code",
   "execution_count": 28,
   "id": "e8bd5aae",
   "metadata": {},
   "outputs": [
    {
     "data": {
      "text/plain": [
       "(1, (4,), dtype('int64'), 4, (8,))"
      ]
     },
     "execution_count": 28,
     "metadata": {},
     "output_type": "execute_result"
    }
   ],
   "source": [
    "# Array-Dimension, Shape, Datentyp und Size, Strides ist die Step-Size in Memory (zum Weitergehen, hängt von dtyp ab)\n",
    "x.ndim, x.shape, x.dtype, x.size, x.strides"
   ]
  },
  {
   "cell_type": "code",
   "execution_count": 4,
   "id": "369a123d",
   "metadata": {},
   "outputs": [
    {
     "data": {
      "text/plain": [
       "dtype('float64')"
      ]
     },
     "execution_count": 4,
     "metadata": {},
     "output_type": "execute_result"
    }
   ],
   "source": [
    "# Ein Array mit Integer und Floats. Numpy bildet alle Werte als float64 Bit ab\n",
    "y = np.array([1, 2, 3.2, 8])\n",
    "y.dtype"
   ]
  },
  {
   "cell_type": "markdown",
   "id": "5b10849a",
   "metadata": {},
   "source": [
    "## Vektoren\n",
    "\n",
    "Ein Vektor ist ein mathematisches Objekt, das sowohl eine Richtung als auch eine Magnitud (Länge) besitzt. Vektoren werden oft genutzt, um Punkte in einem Raum relativ zu einem anderen Punkt zu beschreiben.\n",
    "\n",
    "\n",
    "#### Spaltenvektor (m × 1-Matrix)\n",
    "Ein Spaltenvektor ist eine Matrix mit genau einer Spalte\n",
    "$\n",
    " \\vec{e}_1= \\left(\\begin{array}{c} 1 \\\\ 0 \\\\ 1 \\end{array}\\right)\n",
    "$\n",
    "\n",
    "\n",
    "#### Zeilenvektor ( 1 × n-Matrix)\n",
    " (Numpy Arrays sind per default Zeilenvektoren)   \n",
    "da ein Zeilenvektor die transponierte form eines Spaltenvektors ist, tragen sie das T im Namen:    \n",
    "$\n",
    " \\vec{x}{^T} = (x \\; y \\; z) \n",
    "$"
   ]
  },
  {
   "cell_type": "markdown",
   "id": "5dde1a65-2bab-4f3d-9c9c-9a6ef6a3114f",
   "metadata": {},
   "source": [
    "## Skalarprodukt\n",
    "\n",
    "Das Skalarprodukt zweier Vektoren ergibt eine Zahl (Skalar), die von den Beträgen der Vektoren und dem Winkel zwischen ihnen abhängt:\n",
    "\n",
    "- Definition:\n",
    "$\n",
    "\\vec{a} \\cdot \\vec{b} = |\\vec{a}| \\cdot |\\vec{b}| \\cdot \\cos(\\theta)\n",
    "$\n",
    "\n",
    "- Komponentenform:\n",
    "$\n",
    "\\vec{a} \\cdot \\vec{b} = a_1b_1 + a_2b_2 + a_3b_3\n",
    "$\n",
    "\n",
    "**Anwendung**: Berechnung des Winkels zwischen zwei Vektoren."
   ]
  },
  {
   "cell_type": "code",
   "execution_count": 28,
   "id": "85021c58-6971-4cf8-ab59-b09cf96231e8",
   "metadata": {},
   "outputs": [
    {
     "data": {
      "text/plain": [
       "(np.int64(32),\n",
       " np.float64(0.9746318461970762),\n",
       " np.float64(12.933154491899135),\n",
       " np.float64(0.2257261285527342))"
      ]
     },
     "execution_count": 28,
     "metadata": {},
     "output_type": "execute_result"
    }
   ],
   "source": [
    "a = np.array([1, 2, 3])\n",
    "b = np.array([4, 5, 6])\n",
    "\n",
    "# Beträge der Vektoren berechnen\n",
    "norm_a = np.linalg.norm(a)\n",
    "norm_b = np.linalg.norm(b)\n",
    "\n",
    "\n",
    "# Kosinus des Winkels berechnen\n",
    "cos_phi = a @ b / (norm_a * norm_b)\n",
    "\n",
    "\n",
    "\n",
    "# Winkel via arccos in Radiant und Grad berechnen\n",
    "phi_rad = np.arccos(cos_phi)  # Arccos anwenden\n",
    "phi_deg = np.degrees(phi_rad)\n",
    "\n",
    "# Ergebnisse anzeigen\n",
    "a @ b, cos_phi, phi_deg, phi_rad\n"
   ]
  },
  {
   "cell_type": "code",
   "execution_count": 33,
   "id": "3a83dd93-3e74-4fee-956b-c5eed1321810",
   "metadata": {},
   "outputs": [
    {
     "data": {
      "image/png": "[encoded data removed]",
      "text/plain": [
       "<Figure size 640x480 with 1 Axes>"
      ]
     },
     "metadata": {},
     "output_type": "display_data"
    }
   ],
   "source": [
    "# 2D-Vektoren\n",
    "a_2d = np.array([1, 2])\n",
    "b_2d = np.array([3, 1])\n",
    "\n",
    "# Berechnung des Winkels zwischen den Vektoren in 2D\n",
    "dot_product_2d = np.dot(a_2d, b_2d)\n",
    "norm_a_2d = np.linalg.norm(a_2d)\n",
    "norm_b_2d = np.linalg.norm(b_2d)\n",
    "cos_phi_2d = dot_product_2d / (norm_a_2d * norm_b_2d)\n",
    "phi_rad_2d = np.arccos(np.clip(cos_phi_2d, -1.0, 1.0))\n",
    "phi_deg_2d = np.degrees(phi_rad_2d)\n",
    "\n",
    "# Plot der Vektoren in 2D\n",
    "fig, ax = plt.subplots()\n",
    "ax.quiver(0, 0, a_2d[0], a_2d[1], angles='xy', scale_units='xy', scale=1, color='r', label='Vektor a')\n",
    "ax.quiver(0, 0, b_2d[0], b_2d[1], angles='xy', scale_units='xy', scale=1, color='b', label='Vektor b')\n",
    "\n",
    "# Winkelbeschriftung\n",
    "ax.text(0.5, 1.0, f\"φ ≈ {phi_deg_2d:.2f}°\", fontsize=12, color='green')\n",
    "\n",
    "# Achseneinstellungen\n",
    "ax.set_xlim(-1, 4)\n",
    "ax.set_ylim(-1, 3)\n",
    "ax.set_aspect('equal')\n",
    "plt.axhline(0, color='gray', lw=0.5)\n",
    "plt.axvline(0, color='gray', lw=0.5)\n",
    "plt.grid(True)\n",
    "plt.xlabel('X-Achse')\n",
    "plt.ylabel('Y-Achse')\n",
    "plt.title('Winkel zwischen zwei Vektoren in 2D')\n",
    "plt.legend()\n",
    "\n",
    "plt.show()\n"
   ]
  },
  {
   "cell_type": "markdown",
   "id": "937234ad-d36f-4fca-b9f7-252e0ca8eb4a",
   "metadata": {},
   "source": [
    "## Vektorprodukt\n",
    "\n",
    "Das Vektorprodukt zweier Vektoren ergibt einen Vektor, der senkrecht zu beiden Ausgangsvektoren steht, mit einer Länge proportional zu den Beträgen der Vektoren und dem Sinus des eingeschlossenen Winkels.\n",
    "\n",
    "- Definition:\n",
    "$\n",
    "\\vec{a} \\times \\vec{b} = |\\vec{a}| \\cdot |\\vec{b}| \\cdot \\sin(\\theta) \\cdot \\vec{n}\n",
    "$\n",
    "wobei $\\vec{n}$ der Einheitsvektor senkrecht zu $\\vec{a}$ und $\\vec{b}$ ist.\n",
    "\n",
    "- Komponentenform:\n",
    "$\n",
    "\\vec{a} \\times \\vec{b} = \\begin{vmatrix} \\vec{i} & \\vec{j} & \\vec{k} \\\\ a_1 & a_2 & a_3 \\\\ b_1 & b_2 & b_3 \\end{vmatrix}\n",
    "$\n",
    "\n",
    "daraus folgt:\n",
    "\n",
    "$\n",
    "\\vec{a} \\times \\vec{b} = \\begin{bmatrix}\n",
    "a_2 b_3 - a_3 b_2 \\\\\n",
    "a_3 b_1 - a_1 b_3 \\\\\n",
    "a_1 b_2 - a_2 b_1\n",
    "\\end{bmatrix}.\n",
    "$"
   ]
  },
  {
   "cell_type": "code",
   "execution_count": 35,
   "id": "85df644e-ab76-461e-8281-f304087ffa3b",
   "metadata": {},
   "outputs": [
    {
     "name": "stdout",
     "output_type": "stream",
     "text": [
      "Vektorprodukt: [-3  6 -3]\n"
     ]
    }
   ],
   "source": [
    "a = np.array([1, 2, 3])\n",
    "b = np.array([4, 5, 6])\n",
    "\n",
    "# Vektorprodukt\n",
    "vektorprodukt = np.cross(a, b)\n",
    "\n",
    "print(\"Vektorprodukt:\", vektorprodukt)"
   ]
  },
  {
   "cell_type": "code",
   "execution_count": 34,
   "id": "8232f62e-0bf0-4453-a2d6-84cd8c38fcc7",
   "metadata": {},
   "outputs": [
    {
     "data": {
      "image/png": "[encoded data removed]",
      "text/plain": [
       "<Figure size 640x480 with 1 Axes>"
      ]
     },
     "metadata": {},
     "output_type": "display_data"
    }
   ],
   "source": [
    "import matplotlib.pyplot as plt \n",
    "\n",
    "a = np.array([1, 2, 3])\n",
    "b = np.array([4, 5, 6])\n",
    "\n",
    "cross_product = np.cross(a, b)\n",
    "\n",
    "\n",
    "\n",
    "# Visualisierung des Vektorprodukts\n",
    "fig = plt.figure()\n",
    "ax = fig.add_subplot(111, projection='3d')\n",
    "\n",
    "\n",
    "\n",
    "# Ursprung\n",
    "origin = np.array([0, 0, 0])\n",
    "\n",
    "\n",
    "# Vektoren plotten\n",
    "ax.quiver(*origin, *a, color='r', label='Vektor a', arrow_length_ratio=0.1)\n",
    "ax.quiver(*origin, *b, color='b', label='Vektor b', arrow_length_ratio=0.1)\n",
    "ax.quiver(*origin, *cross_product, color='g', label='Vektorprodukt (a × b)', arrow_length_ratio=0.1)\n",
    "\n",
    "# Achsentitel und Grenzen\n",
    "ax.set_xlim([0, 7])\n",
    "ax.set_ylim([0, 7])\n",
    "ax.set_zlim([0, 7])\n",
    "ax.set_xlabel('X-Achse')\n",
    "ax.set_ylabel('Y-Achse')\n",
    "ax.set_zlabel('Z-Achse')\n",
    "ax.set_title('Vektorprodukt zwischen zwei Vektoren')\n",
    "\n",
    "# Legende anzeigen\n",
    "ax.legend()\n",
    "plt.show()\n"
   ]
  },
  {
   "cell_type": "markdown",
   "id": "d604785a-21e1-489b-be89-a6b0f46b0160",
   "metadata": {},
   "source": [
    "## Matrizen\n",
    "\n",
    "Eine Matrix ist eine rechteckige Anordnung von Zahlen, Symbolen oder Ausdrücken, die in Zeilen und Spalten organisiert ist. Sie wird verwendet, um Daten kompakt darzustellen und erleichtert Berechnungen in Bereichen wie Algebra, Physik, Informatik und maschinellem Lernen.\n",
    "\n",
    "Eine 2x3 Matrix würde mathematisch so notiert werden:\n",
    "\n",
    "$ M = \\left( \\begin{matrix} 1 & 2 & 3 \\\\ 3 & 4 & 4 \\end{matrix} \\right) $\n",
    "\n"
   ]
  },
  {
   "cell_type": "code",
   "execution_count": 6,
   "id": "033669c4-2ad9-42bf-bd3d-e890e33c02be",
   "metadata": {},
   "outputs": [
    {
     "data": {
      "text/plain": [
       "array([1, 0, 1])"
      ]
     },
     "execution_count": 6,
     "metadata": {},
     "output_type": "execute_result"
    }
   ],
   "source": [
    "xT = np.array([1, 0, 1])\n",
    "xT"
   ]
  },
  {
   "cell_type": "code",
   "execution_count": 5,
   "id": "2ba797e1",
   "metadata": {},
   "outputs": [
    {
     "name": "stdout",
     "output_type": "stream",
     "text": [
      "[[1 2 3]\n",
      " [3 4 4]]\n"
     ]
    },
    {
     "data": {
      "text/plain": [
       "(2, (2, 3))"
      ]
     },
     "execution_count": 5,
     "metadata": {},
     "output_type": "execute_result"
    }
   ],
   "source": [
    "# Dimension und Shape eines 2-dimensionales Arrays\n",
    "# shape(2, 3) bedeutet: 2 Reihen, 3 Spalten\n",
    "M = np.array([[1, 2, 3], [3, 4, 4]])\n",
    "print(M)\n",
    "M.ndim, M.shape"
   ]
  },
  {
   "cell_type": "markdown",
   "id": "4a1b4bb1",
   "metadata": {},
   "source": []
  },
  {
   "cell_type": "markdown",
   "id": "00fd824c",
   "metadata": {},
   "source": [
    "## Axis - der Achsenbegriff\n",
    "\n",
    "In NumPy beschreibt der Begriff axis die Dimension, entlang der Operationen in einem Array ausgeführt werden, wobei axis 0 für Zeilen, axis 1 für Spalten und höhere Achsen (z. B. axis 2, axis 3) für weitere Dimensionen wie Tiefe oder Zeit in mehrdimensionalen Arrays stehen.\n",
    "\n",
    "![title](numpy-arrays-have-axes.webp)\n",
    "\n",
    "\n",
    "### HINTERGRUNDWISSEN\n",
    "Der Axis-Begriff in NumPy ist direkt aus der Mathematik übernommen, insbesondere aus der linearen Algebra und der Tensor-Rechnung:\n",
    "\n",
    "    In der linearen Algebra bezieht sich eine Achse auf die Orientierung von Vektoren oder Matrizen in einem Koordinatensystem.\n",
    "    In der Tensor-Rechnung, einem verallgemeinerten Konzept von Matrizen, beschreibt jede Achse (axis) eine neue Dimension des Tensors.\n",
    "\n",
    "Fun-Fact: Ein Tensor mit einer einzigen Achse ist ein Vektor, mit zwei Achsen eine Matrix und mit drei oder mehr Achsen ein echter Tensor!"
   ]
  },
  {
   "cell_type": "markdown",
   "id": "9937739a",
   "metadata": {},
   "source": [
    "\n",
    "## Arrays erstellen"
   ]
  },
  {
   "cell_type": "markdown",
   "id": "9b3bad7a",
   "metadata": {},
   "source": [
    "### Array mit gemischten Datentypen int und float"
   ]
  },
  {
   "cell_type": "code",
   "execution_count": 13,
   "id": "d129f594",
   "metadata": {},
   "outputs": [
    {
     "name": "stdout",
     "output_type": "stream",
     "text": [
      "[1.1 2.2 4.  2. ]\n",
      "shape:  (4,)\n",
      "dim:  1\n",
      "dtype:  float64\n"
     ]
    }
   ],
   "source": [
    "M = np.array([1.1, 2.2, 4, 2])\n",
    "print(M)\n",
    "print(\"shape: \", M.shape)\n",
    "print(\"dim: \", M.ndim)\n",
    "print(\"dtype: \", M.dtype)"
   ]
  },
  {
   "cell_type": "markdown",
   "id": "591464e6-5eb9-40c2-9cb1-41ef0a645416",
   "metadata": {},
   "source": [
    "### Array mit Python - Objekten (Datentyp object)"
   ]
  },
  {
   "cell_type": "code",
   "execution_count": 40,
   "id": "b295b3d4-2b4d-44d7-87d9-ca43792ec9bf",
   "metadata": {},
   "outputs": [
    {
     "data": {
      "text/plain": [
       "array([list([1, 2]), 1, {'alfa': 3}, 'alfa'], dtype=object)"
      ]
     },
     "execution_count": 40,
     "metadata": {},
     "output_type": "execute_result"
    }
   ],
   "source": [
    "M = np.array([[1, 2], 1, {\"alfa\":3}, \"alfa\"], dtype=\"object\")\n",
    "# M[2][\"alfa\"] Zugriff auf das Dict\n",
    "M"
   ]
  },
  {
   "cell_type": "markdown",
   "id": "e89f911f",
   "metadata": {},
   "source": [
    "### Explizit Datentyp beim Erstellen des Arrays angeben"
   ]
  },
  {
   "cell_type": "code",
   "execution_count": 41,
   "id": "e1a9417d",
   "metadata": {},
   "outputs": [
    {
     "name": "stdout",
     "output_type": "stream",
     "text": [
      "[1. 2. 4. 2.]\n",
      "dtype:  float32\n"
     ]
    }
   ],
   "source": [
    "M = np.array([1, 2, 4, 2], dtype=\"float32\")\n",
    "print(M)\n",
    "print(\"dtype: \", M.dtype)"
   ]
  },
  {
   "cell_type": "markdown",
   "id": "5b376835",
   "metadata": {},
   "source": [
    "### Null Matrix (intrinsic numpy array)\n",
    "\n",
    "#### 2 x 2 Null-Matrix\n",
    "$ \\left( \\begin{matrix} 0 & 0 \\\\ 0 & 0 \\end{matrix} \\right) $"
   ]
  },
  {
   "cell_type": "code",
   "execution_count": 15,
   "id": "59bf137c",
   "metadata": {},
   "outputs": [
    {
     "data": {
      "text/plain": [
       "array([[0., 0.],\n",
       "       [0., 0.]])"
      ]
     },
     "execution_count": 15,
     "metadata": {},
     "output_type": "execute_result"
    }
   ],
   "source": [
    "N = np.zeros(shape=(2,2))\n",
    "N"
   ]
  },
  {
   "cell_type": "code",
   "execution_count": 16,
   "id": "d4d4d3e5",
   "metadata": {},
   "outputs": [
    {
     "data": {
      "text/plain": [
       "array([0, 0, 0, 0, 0, 0, 0, 0, 0, 0, 0], dtype=int32)"
      ]
     },
     "execution_count": 16,
     "metadata": {},
     "output_type": "execute_result"
    }
   ],
   "source": [
    "# eindimensionale Null-Matrix und Datentyp int32\n",
    "N = np.zeros(shape=(11,), dtype=\"int32\")\n",
    "N"
   ]
  },
  {
   "cell_type": "code",
   "execution_count": 17,
   "id": "13df84fe",
   "metadata": {},
   "outputs": [
    {
     "data": {
      "text/plain": [
       "array([[[0, 0],\n",
       "        [0, 0]],\n",
       "\n",
       "       [[0, 0],\n",
       "        [0, 0]]], dtype=int32)"
      ]
     },
     "execution_count": 17,
     "metadata": {},
     "output_type": "execute_result"
    }
   ],
   "source": [
    "# dreidimensionale Null-Matrix (Tensor)\n",
    "N = np.zeros(shape=(2,2,2), dtype=\"int32\")\n",
    "N"
   ]
  },
  {
   "cell_type": "markdown",
   "id": "8e7b2757",
   "metadata": {},
   "source": [
    "## Einheitsmatrix\n",
    "Eine spezielle Form ist die n × n-Einheitsmatrix, welche eine `Diagonalmatrix ist, deren Hauptdiagonalelemente alle gleich 1 sind`.\n",
    "\n",
    "Die Einheitsmatrix wird mit E bezeichnet.\n",
    "\n",
    "\n",
    "#### Einheitsmatrix 3. Ordnung\n",
    "$ E = \\left( \\begin{matrix} 1 & 0 & 0 \\\\ 0 & 1 & 0 \\\\ 0 & 0 & 1 \\end{matrix} \\right) $"
   ]
  },
  {
   "cell_type": "code",
   "execution_count": 18,
   "id": "c49adbc1",
   "metadata": {},
   "outputs": [
    {
     "data": {
      "text/plain": [
       "array([[1., 0., 0.],\n",
       "       [0., 1., 0.],\n",
       "       [0., 0., 1.]])"
      ]
     },
     "execution_count": 18,
     "metadata": {},
     "output_type": "execute_result"
    }
   ],
   "source": [
    "E = np.identity(3)\n",
    "E"
   ]
  },
  {
   "cell_type": "markdown",
   "id": "da432000",
   "metadata": {},
   "source": [
    "## Matrix mit Default-Werten\n",
    "\n",
    "$ M = \\left( \\begin{matrix} 42 & 42 & 42 \\\\ 42 & 42 & 42 \\\\ 42 & 42 & 42 \\end{matrix} \\right) $"
   ]
  },
  {
   "cell_type": "code",
   "execution_count": 19,
   "id": "3e3c1a14",
   "metadata": {},
   "outputs": [
    {
     "data": {
      "text/plain": [
       "array([[42, 42, 42],\n",
       "       [42, 42, 42],\n",
       "       [42, 42, 42]], dtype=int16)"
      ]
     },
     "execution_count": 19,
     "metadata": {},
     "output_type": "execute_result"
    }
   ],
   "source": [
    "M = np.full(shape=(3,3), fill_value=42, dtype=\"int16\")\n",
    "M"
   ]
  },
  {
   "cell_type": "markdown",
   "id": "bdd9acbc",
   "metadata": {},
   "source": [
    "## Diagonal-Matrix\n",
    "Als  m  ×  n-Diagonalmatrix  D  =  (dij)  wird  eine  Matrix  bezeichnet,  deren  Elemente\n",
    "außerhalb der Hauptdiagonale Null sind, bei der also gilt: dij = 0 für alle i ≠ j\n",
    "\n",
    "#### 3 x 3 Diagonalmatrix\n",
    "$\\left(  \\begin{array}{rrrr} \n",
    "2 & 0 & 0 \\\\ \n",
    "0 & 3 & 0 \\\\ \n",
    "0 & 0 & 1 \\\\ \n",
    "\\end{array} \\right) $"
   ]
  },
  {
   "cell_type": "code",
   "execution_count": 10,
   "id": "cdc0053b",
   "metadata": {},
   "outputs": [
    {
     "data": {
      "text/plain": [
       "(array([[2, 0, 0],\n",
       "        [0, 3, 0],\n",
       "        [0, 0, 1]]),\n",
       " array([2, 3, 1]))"
      ]
     },
     "execution_count": 10,
     "metadata": {},
     "output_type": "execute_result"
    }
   ],
   "source": [
    "D = np.diag([2, 3, 1])\n",
    "D, D.diagonal()"
   ]
  },
  {
   "cell_type": "markdown",
   "id": "e4891fa2-1676-42b5-abf5-7e0b365ed213",
   "metadata": {},
   "source": [
    "## Matrix transponieren"
   ]
  },
  {
   "cell_type": "code",
   "execution_count": 5,
   "id": "bfd9bedb-f77b-4973-9127-f20988fb8a30",
   "metadata": {},
   "outputs": [
    {
     "data": {
      "text/plain": [
       "(array([[-0.04213833,  0.27733205, -0.43122576],\n",
       "        [ 2.25684072, -0.935855  , -0.06682214]]),\n",
       " array([[-0.04213833,  2.25684072],\n",
       "        [ 0.27733205, -0.935855  ],\n",
       "        [-0.43122576, -0.06682214]]))"
      ]
     },
     "execution_count": 5,
     "metadata": {},
     "output_type": "execute_result"
    }
   ],
   "source": [
    "D = np.random.randn(2, 3)\n",
    "D, D.T"
   ]
  },
  {
   "cell_type": "markdown",
   "id": "bb79c3fc",
   "metadata": {},
   "source": [
    "## Reihe anlegen mit Range\n",
    "Wir können mit Numpy ählich wie der range-Funktion aus Python auch eine Reihe anlegen. Dazu können wir die numpy-Methode `arange` nutzen, die identisch zur range-Funktion die drei Parameter Start, Stop (exklusive) und Schrittweite hat.\n",
    "\n",
    "Mit arange erstellte Arrays sind stehts eindimensional, haben also den Shape (n, )."
   ]
  },
  {
   "cell_type": "code",
   "execution_count": 4,
   "id": "485dff49",
   "metadata": {},
   "outputs": [
    {
     "data": {
      "text/plain": [
       "(array([0, 2, 4, 6, 8]),\n",
       " array([0. , 0.2, 0.4, 0.6, 0.8, 1. , 1.2, 1.4, 1.6, 1.8]),\n",
       " (5,))"
      ]
     },
     "execution_count": 4,
     "metadata": {},
     "output_type": "execute_result"
    }
   ],
   "source": [
    "R = np.arange(0, 10, 2)\n",
    "L = np.arange(0, 2, 0.2)\n",
    "R, L, R.shape"
   ]
  },
  {
   "cell_type": "markdown",
   "id": "6d097e31",
   "metadata": {},
   "source": [
    "## Intervall anlegen mit linspace\n",
    "mit der Numpy-Methode `linspace` lässt sich einfach ein Intervall anlegen. Wichtige Argumente sind hier `endpoint`, das angibt, ob das Interval halboffen sein soll und `num`, dass die Anzahl der gleichgroßen Werte zwischen den Intervall-Grenzen angibt, d.h. die Abstände der Punkte sind gleichgroß. Defaultwert für num ist 50."
   ]
  },
  {
   "cell_type": "code",
   "execution_count": 12,
   "id": "97bfd801",
   "metadata": {},
   "outputs": [
    {
     "data": {
      "text/plain": [
       "array([1.  , 1.05, 1.1 , 1.15, 1.2 , 1.25, 1.3 , 1.35, 1.4 , 1.45, 1.5 ,\n",
       "       1.55, 1.6 , 1.65, 1.7 , 1.75, 1.8 , 1.85, 1.9 , 1.95],\n",
       "      dtype=float16)"
      ]
     },
     "execution_count": 12,
     "metadata": {},
     "output_type": "execute_result"
    }
   ],
   "source": [
    "# halboffenes Intervall zwischen 1 und 2 mit 20 Werten\n",
    "I = np.linspace(1, 2, num=20, endpoint=False)\n",
    "I = I.astype(\"float16\")\n",
    "I"
   ]
  },
  {
   "cell_type": "code",
   "execution_count": 23,
   "id": "3aacf484",
   "metadata": {},
   "outputs": [
    {
     "data": {
      "text/plain": [
       "array([1.        , 1.11111111, 1.22222222, 1.33333333, 1.44444444,\n",
       "       1.55555556, 1.66666667, 1.77777778, 1.88888889, 2.        ])"
      ]
     },
     "execution_count": 23,
     "metadata": {},
     "output_type": "execute_result"
    }
   ],
   "source": [
    "# geschlossenes Intervall zwischen 1 und 2 mit 20 Werten\n",
    "I = np.linspace(1, 2, num=10)\n",
    "I"
   ]
  },
  {
   "cell_type": "markdown",
   "id": "704a8479-bed2-40c1-b131-2aae3db4d8a2",
   "metadata": {},
   "source": [
    "## Datentypen\n",
    "\n",
    "NumPy bietet eine Vielzahl von Datentypen, die auf numerische Berechnungen und Speicheroptimierung ausgelegt sind. Diese Typen sind feiner abgestuft als in Python selbst.\n",
    "\n",
    " Jeder Datentyp hat einen bestimmten Wertebereich. Wenn ein Wert diesen Bereich überschreitet, führt das zu Überläufen oder Fehlern.\n"
   ]
  },
  {
   "cell_type": "code",
   "execution_count": 13,
   "id": "155d20fc-6de6-4b38-a4e5-d64470e2415d",
   "metadata": {},
   "outputs": [
    {
     "name": "stdout",
     "output_type": "stream",
     "text": [
      "<class 'numpy.bool'>\n",
      "<class 'numpy.float16'>\n",
      "<class 'numpy.float32'>\n",
      "<class 'numpy.float64'>\n",
      "<class 'numpy.longdouble'>\n",
      "<class 'numpy.complex64'>\n",
      "<class 'numpy.complex128'>\n",
      "<class 'numpy.clongdouble'>\n",
      "<class 'numpy.bytes_'>\n",
      "<class 'numpy.str_'>\n",
      "<class 'numpy.void'>\n",
      "<class 'numpy.object_'>\n",
      "<class 'numpy.datetime64'>\n",
      "<class 'numpy.timedelta64'>\n",
      "<class 'numpy.int8'>\n",
      "<class 'numpy.int8'>\n",
      "<class 'numpy.uint8'>\n",
      "<class 'numpy.uint8'>\n",
      "<class 'numpy.int16'>\n",
      "<class 'numpy.int16'>\n",
      "<class 'numpy.uint16'>\n",
      "<class 'numpy.uint16'>\n",
      "<class 'numpy.int32'>\n",
      "<class 'numpy.int32'>\n",
      "<class 'numpy.uint32'>\n",
      "<class 'numpy.uint32'>\n",
      "<class 'numpy.int64'>\n",
      "<class 'numpy.int64'>\n",
      "<class 'numpy.uint64'>\n",
      "<class 'numpy.uint64'>\n",
      "<class 'numpy.longlong'>\n",
      "<class 'numpy.ulonglong'>\n",
      "<class 'numpy.int64'>\n",
      "<class 'numpy.uint64'>\n",
      "<class 'numpy.float64'>\n",
      "<class 'numpy.complex128'>\n",
      "<class 'numpy.float32'>\n",
      "<class 'numpy.complex64'>\n",
      "<class 'numpy.float16'>\n",
      "<class 'numpy.bool'>\n",
      "<class 'numpy.int64'>\n",
      "<class 'numpy.uint64'>\n",
      "<class 'numpy.float64'>\n",
      "<class 'numpy.complex128'>\n",
      "<class 'numpy.object_'>\n",
      "<class 'numpy.bytes_'>\n",
      "<class 'numpy.bytes_'>\n",
      "<class 'numpy.int64'>\n",
      "<class 'numpy.str_'>\n",
      "<class 'numpy.str_'>\n",
      "<class 'numpy.longdouble'>\n",
      "<class 'numpy.clongdouble'>\n"
     ]
    }
   ],
   "source": [
    "for dtype in np.sctypeDict.values():\n",
    "    print(dtype)"
   ]
  },
  {
   "cell_type": "code",
   "execution_count": 5,
   "id": "91079e90-7027-47e1-a4cd-7fe38e5fe278",
   "metadata": {},
   "outputs": [
    {
     "ename": "OverflowError",
     "evalue": "Python integer 24223243 out of bounds for int16",
     "output_type": "error",
     "traceback": [
      "\u001b[0;31m---------------------------------------------------------------------------\u001b[0m",
      "\u001b[0;31mOverflowError\u001b[0m                             Traceback (most recent call last)",
      "Cell \u001b[0;32mIn[5], line 7\u001b[0m\n\u001b[1;32m      4\u001b[0m value \u001b[38;5;241m=\u001b[39m \u001b[38;5;241m24223243\u001b[39m\n\u001b[1;32m      6\u001b[0m \u001b[38;5;66;03m# Speichere sie als int16\u001b[39;00m\n\u001b[0;32m----> 7\u001b[0m overflow \u001b[38;5;241m=\u001b[39m \u001b[43mnp\u001b[49m\u001b[38;5;241;43m.\u001b[39;49m\u001b[43marray\u001b[49m\u001b[43m(\u001b[49m\u001b[43m[\u001b[49m\u001b[43mvalue\u001b[49m\u001b[43m]\u001b[49m\u001b[43m,\u001b[49m\u001b[43m \u001b[49m\u001b[43mdtype\u001b[49m\u001b[38;5;241;43m=\u001b[39;49m\u001b[38;5;124;43m'\u001b[39;49m\u001b[38;5;124;43mint16\u001b[39;49m\u001b[38;5;124;43m'\u001b[39;49m\u001b[43m)\u001b[49m\n\u001b[1;32m      8\u001b[0m \u001b[38;5;28mprint\u001b[39m(overflow)  \u001b[38;5;66;03m# Falsches Ergebnis\u001b[39;00m\n",
      "\u001b[0;31mOverflowError\u001b[0m: Python integer 24223243 out of bounds for int16"
     ]
    }
   ],
   "source": [
    "## Zahl zu gro0 (Out of bounds error)\n",
    "\n",
    "# Eine große Zahl, die int16 nicht speichern kann\n",
    "value = 24223243\n",
    "\n",
    "# Speichere sie als int16\n",
    "overflow = np.array([value], dtype='int16')\n",
    "print(overflow)  # Falsches Ergebnis"
   ]
  },
  {
   "cell_type": "code",
   "execution_count": 6,
   "id": "3506dccc-d1df-4c76-b656-f95dd7090d3d",
   "metadata": {},
   "outputs": [
    {
     "data": {
      "text/plain": [
       "array([1, 2, 3], dtype=int32)"
      ]
     },
     "execution_count": 6,
     "metadata": {},
     "output_type": "execute_result"
    }
   ],
   "source": [
    "# float array nach int konvertieren\n",
    "\n",
    "# Original-Array mit Gleitkommazahlen\n",
    "float_array = np.array([1.1, 2.5, 3.9])\n",
    "\n",
    "# Konvertieren in int32\n",
    "int_array = float_array.astype('int32')\n",
    "int_array"
   ]
  },
  {
   "cell_type": "markdown",
   "id": "31c3cad3",
   "metadata": {},
   "source": [
    "## Übungsaufgaben\n",
    "Erstelle eine 2 x 3 Matrix D mit beliebigen Werten\n",
    "Erstelle ein geschlossenes Interval zwischen 1 und 20 mit 70 Werten     \n",
    "Erstelle eine Diagonalmatrix mit den Werten 4, 2, 8, 1 auf der Diagonalen     \n",
    "Betrachte die Diagonale von M und konvertiere nach uint16"
   ]
  },
  {
   "cell_type": "code",
   "execution_count": 8,
   "id": "5d47714d-b25a-4873-b4a5-63f264b88f39",
   "metadata": {},
   "outputs": [
    {
     "data": {
      "text/plain": [
       "array([[1, 2, 3],\n",
       "       [4, 5, 6]])"
      ]
     },
     "execution_count": 8,
     "metadata": {},
     "output_type": "execute_result"
    }
   ],
   "source": [
    "# 1)\n",
    "D = np.array([[1, 2, 3],[4, 5, 6]])\n",
    "D"
   ]
  },
  {
   "cell_type": "code",
   "execution_count": 19,
   "id": "7ed14d45-9225-4506-a40a-da0b84d2c2d4",
   "metadata": {},
   "outputs": [
    {
     "data": {
      "text/plain": [
       "array([ 1.        ,  1.27536232,  1.55072464,  1.82608696,  2.10144928,\n",
       "        2.37681159,  2.65217391,  2.92753623,  3.20289855,  3.47826087,\n",
       "        3.75362319,  4.02898551,  4.30434783,  4.57971014,  4.85507246,\n",
       "        5.13043478,  5.4057971 ,  5.68115942,  5.95652174,  6.23188406,\n",
       "        6.50724638,  6.7826087 ,  7.05797101,  7.33333333,  7.60869565,\n",
       "        7.88405797,  8.15942029,  8.43478261,  8.71014493,  8.98550725,\n",
       "        9.26086957,  9.53623188,  9.8115942 , 10.08695652, 10.36231884,\n",
       "       10.63768116, 10.91304348, 11.1884058 , 11.46376812, 11.73913043,\n",
       "       12.01449275, 12.28985507, 12.56521739, 12.84057971, 13.11594203,\n",
       "       13.39130435, 13.66666667, 13.94202899, 14.2173913 , 14.49275362,\n",
       "       14.76811594, 15.04347826, 15.31884058, 15.5942029 , 15.86956522,\n",
       "       16.14492754, 16.42028986, 16.69565217, 16.97101449, 17.24637681,\n",
       "       17.52173913, 17.79710145, 18.07246377, 18.34782609, 18.62318841,\n",
       "       18.89855072, 19.17391304, 19.44927536, 19.72463768, 20.        ])"
      ]
     },
     "execution_count": 19,
     "metadata": {},
     "output_type": "execute_result"
    }
   ],
   "source": [
    "# 2)\n",
    "I = np.linspace(1, 20, 70, endpoint=True)\n",
    "I"
   ]
  },
  {
   "cell_type": "code",
   "execution_count": 12,
   "id": "3a0e1a29-1b15-4b35-92ec-952b480792c0",
   "metadata": {},
   "outputs": [
    {
     "data": {
      "text/plain": [
       "array([[4, 0, 0, 0],\n",
       "       [0, 2, 0, 0],\n",
       "       [0, 0, 8, 0],\n",
       "       [0, 0, 0, 1]])"
      ]
     },
     "execution_count": 12,
     "metadata": {},
     "output_type": "execute_result"
    }
   ],
   "source": [
    "# 3)\n",
    "M = np.diag([4, 2, 8, 1])\n",
    "M"
   ]
  },
  {
   "cell_type": "code",
   "execution_count": 27,
   "id": "8d320e97-00b4-4946-a645-1971a463afab",
   "metadata": {},
   "outputs": [
    {
     "data": {
      "text/plain": [
       "array([4, 2, 8, 1], dtype=uint16)"
      ]
     },
     "execution_count": 27,
     "metadata": {},
     "output_type": "execute_result"
    }
   ],
   "source": [
    "#4 )\n",
    "diag = M.diagonal()\n",
    "diag = diag.astype(\"uint16\")\n",
    "diag\n",
    "# M = M.astype(\"uint8\")\n",
    "# M"
   ]
  },
  {
   "cell_type": "markdown",
   "id": "10aee166-06e6-4d7b-b553-8bc0973173d9",
   "metadata": {},
   "source": [
    "### Intern Datengrößen"
   ]
  },
  {
   "cell_type": "code",
   "execution_count": null,
   "id": "6a838a92-34b3-410c-aeb9-eef2ff463221",
   "metadata": {},
   "outputs": [],
   "source": [
    "SIZE = 100\n",
    "\n",
    "# Create a Python List with 100 Integers\n",
    "mylist = range(SIZE)\n",
    "\n",
    "sys.getsizeof(1) # size of an integer in Python is 28 Bytes\n",
    "sys.getsizeof(1)* SIZE  # 2800\n",
    "\n",
    "# create a Numpy array\n",
    "numpy_array = np.arange(SIZE)\n",
    "numpy_array.itemsize # size of an integer in numpy is 4 Bytes\n",
    "numpy_array.itemsize  * SIZE # 400"
   ]
  }
 ],
 "metadata": {
  "kernelspec": {
   "display_name": "Python 3 (ipykernel)",
   "language": "python",
   "name": "python3"
  },
  "language_info": {
   "codemirror_mode": {
    "name": "ipython",
    "version": 3
   },
   "file_extension": ".py",
   "mimetype": "text/x-python",
   "name": "python",
   "nbconvert_exporter": "python",
   "pygments_lexer": "ipython3",
   "version": "3.12.4"
  },
  "vscode": {
   "interpreter": {
    "hash": "a0510decc67b34d5607519e9a5f35cf1d849611bea35f48ec007be6c04781e6e"
   }
  }
 },
 "nbformat": 4,
 "nbformat_minor": 5
}

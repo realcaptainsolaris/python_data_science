{
 "cells": [
  {
   "cell_type": "code",
   "execution_count": 181,
   "id": "a9555995",
   "metadata": {},
   "outputs": [],
   "source": [
    "import numpy as np\n",
    "import matplotlib.pyplot as plt\n",
    "np.random.seed(42)"
   ]
  },
  {
   "cell_type": "markdown",
   "id": "4c6e565c",
   "metadata": {},
   "source": [
    "# Zufallswerte aus Verteilungen sampeln\n",
    "Numpy bietet einige Möglichkeiten an, aus diversen Zufallsverteilungen Zufallswerte zu erstellen (Sample). Hier sind die wichtigsten Verteilungen aufgeführt."
   ]
  },
  {
   "cell_type": "markdown",
   "id": "79fe6749",
   "metadata": {},
   "source": [
    "## Standardnormalverteilung\n",
    "die Standardnormalverteilung ist eine Normalverteilung mit der Standardabweichung $\\sigma=1$ und dem Mittelwert (Erwartungswert) $\\mu = 0$\n",
    "\n",
    "Dazu nutzen wir aus dem numpy Random Modul die Methode `randn`. Über die Parameter lässt sich der Shape des gewünschten Arrays definieren. "
   ]
  },
  {
   "cell_type": "code",
   "execution_count": 197,
   "id": "f4112a90",
   "metadata": {},
   "outputs": [
    {
     "data": {
      "text/plain": [
       "(array([ 0.49671415, -0.1382643 ,  0.64768854,  1.52302986, -0.23415337,\n",
       "        -0.23413696,  1.57921282,  0.76743473, -0.46947439,  0.54256004]),\n",
       " (10,),\n",
       " array([[-0.46341769, -0.46572975,  0.24196227, -1.91328024, -1.72491783],\n",
       "        [-0.56228753, -1.01283112,  0.31424733, -0.90802408, -1.4123037 ]]),\n",
       " (2, 5))"
      ]
     },
     "execution_count": 197,
     "metadata": {},
     "output_type": "execute_result"
    }
   ],
   "source": [
    "# eindimensionales Array mit 10 Elementen\n",
    "samples = np.random.randn(10)\n",
    "\n",
    "# zweidimensionales Array mit 2 x 5 Elementen\n",
    "samples2 = np.random.randn(2, 5)\n",
    "samples, samples.shape, samples2, samples2.shape"
   ]
  },
  {
   "cell_type": "code",
   "execution_count": 206,
   "id": "6d688939",
   "metadata": {},
   "outputs": [
    {
     "data": {
      "image/png": "[encoded data removed]",
      "text/plain": [
       "<Figure size 1008x576 with 1 Axes>"
      ]
     },
     "metadata": {
      "needs_background": "light"
     },
     "output_type": "display_data"
    }
   ],
   "source": [
    "samples = np.random.randn(100_000)\n",
    "plt.figure(figsize=(14, 8))\n",
    "plt.hist(samples, bins=100)\n",
    "plt.show()"
   ]
  },
  {
   "cell_type": "markdown",
   "id": "8fa6ef00",
   "metadata": {},
   "source": [
    "## Normalverteilung\n",
    "Bei der Normalverteilung muss man im Gegensatz zur Standardnormalverteilung $\\mu$ und $\\sigma$ definieren. Die beiden benannten Argumente der Methode normal heissen `loc` (für Mittelwert) und  `scale` für Standardabweichung.\n",
    "\n",
    "Je größer die Anzahl an Samples, desto mehr nähert sich der berechnete Mittelwert $\\mu$ an."
   ]
  },
  {
   "cell_type": "code",
   "execution_count": 16,
   "id": "4904eff3",
   "metadata": {},
   "outputs": [
    {
     "data": {
      "text/plain": [
       "array([ 6.39694631,  1.3226711 ,  2.20258461, -2.27424456,  0.36685183,\n",
       "        2.33276777, -1.45298073,  3.12709406,  0.19808393,  1.12491875,\n",
       "        0.19488016,  7.55683455,  1.95950833, -1.17313279,  4.46763474,\n",
       "       -1.66253095,  2.62659079, -3.87901037, -1.98455815,  2.59058371])"
      ]
     },
     "execution_count": 16,
     "metadata": {},
     "output_type": "execute_result"
    }
   ],
   "source": [
    "mu = 2\n",
    "sigma = 3\n",
    "samples = np.random.normal(loc=mu, scale=sigma, size=(20,))\n",
    "samples"
   ]
  },
  {
   "cell_type": "markdown",
   "id": "3fd4a471",
   "metadata": {},
   "source": [
    "### Aufgabe\n",
    "Erstelle 10 zufällige Menschengrößen. Die Größe ist normalverteilt mit dem Mittelwert 175 cm und einer Standardabweichung von 5 cm."
   ]
  },
  {
   "cell_type": "markdown",
   "id": "7bd8540d",
   "metadata": {},
   "source": [
    "## Mehrdimensionale Normalverteilung\n",
    "wir können für mehrere Dimensionen eine Normalverteilung angeben. Dazu müssen wir eine Kovarianz-Matrix angeben, die die Kovarianz und die Varianz für jedes Feature enthält."
   ]
  },
  {
   "cell_type": "markdown",
   "id": "e2ef4ca2",
   "metadata": {},
   "source": [
    "### Vorgeplänkel: Kovarianmzatrix am Beispiel\n",
    "Was ist die Kovarianzmatrix? \n",
    "\n",
    "Wir untersuchen den Zusammenhang zwischen dem Grad der Happiness, den eine Person erreicht, wenn sie eine Banane oder einen Apfel isst. \n",
    "Unsere drei Versuchsobjekte bewerten das jeweils so:\n",
    "\n",
    "A = [1, 1], dh. gleiche, geringe Freude beim Essen von Apfel und beim Essen einer Banane    \n",
    "B = [3, 0], dh. große Freude beim Essen von Apfel, keine Freude beim Essen von Banane      \n",
    "C = [-1, -1], dh. keine Freude beim Essen von Apfel oder Banane (Person mag keine Früchte)     \n",
    "\n",
    "#### Kovarianz\n",
    "Sie gibt die Richtung des Zusammenhangs zwischen zwei quantitativen Merkmalen an. Die Summe der Produkte der Differenzen von x - Mittelwert und y - Mittelwert durch die Summe aller Datenpunkte. Nimmt die Kovarianz einen postiven Wert an, korrelieren die beiden Werte positiv. Ansonsten halt negativ. Wenn sie 0 ist, korrelieren die Werte überhaupt nicht.\n",
    "\n",
    "**Formel der Kovarianz:**\n",
    "\n",
    "$c_{XY} = \\frac{1}{n} \\sum_{i=1}^n (x_i - \\overline{x}) (y_i - \\overline{y})$    \n",
    "$\\overline{y}$ = Mittelwert der y-Werte     \n",
    "$\\overline{x}$ = Mittelwert der x-Werte  \n",
    "\n",
    "#### Varianz\n",
    "Die Varianz drückt die Streuung um den Mittelwert aus. Je höher die Varianz, desto höher die Streung (bei gleich bleibendem Mittelwert). Die Varianz ist allerdings ein quadrierter Wert, deshalb können wir ihn nicht interpretieren. Dafür eignet sich die Standardabweichung.\n",
    "\n",
    "**Formel der Varianz:**     \n",
    "$s^2 = \\frac{1}{n} \\sum_{i=1}^n (x_i - \\overline{x})^2$\n",
    "\n",
    "#### Kovarian-Matrix\n",
    "Eine Kovarianz-Matrix ist eine quadratische Matrix, die für jedes Feature die Kovarianz und die Varianz abbildet.\n",
    "\n",
    "Kovarianz-Matrix für zwei Features Apples und Bananas. In den einzelnen Feldern stehen jeweils die Kovarianzen mit sich selbst und dem anderen Features.\n",
    "\n",
    "$ M = \\left( \\begin{matrix} cov(A,A) & cov(A, B) \\\\ cov(B,A) & cov(B,B) \\end{matrix} \\right)$\n",
    "\n",
    "die Kovarianz von A mit sich selbst $cov(A,A)$ kann man auch als Varianz von A ansehen. Damit wäre unsere Matrix\n",
    "\n",
    "$ M = \\left( \\begin{matrix} var(A) & cov(A, B) \\\\ cov(B,A) & var(B) \\end{matrix} \\right)$\n",
    "\n",
    "Weiterhin kann man sehen, dass cov(A,B) gleich cov(B,A), dh. die Kovarianz von A und B ist gleich der Kovarianz von B und A. Somit ist unsere Matrix symmetrisch.\n",
    "\n",
    "\n",
    "\n",
    "**Ergebnis:**    \n",
    "$var_{apple} = 8/3$   \n",
    "\n",
    "$var_{banana} = 2/3$ \n",
    "\n",
    "$cov = 2/3$\n",
    "\n",
    "die berechnete Kovarianzmatrix lautet also:  \n",
    "\n",
    "$ M = \\left( \\begin{matrix} 8/3 & 2/3 \\\\ 2/3 & 2/3 \\end{matrix} \\right)$\n",
    "\n",
    "\n",
    "### Interpretation der Kovarianzmatrix\n",
    "Die Werte entlang der Diagonalen der Matrix sind einfach die Varianzen jedes Subjekts, zb. Varianz \"Freue bei Apfel essen\" ist 8/3. Dh. hohe Varianz, weiter Spread.\n",
    "\n",
    "Die anderen Werte in der Matrix repräsentieren die Kovarianzen zwischen den verschiedenen Subjekten. \n"
   ]
  },
  {
   "cell_type": "code",
   "execution_count": 240,
   "id": "6b553b12",
   "metadata": {},
   "outputs": [
    {
     "data": {
      "text/plain": [
       "(0.6666666666666666, 0.6666666666666666, 2.6666666666666665)"
      ]
     },
     "execution_count": 240,
     "metadata": {},
     "output_type": "execute_result"
    }
   ],
   "source": [
    "samples = np.array([[1, 1], [3, 0], [-1, -1]])\n",
    "\n",
    "X = samples[:, 0]\n",
    "Y = samples[:, 1]\n",
    "\n",
    "X_mean = X.mean()\n",
    "Y_mean = Y.mean()\n",
    "\n",
    "X_ = X - X_mean\n",
    "Y_ = Y - Y_mean\n",
    "\n",
    "covariance = sum(X_ * Y_) / 3\n",
    "variance_apple = np.var(X)\n",
    "variance_banana = np.var(Y)\n",
    "covariance, variance_banana, variance_apple\n",
    "# plt.scatter(x=X, y=Y)\n",
    "# plt.show()"
   ]
  },
  {
   "cell_type": "markdown",
   "id": "f69c2bc2",
   "metadata": {},
   "source": [
    "### Beispiel mehrdimensionale Verteilung"
   ]
  },
  {
   "cell_type": "code",
   "execution_count": 269,
   "id": "2121977e",
   "metadata": {},
   "outputs": [
    {
     "data": {
      "image/png": "[encoded data removed]",
      "text/plain": [
       "<Figure size 432x288 with 1 Axes>"
      ]
     },
     "metadata": {
      "needs_background": "light"
     },
     "output_type": "display_data"
    }
   ],
   "source": [
    "# für beide Dimensionen soll der Mittelwert bei 0 liegen\n",
    "mean = [0, 0]\n",
    "\n",
    "# Einheitsmatrix als Kovarianzmatrix. D.h. die Varianz für Feature a und b ist 1, die Kovarianz 0\n",
    "# je größer die Varianz, desto größer der Spread\n",
    "# je größer die Kovarianz, desto stärker die Korrelation\n",
    "cov = [\n",
    "    [1, 0], \n",
    "    [0, 1],\n",
    "]\n",
    "samples = np.random.multivariate_normal(mean=mean, cov=cov, size=(10_000))\n",
    "plt.scatter(samples[:,0], samples[:,1])\n",
    "plt.show()"
   ]
  },
  {
   "cell_type": "markdown",
   "id": "e4179c62",
   "metadata": {},
   "source": [
    "## Gleichverteilung\n",
    "Aus einer Gleichverteilung lassen sich Integer und Fließkommazahlen sampeln.\n",
    "\n",
    "### gleichverteilte Floats\n",
    "hier muss ein Intervall von low bis (exclusive) high angegeben werden."
   ]
  },
  {
   "cell_type": "code",
   "execution_count": 17,
   "id": "2f3e80c0",
   "metadata": {},
   "outputs": [
    {
     "data": {
      "text/plain": [
       "array([[9.72626165, 7.97619541],\n",
       "       [9.45549047, 9.05344615]])"
      ]
     },
     "execution_count": 17,
     "metadata": {},
     "output_type": "execute_result"
    }
   ],
   "source": [
    "float_samples = np.random.uniform(low=1, high=10, size=(2,2))\n",
    "float_samples"
   ]
  },
  {
   "cell_type": "markdown",
   "id": "ae33e339",
   "metadata": {},
   "source": [
    "### gleichverteilte Integer\n",
    "hier muss ein Intervall von low bis (exclusive) high angegeben werden."
   ]
  },
  {
   "cell_type": "code",
   "execution_count": 18,
   "id": "847c8826",
   "metadata": {},
   "outputs": [
    {
     "data": {
      "text/plain": [
       "array([[8, 7],\n",
       "       [9, 8]])"
      ]
     },
     "execution_count": 18,
     "metadata": {},
     "output_type": "execute_result"
    }
   ],
   "source": [
    "int_samples = np.random.randint(low=1, high=10, size=(2,2))\n",
    "int_samples"
   ]
  },
  {
   "cell_type": "code",
   "execution_count": 214,
   "id": "c03a6524",
   "metadata": {},
   "outputs": [
    {
     "data": {
      "image/png": "[encoded data removed]",
      "text/plain": [
       "<Figure size 1008x576 with 1 Axes>"
      ]
     },
     "metadata": {
      "needs_background": "light"
     },
     "output_type": "display_data"
    }
   ],
   "source": [
    "int_samples = np.random.randint(low=1, high=11, size=(10000,))\n",
    "plt.figure(figsize=(14, 8))\n",
    "plt.hist(int_samples)\n",
    "plt.show()"
   ]
  },
  {
   "cell_type": "markdown",
   "id": "475bbc65",
   "metadata": {},
   "source": [
    "#### Aufgabe\n",
    "Simuliere 140 Würfe mit einem Würfel."
   ]
  },
  {
   "cell_type": "code",
   "execution_count": 211,
   "id": "1082889a",
   "metadata": {},
   "outputs": [
    {
     "data": {
      "text/plain": [
       "array([1, 5, 1, 3, 1, 4, 5, 6, 2, 6])"
      ]
     },
     "execution_count": 211,
     "metadata": {},
     "output_type": "execute_result"
    }
   ],
   "source": [
    "# 10 mal würfeln\n",
    "dices = np.random.randint(low=1, high=7, size=(10,))\n",
    "dices"
   ]
  },
  {
   "cell_type": "markdown",
   "id": "0fe6bf53",
   "metadata": {},
   "source": [
    "## Elemente mischen (Shuffle)\n",
    "np.random.shuffle hat wie das Python-Pendant random.shuffle keinen Rückgabewert, sondern vertauscht inplace.Wir können mit `np.random.shuffle` auch `mehrdimensionale Arrays` durchmischen"
   ]
  },
  {
   "cell_type": "code",
   "execution_count": 74,
   "id": "77f8e664",
   "metadata": {},
   "outputs": [
    {
     "data": {
      "text/plain": [
       "array([[5, 6],\n",
       "       [1, 2],\n",
       "       [3, 4]])"
      ]
     },
     "execution_count": 74,
     "metadata": {},
     "output_type": "execute_result"
    }
   ],
   "source": [
    "numbers = np.arange(1, 7).reshape((3,2))\n",
    "np.random.shuffle(numbers)\n",
    "numbers"
   ]
  },
  {
   "cell_type": "markdown",
   "id": "b4237066",
   "metadata": {},
   "source": [
    "## Permuatation\n",
    "Ähnlich wie shuffle, aber mit return-Wert."
   ]
  },
  {
   "cell_type": "code",
   "execution_count": 180,
   "id": "f3bf4677",
   "metadata": {},
   "outputs": [
    {
     "data": {
      "text/plain": [
       "(array([[1, 2],\n",
       "        [3, 4],\n",
       "        [5, 6]]),\n",
       " array([[3, 4],\n",
       "        [1, 2],\n",
       "        [5, 6]]))"
      ]
     },
     "execution_count": 180,
     "metadata": {},
     "output_type": "execute_result"
    }
   ],
   "source": [
    "numbers = np.arange(1, 7).reshape((3,2))\n",
    "permutate = np.random.permutation(numbers)\n",
    "numbers, permutate"
   ]
  },
  {
   "cell_type": "markdown",
   "id": "e417cf7f",
   "metadata": {},
   "source": [
    "## Aus einer Menge ziehen (choices)\n",
    "Zufällige Werte aus einer eindimensionalen Liste ziehen. `replace` (Zurücklegen) und `p` (Wahrscheinlichkeit für jeden Wert) sind optional. Falls `p` genutzt wird, also die Wahrscheinlichkeitsgewichtung, muss darauf geachtet werden, dass die Summe der Gewichtungen 1 ergibt und die Anzahl der Elemente der Anzahl der Choices entspricht."
   ]
  },
  {
   "cell_type": "code",
   "execution_count": 46,
   "id": "4d31af61",
   "metadata": {},
   "outputs": [
    {
     "data": {
      "text/plain": [
       "array([[23,  9],\n",
       "       [ 1,  4]])"
      ]
     },
     "execution_count": 46,
     "metadata": {},
     "output_type": "execute_result"
    }
   ],
   "source": [
    "choices = np.array([1, 4, 9, 23, 11])\n",
    "samples = np.random.choice(choices, size=(2,2), replace=False, p=[0.1, 0.2, 0.5, 0.1, 0.1])\n",
    "samples"
   ]
  },
  {
   "cell_type": "markdown",
   "id": "e3a383e3",
   "metadata": {},
   "source": [
    "## Binomialverteilung\n",
    "Die Binomialverteilung ist eine der wichtigsten diskreten Verteilungen. Ein binomialverteiltes Zufallsexperiment entsteht durch `n-fache Wiederholung eines Bernoulli Experiments` (Erfolg oder Mißerfolg). Man unterscheidet also nur zwischen Erfolg und Nicht-Erfolg."
   ]
  },
  {
   "cell_type": "code",
   "execution_count": 56,
   "id": "dd571769",
   "metadata": {},
   "outputs": [
    {
     "data": {
      "text/plain": [
       "(array([5, 4, 6, 5, 5, 6, 5, 6, 7, 3]), 0.4997828)"
      ]
     },
     "execution_count": 56,
     "metadata": {},
     "output_type": "execute_result"
    }
   ],
   "source": [
    "# Beispiel: 10 maliges Werfen einer idealen Münze\n",
    "\n",
    "# Anzahl an Versuchen \n",
    "n = 10\n",
    "\n",
    "# Wahrscheinlichkeit für jeden Versuch 0 <= p <= 1\n",
    "p = 0.5\n",
    "\n",
    "# wir führen Experiment 1000000 mal aus\n",
    "trials = 1_000_000\n",
    "\n",
    "samples = np.random.binomial(n, p, trials)\n",
    "samples[:10], sum(samples) / (trials * n)"
   ]
  },
  {
   "cell_type": "markdown",
   "id": "f027f228",
   "metadata": {},
   "source": [
    "### Aufgabe Binomialverteilung\n",
    "Was ist die Wahrscheinlichkeit, dass beim 10 maligen Würfeln eines idealen 6-seitigen Würfels keine 6 geworfen wird? Teste mit 100_000 Versuchen."
   ]
  },
  {
   "cell_type": "code",
   "execution_count": 167,
   "id": "bcd63fb6",
   "metadata": {},
   "outputs": [
    {
     "data": {
      "text/plain": [
       "0.834147"
      ]
     },
     "execution_count": 167,
     "metadata": {},
     "output_type": "execute_result"
    }
   ],
   "source": [
    "n = 10\n",
    "p = 5/6\n",
    "trials = 100_000\n",
    "samples = np.random.binomial(n, p, trials)\n",
    "sum(samples) / (trials * n)"
   ]
  }
 ],
 "metadata": {
  "kernelspec": {
   "display_name": "Python 3 (ipykernel)",
   "language": "python",
   "name": "python3"
  },
  "language_info": {
   "codemirror_mode": {
    "name": "ipython",
    "version": 3
   },
   "file_extension": ".py",
   "mimetype": "text/x-python",
   "name": "python",
   "nbconvert_exporter": "python",
   "pygments_lexer": "ipython3",
   "version": "3.9.10"
  }
 },
 "nbformat": 4,
 "nbformat_minor": 5
}

{
 "cells": [
  {
   "cell_type": "code",
   "execution_count": 1,
   "id": "a6f79676",
   "metadata": {},
   "outputs": [],
   "source": [
    "# deprecated\n",
    "import numpy as np\n",
    "import matplotlib.pyplot as plt\n",
    "np.random.seed(42)"
   ]
  },
  {
   "cell_type": "markdown",
   "id": "f714d756",
   "metadata": {},
   "source": [
    "# Arrays mit Random erstellen\n",
    "\n",
    "## Gleichverteilung mit Integerwerten\n",
    "ein Array aus gleichverteilten Werten zwischen einem Start- und einem Endwert generieren. Der Endwert high ist dabei exlusive."
   ]
  },
  {
   "cell_type": "code",
   "execution_count": 2,
   "id": "37bc3d11",
   "metadata": {},
   "outputs": [
    {
     "data": {
      "text/plain": [
       "array([[5, 6],\n",
       "       [4, 6],\n",
       "       [6, 3],\n",
       "       [4, 4]], dtype=int32)"
      ]
     },
     "execution_count": 2,
     "metadata": {},
     "output_type": "execute_result"
    }
   ],
   "source": [
    "Z = np.random.randint(low=2, high=8, size=(4,2), dtype=\"int32\")\n",
    "# size=(3, 2) bedeutet: 3 Zeilen, zwei Spalten. Identisch wie shape. high ist exclusive!\n",
    "Z"
   ]
  },
  {
   "cell_type": "code",
   "execution_count": null,
   "id": "1fcf740d-deb4-4cf4-b927-317f354b41e9",
   "metadata": {},
   "outputs": [],
   "source": []
  },
  {
   "cell_type": "markdown",
   "id": "236325e6",
   "metadata": {},
   "source": [
    "## Normalverteilung (Gauß) "
   ]
  },
  {
   "cell_type": "code",
   "execution_count": 3,
   "id": "6e79ce0e",
   "metadata": {},
   "outputs": [
    {
     "data": {
      "text/plain": [
       "array([[0.45924889, 0.33370861, 0.14286682],\n",
       "       [0.65088847, 0.05641158, 0.72199877]])"
      ]
     },
     "execution_count": 3,
     "metadata": {},
     "output_type": "execute_result"
    }
   ],
   "source": [
    "## Mit Defaultwert mu=1 () und sigma=0\n",
    "x = np.random.uniform(size=(2, 3))\n",
    "x"
   ]
  },
  {
   "cell_type": "code",
   "execution_count": 4,
   "id": "b7ef4987",
   "metadata": {},
   "outputs": [
    {
     "data": {
      "image/png": "[encoded data removed]",
      "text/plain": [
       "<Figure size 432x288 with 1 Axes>"
      ]
     },
     "metadata": {
      "needs_background": "light"
     },
     "output_type": "display_data"
    }
   ],
   "source": [
    "## Mit Defaultwert mu=1 (mittelwert loc) und sigma=2 (Standardabweichung)\n",
    "x = np.random.normal(loc=175, scale=5, size=1000)\n",
    "# print(x)\n",
    "plt.hist(x, bins=20)\n",
    "plt.show()"
   ]
  },
  {
   "cell_type": "code",
   "execution_count": null,
   "id": "d174082a",
   "metadata": {},
   "outputs": [],
   "source": []
  }
 ],
 "metadata": {
  "kernelspec": {
   "display_name": "Python 3 (ipykernel)",
   "language": "python",
   "name": "python3"
  },
  "language_info": {
   "codemirror_mode": {
    "name": "ipython",
    "version": 3
   },
   "file_extension": ".py",
   "mimetype": "text/x-python",
   "name": "python",
   "nbconvert_exporter": "python",
   "pygments_lexer": "ipython3",
   "version": "3.12.4"
  }
 },
 "nbformat": 4,
 "nbformat_minor": 5
}

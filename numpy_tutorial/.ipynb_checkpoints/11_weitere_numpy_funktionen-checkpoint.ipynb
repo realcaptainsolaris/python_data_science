{
 "cells": [
  {
   "cell_type": "markdown",
   "id": "621d4b11",
   "metadata": {},
   "source": [
    "# Weitere wichtige Numpy Funktionen"
   ]
  },
  {
   "cell_type": "code",
   "execution_count": 2,
   "id": "6445849d",
   "metadata": {},
   "outputs": [],
   "source": [
    "import numpy as np"
   ]
  },
  {
   "cell_type": "markdown",
   "id": "726b1c86",
   "metadata": {},
   "source": [
    "## Transponieren von Matritzen"
   ]
  },
  {
   "cell_type": "code",
   "execution_count": 4,
   "id": "c0a38307",
   "metadata": {},
   "outputs": [
    {
     "data": {
      "text/plain": [
       "(array([[1, 2, 3],\n",
       "        [4, 5, 6],\n",
       "        [7, 8, 9]]),\n",
       " array([[1, 4, 7],\n",
       "        [2, 5, 8],\n",
       "        [3, 6, 9]]))"
      ]
     },
     "execution_count": 4,
     "metadata": {},
     "output_type": "execute_result"
    }
   ],
   "source": [
    "M = np.arange(1, 10).reshape((3,3))\n",
    "M, M.T"
   ]
  },
  {
   "cell_type": "markdown",
   "id": "992c1450",
   "metadata": {},
   "source": [
    "## Determinante einer quadratischen Matrix berechnen\n",
    "mit der Funktion `det` aus dem np.linalg-Paket lässt sich die Determinante einer quadr. Matrix bestimmen"
   ]
  },
  {
   "cell_type": "code",
   "execution_count": 9,
   "id": "b8c68afa",
   "metadata": {},
   "outputs": [
    {
     "data": {
      "text/plain": [
       "(array([[4, 3],\n",
       "        [5, 4]]),\n",
       " 1.0000000000000009)"
      ]
     },
     "execution_count": 9,
     "metadata": {},
     "output_type": "execute_result"
    }
   ],
   "source": [
    "# Determinante von A\n",
    "A = np.array([[4, 3], [5, 4]])\n",
    "detA = np.linalg.det(A)\n",
    "A, detA"
   ]
  },
  {
   "cell_type": "markdown",
   "id": "7e6ba4d4",
   "metadata": {},
   "source": [
    "## Matrix invertieren\n",
    "Eine quad. Matrix ist invertierbar, wenn die Determinante ungleich 0 ist.\n",
    "\n",
    "$ A = \\left( \\begin{matrix} 4 & 3 \\\\ 5 & 4 \\end{matrix} \\right) $\n",
    "\n",
    "$ det(A) = 4 x * - 3 * 5 = 1$\n",
    "\n",
    "$ A^{-1} = \\left( \\begin{matrix} 4 & -3 \\\\ -5 & 4 \\end{matrix} \\right) $"
   ]
  },
  {
   "cell_type": "code",
   "execution_count": 10,
   "id": "d3e4ae8e",
   "metadata": {},
   "outputs": [
    {
     "data": {
      "text/plain": [
       "(array([[4, 3],\n",
       "        [5, 4]]),\n",
       " array([[ 4., -3.],\n",
       "        [-5.,  4.]]))"
      ]
     },
     "execution_count": 10,
     "metadata": {},
     "output_type": "execute_result"
    }
   ],
   "source": [
    "A = np.array([[4, 3], [5, 4]])\n",
    "A_inv = np.linalg.inv(A)\n",
    "A, A_inv"
   ]
  },
  {
   "cell_type": "markdown",
   "id": "76291c68",
   "metadata": {},
   "source": [
    "## Where\n",
    "Indizies einer Abfrage anfragen"
   ]
  },
  {
   "cell_type": "code",
   "execution_count": 12,
   "id": "055e83ec",
   "metadata": {},
   "outputs": [
    {
     "data": {
      "text/plain": [
       "(array([ 4,  5,  6,  7,  8,  9, 10, 11, 12, 13, 14, 15, 16, 17, 18]),)"
      ]
     },
     "execution_count": 12,
     "metadata": {},
     "output_type": "execute_result"
    }
   ],
   "source": [
    "A = np.arange(1, 20)\n",
    "idx = np.where(A > 4)\n",
    "idx"
   ]
  }
 ],
 "metadata": {
  "kernelspec": {
   "display_name": "Python 3 (ipykernel)",
   "language": "python",
   "name": "python3"
  },
  "language_info": {
   "codemirror_mode": {
    "name": "ipython",
    "version": 3
   },
   "file_extension": ".py",
   "mimetype": "text/x-python",
   "name": "python",
   "nbconvert_exporter": "python",
   "pygments_lexer": "ipython3",
   "version": "3.9.10"
  }
 },
 "nbformat": 4,
 "nbformat_minor": 5
}

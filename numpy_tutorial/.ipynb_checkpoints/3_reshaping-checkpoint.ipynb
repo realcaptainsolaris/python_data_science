{
 "cells": [
  {
   "cell_type": "markdown",
   "id": "0f5d3ef3",
   "metadata": {},
   "source": [
    "# Array Reshaping DOZENT\n",
    "wie lässt sich mit Reshaping der shape eines Arrays verändern? \n",
    "\n",
    "## Was ist ein Shape?\n",
    "Der Shape ist die Dimensionsgröße unseres Arrays. Eine Matrix in der folgenden Form hätte einen Shape von (2, 3)\n",
    "\n",
    "$ M = \\left( \\begin{matrix} 1 & 2 & 3 \\\\ 3 & 4 & 4 \\end{matrix} \\right) $\n",
    "\n",
    "Der Shape liegt also in der Form Zeilen x Reihen vor. \n",
    "\n",
    "Um jetzt die Dimensionsgröße eines Arrays zu ändern, kann man es Reshapen. Um aus einem eindimensionalen Array M (erstellt mit der Methode `arange`) mit dem Shape (9,) ein zweidimensionales Array mit dem Shape (3,3) zu machen, gehen wir wie folgt vor.\n",
    "\n",
    "`Ein Shape wird immer in Form eines Tupels dargestellt.` Ein Tupel mit nur einem Element ist zum Beispiel (3,), wobei die Klammer auch weggelassen werden kann, wenn es sich um kein Funktionsargument handelt."
   ]
  },
  {
   "cell_type": "code",
   "execution_count": 2,
   "id": "38d048ab",
   "metadata": {},
   "outputs": [
    {
     "name": "stdout",
     "output_type": "stream",
     "text": [
      "[1 2 3 4 5 6 7 8 9]\n",
      "(9,)\n"
     ]
    }
   ],
   "source": [
    "import numpy as np\n",
    "\n",
    "# Array mit 9 Werten erstellen\n",
    "M = np.arange(1, 10, 1)\n",
    "print(M)\n",
    "print(M.shape)"
   ]
  },
  {
   "cell_type": "code",
   "execution_count": 4,
   "id": "a8220ba2",
   "metadata": {},
   "outputs": [
    {
     "data": {
      "text/plain": [
       "array([[1, 2, 3],\n",
       "       [4, 5, 6],\n",
       "       [7, 8, 9]])"
      ]
     },
     "execution_count": 4,
     "metadata": {},
     "output_type": "execute_result"
    }
   ],
   "source": [
    "# REshapen auf Shape (3,3)\n",
    "M = M.reshape((3,3))\n",
    "M"
   ]
  },
  {
   "cell_type": "markdown",
   "id": "51a97330",
   "metadata": {},
   "source": [
    "## Wann kann ich ein Array reshapen?\n",
    "Das geht nur, wenn die angegebene Dimensionsgröße möglich ist. Ein Array mit 8 Elementen kann nicht auf den Shape (3,3) gebracht werden, weil die Anzahl der Elemente so einen Shape nicht zulässt. \n",
    "\n",
    "`Vereinfacht gesagt: wenn das Produkt von Zeilen und Spalten des Zielshapes nicht der Anzahl der aktuellen Elementen entspricht, ist ein Reshaping nicht möglich.`"
   ]
  },
  {
   "cell_type": "code",
   "execution_count": 5,
   "id": "87d25662",
   "metadata": {},
   "outputs": [
    {
     "ename": "ValueError",
     "evalue": "cannot reshape array of size 8 into shape (3,3)",
     "output_type": "error",
     "traceback": [
      "\u001b[0;31m---------------------------------------------------------------------------\u001b[0m",
      "\u001b[0;31mValueError\u001b[0m                                Traceback (most recent call last)",
      "Input \u001b[0;32mIn [5]\u001b[0m, in \u001b[0;36m<module>\u001b[0;34m\u001b[0m\n\u001b[1;32m      1\u001b[0m \u001b[38;5;66;03m# Array mit 8 Werten erstellen\u001b[39;00m\n\u001b[1;32m      2\u001b[0m M \u001b[38;5;241m=\u001b[39m np\u001b[38;5;241m.\u001b[39marange(\u001b[38;5;241m1\u001b[39m, \u001b[38;5;241m9\u001b[39m, \u001b[38;5;241m1\u001b[39m)\n\u001b[0;32m----> 3\u001b[0m M \u001b[38;5;241m=\u001b[39m \u001b[43mM\u001b[49m\u001b[38;5;241;43m.\u001b[39;49m\u001b[43mreshape\u001b[49m\u001b[43m(\u001b[49m\u001b[43m(\u001b[49m\u001b[38;5;241;43m3\u001b[39;49m\u001b[43m,\u001b[49m\u001b[38;5;241;43m3\u001b[39;49m\u001b[43m)\u001b[49m\u001b[43m)\u001b[49m\n",
      "\u001b[0;31mValueError\u001b[0m: cannot reshape array of size 8 into shape (3,3)"
     ]
    }
   ],
   "source": [
    "# Array mit 8 Werten erstellen\n",
    "M = np.arange(1, 9, 1)\n",
    "M = M.reshape((3,3))"
   ]
  },
  {
   "cell_type": "markdown",
   "id": "e2739c96",
   "metadata": {},
   "source": [
    "## Zweidimensionales Array auf eindimensional Shapen\n",
    "Ein Array mit dem Shape (4, 2), also 4 Zeilen und 2 Spalten enthält 8 Elemente. Folglich lässt sich mit einem Reshape auf (1, 8) ein eindimensionales Array erstellen."
   ]
  },
  {
   "cell_type": "code",
   "execution_count": 31,
   "id": "6255893f",
   "metadata": {},
   "outputs": [
    {
     "name": "stdout",
     "output_type": "stream",
     "text": [
      "Z: [[5 6]\n",
      " [4 6]\n",
      " [6 3]\n",
      " [4 4]]\n",
      "Z ndim: 2\n",
      "Z shape: (4, 2)\n",
      "----\n",
      "Z_shaped:  [5 6 4 6 6 3 4 4]\n",
      "Z_shaped ndim:  1\n",
      "Z_shaped shape:  (8,)\n"
     ]
    }
   ],
   "source": [
    "# zweidimensionales Zufallsarray erstellen\n",
    "np.random.seed(42)\n",
    "Z = np.random.randint(low=2, high=8, size=(4,2), dtype=\"int32\")\n",
    "Z_shaped = Z.reshape((8,))\n",
    "print(\"Z:\", Z), \n",
    "print(\"Z ndim:\", Z.ndim)\n",
    "print(\"Z shape:\", Z.shape)\n",
    "print(\"----\")\n",
    "print(\"Z_shaped: \", Z_shaped), \n",
    "print(\"Z_shaped ndim: \", Z_shaped.ndim)\n",
    "print(\"Z_shaped shape: \", Z_shaped.shape)"
   ]
  },
  {
   "cell_type": "markdown",
   "id": "fc6e4f57",
   "metadata": {},
   "source": [
    "## aus einem Zeilenvektor einen Spaltenvektor machen\n",
    "eindimensionale Listen und Numpy-Arrays kommen der math. Sicht eines Zeilenvektors am nächsten. Ein Zeilenvektor zeichnet sich dadurch aus, dass er nur eine Zeile (und viele Spalten) hat.\n",
    "\n",
    "Ein Spaltenvektor wiederum hat nur eine Spalte, aber viele Zeilen. Das Numpy-Konstrukt, dass dem Spaltenvektor am nächsten kommt, ist ein zweidimensionales Array mit Listen der Länge 1.\n",
    "\n",
    "Durch das Numpy-Keywort `np.newaxis` erstellen wir eine neue \"leere\" Dimension an der Stelle, wo wir es einsetzten. "
   ]
  },
  {
   "cell_type": "code",
   "execution_count": 48,
   "id": "1351fdae",
   "metadata": {},
   "outputs": [
    {
     "name": "stdout",
     "output_type": "stream",
     "text": [
      "v:  [1 3 5 6]\n",
      "v shape:  (4,)\n",
      "v_: [[1]\n",
      " [3]\n",
      " [5]\n",
      " [6]]\n",
      "v_ shape:  (4, 1)\n",
      "Element von v_ in Zeile 3:  6\n"
     ]
    }
   ],
   "source": [
    "v = np.array([1, 3, 5, 6])\n",
    "print(\"v: \", v)\n",
    "print(\"v shape: \", v.shape)\n",
    "\n",
    "v_ = v[:, np.newaxis]\n",
    "# v_ = v.reshape(4, 1)  die klassische Variante\n",
    "print(\"v_:\", v_)\n",
    "print(\"v_ shape: \", v_.shape)\n",
    "print(\"Element von v_ in Zeile 3: \", v_[3][0])"
   ]
  },
  {
   "cell_type": "markdown",
   "id": "64a2ac29",
   "metadata": {},
   "source": [
    "## ein mehrdimensionales Array flatten\n",
    "die Methode `ravel` bringt ein mehrdimensionales Array auf eine Dimension und erzeugt einen View auf die Originaldaten. Es gibt auch noch eine identische Funktions namens `flatten`, die allerdings eine echte Kopie erzeugt. Je nach Anwendungsfall sollte man also wählen."
   ]
  },
  {
   "cell_type": "code",
   "execution_count": 56,
   "id": "218f8acd",
   "metadata": {},
   "outputs": [
    {
     "data": {
      "text/plain": [
       "(array([[[5, 6],\n",
       "         [4, 6]],\n",
       " \n",
       "        [[6, 3],\n",
       "         [4, 4]],\n",
       " \n",
       "        [[4, 6],\n",
       "         [5, 4]],\n",
       " \n",
       "        [[7, 6],\n",
       "         [3, 5]]], dtype=int32),\n",
       " (4, 2, 2),\n",
       " array([5, 6, 4, 6, 6, 3, 4, 4, 4, 6, 5, 4, 7, 6, 3, 5], dtype=int32),\n",
       " array([5, 6, 4, 6, 6, 3, 4, 4, 4, 6, 5, 4, 7, 6, 3, 5], dtype=int32))"
      ]
     },
     "execution_count": 56,
     "metadata": {},
     "output_type": "execute_result"
    }
   ],
   "source": [
    "np.random.seed(42)\n",
    "Z = np.random.randint(low=2, high=8, size=(4,2,2), dtype=\"int32\")\n",
    "Z, Z.shape, Z.ravel(), Z.flatten()"
   ]
  },
  {
   "cell_type": "markdown",
   "id": "3ca86aee",
   "metadata": {},
   "source": [
    "## Automatisches Reshaping\n",
    "Oft hat man den Fall, dass man ein Array Reshapen muss, aber nur von einer Dimension den Shape kennt. Der zweite  müsste also berechnet werden, um das Reshaping valide zu gestalten. \n",
    "\n",
    "Dafür gibt es ein Features namens `Automatic Reshaping`, bei dem anstelle der wirklichen Dimension einfach eine `-1` eingetragen wird. Numpy berechnet dann selbst den benötigten Wert, falls das möglich ist."
   ]
  },
  {
   "cell_type": "code",
   "execution_count": 62,
   "id": "8c90fc43",
   "metadata": {},
   "outputs": [
    {
     "data": {
      "text/plain": [
       "array([[5, 6, 4, 6],\n",
       "       [6, 3, 4, 4]], dtype=int32)"
      ]
     },
     "execution_count": 62,
     "metadata": {},
     "output_type": "execute_result"
    }
   ],
   "source": [
    "np.random.seed(42)\n",
    "Z = np.random.randint(low=2, high=8, size=(4,2), dtype=\"int32\")\n",
    "\n",
    "# Reshapen auf (2,x)\n",
    "Z = Z.reshape((2,-1))\n",
    "Z"
   ]
  },
  {
   "cell_type": "code",
   "execution_count": 67,
   "id": "8033b4e4",
   "metadata": {},
   "outputs": [
    {
     "data": {
      "text/plain": [
       "array([[5, 6, 4, 6, 6, 3, 4, 4],\n",
       "       [4, 6, 5, 4, 7, 6, 3, 5],\n",
       "       [7, 7, 3, 5, 6, 2, 5, 3]], dtype=int32)"
      ]
     },
     "execution_count": 67,
     "metadata": {},
     "output_type": "execute_result"
    }
   ],
   "source": [
    "# Aufgabe \n",
    "# Führe für folgends zweidimensionales Array ein Reshaping auf 3 Zeilen aus\n",
    "np.random.seed(42)\n",
    "D = np.random.randint(low=2, high=8, size=(6,4), dtype=\"int32\")\n",
    "D = D.reshape(3, -1)\n",
    "D"
   ]
  },
  {
   "cell_type": "markdown",
   "id": "df81511e-1f90-4a75-9683-08a811961537",
   "metadata": {},
   "source": [
    "# Aufgabe: Reshaping von NumPy-Arrays\n",
    "\n",
    "## Problemstellung:\n",
    "Du arbeitest mit Daten, die in einer eindimensionalen Liste gespeichert sind. Für eine bessere Analyse möchtest du diese Daten in unterschiedliche Formen (2D, 3D) umwandeln.\n",
    "\n",
    "---\n",
    "\n",
    "## Aufgabe:\n",
    "1. **Erstelle ein eindimensionales NumPy-Array** mit den Zahlen von 1 bis 12 (inklusive).\n",
    "2. **Forme das Array** in die folgenden Strukturen um:\n",
    "   - Ein **2D-Array** mit 3 Zeilen und 4 Spalten.\n",
    "   - Ein **3D-Array** mit den Dimensionen (2 x 2 x 3).\n",
    "3. **Überprüfe die Shapes** der neu geformten Arrays, um sicherzustellen, dass sie korrekt sind.\n",
    "4. **Zeige die Arrays** mit `print()`.\n",
    "\n",
    "---\n",
    "\n",
    "## Zusätzliche Frage:\n",
    "- Was passiert, wenn du versuchst, das Array in eine Form zu bringen, die nicht zu seiner Größe passt (z. B. 3 x 5? Probiere es aus und beschreibe das Ergebnis.\n",
    "\n",
    "---\n",
    "\n",
    "### Hinweis:\n",
    "Verwende die Methode `reshape()` von NumPy, um das Array in die gewünschte Form zu bringen. Du kannst `array.reshape(rows, columns)` aufrufen, um das Array umzuformen.\n"
   ]
  },
  {
   "cell_type": "code",
   "execution_count": 9,
   "id": "0db1727e-a643-4e7f-baa4-38b1c9058ed8",
   "metadata": {},
   "outputs": [
    {
     "data": {
      "text/plain": [
       "((3, 4), (2, 2, 3))"
      ]
     },
     "execution_count": 9,
     "metadata": {},
     "output_type": "execute_result"
    }
   ],
   "source": [
    "# Happy Coding! Zeit, 5 Minuten\n",
    "import numpy as np\n",
    "v1 = np.arange(1, 13)\n",
    "\n",
    "M2D = v1.reshape(3, 4)\n",
    "M3D = v1.reshape(2, 2, 3)\n",
    "M2D.shape, M3D.shape"
   ]
  },
  {
   "cell_type": "code",
   "execution_count": 12,
   "id": "c173d4dd-a12f-4f42-b2b5-10a490295b56",
   "metadata": {},
   "outputs": [
    {
     "ename": "ValueError",
     "evalue": "cannot reshape array of size 12 into shape (3,5)",
     "output_type": "error",
     "traceback": [
      "\u001b[0;31m---------------------------------------------------------------------------\u001b[0m",
      "\u001b[0;31mValueError\u001b[0m                                Traceback (most recent call last)",
      "Cell \u001b[0;32mIn[12], line 1\u001b[0m\n\u001b[0;32m----> 1\u001b[0m M4D \u001b[38;5;241m=\u001b[39m \u001b[43mv1\u001b[49m\u001b[38;5;241;43m.\u001b[39;49m\u001b[43mreshape\u001b[49m\u001b[43m(\u001b[49m\u001b[38;5;241;43m3\u001b[39;49m\u001b[43m,\u001b[49m\u001b[43m \u001b[49m\u001b[38;5;241;43m5\u001b[39;49m\u001b[43m)\u001b[49m\n",
      "\u001b[0;31mValueError\u001b[0m: cannot reshape array of size 12 into shape (3,5)"
     ]
    }
   ],
   "source": [
    "M4D = v1.reshape(3, 5)"
   ]
  }
 ],
 "metadata": {
  "kernelspec": {
   "display_name": "Python 3 (ipykernel)",
   "language": "python",
   "name": "python3"
  },
  "language_info": {
   "codemirror_mode": {
    "name": "ipython",
    "version": 3
   },
   "file_extension": ".py",
   "mimetype": "text/x-python",
   "name": "python",
   "nbconvert_exporter": "python",
   "pygments_lexer": "ipython3",
   "version": "3.12.4"
  }
 },
 "nbformat": 4,
 "nbformat_minor": 5
}

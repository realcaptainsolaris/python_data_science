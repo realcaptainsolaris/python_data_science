{
 "cells": [
  {
   "cell_type": "markdown",
   "id": "7148b0a1",
   "metadata": {},
   "source": [
    "# Arrays sortieren"
   ]
  },
  {
   "cell_type": "markdown",
   "id": "1d55806f",
   "metadata": {},
   "source": [
    "## eindimensionales Array sortieren\n",
    "die sort-Methode von Numpy arbeitet nicht inplace, dh. sie gibt ein neues Array zurück"
   ]
  },
  {
   "cell_type": "code",
   "execution_count": 2,
   "id": "db269452",
   "metadata": {},
   "outputs": [],
   "source": [
    "import numpy as np\n",
    "np.random.seed(42)"
   ]
  },
  {
   "cell_type": "code",
   "execution_count": 1,
   "id": "cbbc0626",
   "metadata": {},
   "outputs": [
    {
     "ename": "NameError",
     "evalue": "name 'np' is not defined",
     "output_type": "error",
     "traceback": [
      "\u001b[1;31m---------------------------------------------------------------------------\u001b[0m",
      "\u001b[1;31mNameError\u001b[0m                                 Traceback (most recent call last)",
      "Cell \u001b[1;32mIn[1], line 1\u001b[0m\n\u001b[1;32m----> 1\u001b[0m x \u001b[38;5;241m=\u001b[39m \u001b[43mnp\u001b[49m\u001b[38;5;241m.\u001b[39mrandom\u001b[38;5;241m.\u001b[39mrandint(low\u001b[38;5;241m=\u001b[39m\u001b[38;5;241m3\u001b[39m, high\u001b[38;5;241m=\u001b[39m\u001b[38;5;241m100\u001b[39m, size\u001b[38;5;241m=\u001b[39m(\u001b[38;5;241m10\u001b[39m,))\n",
      "\u001b[1;31mNameError\u001b[0m: name 'np' is not defined"
     ]
    }
   ],
   "source": [
    "x = np.random.randint(low=3, high=100, size=(10,))"
   ]
  },
  {
   "cell_type": "markdown",
   "id": "e4338f52",
   "metadata": {},
   "source": [
    "## mehrdimensionales Array sortieren\n",
    "auf ein mehrdimensionales Array angewandt, wird jede Zeile intern für sich sortiert"
   ]
  },
  {
   "cell_type": "code",
   "execution_count": 3,
   "id": "0cd97971",
   "metadata": {},
   "outputs": [],
   "source": [
    "x = np.random.randint(low=3, high=100, size=(4,2))\n"
   ]
  },
  {
   "cell_type": "markdown",
   "id": "57f62f15",
   "metadata": {},
   "source": [
    "## Argsort - sortierte Indizies zurückgeben\n",
    "Argsort gibt nicht den sortierten Array zurück, sondern die Indizies, an denen der Array sortiert wäre. Dadurch kann man die ursprüngliche Reihenfolge beibehalten und gleichzeitig auf die sortierten Werte zugreifen, ohne die Daten direkt zu verändern."
   ]
  },
  {
   "cell_type": "code",
   "execution_count": 4,
   "id": "1eb5f304",
   "metadata": {},
   "outputs": [
    {
     "name": "stdout",
     "output_type": "stream",
     "text": [
      "x:  [5 5 7]\n",
      "x_idxs:  [0 1 2]\n",
      "multi:  [5 5 7]\n"
     ]
    }
   ],
   "source": [
    "x = np.random.randint(low=3, high=10, size=(3,))\n",
    "x_idxs = np.argsort(x)\n",
    "print(\"x: \", x)\n",
    "print(\"x_idxs: \", x_idxs)\n",
    "\n",
    "# mit Multiindexing den Array dann sortiert ausgeben\n",
    "print(\"multi: \", x[x_idxs])"
   ]
  },
  {
   "cell_type": "markdown",
   "id": "15f25116",
   "metadata": {},
   "source": [
    "## Argmax - Index des größten Wertes"
   ]
  },
  {
   "cell_type": "code",
   "execution_count": 29,
   "id": "9acf84b4",
   "metadata": {},
   "outputs": [
    {
     "data": {
      "text/plain": [
       "(array([6, 4, 6]), 0)"
      ]
     },
     "execution_count": 29,
     "metadata": {},
     "output_type": "execute_result"
    }
   ],
   "source": [
    "x = np.random.randint(low=3, high=10, size=(3,))\n",
    "max = np.argmax(x)\n",
    "x, max"
   ]
  },
  {
   "cell_type": "markdown",
   "id": "9788050d",
   "metadata": {},
   "source": [
    "## Argmin - Index des kleinsten Wertes"
   ]
  },
  {
   "cell_type": "code",
   "execution_count": 30,
   "id": "706b174b",
   "metadata": {},
   "outputs": [
    {
     "data": {
      "text/plain": [
       "(array([4, 8, 8]), 0)"
      ]
     },
     "execution_count": 30,
     "metadata": {},
     "output_type": "execute_result"
    }
   ],
   "source": [
    "x = np.random.randint(low=3, high=10, size=(3,))\n",
    "min = np.argmin(x)\n",
    "x, min"
   ]
  }
 ],
 "metadata": {
  "kernelspec": {
   "display_name": "Python 3 (ipykernel)",
   "language": "python",
   "name": "python3"
  },
  "language_info": {
   "codemirror_mode": {
    "name": "ipython",
    "version": 3
   },
   "file_extension": ".py",
   "mimetype": "text/x-python",
   "name": "python",
   "nbconvert_exporter": "python",
   "pygments_lexer": "ipython3",
   "version": "3.13.1"
  }
 },
 "nbformat": 4,
 "nbformat_minor": 5
}

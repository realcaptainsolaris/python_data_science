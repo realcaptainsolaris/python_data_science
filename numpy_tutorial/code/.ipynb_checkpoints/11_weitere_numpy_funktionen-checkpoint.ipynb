{
 "cells": [
  {
   "cell_type": "markdown",
   "id": "13ecb06b",
   "metadata": {},
   "source": [
    "# Weitere wichtige Numpy Funktionen"
   ]
  },
  {
   "cell_type": "code",
   "execution_count": 2,
   "id": "1007ee48",
   "metadata": {},
   "outputs": [],
   "source": [
    "import numpy as np"
   ]
  },
  {
   "cell_type": "markdown",
   "id": "f1ff7afc",
   "metadata": {},
   "source": [
    "## Transponieren von Matritzen"
   ]
  },
  {
   "cell_type": "code",
   "execution_count": 3,
   "id": "4187ca09",
   "metadata": {},
   "outputs": [],
   "source": [
    "M = np.arange(1, 10).reshape((3,3))"
   ]
  },
  {
   "cell_type": "markdown",
   "id": "6477208f",
   "metadata": {},
   "source": [
    "## Determinante einer quadratischen Matrix berechnen\n",
    "mit der Funktion `det` aus dem np.linalg-Paket lässt sich die Determinante einer quadr. Matrix bestimmen"
   ]
  },
  {
   "cell_type": "code",
   "execution_count": 4,
   "id": "2996a8d7",
   "metadata": {},
   "outputs": [],
   "source": [
    "# Determinante von A\n",
    "A = np.array([[4, 3], [5, 4]])"
   ]
  },
  {
   "cell_type": "markdown",
   "id": "f8c55170",
   "metadata": {},
   "source": [
    "## Matrix invertieren\n",
    "Eine quad. Matrix ist invertierbar, wenn die Determinante ungleich 0 ist.\n",
    "\n",
    "$ A = \\left( \\begin{matrix} 4 & 3 \\\\ 5 & 4 \\end{matrix} \\right) $\n",
    "\n",
    "$ det(A) = 4 x * - 3 * 5 = 1$\n",
    "\n",
    "$ A^{-1} = \\left( \\begin{matrix} 4 & -3 \\\\ -5 & 4 \\end{matrix} \\right) $"
   ]
  },
  {
   "cell_type": "code",
   "execution_count": 5,
   "id": "c59a9f4d",
   "metadata": {},
   "outputs": [],
   "source": [
    "A = np.array([[4, 3], [5, 4]])"
   ]
  },
  {
   "cell_type": "markdown",
   "id": "def1dd3b",
   "metadata": {},
   "source": [
    "## Where\n",
    "Array mit den Indizies, die der Bedingungen entsprechen, d.h. die Stellen, an denen die boolsche Serie True ist."
   ]
  },
  {
   "cell_type": "code",
   "execution_count": 6,
   "id": "d429a5cd",
   "metadata": {},
   "outputs": [
    {
     "name": "stdout",
     "output_type": "stream",
     "text": [
      "A:  [1 2 3 4 5 6 7 8 9]\n",
      "A > 4:  [False False False False  True  True  True  True  True]\n",
      "Index:  (array([4, 5, 6, 7, 8]),)\n"
     ]
    }
   ],
   "source": [
    "A = np.arange(1, 10)\n",
    "idx = np.where(A > 4)\n",
    "print(\"A: \", A)\n",
    "print(\"A > 4: \", A > 4)\n",
    "print(\"Index: \", idx)"
   ]
  }
 ],
 "metadata": {
  "kernelspec": {
   "display_name": "Python 3 (ipykernel)",
   "language": "python",
   "name": "python3"
  },
  "language_info": {
   "codemirror_mode": {
    "name": "ipython",
    "version": 3
   },
   "file_extension": ".py",
   "mimetype": "text/x-python",
   "name": "python",
   "nbconvert_exporter": "python",
   "pygments_lexer": "ipython3",
   "version": "3.13.1"
  }
 },
 "nbformat": 4,
 "nbformat_minor": 5
}

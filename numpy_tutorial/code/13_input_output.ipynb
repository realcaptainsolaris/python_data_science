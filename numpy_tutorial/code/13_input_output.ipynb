{
 "cells": [
  {
   "cell_type": "markdown",
   "id": "7ba390e8",
   "metadata": {},
   "source": [
    "# Daten speichern und laden\n",
    "Wir können mit Numpy Daten auch persistent auf der Festplatte speichern und von der Festplatte einlesen."
   ]
  },
  {
   "cell_type": "code",
   "execution_count": 2,
   "id": "3fd92bac",
   "metadata": {},
   "outputs": [],
   "source": [
    "import numpy as np"
   ]
  },
  {
   "cell_type": "markdown",
   "id": "872a6751",
   "metadata": {},
   "source": [
    "## Daten mit Pickle speichern\n",
    "Die Methode numpy.save nutzt im Hintergrund pickle, um Daten zu speichern. Sie erwaret als ersten Parameter einen Dateinamen (alternativ auch ein File-Objekt) und in zweiten Parameter dann das Array. \n",
    "Mit dem Parameter `allow_pickle` auf False kann man verhindern, dass die Datei als pickle gespeichert wird. Gründe könnten Security-Issues sein.\n",
    "\n",
    "### Datei-Suffix\n",
    "Falls kein Datei-Suffix beim Speichern angegeben wird, wird der Dateiname automatisch um die Endung `npy` ergänzt."
   ]
  },
  {
   "cell_type": "code",
   "execution_count": 12,
   "id": "1790f261",
   "metadata": {},
   "outputs": [],
   "source": [
    "mean = [1, 3, 4]\n",
    "cov = [\n",
    "    [1, 0, 0],\n",
    "    [0, 1, 0],\n",
    "    [0, 0, 1],\n",
    "]\n",
    "data = np.random.multivariate_normal(mean=mean, cov=cov, size=(10,))"
   ]
  },
  {
   "cell_type": "code",
   "execution_count": null,
   "id": "631990bf",
   "metadata": {},
   "outputs": [],
   "source": []
  },
  {
   "cell_type": "markdown",
   "id": "73009aae",
   "metadata": {},
   "source": [
    "## Daten laden\n",
    "Beim Laden muss der Dateisuffix angegeben werden! Sonst wird die Datei nicht gefunden!"
   ]
  },
  {
   "cell_type": "code",
   "execution_count": null,
   "id": "268d9e63",
   "metadata": {},
   "outputs": [],
   "source": []
  }
 ],
 "metadata": {
  "kernelspec": {
   "display_name": "Python 3 (ipykernel)",
   "language": "python",
   "name": "python3"
  },
  "language_info": {
   "codemirror_mode": {
    "name": "ipython",
    "version": 3
   },
   "file_extension": ".py",
   "mimetype": "text/x-python",
   "name": "python",
   "nbconvert_exporter": "python",
   "pygments_lexer": "ipython3",
   "version": "3.13.1"
  }
 },
 "nbformat": 4,
 "nbformat_minor": 5
}

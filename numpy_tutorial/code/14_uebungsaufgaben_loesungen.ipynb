{
 "cells": [
  {
   "cell_type": "markdown",
   "id": "e63558fc",
   "metadata": {},
   "source": [
    "# Übungsaufgaben zu Numpy 1"
   ]
  },
  {
   "cell_type": "code",
   "execution_count": 2,
   "id": "5ae89b6f",
   "metadata": {},
   "outputs": [],
   "source": [
    "import numpy as np\n",
    "import matplotlib.pyplot as plt"
   ]
  },
  {
   "cell_type": "markdown",
   "id": "67bf851f",
   "metadata": {},
   "source": [
    "## 1.0 Erstelle eine 5x5 Einheitsmatrix"
   ]
  },
  {
   "cell_type": "code",
   "execution_count": 7,
   "id": "680856f3",
   "metadata": {},
   "outputs": [
    {
     "data": {
      "text/plain": [
       "array([[1., 0., 0., 0., 0.],\n",
       "       [0., 1., 0., 0., 0.],\n",
       "       [0., 0., 1., 0., 0.],\n",
       "       [0., 0., 0., 1., 0.],\n",
       "       [0., 0., 0., 0., 1.]])"
      ]
     },
     "execution_count": 7,
     "metadata": {},
     "output_type": "execute_result"
    }
   ],
   "source": [
    "E = np.identity(5)\n",
    "E"
   ]
  },
  {
   "cell_type": "markdown",
   "id": "ca179370",
   "metadata": {},
   "source": [
    "## 1.1 Erstelle eine 4 x 4 Nullmatrix"
   ]
  },
  {
   "cell_type": "code",
   "execution_count": 10,
   "id": "4e936696",
   "metadata": {},
   "outputs": [
    {
     "data": {
      "text/plain": [
       "array([[0., 0., 0., 0.],\n",
       "       [0., 0., 0., 0.],\n",
       "       [0., 0., 0., 0.],\n",
       "       [0., 0., 0., 0.]])"
      ]
     },
     "execution_count": 10,
     "metadata": {},
     "output_type": "execute_result"
    }
   ],
   "source": [
    "N = np.zeros(shape=(4,4))\n",
    "N"
   ]
  },
  {
   "cell_type": "markdown",
   "id": "8e09a43d",
   "metadata": {},
   "source": [
    "## 1.2. Erstelle eine 3 x 4 Matrix mit diskreten Zufallswerten aus einer Gleichverteilung\n",
    "die Werte der Elemente liegen im geschlossenen Interval. $M_{ij} \\in [3, 9]$ Achte darauf, dass nur ganzzahlige Werte im Output liegen und keine Fließkommazahlen. \n",
    "\n",
    "Zeige außerdem den Shape der Matrix und den Datentypen. Welcher Datentyp wäre besser geeignet und warum?\n",
    "\n",
    "Datentyp int8 wäre für diese Werte völlig ausreichend."
   ]
  },
  {
   "cell_type": "code",
   "execution_count": 23,
   "id": "d09d82c0",
   "metadata": {},
   "outputs": [
    {
     "name": "stdout",
     "output_type": "stream",
     "text": [
      "[[6 6 6 6]\n",
      " [8 7 6 7]\n",
      " [3 6 5 6]]\n",
      "Shape:  (3, 4)\n",
      "Datentyp:  int64\n"
     ]
    }
   ],
   "source": [
    "M = np.random.randint(high=10, low=3, size=(3, 4))\n",
    "print(M)\n",
    "print(\"Shape: \", M.shape)\n",
    "print(\"Datentyp: \", M.dtype)"
   ]
  },
  {
   "cell_type": "markdown",
   "id": "8f2a0819",
   "metadata": {},
   "source": [
    "## 1.3. Erstelle eine 3 x 4 Matrix mit Zufallswerten aus einer Gleichverteilung\n",
    "die Werte der Elemente liegen im halboffenen Interval. $M_{ij} \\in [3, 9)$ D.h. die 9 darf nicht in der Matrix als Element zu finden sein.\n",
    "\n",
    "Zeige außerdem den Shape der Matrix und den Datentypen. "
   ]
  },
  {
   "cell_type": "code",
   "execution_count": 26,
   "id": "36b8baa3",
   "metadata": {},
   "outputs": [
    {
     "name": "stdout",
     "output_type": "stream",
     "text": [
      "[[8.27476087 3.56468064 6.02847946 8.95160268]\n",
      " [3.70923762 8.91463816 3.380423   7.26352699]\n",
      " [6.86857363 7.8616761  5.70442277 8.0614362 ]]\n",
      "Shape:  (3, 4)\n",
      "Datentyp:  float64\n"
     ]
    }
   ],
   "source": [
    "M = np.random.uniform(high=9, low=3, size=(3, 4))\n",
    "print(M)\n",
    "print(\"Shape: \", M.shape)\n",
    "print(\"Datentyp: \", M.dtype)"
   ]
  },
  {
   "cell_type": "markdown",
   "id": "8a8f3c99",
   "metadata": {},
   "source": [
    "## 1.4. Erstelle eine 2x2 Matrix mit Zufallswerten aus einer Normalverteilung.\n",
    "Der Mittelwert $mu$ beträgt 4, die Standardabweichung $\\sigma$ soll 0.5 betragen. Plotte die Daten in einem Scatterplot. Erstelle daraus einen Vektor $v$ mit 4 Elementen (reshape)."
   ]
  },
  {
   "cell_type": "code",
   "execution_count": 31,
   "id": "cc0f9d5f",
   "metadata": {},
   "outputs": [
    {
     "name": "stdout",
     "output_type": "stream",
     "text": [
      "[[4.02729835 4.4160251 ]\n",
      " [3.81298154 4.22134242]]\n",
      "[[4.02729835 4.4160251  3.81298154 4.22134242]]\n"
     ]
    }
   ],
   "source": [
    "M = np.random.normal(loc=4, scale=0.5, size=(2,2))\n",
    "v = M.reshape(1,-1)\n",
    "print(M)\n",
    "print(v)"
   ]
  },
  {
   "cell_type": "markdown",
   "id": "b7ff602d",
   "metadata": {},
   "source": [
    "## 1.5. Erstelle eine Vektor mit n Zufallswerten aus einer Normalverteilung.\n",
    "Der Mittelwert $mu$ beträgt 4, die Standardabweichung $\\sigma$ soll 0.5 betragen. Plotte die Daten in einem Scatterplot."
   ]
  },
  {
   "cell_type": "code",
   "execution_count": 36,
   "id": "26080300",
   "metadata": {},
   "outputs": [
    {
     "data": {
      "text/plain": [
       "<matplotlib.collections.PathCollection at 0x7f34c8e207f0>"
      ]
     },
     "execution_count": 36,
     "metadata": {},
     "output_type": "execute_result"
    },
    {
     "data": {
      "image/png": "[encoded data removed]",
      "text/plain": [
       "<Figure size 432x288 with 1 Axes>"
      ]
     },
     "metadata": {
      "needs_background": "light"
     },
     "output_type": "display_data"
    }
   ],
   "source": [
    "n = 10\n",
    "v = np.random.normal(loc=4, scale=0.5, size=(n))\n",
    "plt.scatter(range(v.shape[0]), v)"
   ]
  },
  {
   "cell_type": "markdown",
   "id": "a8a1d427",
   "metadata": {},
   "source": [
    "## 1.6 Elemente eines Vektors\n",
    "Gegeben ist folgender Vektor: $v = [2, 4, 2, 5]$. \n",
    "\n",
    "a) Gebe per Indexing das letzte Element zurück   \n",
    "b) Gebe die Werte von v an den folgenden Indexen aus: idx = [0, 3]    \n",
    "c) Bestimme Shape und Datentyp"
   ]
  },
  {
   "cell_type": "code",
   "execution_count": 61,
   "id": "8abe45f7",
   "metadata": {},
   "outputs": [
    {
     "name": "stdout",
     "output_type": "stream",
     "text": [
      "a: 5\n",
      "b: [2 5]\n",
      "Shape: (4,), Datentyp: int64\n"
     ]
    }
   ],
   "source": [
    "v = np.array([2, 4, 2, 5])\n",
    "idx = [0,3]\n",
    "print(\"a:\", v[-1])\n",
    "print(\"b:\", v[idx])\n",
    "print(f\"Shape: {v.shape}, Datentyp: {v.dtype}\")"
   ]
  },
  {
   "cell_type": "markdown",
   "id": "03e3955c",
   "metadata": {},
   "source": [
    "## 1.7 Array-Indexing\n",
    "gegeben $ M = \\left( \\begin{matrix} 1 & 2 & 3 \\\\ 4 & 5 & 6 \\end{matrix} \\right) $\n",
    "\n",
    "a) Gebe das Element in Zeile 2, Spalte 3 an    \n",
    "b) Gebe zwei zufällige Werte aus der Zeile 2 aus\n",
    "c) Bestimme Shape und Datentyp"
   ]
  },
  {
   "cell_type": "code",
   "execution_count": 137,
   "id": "5b2e7279",
   "metadata": {},
   "outputs": [
    {
     "name": "stdout",
     "output_type": "stream",
     "text": [
      "[[2 0]\n",
      " [0 1]]\n",
      "a:  6\n",
      "b:  [5 4]\n",
      "c: Shape: (4,), Datentyp: int64\n"
     ]
    }
   ],
   "source": [
    "M = np.array([[1, 2, 3], [4, 5, 6]])\n",
    "idx = np.random.randint(high=3, low=0, size=2)\n",
    "\n",
    "print(idxs)\n",
    "print(\"a: \", M[1,2])\n",
    "print(\"b: \", M[1, idx])\n",
    "print(f\"c: Shape: {v.shape}, Datentyp: {v.dtype}\")"
   ]
  },
  {
   "cell_type": "markdown",
   "id": "f11652c9",
   "metadata": {},
   "source": [
    "## 1.8 Array Slicing\n",
    "gegeben $ M = \\left( \\begin{matrix} 1 & 2 & 3 \\\\ 4 & 95 & 96 \\\\ 13 & 90 & 91 \\end{matrix} \\right) $\n",
    "\n",
    "a) Schneide aus M den Sub-Array, der alle Werte >= 90 enthält    \n",
    "b) Schneide die Diagonale d aus M    \n",
    "c) Bestimme Shape und Datentyp"
   ]
  },
  {
   "cell_type": "code",
   "execution_count": 145,
   "id": "73e3691f",
   "metadata": {},
   "outputs": [
    {
     "name": "stdout",
     "output_type": "stream",
     "text": [
      "a:  [[95 96]\n",
      " [90 91]]\n",
      "b:  [ 1 95 91]\n"
     ]
    }
   ],
   "source": [
    "M = np.array([[1, 2, 3], [4, 95, 96], [13, 90, 91]])\n",
    "print(\"a: \", M[1:, 1:])\n",
    "print(\"b: \", np.diag(M))    "
   ]
  },
  {
   "cell_type": "markdown",
   "id": "4a838bac",
   "metadata": {},
   "source": [
    "## 1.9 Array Slicing und Multi-Indexing\n",
    "gegeben $ M = \\left( \\begin{matrix} 1 & 2 & 3 & 3 \\\\ 4 & 95 & 96 & 3 \\\\ 13 & 90 & 91 & 3 \\\\ 13 & 90 & 91 & 3\\end{matrix} \\right) $\n",
    "\n",
    "soll $ E = \\left( \\begin{matrix} 1 & 1 & 1 & 1 \\\\ 1 & 95 & 96 & 1 \\\\ 1 & 90 & 91 & 1 \\\\ 1 & 1 & 1 & 1\\end{matrix} \\right) $\n",
    "\n",
    "a) forme M zu E um. Nutze dazu Slicing \n",
    "b) Schneide die Diagonale d aus M    \n",
    "b) Gebe zwei zufällige Werte aus der Zeile 2 aus\n",
    "c) Bestimme Shape und Datentyp"
   ]
  },
  {
   "cell_type": "code",
   "execution_count": 157,
   "id": "d343d611",
   "metadata": {},
   "outputs": [
    {
     "data": {
      "text/plain": [
       "array([[ 1,  1,  1,  1],\n",
       "       [ 1, 95, 96,  1],\n",
       "       [ 1, 90, 91,  1],\n",
       "       [ 1,  1,  1,  1]])"
      ]
     },
     "execution_count": 157,
     "metadata": {},
     "output_type": "execute_result"
    }
   ],
   "source": [
    "M = np.array([[1, 2, 3, 3], [4, 95, 96, 3], [13, 90, 91, 3], [13, 90, 91, 3]])\n",
    "M[[0, 3]] = 1\n",
    "M[:, [0,3]] = 1\n",
    "M"
   ]
  }
 ],
 "metadata": {
  "kernelspec": {
   "display_name": "Python 3 (ipykernel)",
   "language": "python",
   "name": "python3"
  },
  "language_info": {
   "codemirror_mode": {
    "name": "ipython",
    "version": 3
   },
   "file_extension": ".py",
   "mimetype": "text/x-python",
   "name": "python",
   "nbconvert_exporter": "python",
   "pygments_lexer": "ipython3",
   "version": "3.13.1"
  }
 },
 "nbformat": 4,
 "nbformat_minor": 5
}

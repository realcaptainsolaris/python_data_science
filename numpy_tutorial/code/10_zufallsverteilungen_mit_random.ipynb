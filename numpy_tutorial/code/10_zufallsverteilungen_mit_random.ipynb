{
 "cells": [
  {
   "cell_type": "code",
   "execution_count": 4,
   "id": "a9555995",
   "metadata": {},
   "outputs": [],
   "source": [
    "import numpy as np\n",
    "import matplotlib.pyplot as plt\n",
    "np.random.seed(42)"
   ]
  },
  {
   "cell_type": "markdown",
   "id": "4c6e565c",
   "metadata": {},
   "source": [
    "# Zufallswerte aus Verteilungen sampeln\n",
    "Numpy bietet einige Möglichkeiten an, aus diversen Zufallsverteilungen Zufallswerte zu erstellen (Sample). Hier sind die wichtigsten Verteilungen aufgeführt."
   ]
  },
  {
   "cell_type": "markdown",
   "id": "79fe6749",
   "metadata": {},
   "source": [
    "## Standardnormalverteilung\n",
    "die Standardnormalverteilung ist eine Normalverteilung mit der Standardabweichung $\\sigma=1$ und dem Mittelwert (Erwartungswert) $\\mu = 0$\n",
    "\n",
    "Dazu nutzen wir aus dem numpy Random Modul die Methode `randn`. Über die Parameter lässt sich der Shape des gewünschten Arrays definieren. "
   ]
  },
  {
   "cell_type": "code",
   "execution_count": 1,
   "id": "f4112a90",
   "metadata": {},
   "outputs": [],
   "source": [
    "# eindimensionales Array mit 10 Elementen\n",
    "\n",
    "\n",
    "# zweidimensionales Array mit 2 x 5 Elementen\n"
   ]
  },
  {
   "cell_type": "code",
   "execution_count": null,
   "id": "6d688939",
   "metadata": {},
   "outputs": [],
   "source": []
  },
  {
   "cell_type": "markdown",
   "id": "8fa6ef00",
   "metadata": {},
   "source": [
    "## Normalverteilung\n",
    "Bei der Normalverteilung muss man im Gegensatz zur Standardnormalverteilung $\\mu$ und $\\sigma$ definieren. Die beiden benannten Argumente der Methode normal heissen `loc` (für Mittelwert) und  `scale` für Standardabweichung.\n",
    "\n",
    "Je größer die Anzahl an Samples, desto mehr nähert sich der berechnete Mittelwert $\\mu$ an."
   ]
  },
  {
   "cell_type": "code",
   "execution_count": 2,
   "id": "4904eff3",
   "metadata": {},
   "outputs": [],
   "source": [
    "mu = 2\n",
    "sigma = 3\n"
   ]
  },
  {
   "cell_type": "markdown",
   "id": "3fd4a471",
   "metadata": {},
   "source": [
    "### Aufgabe\n",
    "Erstelle 10 zufällige Menschengrößen. Die Größe ist normalverteilt mit dem Mittelwert 175 cm und einer Standardabweichung von 5 cm."
   ]
  },
  {
   "cell_type": "markdown",
   "id": "7bd8540d",
   "metadata": {},
   "source": [
    "## Mehrdimensionale Normalverteilung\n",
    "wir können für mehrere Dimensionen eine Normalverteilung angeben. Dazu müssen wir eine Kovarianz-Matrix angeben, die die Kovarianz und die Varianz für jedes Feature enthält."
   ]
  },
  {
   "cell_type": "markdown",
   "id": "e2ef4ca2",
   "metadata": {},
   "source": [
    "### Vorgeplänkel: Kovarianmzatrix am Beispiel\n",
    "Was ist die Kovarianzmatrix? \n",
    "\n",
    "Wir untersuchen den Zusammenhang zwischen dem Grad der Happiness, den eine Person erreicht, wenn sie eine Banane oder einen Apfel isst. \n",
    "Unsere drei Versuchsobjekte bewerten das jeweils so:\n",
    "\n",
    "A = [1, 1], dh. gleiche, geringe Freude beim Essen von Apfel und beim Essen einer Banane    \n",
    "B = [3, 0], dh. große Freude beim Essen von Apfel, keine Freude beim Essen von Banane      \n",
    "C = [-1, -1], dh. keine Freude beim Essen von Apfel oder Banane (Person mag keine Früchte)     \n",
    "\n",
    "#### Kovarianz\n",
    "Sie gibt die Richtung des Zusammenhangs zwischen zwei quantitativen Merkmalen an. Die Summe der Produkte der Differenzen von x - Mittelwert und y - Mittelwert durch die Summe aller Datenpunkte. Nimmt die Kovarianz einen postiven Wert an, korrelieren die beiden Werte positiv. Ansonsten halt negativ. Wenn sie 0 ist, korrelieren die Werte überhaupt nicht.\n",
    "\n",
    "**Formel der Kovarianz:**\n",
    "\n",
    "$c_{XY} = \\frac{1}{n} \\sum_{i=1}^n (x_i - \\overline{x}) (y_i - \\overline{y})$    \n",
    "$\\overline{y}$ = Mittelwert der y-Werte     \n",
    "$\\overline{x}$ = Mittelwert der x-Werte  \n",
    "\n",
    "#### Varianz\n",
    "Die Varianz drückt die Streuung um den Mittelwert aus. Je höher die Varianz, desto höher die Streung (bei gleich bleibendem Mittelwert). Die Varianz ist allerdings ein quadrierter Wert, deshalb können wir ihn nicht interpretieren. Dafür eignet sich die Standardabweichung.\n",
    "\n",
    "**Formel der Varianz:**     \n",
    "$s^2 = \\frac{1}{n} \\sum_{i=1}^n (x_i - \\overline{x})^2$\n",
    "\n",
    "#### Kovarian-Matrix\n",
    "Eine Kovarianz-Matrix ist eine quadratische Matrix, die für jedes Feature die Kovarianz und die Varianz abbildet.\n",
    "\n",
    "Kovarianz-Matrix für zwei Features Apples und Bananas. In den einzelnen Feldern stehen jeweils die Kovarianzen mit sich selbst und dem anderen Features.\n",
    "\n",
    "$ M = \\left( \\begin{matrix} cov(A,A) & cov(A, B) \\\\ cov(B,A) & cov(B,B) \\end{matrix} \\right)$\n",
    "\n",
    "die Kovarianz von A mit sich selbst $cov(A,A)$ kann man auch als Varianz von A ansehen. Damit wäre unsere Matrix\n",
    "\n",
    "$ M = \\left( \\begin{matrix} var(A) & cov(A, B) \\\\ cov(B,A) & var(B) \\end{matrix} \\right)$\n",
    "\n",
    "Weiterhin kann man sehen, dass cov(A,B) gleich cov(B,A), dh. die Kovarianz von A und B ist gleich der Kovarianz von B und A. Somit ist unsere Matrix symmetrisch.\n",
    "\n",
    "\n",
    "\n",
    "**Ergebnis:**    \n",
    "$var_{apple} = 8/3$   \n",
    "\n",
    "$var_{banana} = 2/3$ \n",
    "\n",
    "$cov = 2/3$\n",
    "\n",
    "die berechnete Kovarianzmatrix lautet also:  \n",
    "\n",
    "$ M = \\left( \\begin{matrix} 8/3 & 2/3 \\\\ 2/3 & 2/3 \\end{matrix} \\right)$\n",
    "\n",
    "\n",
    "### Interpretation der Kovarianzmatrix\n",
    "Die Werte entlang der Diagonalen der Matrix sind einfach die Varianzen jedes Subjekts, zb. Varianz \"Freue bei Apfel essen\" ist 8/3. Dh. hohe Varianz, weiter Spread.\n",
    "\n",
    "Die anderen Werte in der Matrix repräsentieren die Kovarianzen zwischen den verschiedenen Subjekten. \n"
   ]
  },
  {
   "cell_type": "code",
   "execution_count": 3,
   "id": "6b553b12",
   "metadata": {},
   "outputs": [
    {
     "ename": "NameError",
     "evalue": "name 'np' is not defined",
     "output_type": "error",
     "traceback": [
      "\u001b[1;31m---------------------------------------------------------------------------\u001b[0m",
      "\u001b[1;31mNameError\u001b[0m                                 Traceback (most recent call last)",
      "Cell \u001b[1;32mIn[3], line 1\u001b[0m\n\u001b[1;32m----> 1\u001b[0m samples \u001b[38;5;241m=\u001b[39m \u001b[43mnp\u001b[49m\u001b[38;5;241m.\u001b[39marray([[\u001b[38;5;241m1\u001b[39m, \u001b[38;5;241m1\u001b[39m], [\u001b[38;5;241m3\u001b[39m, \u001b[38;5;241m0\u001b[39m], [\u001b[38;5;241m-\u001b[39m\u001b[38;5;241m1\u001b[39m, \u001b[38;5;241m-\u001b[39m\u001b[38;5;241m1\u001b[39m]])\n",
      "\u001b[1;31mNameError\u001b[0m: name 'np' is not defined"
     ]
    }
   ],
   "source": [
    "samples = np.array([[1, 1], [3, 0], [-1, -1]])\n",
    "\n"
   ]
  },
  {
   "cell_type": "code",
   "execution_count": null,
   "id": "461ff1bd",
   "metadata": {},
   "outputs": [],
   "source": []
  },
  {
   "cell_type": "code",
   "execution_count": 5,
   "id": "2a6c6890",
   "metadata": {},
   "outputs": [
    {
     "ename": "NameError",
     "evalue": "name 'X' is not defined",
     "output_type": "error",
     "traceback": [
      "\u001b[1;31m---------------------------------------------------------------------------\u001b[0m",
      "\u001b[1;31mNameError\u001b[0m                                 Traceback (most recent call last)",
      "Cell \u001b[1;32mIn[5], line 7\u001b[0m\n\u001b[0;32m      1\u001b[0m \u001b[38;5;28;01mimport\u001b[39;00m\u001b[38;5;250m \u001b[39m\u001b[38;5;21;01mpandas\u001b[39;00m\u001b[38;5;250m \u001b[39m\u001b[38;5;28;01mas\u001b[39;00m\u001b[38;5;250m \u001b[39m\u001b[38;5;21;01mpd\u001b[39;00m\n\u001b[0;32m      3\u001b[0m df \u001b[38;5;241m=\u001b[39m pd\u001b[38;5;241m.\u001b[39mDataFrame({\n\u001b[0;32m      4\u001b[0m     \u001b[38;5;124m\"\u001b[39m\u001b[38;5;124mx\u001b[39m\u001b[38;5;124m\"\u001b[39m: [\u001b[38;5;241m1\u001b[39m, \u001b[38;5;241m3\u001b[39m, \u001b[38;5;241m-\u001b[39m\u001b[38;5;241m1\u001b[39m],\n\u001b[0;32m      5\u001b[0m     \u001b[38;5;124m\"\u001b[39m\u001b[38;5;124my\u001b[39m\u001b[38;5;124m\"\u001b[39m: [\u001b[38;5;241m1\u001b[39m, \u001b[38;5;241m0\u001b[39m, \u001b[38;5;241m-\u001b[39m\u001b[38;5;241m1\u001b[39m],\n\u001b[0;32m      6\u001b[0m })\n\u001b[1;32m----> 7\u001b[0m df[[\u001b[38;5;124m\"\u001b[39m\u001b[38;5;124mx\u001b[39m\u001b[38;5;124m\"\u001b[39m, \u001b[38;5;124m\"\u001b[39m\u001b[38;5;124my\u001b[39m\u001b[38;5;124m\"\u001b[39m]]\u001b[38;5;241m.\u001b[39mcov(), np\u001b[38;5;241m.\u001b[39mvar(\u001b[43mX\u001b[49m), np\u001b[38;5;241m.\u001b[39mvar(Y)\n",
      "\u001b[1;31mNameError\u001b[0m: name 'X' is not defined"
     ]
    }
   ],
   "source": [
    "import pandas as pd\n",
    "\n",
    "df = pd.DataFrame({\n",
    "    \"x\": [1, 3, -1],\n",
    "    \"y\": [1, 0, -1],\n",
    "})\n",
    "df[[\"x\", \"y\"]].cov(), np.var(X), np.var(Y)"
   ]
  },
  {
   "cell_type": "markdown",
   "id": "f69c2bc2",
   "metadata": {},
   "source": [
    "### Beispiel mehrdimensionale Verteilung"
   ]
  },
  {
   "cell_type": "code",
   "execution_count": 6,
   "id": "2121977e",
   "metadata": {},
   "outputs": [],
   "source": [
    "# für beide Dimensionen soll der Mittelwert bei 0 liegen\n",
    "mean = [0, 0]\n",
    "\n",
    "# Einheitsmatrix als Kovarianzmatrix. D.h. die Varianz für Feature a und b ist 1, die Kovarianz 0\n",
    "# je größer die Varianz, desto größer der Spread\n",
    "# je größer die Kovarianz, desto stärker die Korrelation\n",
    "cov = [\n",
    "    [1, 0], \n",
    "    [0, 1],\n",
    "]\n"
   ]
  },
  {
   "cell_type": "markdown",
   "id": "e4179c62",
   "metadata": {},
   "source": [
    "## Gleichverteilung\n",
    "Aus einer Gleichverteilung lassen sich Integer und Fließkommazahlen sampeln.\n",
    "\n",
    "### gleichverteilte Floats\n",
    "hier muss ein Intervall von low bis (exclusive) high angegeben werden."
   ]
  },
  {
   "cell_type": "code",
   "execution_count": null,
   "id": "2f3e80c0",
   "metadata": {},
   "outputs": [],
   "source": []
  },
  {
   "cell_type": "markdown",
   "id": "ae33e339",
   "metadata": {},
   "source": [
    "### gleichverteilte Integer\n",
    "hier muss ein Intervall von low bis (exclusive) high angegeben werden."
   ]
  },
  {
   "cell_type": "code",
   "execution_count": null,
   "id": "847c8826",
   "metadata": {},
   "outputs": [],
   "source": []
  },
  {
   "cell_type": "code",
   "execution_count": null,
   "id": "c03a6524",
   "metadata": {},
   "outputs": [],
   "source": []
  },
  {
   "cell_type": "markdown",
   "id": "475bbc65",
   "metadata": {},
   "source": [
    "#### Aufgabe\n",
    "Simuliere 10 Würfe mit einem Würfel."
   ]
  },
  {
   "cell_type": "code",
   "execution_count": 53,
   "id": "1082889a",
   "metadata": {},
   "outputs": [
    {
     "data": {
      "text/plain": [
       "array([3, 6, 1, 6, 6, 1, 4, 4, 3, 3])"
      ]
     },
     "execution_count": 53,
     "metadata": {},
     "output_type": "execute_result"
    }
   ],
   "source": [
    "# 10 mal würfeln\n",
    "dices = np.random.randint(low=1, high=7, size=(10,))\n",
    "dices"
   ]
  },
  {
   "cell_type": "markdown",
   "id": "0fe6bf53",
   "metadata": {},
   "source": [
    "## Elemente mischen (Shuffle)\n",
    "np.random.shuffle hat wie das Python-Pendant random.shuffle keinen Rückgabewert, sondern vertauscht inplace.Wir können mit `np.random.shuffle` auch `mehrdimensionale Arrays` durchmischen"
   ]
  },
  {
   "cell_type": "code",
   "execution_count": 7,
   "id": "77f8e664",
   "metadata": {},
   "outputs": [],
   "source": [
    "numbers = np.arange(1, 7).reshape((3,2))"
   ]
  },
  {
   "cell_type": "markdown",
   "id": "b4237066",
   "metadata": {},
   "source": [
    "## Permuatation\n",
    "Ähnlich wie shuffle, aber mit return-Wert."
   ]
  },
  {
   "cell_type": "code",
   "execution_count": 8,
   "id": "f3bf4677",
   "metadata": {},
   "outputs": [],
   "source": [
    "numbers = np.arange(1, 7).reshape((3,2))\n"
   ]
  },
  {
   "cell_type": "markdown",
   "id": "e417cf7f",
   "metadata": {},
   "source": [
    "## Aus einer Menge ziehen (choices)\n",
    "Zufällige Werte aus einer eindimensionalen Liste ziehen. `replace` (Zurücklegen) und `p` (Wahrscheinlichkeit für jeden Wert) sind optional. Falls `p` genutzt wird, also die Wahrscheinlichkeitsgewichtung, muss darauf geachtet werden, dass die Summe der Gewichtungen 1 ergibt und die Anzahl der Elemente der Anzahl der Choices entspricht."
   ]
  },
  {
   "cell_type": "code",
   "execution_count": 9,
   "id": "4d31af61",
   "metadata": {},
   "outputs": [],
   "source": [
    "choices = np.array([1, 4, 9, 23, 11])\n"
   ]
  },
  {
   "cell_type": "markdown",
   "id": "e3a383e3",
   "metadata": {},
   "source": [
    "## Binomialverteilung\n",
    "Die Binomialverteilung ist eine der wichtigsten diskreten Verteilungen. Ein binomialverteiltes Zufallsexperiment entsteht durch `n-fache Wiederholung eines Bernoulli Experiments` (Erfolg oder Mißerfolg). Man unterscheidet also nur zwischen Erfolg und Nicht-Erfolg."
   ]
  },
  {
   "cell_type": "code",
   "execution_count": 11,
   "id": "dd571769",
   "metadata": {},
   "outputs": [],
   "source": [
    "# Beispiel: 10 maliges Werfen einer idealen Münze\n",
    "\n",
    "# Anzahl an Versuchen \n",
    "n = 10\n",
    "\n",
    "# Wahrscheinlichkeit für jeden Versuch 0 <= p <= 1\n",
    "p = 0.5\n",
    "\n",
    "# wir führen Experiment 1000000 mal aus\n",
    "trials = 1_000_000\n",
    "\n"
   ]
  },
  {
   "cell_type": "markdown",
   "id": "f027f228",
   "metadata": {},
   "source": [
    "### Aufgabe Binomialverteilung\n",
    "Was ist die Wahrscheinlichkeit, dass beim 10 maligen Würfeln eines idealen 6-seitigen Würfels keine 6 geworfen wird? Teste mit 100_000 Versuchen."
   ]
  },
  {
   "cell_type": "code",
   "execution_count": null,
   "id": "bcd63fb6",
   "metadata": {},
   "outputs": [],
   "source": []
  }
 ],
 "metadata": {
  "kernelspec": {
   "display_name": "Python 3 (ipykernel)",
   "language": "python",
   "name": "python3"
  },
  "language_info": {
   "codemirror_mode": {
    "name": "ipython",
    "version": 3
   },
   "file_extension": ".py",
   "mimetype": "text/x-python",
   "name": "python",
   "nbconvert_exporter": "python",
   "pygments_lexer": "ipython3",
   "version": "3.13.1"
  }
 },
 "nbformat": 4,
 "nbformat_minor": 5
}

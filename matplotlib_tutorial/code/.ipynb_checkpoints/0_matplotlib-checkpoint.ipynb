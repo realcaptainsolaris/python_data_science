{
 "cells": [
  {
   "cell_type": "markdown",
   "id": "a90ad64c",
   "metadata": {},
   "source": [
    "# Einführung in Matplotlib und Seaborn\n",
    "`Matplotlib` ist eine Programmbibliothek für die Programmiersprache Python, die es erlaubt, `mathematische Darstellungen` aller Art anzufertigen. Insbesondere Plots, Diagramme und Charts.\n",
    "\n",
    "`Seaborn` ist eine Python-Datenvisualisierungsbibliothek, die auf Matplotlib basiert. Es bietet eine `High-Level-Schnittstelle` zum Zeichnen attraktiver und informativer statistischer Grafiken. Seaborn erweitert also Matplotlib und vereinfacht viele Dinge.\n",
    "\n",
    "## Installation\n",
    "    \n",
    "    pip install matplotlib\n",
    "    pip install seaborn\n",
    "    \n",
    "## Import-Konventionen\n",
    "Grundsätzlich importieren wir `matplotlib.pyplot` als alias `plt` und `seaborn` als alias `sns` ins Programm, das hat sich in der Python-Community so eingebürgert.\n",
    "    \n",
    "    import matplotlib.pyplot as plt\n",
    "    import seaborn as sns\n",
    "\n",
    "### Beispiel Einfacher Linien-Plot mit Matplotlib\n",
    "Ein Linienplot, zb. eine Kurve, benötigt `x- und y- Werte`. Diese Werte werden dann verbunden und sie erscheinen als Kurve.\n",
    "\n",
    "https://www.skytowner.com/explore/getting_started_with_matplotlib\n"
   ]
  },
  {
   "cell_type": "code",
   "execution_count": 1,
   "id": "fa257477",
   "metadata": {},
   "outputs": [
    {
     "data": {
      "text/plain": [
       "array([-10.        ,  -9.7979798 ,  -9.5959596 ,  -9.39393939])"
      ]
     },
     "metadata": {},
     "output_type": "display_data"
    },
    {
     "data": {
      "text/plain": [
       "array([100.        ,  96.00040812,  92.08244057,  88.24609734])"
      ]
     },
     "metadata": {},
     "output_type": "display_data"
    }
   ],
   "source": [
    "import numpy as np\n",
    "\n",
    "import matplotlib.pyplot as plt\n",
    "\n",
    "\n",
    "# ein intervall erzeugen\n",
    "x = np.linspace(-10, 10, 100)\n",
    "\n",
    "def fn(x):\n",
    "    return x ** 2\n",
    "\n",
    "y = fn(x)\n",
    "display(x[:4])\n",
    "display(y[:4])"
   ]
  },
  {
   "cell_type": "code",
   "execution_count": 1,
   "id": "b82b78b9",
   "metadata": {},
   "outputs": [],
   "source": [
    "# plot"
   ]
  },
  {
   "cell_type": "markdown",
   "id": "e2d7e9a0",
   "metadata": {},
   "source": [
    "## Den Plot anzeigen\n",
    "Hier in Juypter Notebook reicht das Ausführen von `plt.plot()`, um den Plot auch inline darzustellen. Falls wir die Plots aus einem Python-Programm heraus starten, müssen wir die `plt.show()` ausführen. Dann öffnet sich ein entsrpechendes Fenster mit dem Plot."
   ]
  },
  {
   "cell_type": "markdown",
   "id": "71c1f378",
   "metadata": {},
   "source": [
    "## Bestandteile eines Plots\n",
    "Zunächst ist es wichtig, die Bestandteile einer Figur in Matplotlib zu verstehen. Die Komponenten sind hierarchisch:\n",
    "* Figure\n",
    "* Axes\n",
    "\n",
    "![Figure Axes Axis](../images/matplotlib_figure.png)\n",
    "\n",
    "\n",
    "### Figure\n",
    "Das `Figurenmodul` stellt den Top-Level-Artist, die Figur, zur Verfügung, die alle `Plots` enthält. Dieses Modul wird verwendet, um den Standardabstand der Subplots und Container der obersten Ebene für alle Plotelemente zu steuern.\n",
    "In unserem ersten Beispiel oben haben wir die Figure nicht explizit definiert oder angesprochen. Bei einfachen Plots brauchen wir die Figure nicht explizit anzusprechen.`\n",
    "\n",
    "**Eine leere Figure mit 0 Axes erstellen:**"
   ]
  },
  {
   "cell_type": "code",
   "execution_count": 2,
   "id": "f82153d0",
   "metadata": {},
   "outputs": [],
   "source": [
    "# leere Figre erstellen"
   ]
  },
  {
   "cell_type": "markdown",
   "id": "ba507a36",
   "metadata": {},
   "source": [
    "### Axes\n",
    "Eine `Axes` gehört zu einem `Figure-Objekt` und ist der Bereich, in dem wir die zu visualisierenden Daten hinzufügen und wo die `Daten visulisiert` werden. Eine Figure kann mehr als eine Axes haben. Bei einfache Plots wie oben, haben wir eine figure und eine Axes. Wenn wir mehr als eine Axes in einer Figure benutzen, spricht man von `Subplots`. Dazu kommen wir später.\n",
    "\n",
    "Eine Axes hat `Beschriftungen und Abstände` und ist der Raum, wo der `Plot` abgebildet wird. Die Achsenbeschriftungen können, aber müssen nicht explizit angegeben werden. \n",
    "\n",
    "**ein Axes-Objekt erstellen. Die Konvention ax für Axes sollte man beibehalten:**"
   ]
  },
  {
   "cell_type": "code",
   "execution_count": 3,
   "id": "c8f82850",
   "metadata": {},
   "outputs": [],
   "source": [
    "# axes objekt erstellen"
   ]
  },
  {
   "cell_type": "markdown",
   "id": "5744e0d2",
   "metadata": {},
   "source": [
    "## Zwei Linien in einem Plot\n",
    "Wenn wir zwei Plots in einer Grafik erstellen wollen, können wir das wie folgt machen. Die verschiednene Farben pro Plot wählt Matplotlib selbständig. Wir können sie aber auch selber setzen, wie wir später sehen werden."
   ]
  },
  {
   "cell_type": "code",
   "execution_count": null,
   "id": "66bc3bfc",
   "metadata": {},
   "outputs": [],
   "source": []
  },
  {
   "cell_type": "markdown",
   "id": "efe7617b",
   "metadata": {},
   "source": [
    "## Auflösung\n",
    "Gerade beim Plotten von Kurven ist die Auflösung wichtig, dh. die Anzahl an Datenpunkten, die von matplotlib verbunden werden, um die Grafik zu visualisieren.\n",
    "\n",
    "### Beispiel: Parabel mit geringer Auflösung:"
   ]
  },
  {
   "cell_type": "code",
   "execution_count": 4,
   "id": "c60b8d2e",
   "metadata": {},
   "outputs": [],
   "source": [
    "# ein intervall aus 4 Werten erzeugen\n"
   ]
  },
  {
   "cell_type": "markdown",
   "id": "2efe4acc",
   "metadata": {},
   "source": [
    "## Figurgröße\n",
    "Wir können die Größe der Figur, also den die Axes umgebenen Container, mit dem Argument `figsize` verändern. "
   ]
  },
  {
   "cell_type": "code",
   "execution_count": null,
   "id": "6564f08b",
   "metadata": {},
   "outputs": [],
   "source": []
  },
  {
   "cell_type": "markdown",
   "id": "d8337701",
   "metadata": {},
   "source": [
    "## Grid einzeichen\n",
    "Wir können in Abhängigkeit der gewählten Beschriftungen mit `plt.grid(True)` auch ein Grid einzeichnen."
   ]
  },
  {
   "cell_type": "code",
   "execution_count": null,
   "id": "a07d7890",
   "metadata": {},
   "outputs": [],
   "source": []
  },
  {
   "cell_type": "markdown",
   "id": "ca061381-21a8-4213-880a-9d07fcfd0405",
   "metadata": {},
   "source": [
    "Hier ist die Aufgabe als **Markdown**-Format, das du direkt in dein Jupyter Notebook kopieren kannst:\n",
    "\n",
    "---\n",
    "\n",
    "## **Aufgabe: Geradensteigung und Plot mit Matplotlib**\n",
    "\n",
    "In dieser Aufgabe sollst du die **Geradensteigung** berechnen und die Gerade anschließend mit **Matplotlib** plotten. Die Gerade wird durch zwei gegebene Punkte definiert.\n",
    "\n",
    "---\n",
    "\n",
    "### **1. Gegebene Punkte**\n",
    "Die Punkte $ P_1(1, 2)$ und $ P_2(4, 8) $ sind gegeben.\n",
    "\n",
    "---\n",
    "\n",
    "### **2. Aufgabenstellung**\n",
    "\n",
    "1. Berechne die **Steigung \\( m \\)** der Geraden mithilfe der Formel:\n",
    "\n",
    "   $\n",
    "   m = \\frac{y_2 - y_1}{x_2 - x_1}\n",
    "   $\n",
    "\n",
    "2. Bestimme den **y-Achsenabschnitt \\( c \\)** der Geraden in der Form:\n",
    "\n",
    "   $\n",
    "   y = mx + c\n",
    "   $\n",
    "\n",
    "   Verwende dazu einen der gegebenen Punkte.\n",
    "\n",
    "3. **Plot** die Gerade mit **Matplotlib**:\n",
    "\n",
    "### **4. Erwartete Ausgabe**\n",
    "\n",
    "1. Die berechnete **Steigung \\( m \\)** der Geraden beträgt **2**.\n",
    "2. Der **y-Achsenabschnitt \\( c \\)** beträgt **0**.\n",
    "3. Ein Plot, der:\n",
    "   - Die Gerade \\( y = 2x \\) anzeigt.\n"
   ]
  },
  {
   "cell_type": "code",
   "execution_count": 5,
   "id": "b63a3f43-e3d0-4f41-8ef9-8340864e7133",
   "metadata": {},
   "outputs": [
    {
     "ename": "SyntaxError",
     "evalue": "invalid syntax (2918141091.py, line 15)",
     "output_type": "error",
     "traceback": [
      "\u001b[0;36m  Cell \u001b[0;32mIn[5], line 15\u001b[0;36m\u001b[0m\n\u001b[0;31m    x_values = ....  # x-Werte für die Gerade\u001b[0m\n\u001b[0m                     ^\u001b[0m\n\u001b[0;31mSyntaxError\u001b[0m\u001b[0;31m:\u001b[0m invalid syntax\n"
     ]
    }
   ],
   "source": [
    "import matplotlib.pyplot as plt\n",
    "import numpy as np\n",
    "\n",
    "# Gegebene Punkte\n",
    "x1, y1 = 1, 2\n",
    "x2, y2 = 4, 8\n",
    "\n",
    "# 1. Berechne die Steigung m\n",
    "m = ...\n",
    "\n",
    "# 2. Bestimme den y-Achsenabschnitt c\n",
    "c = ...\n",
    "\n",
    "# 3. Erstelle die Gerade\n",
    "x_values = ....  # x-Werte für die Gerade\n",
    "y_values = ...   # y-Werte für die Gerade\n",
    "\n",
    "# Plot der Gerade\n",
    "\n",
    "# Grid anzeigen\n"
   ]
  }
 ],
 "metadata": {
  "kernelspec": {
   "display_name": "Python 3 (ipykernel)",
   "language": "python",
   "name": "python3"
  },
  "language_info": {
   "codemirror_mode": {
    "name": "ipython",
    "version": 3
   },
   "file_extension": ".py",
   "mimetype": "text/x-python",
   "name": "python",
   "nbconvert_exporter": "python",
   "pygments_lexer": "ipython3",
   "version": "3.12.4"
  }
 },
 "nbformat": 4,
 "nbformat_minor": 5
}

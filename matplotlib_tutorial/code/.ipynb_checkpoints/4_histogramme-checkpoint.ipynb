{
 "cells": [
  {
   "cell_type": "code",
   "execution_count": 6,
   "id": "52058efd",
   "metadata": {},
   "outputs": [],
   "source": [
    "import numpy as np\n",
    "import matplotlib.pyplot as plt\n",
    "np.random.seed(42)"
   ]
  },
  {
   "cell_type": "markdown",
   "id": "86fa1f4f",
   "metadata": {},
   "source": [
    "# Histogramme\n",
    "\n",
    "Ein Histogramm ist ein Säulendiagramm, in dem gesammelte Daten zu Klassen zusammengefasst werden. Die `Größe einer Säule entspricht dabei der Anzahl der Daten in einer Klasse`. Es lassen sich so `Häufigkeitsverteilungen` einfach grafisch darstellen. Dies bietet einen ersten Ansatz zur Datenanalyse und Problemlösung."
   ]
  },
  {
   "cell_type": "markdown",
   "id": "ad6d235c",
   "metadata": {},
   "source": [
    "## Beispiel Schulnoten\n",
    "\n",
    "Verteilung von Noten ziwschen 1 und 10. Ferner gibt es drei Klassen:\n",
    "* K1: 1 - 3\n",
    "* K2: 4 - 6\n",
    "* K3: 7 - 10"
   ]
  },
  {
   "cell_type": "code",
   "execution_count": 1,
   "id": "e4690c1a",
   "metadata": {},
   "outputs": [
    {
     "data": {
      "text/plain": [
       "Ellipsis"
      ]
     },
     "execution_count": 1,
     "metadata": {},
     "output_type": "execute_result"
    }
   ],
   "source": [
    "..."
   ]
  },
  {
   "cell_type": "code",
   "execution_count": 2,
   "id": "a6d01e97",
   "metadata": {},
   "outputs": [],
   "source": [
    "# Histogramm der Schulnoten"
   ]
  },
  {
   "cell_type": "markdown",
   "id": "9aea59bd",
   "metadata": {},
   "source": [
    "## einfaches Histogramm\n",
    "mit `bins` kann man die Anzahl an buckets festlegen, wenn ein Skalarwert übergeben wird."
   ]
  },
  {
   "cell_type": "code",
   "execution_count": null,
   "id": "4c3977a1",
   "metadata": {},
   "outputs": [],
   "source": []
  },
  {
   "cell_type": "markdown",
   "id": "da215d38",
   "metadata": {},
   "source": [
    "## Histogramm mit festgelegten Bereichen\n",
    "Um den Kategorien K1, K2, K3 besser gerecht zu werden, können wir die Bereich der bins angeben.\n",
    "\n",
    "aus der doku zu `bins`:\n",
    "* it defines the bin edges, including the left edge of the first bin and the right edge of the last bin; in this case, bins may be unequally spaced.  All but the last (righthand-most) bin is half-open."
   ]
  },
  {
   "cell_type": "code",
   "execution_count": null,
   "id": "55031972",
   "metadata": {},
   "outputs": [],
   "source": []
  },
  {
   "cell_type": "markdown",
   "id": "6997f064",
   "metadata": {},
   "source": [
    "## Histogramm in Numpy berechnen\n",
    "Wir können ein Histogramm auch berechnen, und zwar mit der Methode `numpy.histogram`. Die Rückgabwerte der Methode ist ein Tupel aus der `Anzahl der Werte je Bin` und die `Grenzbereiche der Bins`. Wir können damit also sehen, in welchem Bereich wieviele Vorkommen vorhanden sind.\n",
    "\n",
    "https://numpy.org/doc/stable/reference/generated/numpy.histogram.html"
   ]
  },
  {
   "cell_type": "code",
   "execution_count": null,
   "id": "ce6bd32b",
   "metadata": {},
   "outputs": [],
   "source": []
  },
  {
   "cell_type": "markdown",
   "id": "acf4468d",
   "metadata": {},
   "source": [
    "## mehrere Histogramme parallel plotten"
   ]
  },
  {
   "cell_type": "code",
   "execution_count": null,
   "id": "9a4f6549",
   "metadata": {},
   "outputs": [],
   "source": []
  },
  {
   "cell_type": "markdown",
   "id": "cceb5a56",
   "metadata": {},
   "source": [
    "## zweidimensionale Histogramme\n",
    "Wenn wir zweidimensionale Datenpunkte vorliegen haben, können wir mit der Methode `hist2d` diese auch in einem Histogram plotten"
   ]
  },
  {
   "cell_type": "code",
   "execution_count": 9,
   "id": "c45dad57",
   "metadata": {},
   "outputs": [],
   "source": [
    "cov = [\n",
    "    [4, 3.4],\n",
    "    [3.4, 4]\n",
    "]\n",
    "mean = [2, 4]\n",
    "data = np.random.multivariate_normal(cov=cov, mean=mean, size=10_000)\n"
   ]
  },
  {
   "cell_type": "code",
   "execution_count": 8,
   "id": "7b452bf4",
   "metadata": {},
   "outputs": [
    {
     "data": {
      "text/plain": [
       "(np.float64(1.1202817264452614), np.float64(2.9688207731469696))"
      ]
     },
     "execution_count": 8,
     "metadata": {},
     "output_type": "execute_result"
    }
   ],
   "source": [
    "data[:,0][0], data[:,1][0]"
   ]
  }
 ],
 "metadata": {
  "kernelspec": {
   "display_name": "Python 3 (ipykernel)",
   "language": "python",
   "name": "python3"
  },
  "language_info": {
   "codemirror_mode": {
    "name": "ipython",
    "version": 3
   },
   "file_extension": ".py",
   "mimetype": "text/x-python",
   "name": "python",
   "nbconvert_exporter": "python",
   "pygments_lexer": "ipython3",
   "version": "3.12.4"
  }
 },
 "nbformat": 4,
 "nbformat_minor": 5
}

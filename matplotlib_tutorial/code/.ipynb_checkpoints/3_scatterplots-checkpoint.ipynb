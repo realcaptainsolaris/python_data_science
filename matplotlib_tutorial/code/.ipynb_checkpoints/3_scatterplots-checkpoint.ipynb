{
 "cells": [
  {
   "cell_type": "markdown",
   "id": "af9b2fe5",
   "metadata": {},
   "source": [
    "# Scatterplots\n",
    "\n",
    "Ein Scatterplot (Punktdiagramm) visualisiert die Beziehung zwischen zwei numerischen Variablen, indem er einzelne Punkte in einem Koordinatensystem darstellt, wobei die x- und y-Koordinaten jeweils die Werte der beiden Variablen repräsentieren.\n",
    "Ideal, um verstreute Daten zu visualisieren. "
   ]
  },
  {
   "cell_type": "code",
   "execution_count": 3,
   "id": "1186ee7c",
   "metadata": {},
   "outputs": [],
   "source": [
    "import pandas as pd\n",
    "import numpy as np\n",
    "import matplotlib.pyplot as plt\n",
    "\n",
    "np.random.seed(42)"
   ]
  },
  {
   "cell_type": "markdown",
   "id": "83c012f0",
   "metadata": {},
   "source": [
    "## Beispiel\n",
    "Einen Datensatz mit 100 zweidimensionalen Punkten erstellen, der aus einer mehrdimensionalen normalverteilten Zufallsverteilung mit dem Mittelwert $[1,1]$ und der Kovarianzmatrix\n",
    "\\begin{bmatrix}\n",
    "2 & 1 \\\\\n",
    "1 & 2\n",
    "\\end{bmatrix} generiert wurde, wodurch die Punkte eine elliptische Streuung mit Korrelation aufweisen. Zur Erinnerung: Die Kovarianz misst die lineare Abhängigkeit zwischen zwei Variablen – ein positiver Wert zeigt eine gemeinsame Zunahme, ein negativer eine gegenläufige Entwicklung. Die Kovarianzmatrix ist eine symmetrische Matrix, die die paarweisen Kovarianzen mehrerer Variablen enthält und deren Streuung sowie Wechselbeziehungen beschreibt."
   ]
  },
  {
   "cell_type": "code",
   "execution_count": 1,
   "id": "5b399c79",
   "metadata": {},
   "outputs": [],
   "source": [
    "cov = [\n",
    "    [2, 1],\n",
    "    [1, 2]\n",
    "]\n",
    "mean = [1, 1]\n"
   ]
  },
  {
   "cell_type": "markdown",
   "id": "6d2bc6ca",
   "metadata": {},
   "source": [
    "## Marker, Colors und Colorbar.\n",
    "Die Default-Marker des Scatterplots sind Kreise. Wir können das durch das Attribut `marker` anpassen, wie wir das auch von den `Lineplots` kennen. Die übergebene Liste `colors` muss genausoviele Einträge enthalten wie N. "
   ]
  },
  {
   "cell_type": "code",
   "execution_count": null,
   "id": "e3bfa684",
   "metadata": {},
   "outputs": [],
   "source": []
  },
  {
   "cell_type": "markdown",
   "id": "f11f007b",
   "metadata": {},
   "source": [
    "## Fläche der Marker und Colorbar\n",
    "via dem Argument `s` lässt sich für jeden Datenpunkt eine Fläche angeben. Die übergebene Liste `area` muss genausoviele Einträge enthalten, wie N.\n",
    "\n",
    "Um eine Legende für die übergebenen Colors anzuzeigen, kann man eine `colorbar` einblenden.\n",
    "\n",
    "In Matplotlib wird standardmäßig die \"viridis\"-Colormap verwendet, wenn keine andere angegeben wird (Kleine Werte sind dunkelviolett/blau, Größere Werte gehen über grün bis zu gelb)."
   ]
  },
  {
   "cell_type": "code",
   "execution_count": null,
   "id": "c018551d",
   "metadata": {},
   "outputs": [],
   "source": []
  },
  {
   "cell_type": "code",
   "execution_count": 30,
   "id": "de70a53f-5418-459f-9797-61f491ac45b8",
   "metadata": {},
   "outputs": [
    {
     "data": {
      "text/plain": [
       "['magma',\n",
       " 'inferno',\n",
       " 'plasma',\n",
       " 'viridis',\n",
       " 'cividis',\n",
       " 'twilight',\n",
       " 'twilight_shifted',\n",
       " 'turbo',\n",
       " 'Blues',\n",
       " 'BrBG']"
      ]
     },
     "execution_count": 30,
     "metadata": {},
     "output_type": "execute_result"
    }
   ],
   "source": [
    "# weitere verfügbare Themes\n",
    "plt.colormaps()[:10]"
   ]
  },
  {
   "cell_type": "code",
   "execution_count": null,
   "id": "064dbbb2-7fca-440f-939f-39ec3f85ef61",
   "metadata": {},
   "outputs": [],
   "source": []
  },
  {
   "cell_type": "markdown",
   "id": "8b6b95cb",
   "metadata": {},
   "source": [
    "## Scatterplot mit Pandas Dataframe\n",
    "Pandas bietet einen Wrapper, um komfortabel gleich den Dataframe zu plotten. Dazu nutzen wir die `plot`-Methode des Dataframes (oder Series) und übergeben mit `kind` die Art des Plots. Über `x` und `y` können wir die Spalten des Dataframes definieren, die geplottet werden sollen. Über `s` können wir die Spalte angeben, die die Größe symbolisiert, und über `c` die Spalte, die die Farbwerte repräsentiert.\n",
    "\n",
    "Falls wir noch eine `Colorbar` oder `Labels` brauchen, geben wir die über `ptl` wie gewohnt an."
   ]
  },
  {
   "cell_type": "code",
   "execution_count": null,
   "id": "d6949b39",
   "metadata": {},
   "outputs": [],
   "source": []
  },
  {
   "cell_type": "markdown",
   "id": "328084d3-7638-4d1e-96e4-f5d7c0220f99",
   "metadata": {},
   "source": [
    "## Aufgabe\n",
    "Erzeuge einen Scatterplot mit zufälligen Erdbebenpositionen, indem du 200 zufällige Breitengrade (-90 bis 90) und Längengrade (-180 bis 180) generierst, deren Magnituden (2.5 bis 8.0) als Farben (cmap=\"hot\") und Punktgrößen (s=magnitudes**2) dargestellt werden, füge eine Farbskala mit plt.colorbar(label=\"Magnitude\") hinzu und beschrifte Achsen sowie Titel, um eine simulierte globale Erdbebenkarte zu visualisieren.\n",
    "\n",
    "Die Längen-und Breitengrade sowie Magnituden sind gleichverteilt (np.random.uniform)"
   ]
  },
  {
   "cell_type": "code",
   "execution_count": 3,
   "id": "2480c687-9630-472f-9a2a-8fe05bad882f",
   "metadata": {},
   "outputs": [],
   "source": [
    "import numpy as np\n",
    "import matplotlib.pyplot as plt\n",
    "\n",
    "# Anzahl der Erdbeben\n",
    "num_earthquakes = 200\n",
    "\n",
    "# Zufällige Breitengrade (-90 bis 90), 200 Einträge\n",
    "latitudes = ...\n",
    "\n",
    "# Zufällige Längengrade (-180 bis 180)\n",
    "longitudes = ...\n",
    "\n",
    "# Zufällige Magnituden (2.5 bis 8.0)\n",
    "magnitudes = ...\n",
    "\n",
    "# Scatterplot erstellen\n",
    "\n",
    "\n",
    "# Farbskala hinzufügen\n",
    "\n",
    "\n",
    "# Titel und Achsenbeschriftung (title: Simulierte Erdbeben weltweit, xlabel: Längengrad, ylabel: Breitengrad)\n",
    "\n",
    "# Anzeige des Plots\n",
    "\n"
   ]
  }
 ],
 "metadata": {
  "kernelspec": {
   "display_name": "Python 3 (ipykernel)",
   "language": "python",
   "name": "python3"
  },
  "language_info": {
   "codemirror_mode": {
    "name": "ipython",
    "version": 3
   },
   "file_extension": ".py",
   "mimetype": "text/x-python",
   "name": "python",
   "nbconvert_exporter": "python",
   "pygments_lexer": "ipython3",
   "version": "3.12.4"
  }
 },
 "nbformat": 4,
 "nbformat_minor": 5
}

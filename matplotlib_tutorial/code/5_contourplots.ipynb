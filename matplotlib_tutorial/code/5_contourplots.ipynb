{
 "cells": [
  {
   "cell_type": "code",
   "execution_count": 2,
   "id": "16328c85",
   "metadata": {},
   "outputs": [],
   "source": [
    "import numpy as np\n",
    "import matplotlib.pyplot as plt"
   ]
  },
  {
   "cell_type": "markdown",
   "id": "de63f166",
   "metadata": {},
   "source": [
    "# Contourplot\n",
    "\n",
    "`Konturplots` (manchmal auch als Ebenendiagramme bezeichnet) sind eine Möglichkeit, eine dreidimensionale Oberfläche auf einer zweidimensionalen Ebene darzustellen. Diese Konturen werden manchmal als `Z-Slices` oder `Iso-Response-Werte` bezeichnet.\n",
    "\n",
    "**Grundidee:** einer zweidimensionalen Darstellung noch Informationen über eine dritte Ebene mitzugeben.\n",
    "\n",
    "Ein Konturplot ist geeignet, um zu zeigen, wie sich der Wert `Z` als `Funktion von zwei Eingaben X und Y` ändert, sodass `Z = f(X,Y)`. Eine Konturlinie oder Isolinie einer Funktion zweier Variablen ist eine Kurve, entlang der die Funktion einen konstanten Wert hat. Die Konturlinien verbinden also Kombinationen der X- und Y-Variablen, die gleiche Werte von Z erzeugen.\n",
    "\n",
    "\n",
    "Konturdiagramme sind besonders hilfreich, wenn Kombinationen von X und Y identifiziert werden müssen, die vorteilhafte oder erforderliche Werte von Z ergeben. Die Konturlinien und -bänder erleichtern das Auffinden von Kombinationen, die die benötigten Werte ergeben.\n",
    "\n",
    "\n",
    "## Mashgrid\n",
    "Die `unabhängigen Variablen X und Y` sind normalerweise auf ein `regelmäßiges Gitter`, das Maschengitter, beschränkt. Das `numpy.meshgrid` erstellt ein rechteckiges Gitter aus einem Array von x-Werten und einem Array von y-Werten.\n",
    "\n",
    "### Mashgrid Beispiel\n",
    "Wir wollen ein Gitter erstellen, wobei wir einen Punkt bei jedem ganzzahligen Wert zwischen 0 und 4 in x- und y-Richtung haben. Anstatt dieses Gitter jetzt manuell zu erstellen, können wir `numpy.meshgrid` nutzen."
   ]
  },
  {
   "cell_type": "code",
   "execution_count": 3,
   "id": "cac8232a",
   "metadata": {},
   "outputs": [],
   "source": [
    "x = np.linspace(0, 4, 10)\n",
    "y = np.linspace(0, 4, 10)"
   ]
  },
  {
   "cell_type": "code",
   "execution_count": null,
   "id": "730e6083",
   "metadata": {},
   "outputs": [],
   "source": []
  },
  {
   "cell_type": "code",
   "execution_count": null,
   "id": "440daf1d",
   "metadata": {},
   "outputs": [],
   "source": []
  },
  {
   "cell_type": "code",
   "execution_count": null,
   "id": "339fcf34",
   "metadata": {},
   "outputs": [],
   "source": []
  },
  {
   "cell_type": "code",
   "execution_count": 6,
   "id": "7d03ee7b",
   "metadata": {},
   "outputs": [],
   "source": [
    "# Kreisgleichung\n",
    "\n"
   ]
  },
  {
   "cell_type": "code",
   "execution_count": 7,
   "id": "ddf4a8ac",
   "metadata": {},
   "outputs": [],
   "source": [
    "# Meshgrid"
   ]
  },
  {
   "cell_type": "code",
   "execution_count": 8,
   "id": "cbd06369",
   "metadata": {},
   "outputs": [],
   "source": [
    "#"
   ]
  },
  {
   "cell_type": "code",
   "execution_count": 9,
   "id": "f2728a0d-6893-47fe-ab89-3699cd25a8d2",
   "metadata": {},
   "outputs": [],
   "source": [
    "# countourf (gefüllter Konturplot)\n"
   ]
  },
  {
   "cell_type": "markdown",
   "id": "d4cd2a64",
   "metadata": {},
   "source": [
    "## Colorbar\n",
    "Wir können mit `plt.colorbar()` einen Farbbalken angeben, der die Farbwerte erklärt. Das Intervall der Colorbar richtet sich nach den `Z-Werten` des Contourplots."
   ]
  },
  {
   "cell_type": "code",
   "execution_count": null,
   "id": "644ed460",
   "metadata": {},
   "outputs": [],
   "source": []
  },
  {
   "cell_type": "markdown",
   "id": "31643aea",
   "metadata": {},
   "source": [
    "## Cmap\n",
    "eine Übersicht aller möglichen cmaps findet sich hier:\n",
    "    "
   ]
  },
  {
   "cell_type": "code",
   "execution_count": 29,
   "id": "0a7346cd-82a8-48f1-ac3d-48acce5af53e",
   "metadata": {},
   "outputs": [
    {
     "data": {
      "text/plain": [
       "['magma',\n",
       " 'inferno',\n",
       " 'plasma',\n",
       " 'viridis',\n",
       " 'cividis',\n",
       " 'twilight',\n",
       " 'twilight_shifted',\n",
       " 'turbo',\n",
       " 'Blues',\n",
       " 'BrBG']"
      ]
     },
     "execution_count": 29,
     "metadata": {},
     "output_type": "execute_result"
    }
   ],
   "source": [
    "plt.colormaps()[:10]"
   ]
  }
 ],
 "metadata": {
  "kernelspec": {
   "display_name": "Python 3 (ipykernel)",
   "language": "python",
   "name": "python3"
  },
  "language_info": {
   "codemirror_mode": {
    "name": "ipython",
    "version": 3
   },
   "file_extension": ".py",
   "mimetype": "text/x-python",
   "name": "python",
   "nbconvert_exporter": "python",
   "pygments_lexer": "ipython3",
   "version": "3.12.4"
  }
 },
 "nbformat": 4,
 "nbformat_minor": 5
}

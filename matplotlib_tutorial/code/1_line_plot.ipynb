{
 "cells": [
  {
   "cell_type": "markdown",
   "id": "adca4511",
   "metadata": {},
   "source": [
    "# Der Line-Plot\n",
    "der mit am häufigsten genutze Plot ist der `Line-Plot`. Einfache Beispiele eines Line-Plots haben wir schon im vorherigen Kapitel kennengelernt.\n",
    "\n",
    "Der Line-Plot besteht aus `Linien, die zwischen den übergebenen Datenpunkten gezeichnet werden`. Somit ergibt sich je nach Eingabewerten eine Grafik.\n",
    "\n",
    "Der Line-Plot ist `zweidimensional` und benötigt Werte für die `x-Achse` und Werte für die `y-Achse`. \n",
    "\n",
    "Doku: https://matplotlib.org/stable/api/_as_gen/matplotlib.pyplot.plot.html"
   ]
  },
  {
   "cell_type": "code",
   "execution_count": 9,
   "id": "9528131f",
   "metadata": {},
   "outputs": [],
   "source": [
    "import numpy as np\n",
    "import matplotlib.pyplot as plt"
   ]
  },
  {
   "cell_type": "markdown",
   "id": "ee012d5f",
   "metadata": {},
   "source": [
    "## Beispiel Sinuskurve plotten"
   ]
  },
  {
   "cell_type": "code",
   "execution_count": 3,
   "id": "054bb853",
   "metadata": {},
   "outputs": [],
   "source": [
    "# Sinuskurve"
   ]
  },
  {
   "cell_type": "markdown",
   "id": "d217fa04",
   "metadata": {},
   "source": [
    "## Horizontale Linie plotten"
   ]
  },
  {
   "cell_type": "code",
   "execution_count": 4,
   "id": "0541372f",
   "metadata": {},
   "outputs": [],
   "source": [
    "# axhline"
   ]
  },
  {
   "cell_type": "markdown",
   "id": "2763fbd4",
   "metadata": {},
   "source": [
    "## Vertikale Linie plotten"
   ]
  },
  {
   "cell_type": "code",
   "execution_count": 5,
   "id": "26d651ec",
   "metadata": {},
   "outputs": [],
   "source": [
    "# axvline"
   ]
  },
  {
   "cell_type": "markdown",
   "id": "c61363cd",
   "metadata": {},
   "source": [
    "## Farbe der gezeichneten Linie anpassen\n",
    "mit dem Argument `color` lassen sich die Farben der Plots bestimmen."
   ]
  },
  {
   "cell_type": "code",
   "execution_count": 6,
   "id": "534edec2",
   "metadata": {},
   "outputs": [],
   "source": [
    "# verschiedene Linienfarben"
   ]
  },
  {
   "cell_type": "markdown",
   "id": "24b0d8bc",
   "metadata": {},
   "source": [
    "## Farbe und Style bestimmen\n",
    "Es gibt Keyword-Argumente, die wir `plot` übergeben können und mit denen wir Strichstärke, Farbe, Strichart und Marker-Art wählen können. Marker sind die einzelnen Datenpunkte.\n",
    "\n",
    "Eine Übersicht aller Stylemöglichkeiten gibt es hier:\n",
    "https://matplotlib.org/2.1.2/api/_as_gen/matplotlib.pyplot.plot.html"
   ]
  },
  {
   "cell_type": "code",
   "execution_count": 10,
   "id": "3ff2d90f",
   "metadata": {},
   "outputs": [],
   "source": [
    "x = np.linspace(0, np.pi * 2, 80)\n",
    "y = 2*x * np.cos(x)\n",
    "\n",
    "# grüne, normale Linie (color)\n",
    "\n",
    "\n",
    "# rote getrichelte Linie mit Circle-Markern (linestyle, marker)\n",
    "\n",
    "\n",
    "# blaue gepunktete Linie mit X-Markern\n",
    "\n",
    "\n",
    "\n",
    "# Strichpunkt Strecke, magenta, Diamand-Marker\n"
   ]
  },
  {
   "cell_type": "markdown",
   "id": "35a175b4",
   "metadata": {},
   "source": [
    "##  Format - String: Farbe und Style bestimmen\n",
    "Eine weitere Möglichkeit, Lineplots zu formatieren, ist der Format-String. Eine Übersicht aller Stylemöglichkeiten gibt es hier:\n",
    "\n",
    "https://matplotlib.org/2.1.2/api/_as_gen/matplotlib.pyplot.plot.html"
   ]
  },
  {
   "cell_type": "code",
   "execution_count": 11,
   "id": "6c8564e2",
   "metadata": {},
   "outputs": [],
   "source": [
    "# grüne, normale Linie\n",
    "\n",
    "\n",
    "# [r]ote getrichelte Linie mit Circle-Markern\n",
    "\n",
    "\n",
    "# [b]blaue gepunktete Linie mit X-Markern\n",
    "\n",
    "\n",
    "# Strichpunkt Linie, magenta, Diamand-Marker\n"
   ]
  },
  {
   "cell_type": "markdown",
   "id": "ddf78e60-9c75-429d-a362-59f80ec1ee14",
   "metadata": {},
   "source": [
    "## Punkte plotten\n",
    "\n",
    "In Matplotlib kann man Punkte mit Beschriftung plotten, indem man plt.scatter für die Punkte und plt.text für die Beschriftung verwendet. "
   ]
  },
  {
   "cell_type": "code",
   "execution_count": 12,
   "id": "fdaab832-eb22-4d1d-b4c4-f85f8a149670",
   "metadata": {},
   "outputs": [],
   "source": [
    "# Gegebene Punkte\n",
    "x1, y1 = 1, 2\n",
    "x2, y2 = 4, 4\n",
    "\n",
    "# Punkte plotten und Beschriftung\n",
    "\n"
   ]
  },
  {
   "cell_type": "markdown",
   "id": "83cc3d83",
   "metadata": {},
   "source": [
    "## Aufgabe\n",
    "Es soll folgende Funktion in einem Lineplot grafisch dargestellt werden. Das Darstellungsintervall ist [-2, 2].\n",
    "Die Kurve soll die Farbe rot haben und als Strichpunkt-Linie dargestellt werden. \n",
    "\n",
    "Zusätzlich soll der Punkt P(0∣1) in das Koordinatensystem eingetragen und mit der Bezeichnung P(0∣1) beschriftet werden. Der Punkt soll die Farbe Orange haben, der Text schwarz.\n",
    "\n",
    "$f(x) = x^3 + 15x^2 + 23x$\n",
    "\n",
    "$f: R → R$\n",
    "\n",
    "P(0,1)"
   ]
  },
  {
   "cell_type": "code",
   "execution_count": 2,
   "id": "aa6cd505",
   "metadata": {},
   "outputs": [],
   "source": [
    "# Interval von -2 bis 2\n",
    "x = ...\n",
    "y = ... # Funktion f(x)\n",
    "\n",
    "p = ... # Punkt P(0/1)\n",
    "\n",
    "# Funktion plotten (rot, Strichpunkt (dashdot))\n",
    "\n",
    "# Punkt plotten (scatter, orange)\n",
    "\n",
    "# Text plotten (x und y von Punkt)\n",
    "\n",
    "# zeigen"
   ]
  }
 ],
 "metadata": {
  "kernelspec": {
   "display_name": "Python 3 (ipykernel)",
   "language": "python",
   "name": "python3"
  },
  "language_info": {
   "codemirror_mode": {
    "name": "ipython",
    "version": 3
   },
   "file_extension": ".py",
   "mimetype": "text/x-python",
   "name": "python",
   "nbconvert_exporter": "python",
   "pygments_lexer": "ipython3",
   "version": "3.12.4"
  }
 },
 "nbformat": 4,
 "nbformat_minor": 5
}

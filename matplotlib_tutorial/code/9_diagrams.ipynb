{
 "cells": [
  {
   "cell_type": "markdown",
   "id": "22a4c208",
   "metadata": {},
   "source": [
    "# Diagramme mit Matplotlib\n",
    "\n",
    "Wir betrachten folgende Diagramme:\n",
    "- **Tortendiagramm (Pie Chart)**\n",
    "- **Balkendiagramm (Bar Chart)**\n",
    "- **Gestapeltes Balkendiagramm (Stacked Bar Chart)**\n"
   ]
  },
  {
   "cell_type": "code",
   "execution_count": 4,
   "id": "57c771f3",
   "metadata": {},
   "outputs": [],
   "source": [
    "import numpy as np\n",
    "import matplotlib.pyplot as plt\n"
   ]
  },
  {
   "cell_type": "markdown",
   "id": "1d59383c-0347-43be-add4-c97ce5053ed1",
   "metadata": {},
   "source": [
    "## Tortendiagramm\n",
    "Das Snippet erstellt ein Tortendiagramm, das die prozentuale Verteilung der Früchte Apfel, Banane, Kirsche und Dattel anhand der Werte in sizes darstellt, wobei jede Kategorie eine spezifische Farbe (colors) erhält und die Prozente (autopct='%1.1f%%') direkt auf die Segmente geschrieben werden, während startangle=140 den Startwinkel des Diagramms festlegt."
   ]
  },
  {
   "cell_type": "code",
   "execution_count": 1,
   "id": "bdb59453",
   "metadata": {},
   "outputs": [],
   "source": [
    "# Tortendiagramm (Pie Chart)\n",
    "\n"
   ]
  },
  {
   "cell_type": "markdown",
   "id": "a0be2b79-cf97-41a5-a8fb-8f2b1676b621",
   "metadata": {},
   "source": [
    "## Balkendiagramm"
   ]
  },
  {
   "cell_type": "code",
   "execution_count": 2,
   "id": "21e83a9e",
   "metadata": {},
   "outputs": [],
   "source": [
    "# Balkendiagramm (Bar Chart)\n",
    "\n",
    "categories = ['A', 'B', 'C', 'D']\n",
    "values = [4, 7, 1, 8]\n",
    "colors = ['red', 'green', 'blue', 'purple']\n",
    "\n"
   ]
  },
  {
   "cell_type": "markdown",
   "id": "a58e8a79-dca4-40eb-9b2b-a0a556a6a10d",
   "metadata": {},
   "source": [
    "## Horizontales Balkendiagramm (Bar Chart)"
   ]
  },
  {
   "cell_type": "code",
   "execution_count": 5,
   "id": "f7cfa52d-faf1-42d5-82b5-41644d13071e",
   "metadata": {},
   "outputs": [],
   "source": [
    "# horizontales Balkendiagramm (Bar Chart)\n",
    "\n",
    "categories = np.array(['A', 'B', 'C', 'D'])\n",
    "values = np.array([4, 7, 1, 8])\n",
    "\n"
   ]
  },
  {
   "cell_type": "markdown",
   "id": "1c2b554c-dbfd-46f7-99ba-f68cb37e8fe0",
   "metadata": {},
   "source": [
    "## Gestapeltes Balkendiagramm (Stacked Bar Chart)"
   ]
  },
  {
   "cell_type": "code",
   "execution_count": 6,
   "id": "5ac0d1f4",
   "metadata": {},
   "outputs": [],
   "source": [
    "# Gestapeltes Balkendiagramm (Stacked Bar Chart)\n",
    "\n",
    "labels = ['Gruppe 1', 'Gruppe 2', 'Gruppe 3']\n",
    "men_means = [20, 35, 30]\n",
    "women_means = [25, 32, 34]\n",
    "\n"
   ]
  }
 ],
 "metadata": {
  "kernelspec": {
   "display_name": "Python 3 (ipykernel)",
   "language": "python",
   "name": "python3"
  },
  "language_info": {
   "codemirror_mode": {
    "name": "ipython",
    "version": 3
   },
   "file_extension": ".py",
   "mimetype": "text/x-python",
   "name": "python",
   "nbconvert_exporter": "python",
   "pygments_lexer": "ipython3",
   "version": "3.12.4"
  }
 },
 "nbformat": 4,
 "nbformat_minor": 5
}
